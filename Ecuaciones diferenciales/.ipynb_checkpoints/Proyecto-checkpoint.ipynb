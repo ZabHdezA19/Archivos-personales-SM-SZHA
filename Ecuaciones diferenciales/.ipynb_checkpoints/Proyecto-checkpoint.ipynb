{
 "cells": [
  {
   "cell_type": "markdown",
   "id": "0dc74d3f",
   "metadata": {},
   "source": [
    "# Péndulo doble"
   ]
  },
  {
   "cell_type": "code",
   "execution_count": 35,
   "id": "d2583444",
   "metadata": {},
   "outputs": [],
   "source": [
    "# Importar librerías\n",
    "import numpy as np\n",
    "import matplotlib.pyplot as plt\n",
    "from scipy.integrate import solve_ivp\n",
    "from matplotlib.animation import FuncAnimation\n",
    "import sympy as sym"
   ]
  },
  {
   "cell_type": "code",
   "execution_count": 30,
   "id": "d2b81975",
   "metadata": {},
   "outputs": [
    {
     "data": {
      "text/plain": [
       "0.7414661882380679"
      ]
     },
     "execution_count": 30,
     "metadata": {},
     "output_type": "execute_result"
    }
   ],
   "source": [
    "np.random.uniform(0.01,np.pi)"
   ]
  },
  {
   "cell_type": "code",
   "execution_count": 42,
   "id": "cef5eac3",
   "metadata": {},
   "outputs": [],
   "source": [
    "# Iniciañlozar las características del sistema\n",
    "g = 9.8       # Gravedad de la Tierra\n",
    "l1 = 1.3      # Longitud del primer péndulo\n",
    "l2 = 0.5      # Longitud del segundo péndulo\n",
    "m1 = 1      # Masa del primer péndulo en kg\n",
    "m2 = 1      # Masa del segundo péndulo en kg"
   ]
  },
  {
   "cell_type": "code",
   "execution_count": 43,
   "id": "0089cc8f",
   "metadata": {},
   "outputs": [],
   "source": [
    "def PenduloDoble(t, arreglo):\n",
    "    theta1 = arreglo[0]\n",
    "    theta2 = arreglo[1]\n",
    "    v1 = arreglo[2]\n",
    "    v2 = arreglo[3]\n",
    "    p1 = ((-g((2*m1) + m2)*np.sin(arreglo[0])) - (m2*g*np.sin(arreglo[0] - (2*arreglo[1]))) - (2*np.sin(arreglo[0] - arreglo[1])*m2*(((arreglo[3]**2)*l2) + ((arreglo[2]**2)*l1*np.cos(arreglo[0] - arreglo[1]))))) / (l1*((2*m1) + m2 - (m2*np.cos((2*arreglo[0]) - (2*arreglo[1])))))\n",
    "    p2 = (((2*np.sin(arreglo[0] - arreglo[1]))*((arreglo[2]**2)*l1*(m1 + m2))) + (g*(m1 + m2)*np.cos(arreglo[0])) + ((arreglo[3]**2)*l2*m2*np.cos(arreglo[0]-arreglo[1]))) / (l2*((2*m1) + m2 - (m2*np.cos((2*arreglo[0]) - (2*arreglo[1])))))\n",
    "    return [p1,p2]"
   ]
  },
  {
   "cell_type": "code",
   "execution_count": 44,
   "id": "4d64ff69",
   "metadata": {},
   "outputs": [
    {
     "ename": "TypeError",
     "evalue": "'float' object is not callable",
     "output_type": "error",
     "traceback": [
      "\u001b[1;31m---------------------------------------------------------------------------\u001b[0m",
      "\u001b[1;31mTypeError\u001b[0m                                 Traceback (most recent call last)",
      "Input \u001b[1;32mIn [44]\u001b[0m, in \u001b[0;36m<cell line: 11>\u001b[1;34m()\u001b[0m\n\u001b[0;32m      9\u001b[0m arreglo\u001b[38;5;241m.\u001b[39mappend(v1)\n\u001b[0;32m     10\u001b[0m arreglo\u001b[38;5;241m.\u001b[39mappend(v2)\n\u001b[1;32m---> 11\u001b[0m solucion \u001b[38;5;241m=\u001b[39m \u001b[43msolve_ivp\u001b[49m\u001b[43m(\u001b[49m\u001b[43mPenduloDoble\u001b[49m\u001b[43m,\u001b[49m\u001b[43m \u001b[49m\u001b[43mt\u001b[49m\u001b[43m,\u001b[49m\u001b[43m \u001b[49m\u001b[43marreglo\u001b[49m\u001b[43m,\u001b[49m\u001b[43m \u001b[49m\u001b[43mmax_step\u001b[49m\u001b[43m \u001b[49m\u001b[38;5;241;43m=\u001b[39;49m\u001b[43m \u001b[49m\u001b[38;5;241;43m0.01\u001b[39;49m\u001b[43m)\u001b[49m\n",
      "File \u001b[1;32m~\\anaconda3\\lib\\site-packages\\scipy\\integrate\\_ivp\\ivp.py:542\u001b[0m, in \u001b[0;36msolve_ivp\u001b[1;34m(fun, t_span, y0, method, t_eval, dense_output, events, vectorized, args, **options)\u001b[0m\n\u001b[0;32m    539\u001b[0m \u001b[38;5;28;01mif\u001b[39;00m method \u001b[38;5;129;01min\u001b[39;00m METHODS:\n\u001b[0;32m    540\u001b[0m     method \u001b[38;5;241m=\u001b[39m METHODS[method]\n\u001b[1;32m--> 542\u001b[0m solver \u001b[38;5;241m=\u001b[39m method(fun, t0, y0, tf, vectorized\u001b[38;5;241m=\u001b[39mvectorized, \u001b[38;5;241m*\u001b[39m\u001b[38;5;241m*\u001b[39moptions)\n\u001b[0;32m    544\u001b[0m \u001b[38;5;28;01mif\u001b[39;00m t_eval \u001b[38;5;129;01mis\u001b[39;00m \u001b[38;5;28;01mNone\u001b[39;00m:\n\u001b[0;32m    545\u001b[0m     ts \u001b[38;5;241m=\u001b[39m [t0]\n",
      "File \u001b[1;32m~\\anaconda3\\lib\\site-packages\\scipy\\integrate\\_ivp\\rk.py:94\u001b[0m, in \u001b[0;36mRungeKutta.__init__\u001b[1;34m(self, fun, t0, y0, t_bound, max_step, rtol, atol, vectorized, first_step, **extraneous)\u001b[0m\n\u001b[0;32m     92\u001b[0m \u001b[38;5;28mself\u001b[39m\u001b[38;5;241m.\u001b[39mmax_step \u001b[38;5;241m=\u001b[39m validate_max_step(max_step)\n\u001b[0;32m     93\u001b[0m \u001b[38;5;28mself\u001b[39m\u001b[38;5;241m.\u001b[39mrtol, \u001b[38;5;28mself\u001b[39m\u001b[38;5;241m.\u001b[39matol \u001b[38;5;241m=\u001b[39m validate_tol(rtol, atol, \u001b[38;5;28mself\u001b[39m\u001b[38;5;241m.\u001b[39mn)\n\u001b[1;32m---> 94\u001b[0m \u001b[38;5;28mself\u001b[39m\u001b[38;5;241m.\u001b[39mf \u001b[38;5;241m=\u001b[39m \u001b[38;5;28;43mself\u001b[39;49m\u001b[38;5;241;43m.\u001b[39;49m\u001b[43mfun\u001b[49m\u001b[43m(\u001b[49m\u001b[38;5;28;43mself\u001b[39;49m\u001b[38;5;241;43m.\u001b[39;49m\u001b[43mt\u001b[49m\u001b[43m,\u001b[49m\u001b[43m \u001b[49m\u001b[38;5;28;43mself\u001b[39;49m\u001b[38;5;241;43m.\u001b[39;49m\u001b[43my\u001b[49m\u001b[43m)\u001b[49m\n\u001b[0;32m     95\u001b[0m \u001b[38;5;28;01mif\u001b[39;00m first_step \u001b[38;5;129;01mis\u001b[39;00m \u001b[38;5;28;01mNone\u001b[39;00m:\n\u001b[0;32m     96\u001b[0m     \u001b[38;5;28mself\u001b[39m\u001b[38;5;241m.\u001b[39mh_abs \u001b[38;5;241m=\u001b[39m select_initial_step(\n\u001b[0;32m     97\u001b[0m         \u001b[38;5;28mself\u001b[39m\u001b[38;5;241m.\u001b[39mfun, \u001b[38;5;28mself\u001b[39m\u001b[38;5;241m.\u001b[39mt, \u001b[38;5;28mself\u001b[39m\u001b[38;5;241m.\u001b[39my, \u001b[38;5;28mself\u001b[39m\u001b[38;5;241m.\u001b[39mf, \u001b[38;5;28mself\u001b[39m\u001b[38;5;241m.\u001b[39mdirection,\n\u001b[0;32m     98\u001b[0m         \u001b[38;5;28mself\u001b[39m\u001b[38;5;241m.\u001b[39merror_estimator_order, \u001b[38;5;28mself\u001b[39m\u001b[38;5;241m.\u001b[39mrtol, \u001b[38;5;28mself\u001b[39m\u001b[38;5;241m.\u001b[39matol)\n",
      "File \u001b[1;32m~\\anaconda3\\lib\\site-packages\\scipy\\integrate\\_ivp\\base.py:138\u001b[0m, in \u001b[0;36mOdeSolver.__init__.<locals>.fun\u001b[1;34m(t, y)\u001b[0m\n\u001b[0;32m    136\u001b[0m \u001b[38;5;28;01mdef\u001b[39;00m \u001b[38;5;21mfun\u001b[39m(t, y):\n\u001b[0;32m    137\u001b[0m     \u001b[38;5;28mself\u001b[39m\u001b[38;5;241m.\u001b[39mnfev \u001b[38;5;241m+\u001b[39m\u001b[38;5;241m=\u001b[39m \u001b[38;5;241m1\u001b[39m\n\u001b[1;32m--> 138\u001b[0m     \u001b[38;5;28;01mreturn\u001b[39;00m \u001b[38;5;28;43mself\u001b[39;49m\u001b[38;5;241;43m.\u001b[39;49m\u001b[43mfun_single\u001b[49m\u001b[43m(\u001b[49m\u001b[43mt\u001b[49m\u001b[43m,\u001b[49m\u001b[43m \u001b[49m\u001b[43my\u001b[49m\u001b[43m)\u001b[49m\n",
      "File \u001b[1;32m~\\anaconda3\\lib\\site-packages\\scipy\\integrate\\_ivp\\base.py:20\u001b[0m, in \u001b[0;36mcheck_arguments.<locals>.fun_wrapped\u001b[1;34m(t, y)\u001b[0m\n\u001b[0;32m     19\u001b[0m \u001b[38;5;28;01mdef\u001b[39;00m \u001b[38;5;21mfun_wrapped\u001b[39m(t, y):\n\u001b[1;32m---> 20\u001b[0m     \u001b[38;5;28;01mreturn\u001b[39;00m np\u001b[38;5;241m.\u001b[39masarray(\u001b[43mfun\u001b[49m\u001b[43m(\u001b[49m\u001b[43mt\u001b[49m\u001b[43m,\u001b[49m\u001b[43m \u001b[49m\u001b[43my\u001b[49m\u001b[43m)\u001b[49m, dtype\u001b[38;5;241m=\u001b[39mdtype)\n",
      "Input \u001b[1;32mIn [43]\u001b[0m, in \u001b[0;36mPenduloDoble\u001b[1;34m(t, arreglo)\u001b[0m\n\u001b[0;32m      4\u001b[0m v1 \u001b[38;5;241m=\u001b[39m arreglo[\u001b[38;5;241m2\u001b[39m]\n\u001b[0;32m      5\u001b[0m v2 \u001b[38;5;241m=\u001b[39m arreglo[\u001b[38;5;241m3\u001b[39m]\n\u001b[1;32m----> 6\u001b[0m p1 \u001b[38;5;241m=\u001b[39m ((\u001b[38;5;241m-\u001b[39m\u001b[43mg\u001b[49m\u001b[43m(\u001b[49m\u001b[43m(\u001b[49m\u001b[38;5;241;43m2\u001b[39;49m\u001b[38;5;241;43m*\u001b[39;49m\u001b[43mm1\u001b[49m\u001b[43m)\u001b[49m\u001b[43m \u001b[49m\u001b[38;5;241;43m+\u001b[39;49m\u001b[43m \u001b[49m\u001b[43mm2\u001b[49m\u001b[43m)\u001b[49m\u001b[38;5;241m*\u001b[39mnp\u001b[38;5;241m.\u001b[39msin(arreglo[\u001b[38;5;241m0\u001b[39m])) \u001b[38;5;241m-\u001b[39m (m2\u001b[38;5;241m*\u001b[39mg\u001b[38;5;241m*\u001b[39mnp\u001b[38;5;241m.\u001b[39msin(arreglo[\u001b[38;5;241m0\u001b[39m] \u001b[38;5;241m-\u001b[39m (\u001b[38;5;241m2\u001b[39m\u001b[38;5;241m*\u001b[39marreglo[\u001b[38;5;241m1\u001b[39m]))) \u001b[38;5;241m-\u001b[39m (\u001b[38;5;241m2\u001b[39m\u001b[38;5;241m*\u001b[39mnp\u001b[38;5;241m.\u001b[39msin(arreglo[\u001b[38;5;241m0\u001b[39m] \u001b[38;5;241m-\u001b[39m arreglo[\u001b[38;5;241m1\u001b[39m])\u001b[38;5;241m*\u001b[39mm2\u001b[38;5;241m*\u001b[39m(((arreglo[\u001b[38;5;241m3\u001b[39m]\u001b[38;5;241m*\u001b[39m\u001b[38;5;241m*\u001b[39m\u001b[38;5;241m2\u001b[39m)\u001b[38;5;241m*\u001b[39ml2) \u001b[38;5;241m+\u001b[39m ((arreglo[\u001b[38;5;241m2\u001b[39m]\u001b[38;5;241m*\u001b[39m\u001b[38;5;241m*\u001b[39m\u001b[38;5;241m2\u001b[39m)\u001b[38;5;241m*\u001b[39ml1\u001b[38;5;241m*\u001b[39mnp\u001b[38;5;241m.\u001b[39mcos(arreglo[\u001b[38;5;241m0\u001b[39m] \u001b[38;5;241m-\u001b[39m arreglo[\u001b[38;5;241m1\u001b[39m]))))) \u001b[38;5;241m/\u001b[39m (l1\u001b[38;5;241m*\u001b[39m((\u001b[38;5;241m2\u001b[39m\u001b[38;5;241m*\u001b[39mm1) \u001b[38;5;241m+\u001b[39m m2 \u001b[38;5;241m-\u001b[39m (m2\u001b[38;5;241m*\u001b[39mnp\u001b[38;5;241m.\u001b[39mcos((\u001b[38;5;241m2\u001b[39m\u001b[38;5;241m*\u001b[39marreglo[\u001b[38;5;241m0\u001b[39m]) \u001b[38;5;241m-\u001b[39m (\u001b[38;5;241m2\u001b[39m\u001b[38;5;241m*\u001b[39marreglo[\u001b[38;5;241m1\u001b[39m])))))\n\u001b[0;32m      7\u001b[0m p2 \u001b[38;5;241m=\u001b[39m (((\u001b[38;5;241m2\u001b[39m\u001b[38;5;241m*\u001b[39mnp\u001b[38;5;241m.\u001b[39msin(arreglo[\u001b[38;5;241m0\u001b[39m] \u001b[38;5;241m-\u001b[39m arreglo[\u001b[38;5;241m1\u001b[39m]))\u001b[38;5;241m*\u001b[39m((arreglo[\u001b[38;5;241m2\u001b[39m]\u001b[38;5;241m*\u001b[39m\u001b[38;5;241m*\u001b[39m\u001b[38;5;241m2\u001b[39m)\u001b[38;5;241m*\u001b[39ml1\u001b[38;5;241m*\u001b[39m(m1 \u001b[38;5;241m+\u001b[39m m2))) \u001b[38;5;241m+\u001b[39m (g\u001b[38;5;241m*\u001b[39m(m1 \u001b[38;5;241m+\u001b[39m m2)\u001b[38;5;241m*\u001b[39mnp\u001b[38;5;241m.\u001b[39mcos(arreglo[\u001b[38;5;241m0\u001b[39m])) \u001b[38;5;241m+\u001b[39m ((arreglo[\u001b[38;5;241m3\u001b[39m]\u001b[38;5;241m*\u001b[39m\u001b[38;5;241m*\u001b[39m\u001b[38;5;241m2\u001b[39m)\u001b[38;5;241m*\u001b[39ml2\u001b[38;5;241m*\u001b[39mm2\u001b[38;5;241m*\u001b[39mnp\u001b[38;5;241m.\u001b[39mcos(arreglo[\u001b[38;5;241m0\u001b[39m]\u001b[38;5;241m-\u001b[39marreglo[\u001b[38;5;241m1\u001b[39m]))) \u001b[38;5;241m/\u001b[39m (l2\u001b[38;5;241m*\u001b[39m((\u001b[38;5;241m2\u001b[39m\u001b[38;5;241m*\u001b[39mm1) \u001b[38;5;241m+\u001b[39m m2 \u001b[38;5;241m-\u001b[39m (m2\u001b[38;5;241m*\u001b[39mnp\u001b[38;5;241m.\u001b[39mcos((\u001b[38;5;241m2\u001b[39m\u001b[38;5;241m*\u001b[39marreglo[\u001b[38;5;241m0\u001b[39m]) \u001b[38;5;241m-\u001b[39m (\u001b[38;5;241m2\u001b[39m\u001b[38;5;241m*\u001b[39marreglo[\u001b[38;5;241m1\u001b[39m])))))\n\u001b[0;32m      8\u001b[0m \u001b[38;5;28;01mreturn\u001b[39;00m [p1,p2]\n",
      "\u001b[1;31mTypeError\u001b[0m: 'float' object is not callable"
     ]
    }
   ],
   "source": [
    "t = (0,10)\n",
    "arreglo = []\n",
    "theta1 = np.random.uniform(0.01,np.pi)\n",
    "theta2 = theta1 + 0.002\n",
    "v1 = np.random.uniform(0,2)\n",
    "v2 = v1 + 0.001\n",
    "arreglo.append(theta1)\n",
    "arreglo.append(theta2)\n",
    "arreglo.append(v1)\n",
    "arreglo.append(v2)\n",
    "solucion = solve_ivp(PenduloDoble, t, arreglo, max_step = 0.01)"
   ]
  }
 ],
 "metadata": {
  "kernelspec": {
   "display_name": "Python 3 (ipykernel)",
   "language": "python",
   "name": "python3"
  },
  "language_info": {
   "codemirror_mode": {
    "name": "ipython",
    "version": 3
   },
   "file_extension": ".py",
   "mimetype": "text/x-python",
   "name": "python",
   "nbconvert_exporter": "python",
   "pygments_lexer": "ipython3",
   "version": "3.9.12"
  }
 },
 "nbformat": 4,
 "nbformat_minor": 5
}
