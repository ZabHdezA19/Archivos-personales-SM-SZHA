{
 "cells": [
  {
   "cell_type": "markdown",
   "id": "0dc74d3f",
   "metadata": {},
   "source": [
    "# Péndulo doble"
   ]
  },
  {
   "cell_type": "code",
   "execution_count": 1,
   "id": "d2583444",
   "metadata": {},
   "outputs": [],
   "source": [
    "# Importar librerías\n",
    "import numpy as np\n",
    "import matplotlib.pyplot as plt\n",
    "from scipy.integrate import solve_ivp\n",
    "from matplotlib.animation import FuncAnimation\n",
    "import sympy as sym"
   ]
  },
  {
   "cell_type": "code",
   "execution_count": 2,
   "id": "d2b81975",
   "metadata": {},
   "outputs": [
    {
     "data": {
      "text/plain": [
       "1.8197424070482002"
      ]
     },
     "execution_count": 2,
     "metadata": {},
     "output_type": "execute_result"
    }
   ],
   "source": [
    "np.random.uniform(0.01,np.pi)"
   ]
  },
  {
   "cell_type": "code",
   "execution_count": 3,
   "id": "cef5eac3",
   "metadata": {},
   "outputs": [],
   "source": [
    "# Inicializar las características del sistema\n",
    "g = 9.8       # Gravedad de la Tierra\n",
    "l1 = 0.5     # Longitud del primer péndulo\n",
    "l2 = 0.3      # Longitud del segundo péndulo\n",
    "m1 = 0.8      # Masa del primer péndulo en kg\n",
    "m2 = 0.4      # Masa del segundo péndulo en kg"
   ]
  },
  {
   "cell_type": "code",
   "execution_count": 4,
   "id": "0089cc8f",
   "metadata": {},
   "outputs": [],
   "source": [
    "def PenduloDoble(t, arreglo):\n",
    "    theta1 = arreglo[0]\n",
    "    theta2 = arreglo[1]\n",
    "    v1 = arreglo[2]\n",
    "    v2 = arreglo[3]\n",
    "    p1=(-g*(2*m1+m2)*np.sin(theta1)-m2*g*np.sin(theta1-2*theta2)-2*np.sin(theta1-theta2)*m2*(v2**2*l2+v1*l1*np.cos(theta1-theta2)))/(l1*(2*m1+m2-m2*np.cos(2*theta1-2*theta2)))\n",
    "    p2=(2*np.sin(theta1-theta2)*(v1**2*l1*(m1+m2)+g*(m1+m2)*np.cos(theta1)+v2**2*l2*m2*np.cos(theta1-theta2)))/(l2*(2*m1+m2-m2*np.cos(2*theta1-2*theta2)))\n",
    "\n",
    "    #p1 = ((-g*((2*m1) + m2)*np.sin(theta1)) - (m2*g*np.sin(theta1 - (2*theta2))) - (2*np.sin(theta1 - theta2)*m2*(((v2**2)*l2) + ((v1**2)*l1*np.cos(theta1 - theta2))))) / (l1*((2*m1) + m2 - (m2*np.cos((2*theta1) - (2*theta2)))))\n",
    "    #p2 = (((2*np.sin(theta1 - theta2))*((v1**2)*l1*(m1 + m2))) + (g*(m1 + m2)*np.cos(theta1)) + ((v2**2)*l2*m2*np.cos(theta1-theta2))) / (l2*((2*m1) + m2 - (m2*np.cos((2*theta1) - (2*theta2)))))\n",
    "    return np.array([v1,v2,p1,p2])"
   ]
  },
  {
   "cell_type": "code",
   "execution_count": 5,
   "id": "f6991803",
   "metadata": {},
   "outputs": [],
   "source": [
    "solve_ivp?"
   ]
  },
  {
   "cell_type": "code",
   "execution_count": 23,
   "id": "4d64ff69",
   "metadata": {},
   "outputs": [
    {
     "data": {
      "text/plain": [
       "[1.1219074497967358, 1.221907449796736, 1.7000287460816523, 1.8000287460816524]"
      ]
     },
     "execution_count": 23,
     "metadata": {},
     "output_type": "execute_result"
    }
   ],
   "source": [
    "t = (0,20)\n",
    "arreglo_1 = []\n",
    "theta1_1 = np.random.uniform(0.01,np.pi)\n",
    "theta2_1 = theta1_1 + 0.1\n",
    "v1_1 = np.random.uniform(0,2)\n",
    "v2_1 = v1_1 + 0.1\n",
    "arreglo_1.append(theta1_1)\n",
    "arreglo_1.append(theta2_1)\n",
    "arreglo_1.append(v1_1)\n",
    "arreglo_1.append(v2_1)\n",
    "arreglo_1"
   ]
  },
  {
   "cell_type": "code",
   "execution_count": 24,
   "id": "85bf4402",
   "metadata": {},
   "outputs": [
    {
     "data": {
      "text/plain": [
       "[1.221907449796736, 1.321907449796736, 1.8000287460816524, 1.9000287460816525]"
      ]
     },
     "execution_count": 24,
     "metadata": {},
     "output_type": "execute_result"
    }
   ],
   "source": [
    "arreglo_2 = []\n",
    "theta1_2 = theta1_1 + 0.1\n",
    "theta2_2 = theta1_2 + 0.1\n",
    "v1_2 = v1_1 + 0.1\n",
    "v2_2 = v1_2 + 0.1\n",
    "arreglo_2.append(theta1_2)\n",
    "arreglo_2.append(theta2_2)\n",
    "arreglo_2.append(v1_2)\n",
    "arreglo_2.append(v2_2)\n",
    "arreglo_2"
   ]
  },
  {
   "cell_type": "code",
   "execution_count": 25,
   "id": "b10cd48f",
   "metadata": {},
   "outputs": [
    {
     "data": {
      "text/plain": [
       "[1.321907449796736, 1.4219074497967361, 1.9000287460816525, 2.0000287460816524]"
      ]
     },
     "execution_count": 25,
     "metadata": {},
     "output_type": "execute_result"
    }
   ],
   "source": [
    "arreglo_3 = []\n",
    "theta1_3 = theta1_2 + 0.1\n",
    "theta2_3 = theta1_3 + 0.1\n",
    "v1_3 = v1_2 + 0.1\n",
    "v2_3 = v1_3 + 0.1\n",
    "arreglo_3.append(theta1_3)\n",
    "arreglo_3.append(theta2_3)\n",
    "arreglo_3.append(v1_3)\n",
    "arreglo_3.append(v2_3)\n",
    "arreglo_3"
   ]
  },
  {
   "cell_type": "code",
   "execution_count": 26,
   "id": "3054067a",
   "metadata": {},
   "outputs": [
    {
     "data": {
      "text/plain": [
       "  message: 'The solver successfully reached the end of the integration interval.'\n",
       "     nfev: 1200008\n",
       "     njev: 0\n",
       "      nlu: 0\n",
       "      sol: None\n",
       "   status: 0\n",
       "  success: True\n",
       "        t: array([0.00000e+00, 1.00000e-04, 2.00000e-04, ..., 1.99999e+01,\n",
       "       2.00000e+01, 2.00000e+01])\n",
       " t_events: None\n",
       "        y: array([[ 1.12190745,  1.12207737,  1.12224711, ..., -1.26624308,\n",
       "        -1.26620826, -1.26620826],\n",
       "       [ 1.22190745,  1.22208744,  1.2222674 , ..., -2.19762608,\n",
       "        -2.1977332 , -2.1977332 ],\n",
       "       [ 1.70002875,  1.69832293,  1.69661696, ...,  0.34735957,\n",
       "         0.34909572,  0.34909572],\n",
       "       [ 1.80002875,  1.79972982,  1.79943109, ..., -1.07162864,\n",
       "        -1.07069748, -1.07069748]])\n",
       " y_events: None"
      ]
     },
     "execution_count": 26,
     "metadata": {},
     "output_type": "execute_result"
    }
   ],
   "source": [
    "solucion_1 = solve_ivp(PenduloDoble, t, np.array(arreglo_1), max_step = 0.0001)\n",
    "solucion_1"
   ]
  },
  {
   "cell_type": "code",
   "execution_count": 27,
   "id": "d0b1b69d",
   "metadata": {},
   "outputs": [
    {
     "data": {
      "text/plain": [
       "  message: 'The solver successfully reached the end of the integration interval.'\n",
       "     nfev: 1200008\n",
       "     njev: 0\n",
       "      nlu: 0\n",
       "      sol: None\n",
       "   status: 0\n",
       "  success: True\n",
       "        t: array([0.00000e+00, 1.00000e-04, 2.00000e-04, ..., 1.99999e+01,\n",
       "       2.00000e+01, 2.00000e+01])\n",
       " t_events: None\n",
       "        y: array([[ 1.22190745,  1.22208736,  1.2222671 , ..., -0.43048044,\n",
       "        -0.4308966 , -0.4308966 ],\n",
       "       [ 1.32190745,  1.32209744,  1.3222874 , ..., -1.29660737,\n",
       "        -1.29740945, -1.29740945],\n",
       "       [ 1.80002875,  1.79823953,  1.79645016, ..., -4.16134944,\n",
       "        -4.16193183, -4.16193183],\n",
       "       [ 1.90002875,  1.89976415,  1.89949977, ..., -8.02393337,\n",
       "        -8.01751696, -8.01751696]])\n",
       " y_events: None"
      ]
     },
     "execution_count": 27,
     "metadata": {},
     "output_type": "execute_result"
    }
   ],
   "source": [
    "solucion_2 = solve_ivp(PenduloDoble, t, np.array(arreglo_2), max_step = 0.0001)\n",
    "solucion_2"
   ]
  },
  {
   "cell_type": "code",
   "execution_count": 28,
   "id": "d63218db",
   "metadata": {},
   "outputs": [
    {
     "data": {
      "text/plain": [
       "  message: 'The solver successfully reached the end of the integration interval.'\n",
       "     nfev: 1200008\n",
       "     njev: 0\n",
       "      nlu: 0\n",
       "      sol: None\n",
       "   status: 0\n",
       "  success: True\n",
       "        t: array([0.00000e+00, 1.00000e-04, 2.00000e-04, ..., 1.99999e+01,\n",
       "       2.00000e+01, 2.00000e+01])\n",
       " t_events: None\n",
       "        y: array([[ 1.32190745,  1.32209736,  1.32228708, ...,  0.86165247,\n",
       "         0.86119448,  0.86119448],\n",
       "       [ 1.42190745,  1.42210744,  1.42230741, ...,  1.29363335,\n",
       "         1.293451  ,  1.293451  ],\n",
       "       [ 1.90002875,  1.89817425,  1.89631964, ..., -4.57928861,\n",
       "        -4.58059427, -4.58059427],\n",
       "       [ 2.00002875,  1.99979954,  1.99957059, ..., -1.82187155,\n",
       "        -1.82517765, -1.82517765]])\n",
       " y_events: None"
      ]
     },
     "execution_count": 28,
     "metadata": {},
     "output_type": "execute_result"
    }
   ],
   "source": [
    "solucion_3 = solve_ivp(PenduloDoble, t, np.array(arreglo_3), max_step = 0.0001)\n",
    "solucion_3"
   ]
  },
  {
   "cell_type": "code",
   "execution_count": 29,
   "id": "804e69bb",
   "metadata": {},
   "outputs": [
    {
     "data": {
      "text/plain": [
       "(4, 200002)"
      ]
     },
     "execution_count": 29,
     "metadata": {},
     "output_type": "execute_result"
    }
   ],
   "source": [
    "solucion_1.y.shape"
   ]
  },
  {
   "cell_type": "code",
   "execution_count": 30,
   "id": "da8acb42",
   "metadata": {},
   "outputs": [
    {
     "data": {
      "text/plain": [
       "(4, 200002)"
      ]
     },
     "execution_count": 30,
     "metadata": {},
     "output_type": "execute_result"
    }
   ],
   "source": [
    "solucion_2.y.shape"
   ]
  },
  {
   "cell_type": "code",
   "execution_count": 31,
   "id": "cbf9689b",
   "metadata": {},
   "outputs": [
    {
     "data": {
      "text/plain": [
       "(4, 200002)"
      ]
     },
     "execution_count": 31,
     "metadata": {},
     "output_type": "execute_result"
    }
   ],
   "source": [
    "solucion_3.y.shape"
   ]
  },
  {
   "cell_type": "code",
   "execution_count": 32,
   "id": "00899770",
   "metadata": {},
   "outputs": [
    {
     "data": {
      "text/plain": [
       "(200002, 4)"
      ]
     },
     "execution_count": 32,
     "metadata": {},
     "output_type": "execute_result"
    }
   ],
   "source": [
    "# Redimensionamiento de la solución del primer péndulo doble\n",
    "x_1 = solucion_1.y.T\n",
    "x_1.shape"
   ]
  },
  {
   "cell_type": "code",
   "execution_count": 33,
   "id": "0904c335",
   "metadata": {},
   "outputs": [
    {
     "data": {
      "text/plain": [
       "(200002, 4)"
      ]
     },
     "execution_count": 33,
     "metadata": {},
     "output_type": "execute_result"
    }
   ],
   "source": [
    "# Redimensionamiento de la solución del segundo péndulo doble\n",
    "x_2 = solucion_2.y.T\n",
    "x_2.shape"
   ]
  },
  {
   "cell_type": "code",
   "execution_count": 34,
   "id": "5ae80cc6",
   "metadata": {},
   "outputs": [
    {
     "data": {
      "text/plain": [
       "(200002, 4)"
      ]
     },
     "execution_count": 34,
     "metadata": {},
     "output_type": "execute_result"
    }
   ],
   "source": [
    "# Redimensionamiento de la solución del primer péndulo doble\n",
    "x_3 = solucion_3.y.T\n",
    "x_3.shape"
   ]
  },
  {
   "cell_type": "code",
   "execution_count": 35,
   "id": "cd755e4c",
   "metadata": {},
   "outputs": [
    {
     "data": {
      "text/plain": [
       "array([ 1.12190745,  1.12207737,  1.12224711, ..., -1.26624308,\n",
       "       -1.26620826, -1.26620826])"
      ]
     },
     "execution_count": 35,
     "metadata": {},
     "output_type": "execute_result"
    }
   ],
   "source": [
    "x_1[:,0] # Posición del Péndulo 1"
   ]
  },
  {
   "cell_type": "code",
   "execution_count": 36,
   "id": "4f9c6423",
   "metadata": {},
   "outputs": [
    {
     "data": {
      "text/plain": [
       "array([ 1.22190745,  1.22208736,  1.2222671 , ..., -0.43048044,\n",
       "       -0.4308966 , -0.4308966 ])"
      ]
     },
     "execution_count": 36,
     "metadata": {},
     "output_type": "execute_result"
    }
   ],
   "source": [
    "x_2[:,0]"
   ]
  },
  {
   "cell_type": "code",
   "execution_count": 37,
   "id": "7a34da25",
   "metadata": {},
   "outputs": [
    {
     "data": {
      "text/plain": [
       "array([ 1.22190745,  1.22208744,  1.2222674 , ..., -2.19762608,\n",
       "       -2.1977332 , -2.1977332 ])"
      ]
     },
     "execution_count": 37,
     "metadata": {},
     "output_type": "execute_result"
    }
   ],
   "source": [
    "x_1[:,1] # Posición del Péndulo 2"
   ]
  },
  {
   "cell_type": "code",
   "execution_count": 38,
   "id": "3fc292aa",
   "metadata": {},
   "outputs": [
    {
     "data": {
      "text/plain": [
       "array([1.70002875, 1.69832293, 1.69661696, ..., 0.34735957, 0.34909572,\n",
       "       0.34909572])"
      ]
     },
     "execution_count": 38,
     "metadata": {},
     "output_type": "execute_result"
    }
   ],
   "source": [
    "x_1[:,2] # Velocidad del Péndulo 1"
   ]
  },
  {
   "cell_type": "code",
   "execution_count": 39,
   "id": "d47d12f2",
   "metadata": {},
   "outputs": [
    {
     "data": {
      "text/plain": [
       "array([ 1.80002875,  1.79972982,  1.79943109, ..., -1.07162864,\n",
       "       -1.07069748, -1.07069748])"
      ]
     },
     "execution_count": 39,
     "metadata": {},
     "output_type": "execute_result"
    }
   ],
   "source": [
    "x_1[:,3] # Velocidad del Péndulo 2"
   ]
  },
  {
   "cell_type": "code",
   "execution_count": 40,
   "id": "5f2eb2cb",
   "metadata": {},
   "outputs": [
    {
     "data": {
      "image/png": "[encoded data removed]",
      "text/plain": [
       "<Figure size 432x288 with 1 Axes>"
      ]
     },
     "metadata": {
      "needs_background": "light"
     },
     "output_type": "display_data"
    }
   ],
   "source": [
    "plt.plot(solucion_1.t,x_1[:,0], 'b', label = 'Péndulo 1, P1') \n",
    "plt.plot(solucion_1.t,x_1[:,1], 'b--', label = 'Péndulo 2, P1')\n",
    "plt.plot(solucion_2.t,x_2[:,0], 'r', label = 'Péndulo 1, P2') \n",
    "plt.plot(solucion_2.t,x_2[:,1], 'r--', label = 'Péndulo 2, P2')\n",
    "plt.plot(solucion_3.t,x_3[:,0], 'g', label = 'Péndulo 1, P3') \n",
    "plt.plot(solucion_3.t,x_3[:,1], 'g--', label = 'Péndulo 2, P3')\n",
    "plt.xlabel('Tiempo ($s$)')\n",
    "plt.ylabel('Posición ($m$)')\n",
    "plt.legend()\n",
    "plt.grid()"
   ]
  },
  {
   "cell_type": "code",
   "execution_count": 41,
   "id": "c2cfb92d",
   "metadata": {},
   "outputs": [
    {
     "data": {
      "image/png": "[encoded data removed]",
      "text/plain": [
       "<Figure size 432x288 with 1 Axes>"
      ]
     },
     "metadata": {
      "needs_background": "light"
     },
     "output_type": "display_data"
    }
   ],
   "source": [
    "plt.plot(solucion_1.t,x_1[:,2], 'b', label = 'Péndulo 1, P1')\n",
    "plt.plot(solucion_1.t,x_1[:,3], 'b--',  label = 'Péndulo 2, P1')\n",
    "plt.plot(solucion_2.t,x_2[:,2], 'r', label = 'Péndulo 1, P2')\n",
    "plt.plot(solucion_2.t,x_2[:,3], 'r--', label = 'Péndulo 2, P2')\n",
    "plt.plot(solucion_3.t,x_3[:,2], 'g', label = 'Péndulo 1, P3') \n",
    "plt.plot(solucion_3.t,x_3[:,3], 'g--', label = 'Péndulo 2, P3')\n",
    "plt.xlabel('Tiempo ($s$)')\n",
    "plt.ylabel('Velocidad ($\\dfrac{m}{s}$)')\n",
    "plt.legend()\n",
    "plt.grid()"
   ]
  },
  {
   "cell_type": "code",
   "execution_count": 42,
   "id": "f56c7f86",
   "metadata": {},
   "outputs": [
    {
     "data": {
      "text/plain": [
       "array([[ 1.12190745,  1.22190745,  1.70002875,  1.80002875],\n",
       "       [ 1.12207737,  1.22208744,  1.69832293,  1.79972982],\n",
       "       [ 1.12224711,  1.2222674 ,  1.69661696,  1.79943109],\n",
       "       ...,\n",
       "       [-1.26624308, -2.19762608,  0.34735957, -1.07162864],\n",
       "       [-1.26620826, -2.1977332 ,  0.34909572, -1.07069748],\n",
       "       [-1.26620826, -2.1977332 ,  0.34909572, -1.07069748]])"
      ]
     },
     "execution_count": 42,
     "metadata": {},
     "output_type": "execute_result"
    }
   ],
   "source": [
    "solucion_1.y.T"
   ]
  },
  {
   "cell_type": "code",
   "execution_count": 43,
   "id": "cb695755",
   "metadata": {},
   "outputs": [
    {
     "data": {
      "text/plain": [
       "1.1219074497967358"
      ]
     },
     "execution_count": 43,
     "metadata": {},
     "output_type": "execute_result"
    }
   ],
   "source": [
    "# Iterando sobre la posición angular del Péndulo 1, P1\n",
    "posicionP1_1 = []\n",
    "for i in range(solucion_1.y.shape[1]):\n",
    "    posicionP1_1.append(x_1[i,0])\n",
    "posicionP1_1[0]"
   ]
  },
  {
   "cell_type": "code",
   "execution_count": 44,
   "id": "37fabb65",
   "metadata": {},
   "outputs": [
    {
     "data": {
      "text/plain": [
       "1.221907449796736"
      ]
     },
     "execution_count": 44,
     "metadata": {},
     "output_type": "execute_result"
    }
   ],
   "source": [
    "# Iterando sobre la posición angular del Péndulo 2, P1\n",
    "posicionP2_1 = []\n",
    "for i in range(solucion_1.y.shape[1]):\n",
    "    posicionP2_1.append(x_1[i,1])\n",
    "posicionP2_1[0]"
   ]
  },
  {
   "cell_type": "code",
   "execution_count": 45,
   "id": "9b0cfe97",
   "metadata": {},
   "outputs": [
    {
     "data": {
      "text/plain": [
       "1.221907449796736"
      ]
     },
     "execution_count": 45,
     "metadata": {},
     "output_type": "execute_result"
    }
   ],
   "source": [
    "# Iterando sobre la posición angular del Péndulo 1, P2\n",
    "posicionP1_2 = []\n",
    "for i in range(solucion_2.y.shape[1]):\n",
    "    posicionP1_2.append(x_2[i,0])\n",
    "posicionP1_2[0]"
   ]
  },
  {
   "cell_type": "code",
   "execution_count": 46,
   "id": "f92becb4",
   "metadata": {},
   "outputs": [
    {
     "data": {
      "text/plain": [
       "1.321907449796736"
      ]
     },
     "execution_count": 46,
     "metadata": {},
     "output_type": "execute_result"
    }
   ],
   "source": [
    "# Iterando sobre la posición angular del Péndulo 2, P2\n",
    "posicionP2_2 = []\n",
    "for i in range(solucion_2.y.shape[1]):\n",
    "    posicionP2_2.append(x_2[i,1])\n",
    "posicionP2_2[0]"
   ]
  },
  {
   "cell_type": "code",
   "execution_count": 47,
   "id": "da79e9c4",
   "metadata": {},
   "outputs": [
    {
     "data": {
      "text/plain": [
       "1.321907449796736"
      ]
     },
     "execution_count": 47,
     "metadata": {},
     "output_type": "execute_result"
    }
   ],
   "source": [
    "# Iterando sobre la posición angular del Péndulo 1, P3\n",
    "posicionP1_3 = []\n",
    "for i in range(solucion_3.y.shape[1]):\n",
    "    posicionP1_3.append(x_3[i,0])\n",
    "posicionP1_3[0]"
   ]
  },
  {
   "cell_type": "code",
   "execution_count": 48,
   "id": "e205717b",
   "metadata": {},
   "outputs": [
    {
     "data": {
      "text/plain": [
       "1.4219074497967361"
      ]
     },
     "execution_count": 48,
     "metadata": {},
     "output_type": "execute_result"
    }
   ],
   "source": [
    "# Iterando sobre la posición angular del Péndulo 2, P3\n",
    "posicionP2_3 = []\n",
    "for i in range(solucion_3.y.shape[1]):\n",
    "    posicionP2_3.append(x_3[i,1])\n",
    "posicionP2_3[0]"
   ]
  },
  {
   "cell_type": "code",
   "execution_count": 49,
   "id": "632337d3",
   "metadata": {},
   "outputs": [],
   "source": [
    "%matplotlib notebook"
   ]
  },
  {
   "cell_type": "code",
   "execution_count": 50,
   "id": "5f6ffddf",
   "metadata": {},
   "outputs": [],
   "source": [
    "FuncAnimation?"
   ]
  },
  {
   "cell_type": "code",
   "execution_count": 51,
   "id": "e6101dc6",
   "metadata": {},
   "outputs": [
    {
     "data": {
      "application/javascript": [
       "/* Put everything inside the global mpl namespace */\n",
       "/* global mpl */\n",
       "window.mpl = {};\n",
       "\n",
       "mpl.get_websocket_type = function () {\n",
       "    if (typeof WebSocket !== 'undefined') {\n",
       "        return WebSocket;\n",
       "    } else if (typeof MozWebSocket !== 'undefined') {\n",
       "        return MozWebSocket;\n",
       "    } else {\n",
       "        alert(\n",
       "            'Your browser does not have WebSocket support. ' +\n",
       "                'Please try Chrome, Safari or Firefox ≥ 6. ' +\n",
       "                'Firefox 4 and 5 are also supported but you ' +\n",
       "                'have to enable WebSockets in about:config.'\n",
       "        );\n",
       "    }\n",
       "};\n",
       "\n",
       "mpl.figure = function (figure_id, websocket, ondownload, parent_element) {\n",
       "    this.id = figure_id;\n",
       "\n",
       "    this.ws = websocket;\n",
       "\n",
       "    this.supports_binary = this.ws.binaryType !== undefined;\n",
       "\n",
       "    if (!this.supports_binary) {\n",
       "        var warnings = document.getElementById('mpl-warnings');\n",
       "        if (warnings) {\n",
       "            warnings.style.display = 'block';\n",
       "            warnings.textContent =\n",
       "                'This browser does not support binary websocket messages. ' +\n",
       "                'Performance may be slow.';\n",
       "        }\n",
       "    }\n",
       "\n",
       "    this.imageObj = new Image();\n",
       "\n",
       "    this.context = undefined;\n",
       "    this.message = undefined;\n",
       "    this.canvas = undefined;\n",
       "    this.rubberband_canvas = undefined;\n",
       "    this.rubberband_context = undefined;\n",
       "    this.format_dropdown = undefined;\n",
       "\n",
       "    this.image_mode = 'full';\n",
       "\n",
       "    this.root = document.createElement('div');\n",
       "    this.root.setAttribute('style', 'display: inline-block');\n",
       "    this._root_extra_style(this.root);\n",
       "\n",
       "    parent_element.appendChild(this.root);\n",
       "\n",
       "    this._init_header(this);\n",
       "    this._init_canvas(this);\n",
       "    this._init_toolbar(this);\n",
       "\n",
       "    var fig = this;\n",
       "\n",
       "    this.waiting = false;\n",
       "\n",
       "    this.ws.onopen = function () {\n",
       "        fig.send_message('supports_binary', { value: fig.supports_binary });\n",
       "        fig.send_message('send_image_mode', {});\n",
       "        if (fig.ratio !== 1) {\n",
       "            fig.send_message('set_device_pixel_ratio', {\n",
       "                device_pixel_ratio: fig.ratio,\n",
       "            });\n",
       "        }\n",
       "        fig.send_message('refresh', {});\n",
       "    };\n",
       "\n",
       "    this.imageObj.onload = function () {\n",
       "        if (fig.image_mode === 'full') {\n",
       "            // Full images could contain transparency (where diff images\n",
       "            // almost always do), so we need to clear the canvas so that\n",
       "            // there is no ghosting.\n",
       "            fig.context.clearRect(0, 0, fig.canvas.width, fig.canvas.height);\n",
       "        }\n",
       "        fig.context.drawImage(fig.imageObj, 0, 0);\n",
       "    };\n",
       "\n",
       "    this.imageObj.onunload = function () {\n",
       "        fig.ws.close();\n",
       "    };\n",
       "\n",
       "    this.ws.onmessage = this._make_on_message_function(this);\n",
       "\n",
       "    this.ondownload = ondownload;\n",
       "};\n",
       "\n",
       "mpl.figure.prototype._init_header = function () {\n",
       "    var titlebar = document.createElement('div');\n",
       "    titlebar.classList =\n",
       "        'ui-dialog-titlebar ui-widget-header ui-corner-all ui-helper-clearfix';\n",
       "    var titletext = document.createElement('div');\n",
       "    titletext.classList = 'ui-dialog-title';\n",
       "    titletext.setAttribute(\n",
       "        'style',\n",
       "        'width: 100%; text-align: center; padding: 3px;'\n",
       "    );\n",
       "    titlebar.appendChild(titletext);\n",
       "    this.root.appendChild(titlebar);\n",
       "    this.header = titletext;\n",
       "};\n",
       "\n",
       "mpl.figure.prototype._canvas_extra_style = function (_canvas_div) {};\n",
       "\n",
       "mpl.figure.prototype._root_extra_style = function (_canvas_div) {};\n",
       "\n",
       "mpl.figure.prototype._init_canvas = function () {\n",
       "    var fig = this;\n",
       "\n",
       "    var canvas_div = (this.canvas_div = document.createElement('div'));\n",
       "    canvas_div.setAttribute(\n",
       "        'style',\n",
       "        'border: 1px solid #ddd;' +\n",
       "            'box-sizing: content-box;' +\n",
       "            'clear: both;' +\n",
       "            'min-height: 1px;' +\n",
       "            'min-width: 1px;' +\n",
       "            'outline: 0;' +\n",
       "            'overflow: hidden;' +\n",
       "            'position: relative;' +\n",
       "            'resize: both;'\n",
       "    );\n",
       "\n",
       "    function on_keyboard_event_closure(name) {\n",
       "        return function (event) {\n",
       "            return fig.key_event(event, name);\n",
       "        };\n",
       "    }\n",
       "\n",
       "    canvas_div.addEventListener(\n",
       "        'keydown',\n",
       "        on_keyboard_event_closure('key_press')\n",
       "    );\n",
       "    canvas_div.addEventListener(\n",
       "        'keyup',\n",
       "        on_keyboard_event_closure('key_release')\n",
       "    );\n",
       "\n",
       "    this._canvas_extra_style(canvas_div);\n",
       "    this.root.appendChild(canvas_div);\n",
       "\n",
       "    var canvas = (this.canvas = document.createElement('canvas'));\n",
       "    canvas.classList.add('mpl-canvas');\n",
       "    canvas.setAttribute('style', 'box-sizing: content-box;');\n",
       "\n",
       "    this.context = canvas.getContext('2d');\n",
       "\n",
       "    var backingStore =\n",
       "        this.context.backingStorePixelRatio ||\n",
       "        this.context.webkitBackingStorePixelRatio ||\n",
       "        this.context.mozBackingStorePixelRatio ||\n",
       "        this.context.msBackingStorePixelRatio ||\n",
       "        this.context.oBackingStorePixelRatio ||\n",
       "        this.context.backingStorePixelRatio ||\n",
       "        1;\n",
       "\n",
       "    this.ratio = (window.devicePixelRatio || 1) / backingStore;\n",
       "\n",
       "    var rubberband_canvas = (this.rubberband_canvas = document.createElement(\n",
       "        'canvas'\n",
       "    ));\n",
       "    rubberband_canvas.setAttribute(\n",
       "        'style',\n",
       "        'box-sizing: content-box; position: absolute; left: 0; top: 0; z-index: 1;'\n",
       "    );\n",
       "\n",
       "    // Apply a ponyfill if ResizeObserver is not implemented by browser.\n",
       "    if (this.ResizeObserver === undefined) {\n",
       "        if (window.ResizeObserver !== undefined) {\n",
       "            this.ResizeObserver = window.ResizeObserver;\n",
       "        } else {\n",
       "            var obs = _JSXTOOLS_RESIZE_OBSERVER({});\n",
       "            this.ResizeObserver = obs.ResizeObserver;\n",
       "        }\n",
       "    }\n",
       "\n",
       "    this.resizeObserverInstance = new this.ResizeObserver(function (entries) {\n",
       "        var nentries = entries.length;\n",
       "        for (var i = 0; i < nentries; i++) {\n",
       "            var entry = entries[i];\n",
       "            var width, height;\n",
       "            if (entry.contentBoxSize) {\n",
       "                if (entry.contentBoxSize instanceof Array) {\n",
       "                    // Chrome 84 implements new version of spec.\n",
       "                    width = entry.contentBoxSize[0].inlineSize;\n",
       "                    height = entry.contentBoxSize[0].blockSize;\n",
       "                } else {\n",
       "                    // Firefox implements old version of spec.\n",
       "                    width = entry.contentBoxSize.inlineSize;\n",
       "                    height = entry.contentBoxSize.blockSize;\n",
       "                }\n",
       "            } else {\n",
       "                // Chrome <84 implements even older version of spec.\n",
       "                width = entry.contentRect.width;\n",
       "                height = entry.contentRect.height;\n",
       "            }\n",
       "\n",
       "            // Keep the size of the canvas and rubber band canvas in sync with\n",
       "            // the canvas container.\n",
       "            if (entry.devicePixelContentBoxSize) {\n",
       "                // Chrome 84 implements new version of spec.\n",
       "                canvas.setAttribute(\n",
       "                    'width',\n",
       "                    entry.devicePixelContentBoxSize[0].inlineSize\n",
       "                );\n",
       "                canvas.setAttribute(\n",
       "                    'height',\n",
       "                    entry.devicePixelContentBoxSize[0].blockSize\n",
       "                );\n",
       "            } else {\n",
       "                canvas.setAttribute('width', width * fig.ratio);\n",
       "                canvas.setAttribute('height', height * fig.ratio);\n",
       "            }\n",
       "            canvas.setAttribute(\n",
       "                'style',\n",
       "                'width: ' + width + 'px; height: ' + height + 'px;'\n",
       "            );\n",
       "\n",
       "            rubberband_canvas.setAttribute('width', width);\n",
       "            rubberband_canvas.setAttribute('height', height);\n",
       "\n",
       "            // And update the size in Python. We ignore the initial 0/0 size\n",
       "            // that occurs as the element is placed into the DOM, which should\n",
       "            // otherwise not happen due to the minimum size styling.\n",
       "            if (fig.ws.readyState == 1 && width != 0 && height != 0) {\n",
       "                fig.request_resize(width, height);\n",
       "            }\n",
       "        }\n",
       "    });\n",
       "    this.resizeObserverInstance.observe(canvas_div);\n",
       "\n",
       "    function on_mouse_event_closure(name) {\n",
       "        return function (event) {\n",
       "            return fig.mouse_event(event, name);\n",
       "        };\n",
       "    }\n",
       "\n",
       "    rubberband_canvas.addEventListener(\n",
       "        'mousedown',\n",
       "        on_mouse_event_closure('button_press')\n",
       "    );\n",
       "    rubberband_canvas.addEventListener(\n",
       "        'mouseup',\n",
       "        on_mouse_event_closure('button_release')\n",
       "    );\n",
       "    rubberband_canvas.addEventListener(\n",
       "        'dblclick',\n",
       "        on_mouse_event_closure('dblclick')\n",
       "    );\n",
       "    // Throttle sequential mouse events to 1 every 20ms.\n",
       "    rubberband_canvas.addEventListener(\n",
       "        'mousemove',\n",
       "        on_mouse_event_closure('motion_notify')\n",
       "    );\n",
       "\n",
       "    rubberband_canvas.addEventListener(\n",
       "        'mouseenter',\n",
       "        on_mouse_event_closure('figure_enter')\n",
       "    );\n",
       "    rubberband_canvas.addEventListener(\n",
       "        'mouseleave',\n",
       "        on_mouse_event_closure('figure_leave')\n",
       "    );\n",
       "\n",
       "    canvas_div.addEventListener('wheel', function (event) {\n",
       "        if (event.deltaY < 0) {\n",
       "            event.step = 1;\n",
       "        } else {\n",
       "            event.step = -1;\n",
       "        }\n",
       "        on_mouse_event_closure('scroll')(event);\n",
       "    });\n",
       "\n",
       "    canvas_div.appendChild(canvas);\n",
       "    canvas_div.appendChild(rubberband_canvas);\n",
       "\n",
       "    this.rubberband_context = rubberband_canvas.getContext('2d');\n",
       "    this.rubberband_context.strokeStyle = '#000000';\n",
       "\n",
       "    this._resize_canvas = function (width, height, forward) {\n",
       "        if (forward) {\n",
       "            canvas_div.style.width = width + 'px';\n",
       "            canvas_div.style.height = height + 'px';\n",
       "        }\n",
       "    };\n",
       "\n",
       "    // Disable right mouse context menu.\n",
       "    this.rubberband_canvas.addEventListener('contextmenu', function (_e) {\n",
       "        event.preventDefault();\n",
       "        return false;\n",
       "    });\n",
       "\n",
       "    function set_focus() {\n",
       "        canvas.focus();\n",
       "        canvas_div.focus();\n",
       "    }\n",
       "\n",
       "    window.setTimeout(set_focus, 100);\n",
       "};\n",
       "\n",
       "mpl.figure.prototype._init_toolbar = function () {\n",
       "    var fig = this;\n",
       "\n",
       "    var toolbar = document.createElement('div');\n",
       "    toolbar.classList = 'mpl-toolbar';\n",
       "    this.root.appendChild(toolbar);\n",
       "\n",
       "    function on_click_closure(name) {\n",
       "        return function (_event) {\n",
       "            return fig.toolbar_button_onclick(name);\n",
       "        };\n",
       "    }\n",
       "\n",
       "    function on_mouseover_closure(tooltip) {\n",
       "        return function (event) {\n",
       "            if (!event.currentTarget.disabled) {\n",
       "                return fig.toolbar_button_onmouseover(tooltip);\n",
       "            }\n",
       "        };\n",
       "    }\n",
       "\n",
       "    fig.buttons = {};\n",
       "    var buttonGroup = document.createElement('div');\n",
       "    buttonGroup.classList = 'mpl-button-group';\n",
       "    for (var toolbar_ind in mpl.toolbar_items) {\n",
       "        var name = mpl.toolbar_items[toolbar_ind][0];\n",
       "        var tooltip = mpl.toolbar_items[toolbar_ind][1];\n",
       "        var image = mpl.toolbar_items[toolbar_ind][2];\n",
       "        var method_name = mpl.toolbar_items[toolbar_ind][3];\n",
       "\n",
       "        if (!name) {\n",
       "            /* Instead of a spacer, we start a new button group. */\n",
       "            if (buttonGroup.hasChildNodes()) {\n",
       "                toolbar.appendChild(buttonGroup);\n",
       "            }\n",
       "            buttonGroup = document.createElement('div');\n",
       "            buttonGroup.classList = 'mpl-button-group';\n",
       "            continue;\n",
       "        }\n",
       "\n",
       "        var button = (fig.buttons[name] = document.createElement('button'));\n",
       "        button.classList = 'mpl-widget';\n",
       "        button.setAttribute('role', 'button');\n",
       "        button.setAttribute('aria-disabled', 'false');\n",
       "        button.addEventListener('click', on_click_closure(method_name));\n",
       "        button.addEventListener('mouseover', on_mouseover_closure(tooltip));\n",
       "\n",
       "        var icon_img = document.createElement('img');\n",
       "        icon_img.src = '_images/' + image + '.png';\n",
       "        icon_img.srcset = '_images/' + image + '_large.png 2x';\n",
       "        icon_img.alt = tooltip;\n",
       "        button.appendChild(icon_img);\n",
       "\n",
       "        buttonGroup.appendChild(button);\n",
       "    }\n",
       "\n",
       "    if (buttonGroup.hasChildNodes()) {\n",
       "        toolbar.appendChild(buttonGroup);\n",
       "    }\n",
       "\n",
       "    var fmt_picker = document.createElement('select');\n",
       "    fmt_picker.classList = 'mpl-widget';\n",
       "    toolbar.appendChild(fmt_picker);\n",
       "    this.format_dropdown = fmt_picker;\n",
       "\n",
       "    for (var ind in mpl.extensions) {\n",
       "        var fmt = mpl.extensions[ind];\n",
       "        var option = document.createElement('option');\n",
       "        option.selected = fmt === mpl.default_extension;\n",
       "        option.innerHTML = fmt;\n",
       "        fmt_picker.appendChild(option);\n",
       "    }\n",
       "\n",
       "    var status_bar = document.createElement('span');\n",
       "    status_bar.classList = 'mpl-message';\n",
       "    toolbar.appendChild(status_bar);\n",
       "    this.message = status_bar;\n",
       "};\n",
       "\n",
       "mpl.figure.prototype.request_resize = function (x_pixels, y_pixels) {\n",
       "    // Request matplotlib to resize the figure. Matplotlib will then trigger a resize in the client,\n",
       "    // which will in turn request a refresh of the image.\n",
       "    this.send_message('resize', { width: x_pixels, height: y_pixels });\n",
       "};\n",
       "\n",
       "mpl.figure.prototype.send_message = function (type, properties) {\n",
       "    properties['type'] = type;\n",
       "    properties['figure_id'] = this.id;\n",
       "    this.ws.send(JSON.stringify(properties));\n",
       "};\n",
       "\n",
       "mpl.figure.prototype.send_draw_message = function () {\n",
       "    if (!this.waiting) {\n",
       "        this.waiting = true;\n",
       "        this.ws.send(JSON.stringify({ type: 'draw', figure_id: this.id }));\n",
       "    }\n",
       "};\n",
       "\n",
       "mpl.figure.prototype.handle_save = function (fig, _msg) {\n",
       "    var format_dropdown = fig.format_dropdown;\n",
       "    var format = format_dropdown.options[format_dropdown.selectedIndex].value;\n",
       "    fig.ondownload(fig, format);\n",
       "};\n",
       "\n",
       "mpl.figure.prototype.handle_resize = function (fig, msg) {\n",
       "    var size = msg['size'];\n",
       "    if (size[0] !== fig.canvas.width || size[1] !== fig.canvas.height) {\n",
       "        fig._resize_canvas(size[0], size[1], msg['forward']);\n",
       "        fig.send_message('refresh', {});\n",
       "    }\n",
       "};\n",
       "\n",
       "mpl.figure.prototype.handle_rubberband = function (fig, msg) {\n",
       "    var x0 = msg['x0'] / fig.ratio;\n",
       "    var y0 = (fig.canvas.height - msg['y0']) / fig.ratio;\n",
       "    var x1 = msg['x1'] / fig.ratio;\n",
       "    var y1 = (fig.canvas.height - msg['y1']) / fig.ratio;\n",
       "    x0 = Math.floor(x0) + 0.5;\n",
       "    y0 = Math.floor(y0) + 0.5;\n",
       "    x1 = Math.floor(x1) + 0.5;\n",
       "    y1 = Math.floor(y1) + 0.5;\n",
       "    var min_x = Math.min(x0, x1);\n",
       "    var min_y = Math.min(y0, y1);\n",
       "    var width = Math.abs(x1 - x0);\n",
       "    var height = Math.abs(y1 - y0);\n",
       "\n",
       "    fig.rubberband_context.clearRect(\n",
       "        0,\n",
       "        0,\n",
       "        fig.canvas.width / fig.ratio,\n",
       "        fig.canvas.height / fig.ratio\n",
       "    );\n",
       "\n",
       "    fig.rubberband_context.strokeRect(min_x, min_y, width, height);\n",
       "};\n",
       "\n",
       "mpl.figure.prototype.handle_figure_label = function (fig, msg) {\n",
       "    // Updates the figure title.\n",
       "    fig.header.textContent = msg['label'];\n",
       "};\n",
       "\n",
       "mpl.figure.prototype.handle_cursor = function (fig, msg) {\n",
       "    fig.rubberband_canvas.style.cursor = msg['cursor'];\n",
       "};\n",
       "\n",
       "mpl.figure.prototype.handle_message = function (fig, msg) {\n",
       "    fig.message.textContent = msg['message'];\n",
       "};\n",
       "\n",
       "mpl.figure.prototype.handle_draw = function (fig, _msg) {\n",
       "    // Request the server to send over a new figure.\n",
       "    fig.send_draw_message();\n",
       "};\n",
       "\n",
       "mpl.figure.prototype.handle_image_mode = function (fig, msg) {\n",
       "    fig.image_mode = msg['mode'];\n",
       "};\n",
       "\n",
       "mpl.figure.prototype.handle_history_buttons = function (fig, msg) {\n",
       "    for (var key in msg) {\n",
       "        if (!(key in fig.buttons)) {\n",
       "            continue;\n",
       "        }\n",
       "        fig.buttons[key].disabled = !msg[key];\n",
       "        fig.buttons[key].setAttribute('aria-disabled', !msg[key]);\n",
       "    }\n",
       "};\n",
       "\n",
       "mpl.figure.prototype.handle_navigate_mode = function (fig, msg) {\n",
       "    if (msg['mode'] === 'PAN') {\n",
       "        fig.buttons['Pan'].classList.add('active');\n",
       "        fig.buttons['Zoom'].classList.remove('active');\n",
       "    } else if (msg['mode'] === 'ZOOM') {\n",
       "        fig.buttons['Pan'].classList.remove('active');\n",
       "        fig.buttons['Zoom'].classList.add('active');\n",
       "    } else {\n",
       "        fig.buttons['Pan'].classList.remove('active');\n",
       "        fig.buttons['Zoom'].classList.remove('active');\n",
       "    }\n",
       "};\n",
       "\n",
       "mpl.figure.prototype.updated_canvas_event = function () {\n",
       "    // Called whenever the canvas gets updated.\n",
       "    this.send_message('ack', {});\n",
       "};\n",
       "\n",
       "// A function to construct a web socket function for onmessage handling.\n",
       "// Called in the figure constructor.\n",
       "mpl.figure.prototype._make_on_message_function = function (fig) {\n",
       "    return function socket_on_message(evt) {\n",
       "        if (evt.data instanceof Blob) {\n",
       "            var img = evt.data;\n",
       "            if (img.type !== 'image/png') {\n",
       "                /* FIXME: We get \"Resource interpreted as Image but\n",
       "                 * transferred with MIME type text/plain:\" errors on\n",
       "                 * Chrome.  But how to set the MIME type?  It doesn't seem\n",
       "                 * to be part of the websocket stream */\n",
       "                img.type = 'image/png';\n",
       "            }\n",
       "\n",
       "            /* Free the memory for the previous frames */\n",
       "            if (fig.imageObj.src) {\n",
       "                (window.URL || window.webkitURL).revokeObjectURL(\n",
       "                    fig.imageObj.src\n",
       "                );\n",
       "            }\n",
       "\n",
       "            fig.imageObj.src = (window.URL || window.webkitURL).createObjectURL(\n",
       "                img\n",
       "            );\n",
       "            fig.updated_canvas_event();\n",
       "            fig.waiting = false;\n",
       "            return;\n",
       "        } else if (\n",
       "            typeof evt.data === 'string' &&\n",
       "            evt.data.slice(0, 21) === 'data:image/png;base64'\n",
       "        ) {\n",
       "            fig.imageObj.src = evt.data;\n",
       "            fig.updated_canvas_event();\n",
       "            fig.waiting = false;\n",
       "            return;\n",
       "        }\n",
       "\n",
       "        var msg = JSON.parse(evt.data);\n",
       "        var msg_type = msg['type'];\n",
       "\n",
       "        // Call the  \"handle_{type}\" callback, which takes\n",
       "        // the figure and JSON message as its only arguments.\n",
       "        try {\n",
       "            var callback = fig['handle_' + msg_type];\n",
       "        } catch (e) {\n",
       "            console.log(\n",
       "                \"No handler for the '\" + msg_type + \"' message type: \",\n",
       "                msg\n",
       "            );\n",
       "            return;\n",
       "        }\n",
       "\n",
       "        if (callback) {\n",
       "            try {\n",
       "                // console.log(\"Handling '\" + msg_type + \"' message: \", msg);\n",
       "                callback(fig, msg);\n",
       "            } catch (e) {\n",
       "                console.log(\n",
       "                    \"Exception inside the 'handler_\" + msg_type + \"' callback:\",\n",
       "                    e,\n",
       "                    e.stack,\n",
       "                    msg\n",
       "                );\n",
       "            }\n",
       "        }\n",
       "    };\n",
       "};\n",
       "\n",
       "// from https://stackoverflow.com/questions/1114465/getting-mouse-location-in-canvas\n",
       "mpl.findpos = function (e) {\n",
       "    //this section is from http://www.quirksmode.org/js/events_properties.html\n",
       "    var targ;\n",
       "    if (!e) {\n",
       "        e = window.event;\n",
       "    }\n",
       "    if (e.target) {\n",
       "        targ = e.target;\n",
       "    } else if (e.srcElement) {\n",
       "        targ = e.srcElement;\n",
       "    }\n",
       "    if (targ.nodeType === 3) {\n",
       "        // defeat Safari bug\n",
       "        targ = targ.parentNode;\n",
       "    }\n",
       "\n",
       "    // pageX,Y are the mouse positions relative to the document\n",
       "    var boundingRect = targ.getBoundingClientRect();\n",
       "    var x = e.pageX - (boundingRect.left + document.body.scrollLeft);\n",
       "    var y = e.pageY - (boundingRect.top + document.body.scrollTop);\n",
       "\n",
       "    return { x: x, y: y };\n",
       "};\n",
       "\n",
       "/*\n",
       " * return a copy of an object with only non-object keys\n",
       " * we need this to avoid circular references\n",
       " * https://stackoverflow.com/a/24161582/3208463\n",
       " */\n",
       "function simpleKeys(original) {\n",
       "    return Object.keys(original).reduce(function (obj, key) {\n",
       "        if (typeof original[key] !== 'object') {\n",
       "            obj[key] = original[key];\n",
       "        }\n",
       "        return obj;\n",
       "    }, {});\n",
       "}\n",
       "\n",
       "mpl.figure.prototype.mouse_event = function (event, name) {\n",
       "    var canvas_pos = mpl.findpos(event);\n",
       "\n",
       "    if (name === 'button_press') {\n",
       "        this.canvas.focus();\n",
       "        this.canvas_div.focus();\n",
       "    }\n",
       "\n",
       "    var x = canvas_pos.x * this.ratio;\n",
       "    var y = canvas_pos.y * this.ratio;\n",
       "\n",
       "    this.send_message(name, {\n",
       "        x: x,\n",
       "        y: y,\n",
       "        button: event.button,\n",
       "        step: event.step,\n",
       "        guiEvent: simpleKeys(event),\n",
       "    });\n",
       "\n",
       "    /* This prevents the web browser from automatically changing to\n",
       "     * the text insertion cursor when the button is pressed.  We want\n",
       "     * to control all of the cursor setting manually through the\n",
       "     * 'cursor' event from matplotlib */\n",
       "    event.preventDefault();\n",
       "    return false;\n",
       "};\n",
       "\n",
       "mpl.figure.prototype._key_event_extra = function (_event, _name) {\n",
       "    // Handle any extra behaviour associated with a key event\n",
       "};\n",
       "\n",
       "mpl.figure.prototype.key_event = function (event, name) {\n",
       "    // Prevent repeat events\n",
       "    if (name === 'key_press') {\n",
       "        if (event.key === this._key) {\n",
       "            return;\n",
       "        } else {\n",
       "            this._key = event.key;\n",
       "        }\n",
       "    }\n",
       "    if (name === 'key_release') {\n",
       "        this._key = null;\n",
       "    }\n",
       "\n",
       "    var value = '';\n",
       "    if (event.ctrlKey && event.key !== 'Control') {\n",
       "        value += 'ctrl+';\n",
       "    }\n",
       "    else if (event.altKey && event.key !== 'Alt') {\n",
       "        value += 'alt+';\n",
       "    }\n",
       "    else if (event.shiftKey && event.key !== 'Shift') {\n",
       "        value += 'shift+';\n",
       "    }\n",
       "\n",
       "    value += 'k' + event.key;\n",
       "\n",
       "    this._key_event_extra(event, name);\n",
       "\n",
       "    this.send_message(name, { key: value, guiEvent: simpleKeys(event) });\n",
       "    return false;\n",
       "};\n",
       "\n",
       "mpl.figure.prototype.toolbar_button_onclick = function (name) {\n",
       "    if (name === 'download') {\n",
       "        this.handle_save(this, null);\n",
       "    } else {\n",
       "        this.send_message('toolbar_button', { name: name });\n",
       "    }\n",
       "};\n",
       "\n",
       "mpl.figure.prototype.toolbar_button_onmouseover = function (tooltip) {\n",
       "    this.message.textContent = tooltip;\n",
       "};\n",
       "\n",
       "///////////////// REMAINING CONTENT GENERATED BY embed_js.py /////////////////\n",
       "// prettier-ignore\n",
       "var _JSXTOOLS_RESIZE_OBSERVER=function(A){var t,i=new WeakMap,n=new WeakMap,a=new WeakMap,r=new WeakMap,o=new Set;function s(e){if(!(this instanceof s))throw new TypeError(\"Constructor requires 'new' operator\");i.set(this,e)}function h(){throw new TypeError(\"Function is not a constructor\")}function c(e,t,i,n){e=0 in arguments?Number(arguments[0]):0,t=1 in arguments?Number(arguments[1]):0,i=2 in arguments?Number(arguments[2]):0,n=3 in arguments?Number(arguments[3]):0,this.right=(this.x=this.left=e)+(this.width=i),this.bottom=(this.y=this.top=t)+(this.height=n),Object.freeze(this)}function d(){t=requestAnimationFrame(d);var s=new WeakMap,p=new Set;o.forEach((function(t){r.get(t).forEach((function(i){var r=t instanceof window.SVGElement,o=a.get(t),d=r?0:parseFloat(o.paddingTop),f=r?0:parseFloat(o.paddingRight),l=r?0:parseFloat(o.paddingBottom),u=r?0:parseFloat(o.paddingLeft),g=r?0:parseFloat(o.borderTopWidth),m=r?0:parseFloat(o.borderRightWidth),w=r?0:parseFloat(o.borderBottomWidth),b=u+f,F=d+l,v=(r?0:parseFloat(o.borderLeftWidth))+m,W=g+w,y=r?0:t.offsetHeight-W-t.clientHeight,E=r?0:t.offsetWidth-v-t.clientWidth,R=b+v,z=F+W,M=r?t.width:parseFloat(o.width)-R-E,O=r?t.height:parseFloat(o.height)-z-y;if(n.has(t)){var k=n.get(t);if(k[0]===M&&k[1]===O)return}n.set(t,[M,O]);var S=Object.create(h.prototype);S.target=t,S.contentRect=new c(u,d,M,O),s.has(i)||(s.set(i,[]),p.add(i)),s.get(i).push(S)}))})),p.forEach((function(e){i.get(e).call(e,s.get(e),e)}))}return s.prototype.observe=function(i){if(i instanceof window.Element){r.has(i)||(r.set(i,new Set),o.add(i),a.set(i,window.getComputedStyle(i)));var n=r.get(i);n.has(this)||n.add(this),cancelAnimationFrame(t),t=requestAnimationFrame(d)}},s.prototype.unobserve=function(i){if(i instanceof window.Element&&r.has(i)){var n=r.get(i);n.has(this)&&(n.delete(this),n.size||(r.delete(i),o.delete(i))),n.size||r.delete(i),o.size||cancelAnimationFrame(t)}},A.DOMRectReadOnly=c,A.ResizeObserver=s,A.ResizeObserverEntry=h,A}; // eslint-disable-line\n",
       "mpl.toolbar_items = [[\"Home\", \"Reset original view\", \"fa fa-home icon-home\", \"home\"], [\"Back\", \"Back to previous view\", \"fa fa-arrow-left icon-arrow-left\", \"back\"], [\"Forward\", \"Forward to next view\", \"fa fa-arrow-right icon-arrow-right\", \"forward\"], [\"\", \"\", \"\", \"\"], [\"Pan\", \"Left button pans, Right button zooms\\nx/y fixes axis, CTRL fixes aspect\", \"fa fa-arrows icon-move\", \"pan\"], [\"Zoom\", \"Zoom to rectangle\\nx/y fixes axis\", \"fa fa-square-o icon-check-empty\", \"zoom\"], [\"\", \"\", \"\", \"\"], [\"Download\", \"Download plot\", \"fa fa-floppy-o icon-save\", \"download\"]];\n",
       "\n",
       "mpl.extensions = [\"eps\", \"jpeg\", \"pgf\", \"pdf\", \"png\", \"ps\", \"raw\", \"svg\", \"tif\"];\n",
       "\n",
       "mpl.default_extension = \"png\";/* global mpl */\n",
       "\n",
       "var comm_websocket_adapter = function (comm) {\n",
       "    // Create a \"websocket\"-like object which calls the given IPython comm\n",
       "    // object with the appropriate methods. Currently this is a non binary\n",
       "    // socket, so there is still some room for performance tuning.\n",
       "    var ws = {};\n",
       "\n",
       "    ws.binaryType = comm.kernel.ws.binaryType;\n",
       "    ws.readyState = comm.kernel.ws.readyState;\n",
       "    function updateReadyState(_event) {\n",
       "        if (comm.kernel.ws) {\n",
       "            ws.readyState = comm.kernel.ws.readyState;\n",
       "        } else {\n",
       "            ws.readyState = 3; // Closed state.\n",
       "        }\n",
       "    }\n",
       "    comm.kernel.ws.addEventListener('open', updateReadyState);\n",
       "    comm.kernel.ws.addEventListener('close', updateReadyState);\n",
       "    comm.kernel.ws.addEventListener('error', updateReadyState);\n",
       "\n",
       "    ws.close = function () {\n",
       "        comm.close();\n",
       "    };\n",
       "    ws.send = function (m) {\n",
       "        //console.log('sending', m);\n",
       "        comm.send(m);\n",
       "    };\n",
       "    // Register the callback with on_msg.\n",
       "    comm.on_msg(function (msg) {\n",
       "        //console.log('receiving', msg['content']['data'], msg);\n",
       "        var data = msg['content']['data'];\n",
       "        if (data['blob'] !== undefined) {\n",
       "            data = {\n",
       "                data: new Blob(msg['buffers'], { type: data['blob'] }),\n",
       "            };\n",
       "        }\n",
       "        // Pass the mpl event to the overridden (by mpl) onmessage function.\n",
       "        ws.onmessage(data);\n",
       "    });\n",
       "    return ws;\n",
       "};\n",
       "\n",
       "mpl.mpl_figure_comm = function (comm, msg) {\n",
       "    // This is the function which gets called when the mpl process\n",
       "    // starts-up an IPython Comm through the \"matplotlib\" channel.\n",
       "\n",
       "    var id = msg.content.data.id;\n",
       "    // Get hold of the div created by the display call when the Comm\n",
       "    // socket was opened in Python.\n",
       "    var element = document.getElementById(id);\n",
       "    var ws_proxy = comm_websocket_adapter(comm);\n",
       "\n",
       "    function ondownload(figure, _format) {\n",
       "        window.open(figure.canvas.toDataURL());\n",
       "    }\n",
       "\n",
       "    var fig = new mpl.figure(id, ws_proxy, ondownload, element);\n",
       "\n",
       "    // Call onopen now - mpl needs it, as it is assuming we've passed it a real\n",
       "    // web socket which is closed, not our websocket->open comm proxy.\n",
       "    ws_proxy.onopen();\n",
       "\n",
       "    fig.parent_element = element;\n",
       "    fig.cell_info = mpl.find_output_cell(\"<div id='\" + id + \"'></div>\");\n",
       "    if (!fig.cell_info) {\n",
       "        console.error('Failed to find cell for figure', id, fig);\n",
       "        return;\n",
       "    }\n",
       "    fig.cell_info[0].output_area.element.on(\n",
       "        'cleared',\n",
       "        { fig: fig },\n",
       "        fig._remove_fig_handler\n",
       "    );\n",
       "};\n",
       "\n",
       "mpl.figure.prototype.handle_close = function (fig, msg) {\n",
       "    var width = fig.canvas.width / fig.ratio;\n",
       "    fig.cell_info[0].output_area.element.off(\n",
       "        'cleared',\n",
       "        fig._remove_fig_handler\n",
       "    );\n",
       "    fig.resizeObserverInstance.unobserve(fig.canvas_div);\n",
       "\n",
       "    // Update the output cell to use the data from the current canvas.\n",
       "    fig.push_to_output();\n",
       "    var dataURL = fig.canvas.toDataURL();\n",
       "    // Re-enable the keyboard manager in IPython - without this line, in FF,\n",
       "    // the notebook keyboard shortcuts fail.\n",
       "    IPython.keyboard_manager.enable();\n",
       "    fig.parent_element.innerHTML =\n",
       "        '<img src=\"' + dataURL + '\" width=\"' + width + '\">';\n",
       "    fig.close_ws(fig, msg);\n",
       "};\n",
       "\n",
       "mpl.figure.prototype.close_ws = function (fig, msg) {\n",
       "    fig.send_message('closing', msg);\n",
       "    // fig.ws.close()\n",
       "};\n",
       "\n",
       "mpl.figure.prototype.push_to_output = function (_remove_interactive) {\n",
       "    // Turn the data on the canvas into data in the output cell.\n",
       "    var width = this.canvas.width / this.ratio;\n",
       "    var dataURL = this.canvas.toDataURL();\n",
       "    this.cell_info[1]['text/html'] =\n",
       "        '<img src=\"' + dataURL + '\" width=\"' + width + '\">';\n",
       "};\n",
       "\n",
       "mpl.figure.prototype.updated_canvas_event = function () {\n",
       "    // Tell IPython that the notebook contents must change.\n",
       "    IPython.notebook.set_dirty(true);\n",
       "    this.send_message('ack', {});\n",
       "    var fig = this;\n",
       "    // Wait a second, then push the new image to the DOM so\n",
       "    // that it is saved nicely (might be nice to debounce this).\n",
       "    setTimeout(function () {\n",
       "        fig.push_to_output();\n",
       "    }, 1000);\n",
       "};\n",
       "\n",
       "mpl.figure.prototype._init_toolbar = function () {\n",
       "    var fig = this;\n",
       "\n",
       "    var toolbar = document.createElement('div');\n",
       "    toolbar.classList = 'btn-toolbar';\n",
       "    this.root.appendChild(toolbar);\n",
       "\n",
       "    function on_click_closure(name) {\n",
       "        return function (_event) {\n",
       "            return fig.toolbar_button_onclick(name);\n",
       "        };\n",
       "    }\n",
       "\n",
       "    function on_mouseover_closure(tooltip) {\n",
       "        return function (event) {\n",
       "            if (!event.currentTarget.disabled) {\n",
       "                return fig.toolbar_button_onmouseover(tooltip);\n",
       "            }\n",
       "        };\n",
       "    }\n",
       "\n",
       "    fig.buttons = {};\n",
       "    var buttonGroup = document.createElement('div');\n",
       "    buttonGroup.classList = 'btn-group';\n",
       "    var button;\n",
       "    for (var toolbar_ind in mpl.toolbar_items) {\n",
       "        var name = mpl.toolbar_items[toolbar_ind][0];\n",
       "        var tooltip = mpl.toolbar_items[toolbar_ind][1];\n",
       "        var image = mpl.toolbar_items[toolbar_ind][2];\n",
       "        var method_name = mpl.toolbar_items[toolbar_ind][3];\n",
       "\n",
       "        if (!name) {\n",
       "            /* Instead of a spacer, we start a new button group. */\n",
       "            if (buttonGroup.hasChildNodes()) {\n",
       "                toolbar.appendChild(buttonGroup);\n",
       "            }\n",
       "            buttonGroup = document.createElement('div');\n",
       "            buttonGroup.classList = 'btn-group';\n",
       "            continue;\n",
       "        }\n",
       "\n",
       "        button = fig.buttons[name] = document.createElement('button');\n",
       "        button.classList = 'btn btn-default';\n",
       "        button.href = '#';\n",
       "        button.title = name;\n",
       "        button.innerHTML = '<i class=\"fa ' + image + ' fa-lg\"></i>';\n",
       "        button.addEventListener('click', on_click_closure(method_name));\n",
       "        button.addEventListener('mouseover', on_mouseover_closure(tooltip));\n",
       "        buttonGroup.appendChild(button);\n",
       "    }\n",
       "\n",
       "    if (buttonGroup.hasChildNodes()) {\n",
       "        toolbar.appendChild(buttonGroup);\n",
       "    }\n",
       "\n",
       "    // Add the status bar.\n",
       "    var status_bar = document.createElement('span');\n",
       "    status_bar.classList = 'mpl-message pull-right';\n",
       "    toolbar.appendChild(status_bar);\n",
       "    this.message = status_bar;\n",
       "\n",
       "    // Add the close button to the window.\n",
       "    var buttongrp = document.createElement('div');\n",
       "    buttongrp.classList = 'btn-group inline pull-right';\n",
       "    button = document.createElement('button');\n",
       "    button.classList = 'btn btn-mini btn-primary';\n",
       "    button.href = '#';\n",
       "    button.title = 'Stop Interaction';\n",
       "    button.innerHTML = '<i class=\"fa fa-power-off icon-remove icon-large\"></i>';\n",
       "    button.addEventListener('click', function (_evt) {\n",
       "        fig.handle_close(fig, {});\n",
       "    });\n",
       "    button.addEventListener(\n",
       "        'mouseover',\n",
       "        on_mouseover_closure('Stop Interaction')\n",
       "    );\n",
       "    buttongrp.appendChild(button);\n",
       "    var titlebar = this.root.querySelector('.ui-dialog-titlebar');\n",
       "    titlebar.insertBefore(buttongrp, titlebar.firstChild);\n",
       "};\n",
       "\n",
       "mpl.figure.prototype._remove_fig_handler = function (event) {\n",
       "    var fig = event.data.fig;\n",
       "    if (event.target !== this) {\n",
       "        // Ignore bubbled events from children.\n",
       "        return;\n",
       "    }\n",
       "    fig.close_ws(fig, {});\n",
       "};\n",
       "\n",
       "mpl.figure.prototype._root_extra_style = function (el) {\n",
       "    el.style.boxSizing = 'content-box'; // override notebook setting of border-box.\n",
       "};\n",
       "\n",
       "mpl.figure.prototype._canvas_extra_style = function (el) {\n",
       "    // this is important to make the div 'focusable\n",
       "    el.setAttribute('tabindex', 0);\n",
       "    // reach out to IPython and tell the keyboard manager to turn it's self\n",
       "    // off when our div gets focus\n",
       "\n",
       "    // location in version 3\n",
       "    if (IPython.notebook.keyboard_manager) {\n",
       "        IPython.notebook.keyboard_manager.register_events(el);\n",
       "    } else {\n",
       "        // location in version 2\n",
       "        IPython.keyboard_manager.register_events(el);\n",
       "    }\n",
       "};\n",
       "\n",
       "mpl.figure.prototype._key_event_extra = function (event, _name) {\n",
       "    // Check for shift+enter\n",
       "    if (event.shiftKey && event.which === 13) {\n",
       "        this.canvas_div.blur();\n",
       "        // select the cell after this one\n",
       "        var index = IPython.notebook.find_cell_index(this.cell_info[0]);\n",
       "        IPython.notebook.select(index + 1);\n",
       "    }\n",
       "};\n",
       "\n",
       "mpl.figure.prototype.handle_save = function (fig, _msg) {\n",
       "    fig.ondownload(fig, null);\n",
       "};\n",
       "\n",
       "mpl.find_output_cell = function (html_output) {\n",
       "    // Return the cell and output element which can be found *uniquely* in the notebook.\n",
       "    // Note - this is a bit hacky, but it is done because the \"notebook_saving.Notebook\"\n",
       "    // IPython event is triggered only after the cells have been serialised, which for\n",
       "    // our purposes (turning an active figure into a static one), is too late.\n",
       "    var cells = IPython.notebook.get_cells();\n",
       "    var ncells = cells.length;\n",
       "    for (var i = 0; i < ncells; i++) {\n",
       "        var cell = cells[i];\n",
       "        if (cell.cell_type === 'code') {\n",
       "            for (var j = 0; j < cell.output_area.outputs.length; j++) {\n",
       "                var data = cell.output_area.outputs[j];\n",
       "                if (data.data) {\n",
       "                    // IPython >= 3 moved mimebundle to data attribute of output\n",
       "                    data = data.data;\n",
       "                }\n",
       "                if (data['text/html'] === html_output) {\n",
       "                    return [cell, data, j];\n",
       "                }\n",
       "            }\n",
       "        }\n",
       "    }\n",
       "};\n",
       "\n",
       "// Register the function which deals with the matplotlib target/channel.\n",
       "// The kernel may be null if the page has been refreshed.\n",
       "if (IPython.notebook.kernel !== null) {\n",
       "    IPython.notebook.kernel.comm_manager.register_target(\n",
       "        'matplotlib',\n",
       "        mpl.mpl_figure_comm\n",
       "    );\n",
       "}\n"
      ],
      "text/plain": [
       "<IPython.core.display.Javascript object>"
      ]
     },
     "metadata": {},
     "output_type": "display_data"
    },
    {
     "data": {
      "text/html": [
       "<img src=\"data:image/png;base64,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\" width=\"639.9999861283738\">"
      ],
      "text/plain": [
       "<IPython.core.display.HTML object>"
      ]
     },
     "metadata": {},
     "output_type": "display_data"
    },
    {
     "data": {
      "text/plain": [
       "<matplotlib.animation.FuncAnimation at 0x1965ad9cdc0>"
      ]
     },
     "execution_count": 51,
     "metadata": {},
     "output_type": "execute_result"
    }
   ],
   "source": [
    "fig = plt.figure()\n",
    "def PenduloDobleAni(i):\n",
    "    plt.cla()\n",
    "    plt.axis([-1.2,1.2,-3,3])\n",
    "    \n",
    "    line = plt.plot([0,l1*np.sin(posicionP1_1[i])],[0,-l1*np.cos(posicionP1_1[i])], 'b', \n",
    "                    [l1*np.sin(posicionP1_1[i]), l1*np.sin(posicionP1_1[i]) + l2*np.sin(posicionP2_1[i])],[-l1*np.cos(posicionP1_1[i]),-l1*np.cos(posicionP1_1[i]) -l2*np.cos(posicionP2_1[i])], 'b',\n",
    "                    [0,l1*np.sin(posicionP1_2[i])],[0,-l1*np.cos(posicionP1_2[i])], 'm', \n",
    "                    [l1*np.sin(posicionP1_2[i]), l1*np.sin(posicionP1_2[i]) + l2*np.sin(posicionP2_2[i])],[-l1*np.cos(posicionP1_2[i]),-l1*np.cos(posicionP1_2[i]) -l2*np.cos(posicionP2_2[i])], 'm',\n",
    "                    [0,l1*np.sin(posicionP1_3[i])],[0,-l1*np.cos(posicionP1_3[i])], 'g', \n",
    "                    [l1*np.sin(posicionP1_3[i]), l1*np.sin(posicionP1_3[i]) + l2*np.sin(posicionP2_3[i])],[-l1*np.cos(posicionP1_3[i]),-l1*np.cos(posicionP1_3[i]) -l2*np.cos(posicionP2_3[i])], 'g',\n",
    "                    [-1.2,1.2], [0,0], 'k')\n",
    "    \n",
    "    bolitas = plt.plot(l1*np.sin(posicionP1_1[i]), -l1*np.cos(posicionP1_1[i]), 'ob', \n",
    "                      l1*np.sin(posicionP1_1[i]) + l2*np.sin(posicionP2_1[i]), -l1*np.cos(posicionP1_1[i]) -l2*np.cos(posicionP2_1[i]), 'ob',\n",
    "                      l1*np.sin(posicionP1_2[i]), -l1*np.cos(posicionP1_2[i]), 'om', \n",
    "                      l1*np.sin(posicionP1_2[i]) + l2*np.sin(posicionP2_2[i]), -l1*np.cos(posicionP1_2[i]) -l2*np.cos(posicionP2_2[i]), 'om',\n",
    "                      l1*np.sin(posicionP1_3[i]), -l1*np.cos(posicionP1_3[i]), 'og', \n",
    "                      l1*np.sin(posicionP1_3[i]) + l2*np.sin(posicionP2_3[i]), -l1*np.cos(posicionP1_3[i]) -l2*np.cos(posicionP2_3[i]), 'og')\n",
    "    return line,bolita\n",
    "FuncAnimation(fig, PenduloDobleAni, range(solucion_1.y.shape[1]), repeat = False)"
   ]
  },
  {
   "cell_type": "code",
   "execution_count": null,
   "id": "39b3afc5",
   "metadata": {},
   "outputs": [],
   "source": []
  }
 ],
 "metadata": {
  "kernelspec": {
   "display_name": "Python 3 (ipykernel)",
   "language": "python",
   "name": "python3"
  },
  "language_info": {
   "codemirror_mode": {
    "name": "ipython",
    "version": 3
   },
   "file_extension": ".py",
   "mimetype": "text/x-python",
   "name": "python",
   "nbconvert_exporter": "python",
   "pygments_lexer": "ipython3",
   "version": "3.9.12"
  }
 },
 "nbformat": 4,
 "nbformat_minor": 5
}
