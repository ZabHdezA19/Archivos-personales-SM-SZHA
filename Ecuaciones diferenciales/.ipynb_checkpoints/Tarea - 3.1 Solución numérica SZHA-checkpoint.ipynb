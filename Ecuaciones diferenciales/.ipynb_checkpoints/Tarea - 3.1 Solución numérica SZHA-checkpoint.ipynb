{
 "cells": [
  {
   "cell_type": "markdown",
   "id": "39b258d9",
   "metadata": {},
   "source": [
    "# Tarea - 3.1 Solución numérica de ecuaciones diferenciales\n",
    "Encuentre la solución numérica y simbólica para un oscilador armónico simple:\n",
    "\n",
    "$$\n",
    "\\frac{d^2 x}{dt^2} +  \\omega_{0}^2 x = 0.\n",
    "$$\n",
    "Donde $x_0=0.5$, $\\dot{x}_0=0.1$ y $\\omega_0=3$.\n",
    "\n",
    "1. Defina una función, cuyos argumentos de entrada sean:\n",
    "\n",
    "\n",
    "* el tiempo $t$,\n",
    "* el arreglo $[x,\\dot{x}]$.\n",
    "\n",
    "Y la salida:\n",
    "\n",
    "* el arreglo $[\\dot{x},\\ddot{x}]$.\n",
    "\n",
    "  Considerando el argumento de la frecuencia natural $\\omega_0$ debe ser una variable global."
   ]
  },
  {
   "cell_type": "code",
   "execution_count": 1,
   "id": "3313d64a",
   "metadata": {},
   "outputs": [],
   "source": [
    "from scipy.integrate import solve_ivp\n",
    "import matplotlib.pyplot as plt"
   ]
  },
  {
   "cell_type": "code",
   "execution_count": 2,
   "id": "98b800d0",
   "metadata": {},
   "outputs": [],
   "source": [
    "solve_ivp?"
   ]
  },
  {
   "cell_type": "code",
   "execution_count": 3,
   "id": "295e8d6c",
   "metadata": {},
   "outputs": [],
   "source": [
    "w0 = 3 # Definir la frecunecia natural como variable global\n",
    "def oscilador(t, arreglo):\n",
    "    x = arreglo[0]\n",
    "    v = arreglo[1]\n",
    "    dx = v\n",
    "    dv = - (w0**2)*x\n",
    "    return[dx,dv]"
   ]
  },
  {
   "cell_type": "markdown",
   "id": "966a983d",
   "metadata": {},
   "source": [
    "2. Encuentre la solución numérica con la función `solve_ivp` y grafique"
   ]
  },
  {
   "cell_type": "code",
   "execution_count": 4,
   "id": "f90e2954",
   "metadata": {},
   "outputs": [
    {
     "data": {
      "text/plain": [
       "(2, 202)"
      ]
     },
     "execution_count": 4,
     "metadata": {},
     "output_type": "execute_result"
    }
   ],
   "source": [
    "t = (0,10)\n",
    "arreglo = []\n",
    "x0 = 0.5\n",
    "v0 = 0.1\n",
    "arreglo.append(x0)\n",
    "arreglo.append(v0)\n",
    "solucion = solve_ivp(oscilador, t, arreglo, max_step = 0.05)\n",
    "solucion.y.shape"
   ]
  },
  {
   "cell_type": "code",
   "execution_count": 5,
   "id": "e1322cac",
   "metadata": {},
   "outputs": [
    {
     "data": {
      "text/plain": [
       "(202, 2)"
      ]
     },
     "execution_count": 5,
     "metadata": {},
     "output_type": "execute_result"
    }
   ],
   "source": [
    "x = solucion.y.T\n",
    "x.shape"
   ]
  },
  {
   "cell_type": "code",
   "execution_count": 6,
   "id": "45240220",
   "metadata": {},
   "outputs": [
    {
     "data": {
      "text/plain": [
       "array([ 0.        ,  0.03155236,  0.08155236,  0.13155236,  0.18155236,\n",
       "        0.23155236,  0.28155236,  0.33155236,  0.38155236,  0.43155236,\n",
       "        0.48155236,  0.53155236,  0.58155236,  0.63155236,  0.68155236,\n",
       "        0.73155236,  0.78155236,  0.83155236,  0.88155236,  0.93155236,\n",
       "        0.98155236,  1.03155236,  1.08155236,  1.13155236,  1.18155236,\n",
       "        1.23155236,  1.28155236,  1.33155236,  1.38155236,  1.43155236,\n",
       "        1.48155236,  1.53155236,  1.58155236,  1.63155236,  1.68155236,\n",
       "        1.73155236,  1.78155236,  1.83155236,  1.88155236,  1.93155236,\n",
       "        1.98155236,  2.03155236,  2.08155236,  2.13155236,  2.18155236,\n",
       "        2.23155236,  2.28155236,  2.33155236,  2.38155236,  2.43155236,\n",
       "        2.48155236,  2.53155236,  2.58155236,  2.63155236,  2.68155236,\n",
       "        2.73155236,  2.78155236,  2.83155236,  2.88155236,  2.93155236,\n",
       "        2.98155236,  3.03155236,  3.08155236,  3.13155236,  3.18155236,\n",
       "        3.23155236,  3.28155236,  3.33155236,  3.38155236,  3.43155236,\n",
       "        3.48155236,  3.53155236,  3.58155236,  3.63155236,  3.68155236,\n",
       "        3.73155236,  3.78155236,  3.83155236,  3.88155236,  3.93155236,\n",
       "        3.98155236,  4.03155236,  4.08155236,  4.13155236,  4.18155236,\n",
       "        4.23155236,  4.28155236,  4.33155236,  4.38155236,  4.43155236,\n",
       "        4.48155236,  4.53155236,  4.58155236,  4.63155236,  4.68155236,\n",
       "        4.73155236,  4.78155236,  4.83155236,  4.88155236,  4.93155236,\n",
       "        4.98155236,  5.03155236,  5.08155236,  5.13155236,  5.18155236,\n",
       "        5.23155236,  5.28155236,  5.33155236,  5.38155236,  5.43155236,\n",
       "        5.48155236,  5.53155236,  5.58155236,  5.63155236,  5.68155236,\n",
       "        5.73155236,  5.78155236,  5.83155236,  5.88155236,  5.93155236,\n",
       "        5.98155236,  6.03155236,  6.08155236,  6.13155236,  6.18155236,\n",
       "        6.23155236,  6.28155236,  6.33155236,  6.38155236,  6.43155236,\n",
       "        6.48155236,  6.53155236,  6.58155236,  6.63155236,  6.68155236,\n",
       "        6.73155236,  6.78155236,  6.83155236,  6.88155236,  6.93155236,\n",
       "        6.98155236,  7.03155236,  7.08155236,  7.13155236,  7.18155236,\n",
       "        7.23155236,  7.28155236,  7.33155236,  7.38155236,  7.43155236,\n",
       "        7.48155236,  7.53155236,  7.58155236,  7.63155236,  7.68155236,\n",
       "        7.73155236,  7.78155236,  7.83155236,  7.88155236,  7.93155236,\n",
       "        7.98155236,  8.03155236,  8.08155236,  8.13155236,  8.18155236,\n",
       "        8.23155236,  8.28155236,  8.33155236,  8.38155236,  8.43155236,\n",
       "        8.48155236,  8.53155236,  8.58155236,  8.63155236,  8.68155236,\n",
       "        8.73155236,  8.78155236,  8.83155236,  8.88155236,  8.93155236,\n",
       "        8.98155236,  9.03155236,  9.08155236,  9.13155236,  9.18155236,\n",
       "        9.23155236,  9.28155236,  9.33155236,  9.38155236,  9.43155236,\n",
       "        9.48155236,  9.53155236,  9.58155236,  9.63155236,  9.68155236,\n",
       "        9.73155236,  9.78155236,  9.83155236,  9.88155236,  9.93155236,\n",
       "        9.98155236, 10.        ])"
      ]
     },
     "execution_count": 6,
     "metadata": {},
     "output_type": "execute_result"
    }
   ],
   "source": [
    "solucion.t"
   ]
  },
  {
   "cell_type": "code",
   "execution_count": 7,
   "id": "685867a7",
   "metadata": {},
   "outputs": [
    {
     "data": {
      "text/plain": [
       "array([[ 5.00000000e-01,  1.00000000e-01],\n",
       "       [ 5.00912208e-01, -4.22213379e-02],\n",
       "       [ 4.93184343e-01, -2.66313393e-01],\n",
       "       [ 4.74380620e-01, -4.84424621e-01],\n",
       "       [ 4.44923332e-01, -6.91656716e-01],\n",
       "       [ 4.05474025e-01, -8.83355690e-01],\n",
       "       [ 3.56918646e-01, -1.05521640e+00],\n",
       "       [ 3.00347644e-01, -1.20337922e+00],\n",
       "       [ 2.37031481e-01, -1.32451674e+00],\n",
       "       [ 1.68392103e-01, -1.41590847e+00],\n",
       "       [ 9.59710017e-02, -1.47550194e+00],\n",
       "       [ 2.13945989e-02, -1.50195882e+00],\n",
       "       [-5.36622801e-02, -1.49468494e+00],\n",
       "       [-1.27514019e-01, -1.45384367e+00],\n",
       "       [-1.98502068e-01, -1.38035219e+00],\n",
       "       [-2.65032188e-01, -1.27586099e+00],\n",
       "       [-3.25610256e-01, -1.14271669e+00],\n",
       "       [-3.78875819e-01, -9.83909446e-01],\n",
       "       [-4.23632648e-01, -8.03005716e-01],\n",
       "       [-4.58875600e-01, -6.04068209e-01],\n",
       "       [-4.83813195e-01, -3.91564634e-01],\n",
       "       [-4.97885389e-01, -1.70267362e-01],\n",
       "       [-5.00776150e-01,  5.48537462e-02],\n",
       "       [-4.92420558e-01,  2.78742956e-01],\n",
       "       [-4.73006262e-01,  4.96372199e-01],\n",
       "       [-4.42969266e-01,  7.02853990e-01],\n",
       "       [-4.02984134e-01,  8.93551195e-01],\n",
       "       [-3.53948848e-01,  1.06418117e+00],\n",
       "       [-2.96964634e-01,  1.21091192e+00],\n",
       "       [-2.33311235e-01,  1.33044820e+00],\n",
       "       [-1.64418169e-01,  1.42010548e+00],\n",
       "       [-9.18326257e-02,  1.47787026e+00],\n",
       "       [-1.71847200e-02,  1.50244525e+00],\n",
       "       [ 5.78491170e-02,  1.49327856e+00],\n",
       "       [ 1.31583787e-01,  1.45057606e+00],\n",
       "       [ 2.02363368e-01,  1.37529674e+00],\n",
       "       [ 2.68598304e-01,  1.26913123e+00],\n",
       "       [ 3.28801101e-01,  1.13446376e+00],\n",
       "       [ 3.81619733e-01,  9.74318683e-01],\n",
       "       [ 4.25868009e-01,  7.92292510e-01],\n",
       "       [ 4.60552207e-01,  5.92473156e-01],\n",
       "       [ 4.84893394e-01,  3.79348134e-01],\n",
       "       [ 4.98344922e-01,  1.57703772e-01],\n",
       "       [ 5.00604696e-01, -6.74822756e-02],\n",
       "       [ 4.91621968e-01, -2.91152815e-01],\n",
       "       [ 4.71598471e-01, -5.08284689e-01],\n",
       "       [ 4.40983889e-01, -7.14001583e-01],\n",
       "       [ 4.00465759e-01, -9.03683540e-01],\n",
       "       [ 3.50954032e-01, -1.07307071e+00],\n",
       "       [ 2.93560634e-01, -1.21835903e+00],\n",
       "       [ 2.29574498e-01, -1.33628562e+00],\n",
       "       [ 1.60432614e-01, -1.42420212e+00],\n",
       "       [ 8.76877592e-02, -1.48013412e+00],\n",
       "       [ 1.29736270e-02, -1.50282549e+00],\n",
       "       [-6.20318644e-02, -1.49176663e+00],\n",
       "       [-1.35644253e-01, -1.44720592e+00],\n",
       "       [-2.06210364e-01, -1.37014408e+00],\n",
       "       [-2.72145435e-01, -1.26231176e+00],\n",
       "       [-3.31968705e-01, -1.12613064e+00],\n",
       "       [-3.84336673e-01, -9.64659052e-01],\n",
       "       [-4.28073268e-01, -7.81523304e-01],\n",
       "       [-4.62196259e-01, -5.80836227e-01],\n",
       "       [-4.85939319e-01, -3.67104823e-01],\n",
       "       [-4.98769229e-01, -1.45129037e-01],\n",
       "       [-5.00397858e-01,  8.01060335e-02],\n",
       "       [-4.90788629e-01,  3.03542093e-01],\n",
       "       [-4.70157346e-01,  5.20161251e-01],\n",
       "       [-4.38967342e-01,  7.25098707e-01],\n",
       "       [-3.97919078e-01,  9.13752007e-01],\n",
       "       [-3.47934410e-01,  1.08188441e+00],\n",
       "       [-2.90135885e-01,  1.22572001e+00],\n",
       "       [-2.25821534e-01,  1.34202859e+00],\n",
       "       [-1.56435719e-01,  1.42819810e+00],\n",
       "       [-8.35366951e-02,  1.48229335e+00],\n",
       "       [-8.76161757e-03,  1.50309949e+00],\n",
       "       [ 6.62102266e-02,  1.49014926e+00],\n",
       "       [ 1.39695131e-01,  1.44373349e+00],\n",
       "       [ 2.10042784e-01,  1.36489457e+00],\n",
       "       [ 2.75673328e-01,  1.25540307e+00],\n",
       "       [ 3.35112843e-01,  1.11771792e+00],\n",
       "       [ 3.87026446e-01,  9.54931238e-01],\n",
       "       [ 4.30248269e-01,  7.70698858e-01],\n",
       "       [ 4.63807642e-01,  5.69158244e-01],\n",
       "       [ 4.86950896e-01,  3.54835565e-01],\n",
       "       [ 4.99158282e-01,  1.32544045e-01],\n",
       "       [ 5.00155650e-01, -9.27241277e-02],\n",
       "       [ 4.89920599e-01, -3.15909915e-01],\n",
       "       [ 4.68682988e-01, -5.32001044e-01],\n",
       "       [ 4.36919768e-01, -7.36144576e-01],\n",
       "       [ 3.95344271e-01, -9.23755887e-01],\n",
       "       [ 3.44890195e-01, -1.09062163e+00],\n",
       "       [ 2.86690629e-01, -1.23299436e+00],\n",
       "       [ 2.22052609e-01, -1.34767670e+00],\n",
       "       [ 1.52427767e-01, -1.43209312e+00],\n",
       "       [ 7.93797270e-02, -1.48434781e+00],\n",
       "       [ 4.54898936e-03, -1.50326726e+00],\n",
       "       [-7.03839083e-02, -1.48842656e+00],\n",
       "       [-1.43736135e-01, -1.44015901e+00],\n",
       "       [-2.13860357e-01, -1.35954859e+00],\n",
       "       [-2.79181736e-01, -1.24840565e+00],\n",
       "       [-3.38233295e-01, -1.10922620e+00],\n",
       "       [-3.89688862e-01, -9.45135927e-01],\n",
       "       [-4.32392858e-01, -7.59819938e-01],\n",
       "       [-4.65386242e-01, -5.57440033e-01],\n",
       "       [-4.87928054e-01, -3.42541227e-01],\n",
       "       [-4.99512053e-01, -1.19949686e-01],\n",
       "       [-4.99878089e-01,  1.05335666e-01],\n",
       "       [-4.89017940e-01,  3.28255404e-01],\n",
       "       [-4.67175503e-01,  5.43803233e-01],\n",
       "       [-4.34841311e-01,  7.47138411e-01],\n",
       "       [-3.92741520e-01,  9.33694470e-01],\n",
       "       [-3.41821602e-01,  1.09928176e+00],\n",
       "       [-2.83225108e-01,  1.24018156e+00],\n",
       "       [-2.18267989e-01,  1.35322954e+00],\n",
       "       [-1.48409042e-01,  1.43588691e+00],\n",
       "       [-7.52171485e-02,  1.48629736e+00],\n",
       "       [-3.36040158e-04,  1.50332877e+00],\n",
       "       [ 7.45526145e-02,  1.48659865e+00],\n",
       "       [ 1.47766978e-01,  1.43648274e+00],\n",
       "       [ 2.17662813e-01,  1.35410652e+00],\n",
       "       [ 2.82670410e-01,  1.24131998e+00],\n",
       "       [ 3.41329838e-01,  1.10065608e+00],\n",
       "       [ 3.92323734e-01,  9.35273812e-01],\n",
       "       [ 4.34506884e-01,  7.48887313e-01],\n",
       "       [ 4.66931946e-01,  5.45682421e-01],\n",
       "       [ 4.88870723e-01,  3.30222680e-01],\n",
       "       [ 4.99830517e-01,  1.07346850e-01],\n",
       "       [ 4.99565195e-01, -1.17939757e-01],\n",
       "       [ 4.88080716e-01, -3.40577691e-01],\n",
       "       [ 4.65634996e-01, -5.55566982e-01],\n",
       "       [ 4.32732118e-01, -7.58079435e-01],\n",
       "       [ 3.90111009e-01, -9.43567056e-01],\n",
       "       [ 3.38728849e-01, -1.10786419e+00],\n",
       "       [ 2.79739569e-01, -1.24728109e+00],\n",
       "       [ 2.14467942e-01, -1.35868674e+00],\n",
       "       [ 1.44379828e-01, -1.43957922e+00],\n",
       "       [ 7.10492540e-02, -1.48814184e+00],\n",
       "       [-3.87693225e-03, -1.50328401e+00],\n",
       "       [-7.87160505e-02, -1.48466567e+00],\n",
       "       [-1.51787376e-01, -1.43270493e+00],\n",
       "       [-2.21449883e-01, -1.34856872e+00],\n",
       "       [-2.86139103e-01, -1.23414658e+00],\n",
       "       [-3.44402255e-01, -1.09200816e+00],\n",
       "       [-3.94930874e-01, -9.25345590e-01],\n",
       "       [-4.36590197e-01, -7.37901756e-01],\n",
       "       [-4.68444646e-01, -5.33886240e-01],\n",
       "       [-4.89778837e-01, -3.17880792e-01],\n",
       "       [-5.00113651e-01, -9.47364280e-02],\n",
       "       [-4.99216990e-01,  1.30535511e-01],\n",
       "       [-4.87108992e-01,  3.52875902e-01],\n",
       "       [-4.64061577e-01,  5.67291460e-01],\n",
       "       [-4.30592338e-01,  7.68966873e-01],\n",
       "       [-3.87452925e-01,  9.53372946e-01],\n",
       "       [-3.35612154e-01,  1.11636832e+00],\n",
       "       [-2.76234258e-01,  1.25429246e+00],\n",
       "       [-2.10652736e-01,  1.36404790e+00],\n",
       "       [-1.40340408e-01,  1.44316976e+00],\n",
       "       [-6.68763381e-02,  1.48988114e+00],\n",
       "       [ 8.08963008e-03,  1.50313301e+00],\n",
       "       [ 8.28739221e-02,  1.48262774e+00],\n",
       "       [ 1.55797044e-01,  1.42882585e+00],\n",
       "       [ 2.25221300e-01,  1.34293561e+00],\n",
       "       [ 2.89587570e-01,  1.22688594e+00],\n",
       "       [ 3.47450328e-01,  1.08328305e+00],\n",
       "       [ 3.97510099e-01,  9.15351962e-01],\n",
       "       [ 4.38642651e-01,  7.26864042e-01],\n",
       "       [ 4.69924234e-01,  5.22052324e-01],\n",
       "       [ 4.90652331e-01,  3.05516437e-01],\n",
       "       [ 5.00361435e-01,  8.21193115e-02],\n",
       "       [ 4.98833499e-01, -1.43122036e-01],\n",
       "       [ 4.86102839e-01, -3.65149169e-01],\n",
       "       [ 4.62455356e-01, -5.78975838e-01],\n",
       "       [ 4.28422123e-01, -7.79799957e-01],\n",
       "       [ 3.84767454e-01, -9.63111448e-01],\n",
       "       [ 3.32471737e-01, -1.12479353e+00],\n",
       "       [ 2.72709421e-01, -1.26121517e+00],\n",
       "       [ 2.06822641e-01, -1.36931264e+00],\n",
       "       [ 1.36291070e-01, -1.44665830e+00],\n",
       "       [ 6.26986956e-02, -1.49151513e+00],\n",
       "       [-1.23017556e-02, -1.50287575e+00],\n",
       "       [-8.70259354e-02, -1.48048502e+00],\n",
       "       [-1.59795700e-01, -1.42484578e+00],\n",
       "       [-2.28976797e-01, -1.33720758e+00],\n",
       "       [-2.93015568e-01, -1.21953858e+00],\n",
       "       [-3.50473841e-01, -1.07448138e+00],\n",
       "       [-4.00061227e-01, -9.05293636e-01],\n",
       "       [-4.40664099e-01, -7.15774953e-01],\n",
       "       [-4.71370606e-01, -5.10181509e-01],\n",
       "       [-4.91491145e-01, -2.93130489e-01],\n",
       "       [-5.00573852e-01, -6.94963922e-02],\n",
       "       [-4.98414749e-01,  1.55698443e-01],\n",
       "       [-4.85062326e-01,  3.77396625e-01],\n",
       "       [-4.60816448e-01,  5.90619291e-01],\n",
       "       [-4.26221627e-01,  7.90577920e-01],\n",
       "       [-3.82054786e-01,  9.72781872e-01],\n",
       "       [-3.29307820e-01,  1.13313924e+00],\n",
       "       [-2.69165309e-01,  1.26804874e+00],\n",
       "       [-2.02977927e-01,  1.37448060e+00],\n",
       "       [-1.32232098e-01,  1.45004459e+00],\n",
       "       [-5.85166219e-02,  1.49304370e+00],\n",
       "       [ 1.65130110e-02,  1.50251227e+00],\n",
       "       [ 4.41913907e-02,  1.49747164e+00]])"
      ]
     },
     "execution_count": 7,
     "metadata": {},
     "output_type": "execute_result"
    }
   ],
   "source": [
    "solucion.y.T"
   ]
  },
  {
   "cell_type": "code",
   "execution_count": 8,
   "id": "29a57c1e",
   "metadata": {},
   "outputs": [
    {
     "data": {
      "text/plain": [
       "array([ 5.00000000e-01,  5.00912208e-01,  4.93184343e-01,  4.74380620e-01,\n",
       "        4.44923332e-01,  4.05474025e-01,  3.56918646e-01,  3.00347644e-01,\n",
       "        2.37031481e-01,  1.68392103e-01,  9.59710017e-02,  2.13945989e-02,\n",
       "       -5.36622801e-02, -1.27514019e-01, -1.98502068e-01, -2.65032188e-01,\n",
       "       -3.25610256e-01, -3.78875819e-01, -4.23632648e-01, -4.58875600e-01,\n",
       "       -4.83813195e-01, -4.97885389e-01, -5.00776150e-01, -4.92420558e-01,\n",
       "       -4.73006262e-01, -4.42969266e-01, -4.02984134e-01, -3.53948848e-01,\n",
       "       -2.96964634e-01, -2.33311235e-01, -1.64418169e-01, -9.18326257e-02,\n",
       "       -1.71847200e-02,  5.78491170e-02,  1.31583787e-01,  2.02363368e-01,\n",
       "        2.68598304e-01,  3.28801101e-01,  3.81619733e-01,  4.25868009e-01,\n",
       "        4.60552207e-01,  4.84893394e-01,  4.98344922e-01,  5.00604696e-01,\n",
       "        4.91621968e-01,  4.71598471e-01,  4.40983889e-01,  4.00465759e-01,\n",
       "        3.50954032e-01,  2.93560634e-01,  2.29574498e-01,  1.60432614e-01,\n",
       "        8.76877592e-02,  1.29736270e-02, -6.20318644e-02, -1.35644253e-01,\n",
       "       -2.06210364e-01, -2.72145435e-01, -3.31968705e-01, -3.84336673e-01,\n",
       "       -4.28073268e-01, -4.62196259e-01, -4.85939319e-01, -4.98769229e-01,\n",
       "       -5.00397858e-01, -4.90788629e-01, -4.70157346e-01, -4.38967342e-01,\n",
       "       -3.97919078e-01, -3.47934410e-01, -2.90135885e-01, -2.25821534e-01,\n",
       "       -1.56435719e-01, -8.35366951e-02, -8.76161757e-03,  6.62102266e-02,\n",
       "        1.39695131e-01,  2.10042784e-01,  2.75673328e-01,  3.35112843e-01,\n",
       "        3.87026446e-01,  4.30248269e-01,  4.63807642e-01,  4.86950896e-01,\n",
       "        4.99158282e-01,  5.00155650e-01,  4.89920599e-01,  4.68682988e-01,\n",
       "        4.36919768e-01,  3.95344271e-01,  3.44890195e-01,  2.86690629e-01,\n",
       "        2.22052609e-01,  1.52427767e-01,  7.93797270e-02,  4.54898936e-03,\n",
       "       -7.03839083e-02, -1.43736135e-01, -2.13860357e-01, -2.79181736e-01,\n",
       "       -3.38233295e-01, -3.89688862e-01, -4.32392858e-01, -4.65386242e-01,\n",
       "       -4.87928054e-01, -4.99512053e-01, -4.99878089e-01, -4.89017940e-01,\n",
       "       -4.67175503e-01, -4.34841311e-01, -3.92741520e-01, -3.41821602e-01,\n",
       "       -2.83225108e-01, -2.18267989e-01, -1.48409042e-01, -7.52171485e-02,\n",
       "       -3.36040158e-04,  7.45526145e-02,  1.47766978e-01,  2.17662813e-01,\n",
       "        2.82670410e-01,  3.41329838e-01,  3.92323734e-01,  4.34506884e-01,\n",
       "        4.66931946e-01,  4.88870723e-01,  4.99830517e-01,  4.99565195e-01,\n",
       "        4.88080716e-01,  4.65634996e-01,  4.32732118e-01,  3.90111009e-01,\n",
       "        3.38728849e-01,  2.79739569e-01,  2.14467942e-01,  1.44379828e-01,\n",
       "        7.10492540e-02, -3.87693225e-03, -7.87160505e-02, -1.51787376e-01,\n",
       "       -2.21449883e-01, -2.86139103e-01, -3.44402255e-01, -3.94930874e-01,\n",
       "       -4.36590197e-01, -4.68444646e-01, -4.89778837e-01, -5.00113651e-01,\n",
       "       -4.99216990e-01, -4.87108992e-01, -4.64061577e-01, -4.30592338e-01,\n",
       "       -3.87452925e-01, -3.35612154e-01, -2.76234258e-01, -2.10652736e-01,\n",
       "       -1.40340408e-01, -6.68763381e-02,  8.08963008e-03,  8.28739221e-02,\n",
       "        1.55797044e-01,  2.25221300e-01,  2.89587570e-01,  3.47450328e-01,\n",
       "        3.97510099e-01,  4.38642651e-01,  4.69924234e-01,  4.90652331e-01,\n",
       "        5.00361435e-01,  4.98833499e-01,  4.86102839e-01,  4.62455356e-01,\n",
       "        4.28422123e-01,  3.84767454e-01,  3.32471737e-01,  2.72709421e-01,\n",
       "        2.06822641e-01,  1.36291070e-01,  6.26986956e-02, -1.23017556e-02,\n",
       "       -8.70259354e-02, -1.59795700e-01, -2.28976797e-01, -2.93015568e-01,\n",
       "       -3.50473841e-01, -4.00061227e-01, -4.40664099e-01, -4.71370606e-01,\n",
       "       -4.91491145e-01, -5.00573852e-01, -4.98414749e-01, -4.85062326e-01,\n",
       "       -4.60816448e-01, -4.26221627e-01, -3.82054786e-01, -3.29307820e-01,\n",
       "       -2.69165309e-01, -2.02977927e-01, -1.32232098e-01, -5.85166219e-02,\n",
       "        1.65130110e-02,  4.41913907e-02])"
      ]
     },
     "execution_count": 8,
     "metadata": {},
     "output_type": "execute_result"
    }
   ],
   "source": [
    "solucion.y.T[:,0] # Valores de las posiciones conforme pasa el timepo"
   ]
  },
  {
   "cell_type": "code",
   "execution_count": 9,
   "id": "6acf0bf1",
   "metadata": {},
   "outputs": [
    {
     "data": {
      "text/plain": [
       "array([ 0.1       , -0.04222134, -0.26631339, -0.48442462, -0.69165672,\n",
       "       -0.88335569, -1.0552164 , -1.20337922, -1.32451674, -1.41590847,\n",
       "       -1.47550194, -1.50195882, -1.49468494, -1.45384367, -1.38035219,\n",
       "       -1.27586099, -1.14271669, -0.98390945, -0.80300572, -0.60406821,\n",
       "       -0.39156463, -0.17026736,  0.05485375,  0.27874296,  0.4963722 ,\n",
       "        0.70285399,  0.8935512 ,  1.06418117,  1.21091192,  1.3304482 ,\n",
       "        1.42010548,  1.47787026,  1.50244525,  1.49327856,  1.45057606,\n",
       "        1.37529674,  1.26913123,  1.13446376,  0.97431868,  0.79229251,\n",
       "        0.59247316,  0.37934813,  0.15770377, -0.06748228, -0.29115282,\n",
       "       -0.50828469, -0.71400158, -0.90368354, -1.07307071, -1.21835903,\n",
       "       -1.33628562, -1.42420212, -1.48013412, -1.50282549, -1.49176663,\n",
       "       -1.44720592, -1.37014408, -1.26231176, -1.12613064, -0.96465905,\n",
       "       -0.7815233 , -0.58083623, -0.36710482, -0.14512904,  0.08010603,\n",
       "        0.30354209,  0.52016125,  0.72509871,  0.91375201,  1.08188441,\n",
       "        1.22572001,  1.34202859,  1.4281981 ,  1.48229335,  1.50309949,\n",
       "        1.49014926,  1.44373349,  1.36489457,  1.25540307,  1.11771792,\n",
       "        0.95493124,  0.77069886,  0.56915824,  0.35483556,  0.13254404,\n",
       "       -0.09272413, -0.31590991, -0.53200104, -0.73614458, -0.92375589,\n",
       "       -1.09062163, -1.23299436, -1.3476767 , -1.43209312, -1.48434781,\n",
       "       -1.50326726, -1.48842656, -1.44015901, -1.35954859, -1.24840565,\n",
       "       -1.1092262 , -0.94513593, -0.75981994, -0.55744003, -0.34254123,\n",
       "       -0.11994969,  0.10533567,  0.3282554 ,  0.54380323,  0.74713841,\n",
       "        0.93369447,  1.09928176,  1.24018156,  1.35322954,  1.43588691,\n",
       "        1.48629736,  1.50332877,  1.48659865,  1.43648274,  1.35410652,\n",
       "        1.24131998,  1.10065608,  0.93527381,  0.74888731,  0.54568242,\n",
       "        0.33022268,  0.10734685, -0.11793976, -0.34057769, -0.55556698,\n",
       "       -0.75807943, -0.94356706, -1.10786419, -1.24728109, -1.35868674,\n",
       "       -1.43957922, -1.48814184, -1.50328401, -1.48466567, -1.43270493,\n",
       "       -1.34856872, -1.23414658, -1.09200816, -0.92534559, -0.73790176,\n",
       "       -0.53388624, -0.31788079, -0.09473643,  0.13053551,  0.3528759 ,\n",
       "        0.56729146,  0.76896687,  0.95337295,  1.11636832,  1.25429246,\n",
       "        1.3640479 ,  1.44316976,  1.48988114,  1.50313301,  1.48262774,\n",
       "        1.42882585,  1.34293561,  1.22688594,  1.08328305,  0.91535196,\n",
       "        0.72686404,  0.52205232,  0.30551644,  0.08211931, -0.14312204,\n",
       "       -0.36514917, -0.57897584, -0.77979996, -0.96311145, -1.12479353,\n",
       "       -1.26121517, -1.36931264, -1.4466583 , -1.49151513, -1.50287575,\n",
       "       -1.48048502, -1.42484578, -1.33720758, -1.21953858, -1.07448138,\n",
       "       -0.90529364, -0.71577495, -0.51018151, -0.29313049, -0.06949639,\n",
       "        0.15569844,  0.37739663,  0.59061929,  0.79057792,  0.97278187,\n",
       "        1.13313924,  1.26804874,  1.3744806 ,  1.45004459,  1.4930437 ,\n",
       "        1.50251227,  1.49747164])"
      ]
     },
     "execution_count": 9,
     "metadata": {},
     "output_type": "execute_result"
    }
   ],
   "source": [
    "solucion.y.T[:,1] # Valores de las velocidades conforme pasa el timepo"
   ]
  },
  {
   "cell_type": "code",
   "execution_count": 10,
   "id": "bec24412",
   "metadata": {},
   "outputs": [
    {
     "data": {
      "text/plain": [
       "<matplotlib.legend.Legend at 0x1ede98bcaf0>"
      ]
     },
     "execution_count": 10,
     "metadata": {},
     "output_type": "execute_result"
    },
    {
     "data": {
      "image/png": "[encoded data removed]",
      "text/plain": [
       "<Figure size 432x288 with 1 Axes>"
      ]
     },
     "metadata": {
      "needs_background": "light"
     },
     "output_type": "display_data"
    }
   ],
   "source": [
    "plt.plot(solucion.t,x[:,0], label = 'Posición ($m$)')\n",
    "plt.plot(solucion.t,x[:,1], label = 'Velocidad ($\\dfrac{m}{s}$)')\n",
    "plt.grid()\n",
    "plt.legend()"
   ]
  },
  {
   "cell_type": "code",
   "execution_count": null,
   "id": "237f0118",
   "metadata": {},
   "outputs": [],
   "source": []
  }
 ],
 "metadata": {
  "kernelspec": {
   "display_name": "Python 3 (ipykernel)",
   "language": "python",
   "name": "python3"
  },
  "language_info": {
   "codemirror_mode": {
    "name": "ipython",
    "version": 3
   },
   "file_extension": ".py",
   "mimetype": "text/x-python",
   "name": "python",
   "nbconvert_exporter": "python",
   "pygments_lexer": "ipython3",
   "version": "3.9.12"
  }
 },
 "nbformat": 4,
 "nbformat_minor": 5
}
