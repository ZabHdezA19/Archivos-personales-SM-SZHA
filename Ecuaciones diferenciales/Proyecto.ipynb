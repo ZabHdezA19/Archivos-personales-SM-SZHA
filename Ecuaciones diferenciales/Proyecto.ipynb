{
 "cells": [
  {
   "cell_type": "markdown",
   "id": "0dc74d3f",
   "metadata": {},
   "source": [
    "# Simulación de 3 péndulos dobles"
   ]
  },
  {
   "cell_type": "markdown",
   "id": "f4464154",
   "metadata": {},
   "source": [
    "La teoría del caos es la rama de la matemática, la física y otras ciencias que trata ciertos tipos de sistemas complejos y sistemas dinámicos no lineales muy sensibles a las variaciones en las condiciones iniciales en donde pequeños cambios en dichas condiciones pueden implicar grandes diferencias en el comportamiento futuro, imposibilitando la predicción a largo plazo. Realizar la animación de un sistema caótico compuesto por 3 péndulos dobles con las mismas características (longitudes, masas y velocidades), variando únicamente el ángulo inicial entre cada péndulo doble en 0.1 radianes."
   ]
  },
  {
   "cell_type": "markdown",
   "id": "bf13e7c7",
   "metadata": {},
   "source": [
    "## Objetivos\n",
    "**Objetivo general**\n",
    " - *Simular el comportamiento caótico de un péndulo doble mediante la comparación de las trayectorias de 3 péndulos que varían ligeramente en el ángulo de su posición inicial.*\n",
    " \n",
    "**Objetivos específicos**\n",
    "   - *Establecer las características generales del sistema.*\n",
    "   - *Definir una función que simule el movimiento de un péndulo doble.*\n",
    "   - *Asignar las condiciones iniciales de cada péndulo, variando el ángulo de la posición inicial en cada caso.*\n",
    "   - *Resolver las ecuaciones de movimiento para los diferentes péndulos.*\n",
    "   - *Generar gráficas del tiempo vs posición y del tiempo vs velocidad del sistema de 3 péndulos dobles.*\n",
    "   - *Realizar una animación que simule el movimiento caótico del sistema anterior.*"
   ]
  },
  {
   "cell_type": "markdown",
   "id": "40339a69",
   "metadata": {},
   "source": [
    "## Obtención del modelo"
   ]
  },
  {
   "cell_type": "code",
   "execution_count": 1,
   "id": "d2583444",
   "metadata": {},
   "outputs": [],
   "source": [
    "# Importación de librerías\n",
    "import numpy as np\n",
    "import matplotlib.pyplot as plt\n",
    "from scipy.integrate import solve_ivp\n",
    "from matplotlib.animation import FuncAnimation\n",
    "import sympy as sym"
   ]
  },
  {
   "cell_type": "code",
   "execution_count": 2,
   "id": "cef5eac3",
   "metadata": {},
   "outputs": [],
   "source": [
    "# Inicialización de las características del sistema\n",
    "g = 9.8       # Gravedad de la Tierra\n",
    "l1 = 0.5      # Longitud del primer péndulo en m\n",
    "l2 = 0.3      # Longitud del segundo péndulo en m\n",
    "m1 = 0.8      # Masa del primer péndulo en kg\n",
    "m2 = 0.4      # Masa del segundo péndulo en kg"
   ]
  },
  {
   "cell_type": "code",
   "execution_count": 3,
   "id": "0089cc8f",
   "metadata": {},
   "outputs": [],
   "source": [
    "# Definición de la función del movimiento del péndulo doble\n",
    "def PenduloDoble(t, arreglo):\n",
    "    theta1 = arreglo[0]\n",
    "    theta2 = arreglo[1]\n",
    "    v1 = arreglo[2]\n",
    "    v2 = arreglo[3]\n",
    "    # Función de movimiento del primer péndulo\n",
    "    p1=(-g*(2*m1+m2)*np.sin(theta1)-m2*g*np.sin(theta1-2*theta2)-2*np.sin(theta1-theta2)*m2*(v2**2*l2+v1*l1*np.cos(theta1-theta2)))/(l1*(2*m1+m2-m2*np.cos(2*theta1-2*theta2)))\n",
    "    # Función de movimiento del segundo péndulo\n",
    "    p2=(2*np.sin(theta1-theta2)*(v1**2*l1*(m1+m2)+g*(m1+m2)*np.cos(theta1)+v2**2*l2*m2*np.cos(theta1-theta2)))/(l2*(2*m1+m2-m2*np.cos(2*theta1-2*theta2)))\n",
    "    return np.array([v1,v2,p1,p2])"
   ]
  },
  {
   "cell_type": "code",
   "execution_count": 4,
   "id": "4d64ff69",
   "metadata": {},
   "outputs": [
    {
     "data": {
      "text/plain": [
       "[2.2741714961337482,\n",
       " 2.2741714961337482,\n",
       " 0.3691349012912668,\n",
       " 0.3691349012912668]"
      ]
     },
     "execution_count": 4,
     "metadata": {},
     "output_type": "execute_result"
    }
   ],
   "source": [
    "# Condiciones iniciales del primer péndulo doble (P1)\n",
    "t = (0,100)\n",
    "arreglo_1 = []\n",
    "theta1_1 = np.random.uniform(0.01,np.pi)\n",
    "theta2_1 = theta1_1\n",
    "v1_1 = np.random.uniform(0,2)\n",
    "v2_1 = v1_1\n",
    "arreglo_1.append(theta1_1)\n",
    "arreglo_1.append(theta2_1)\n",
    "arreglo_1.append(v1_1)\n",
    "arreglo_1.append(v2_1)\n",
    "arreglo_1"
   ]
  },
  {
   "cell_type": "code",
   "execution_count": 5,
   "id": "85bf4402",
   "metadata": {},
   "outputs": [
    {
     "data": {
      "text/plain": [
       "[2.3741714961337483,\n",
       " 2.3741714961337483,\n",
       " 0.3691349012912668,\n",
       " 0.3691349012912668]"
      ]
     },
     "execution_count": 5,
     "metadata": {},
     "output_type": "execute_result"
    }
   ],
   "source": [
    "# Condiciones iniciales del segundo péndulo doble (P2)\n",
    "arreglo_2 = []\n",
    "theta1_2 = theta1_1 + 0.1\n",
    "theta2_2 = theta1_2\n",
    "v1_2 = v1_1 \n",
    "v2_2 = v1_2 \n",
    "arreglo_2.append(theta1_2)\n",
    "arreglo_2.append(theta2_2)\n",
    "arreglo_2.append(v1_2)\n",
    "arreglo_2.append(v2_2)\n",
    "arreglo_2"
   ]
  },
  {
   "cell_type": "code",
   "execution_count": 6,
   "id": "b10cd48f",
   "metadata": {},
   "outputs": [
    {
     "data": {
      "text/plain": [
       "[2.4741714961337484,\n",
       " 2.4741714961337484,\n",
       " 0.3691349012912668,\n",
       " 0.3691349012912668]"
      ]
     },
     "execution_count": 6,
     "metadata": {},
     "output_type": "execute_result"
    }
   ],
   "source": [
    "# Condiciones iniciales del tercer péndulo doble (P3)\n",
    "arreglo_3 = []\n",
    "theta1_3 = theta1_2 + 0.1\n",
    "theta2_3 = theta1_3\n",
    "v1_3 = v1_2 \n",
    "v2_3 = v1_3 \n",
    "arreglo_3.append(theta1_3)\n",
    "arreglo_3.append(theta2_3)\n",
    "arreglo_3.append(v1_3)\n",
    "arreglo_3.append(v2_3)\n",
    "arreglo_3"
   ]
  },
  {
   "cell_type": "markdown",
   "id": "aebbb5ef",
   "metadata": {},
   "source": [
    "## Solución del problema"
   ]
  },
  {
   "cell_type": "code",
   "execution_count": 7,
   "id": "3054067a",
   "metadata": {},
   "outputs": [
    {
     "data": {
      "text/plain": [
       "  message: 'The solver successfully reached the end of the integration interval.'\n",
       "     nfev: 60002\n",
       "     njev: 0\n",
       "      nlu: 0\n",
       "      sol: None\n",
       "   status: 0\n",
       "  success: True\n",
       "        t: array([0.000e+00, 1.000e-02, 2.000e-02, ..., 9.998e+01, 9.999e+01,\n",
       "       1.000e+02])\n",
       " t_events: None\n",
       "        y: array([[ 2.27417150e+00,  2.27711610e+00,  2.27856892e+00, ...,\n",
       "        -1.94529971e+02, -1.94522554e+02, -1.94533688e+02],\n",
       "       [ 2.27417150e+00,  2.27786304e+00,  2.28155735e+00, ...,\n",
       "        -4.83782651e+02, -4.84149777e+02, -4.84490667e+02],\n",
       "       [ 3.69134901e-01,  2.19840115e-01,  7.07311400e-02, ...,\n",
       "         1.44486879e+00, -1.12801244e-01, -2.13202849e+00],\n",
       "       [ 3.69134901e-01,  3.69213447e-01,  3.69766425e-01, ...,\n",
       "        -3.78204656e+01, -3.54224671e+01, -3.28331732e+01]])\n",
       " y_events: None"
      ]
     },
     "execution_count": 7,
     "metadata": {},
     "output_type": "execute_result"
    }
   ],
   "source": [
    "# Solución de las ecuaciones de movimiento del primer péndulo doble (P1)\n",
    "solucion_1 = solve_ivp(PenduloDoble, t, np.array(arreglo_1), max_step = 0.01)\n",
    "solucion_1"
   ]
  },
  {
   "cell_type": "code",
   "execution_count": 8,
   "id": "d0b1b69d",
   "metadata": {},
   "outputs": [
    {
     "data": {
      "text/plain": [
       "  message: 'The solver successfully reached the end of the integration interval.'\n",
       "     nfev: 60002\n",
       "     njev: 0\n",
       "      nlu: 0\n",
       "      sol: None\n",
       "   status: 0\n",
       "  success: True\n",
       "        t: array([0.000e+00, 1.000e-02, 2.000e-02, ..., 9.998e+01, 9.999e+01,\n",
       "       1.000e+02])\n",
       " t_events: None\n",
       "        y: array([[ 2.37417150e+00,  2.37718320e+00,  2.37883765e+00, ...,\n",
       "        -8.12394680e+01, -8.12001787e+01, -8.11628078e+01],\n",
       "       [ 2.37417150e+00,  2.37786304e+00,  2.38155738e+00, ...,\n",
       "        -2.39573190e+02, -2.39512896e+02, -2.39446933e+02],\n",
       "       [ 3.69134901e-01,  2.33268710e-01,  9.76375927e-02, ...,\n",
       "         4.01776427e+00,  3.83657199e+00,  3.63401283e+00],\n",
       "       [ 3.69134901e-01,  3.69214448e-01,  3.69774047e-01, ...,\n",
       "         5.73888890e+00,  6.31628077e+00,  6.87293519e+00]])\n",
       " y_events: None"
      ]
     },
     "execution_count": 8,
     "metadata": {},
     "output_type": "execute_result"
    }
   ],
   "source": [
    "# Solución de las ecuaciones de movimiento del segundo péndulo doble (P2)\n",
    "solucion_2 = solve_ivp(PenduloDoble, t, np.array(arreglo_2), max_step = 0.01)\n",
    "solucion_2"
   ]
  },
  {
   "cell_type": "code",
   "execution_count": 9,
   "id": "d63218db",
   "metadata": {},
   "outputs": [
    {
     "data": {
      "text/plain": [
       "  message: 'The solver successfully reached the end of the integration interval.'\n",
       "     nfev: 60002\n",
       "     njev: 0\n",
       "      nlu: 0\n",
       "      sol: None\n",
       "   status: 0\n",
       "  success: True\n",
       "        t: array([0.000e+00, 1.000e-02, 2.000e-02, ..., 9.998e+01, 9.999e+01,\n",
       "       1.000e+02])\n",
       " t_events: None\n",
       "        y: array([[ 2.4741715 ,  2.47725709,  2.47913359, ...,  1.46736488,\n",
       "         1.47858804,  1.49082498],\n",
       "       [ 2.4741715 ,  2.47786304,  2.4815573 , ..., 52.07252932,\n",
       "        52.22743459, 52.37772767],\n",
       "       [ 0.3691349 ,  0.24805627,  0.12726822, ...,  1.08940073,\n",
       "         1.16530448,  1.28762516],\n",
       "       [ 0.3691349 ,  0.36921227,  0.36975611, ..., 15.70164906,\n",
       "        15.26713889, 14.788742  ]])\n",
       " y_events: None"
      ]
     },
     "execution_count": 9,
     "metadata": {},
     "output_type": "execute_result"
    }
   ],
   "source": [
    "# Solución de las ecuaciones de movimiento del tercer péndulo doble (P3)\n",
    "solucion_3 = solve_ivp(PenduloDoble, t, np.array(arreglo_3), max_step = 0.01)\n",
    "solucion_3"
   ]
  },
  {
   "cell_type": "code",
   "execution_count": 10,
   "id": "804e69bb",
   "metadata": {},
   "outputs": [
    {
     "data": {
      "text/plain": [
       "(4, 10001)"
      ]
     },
     "execution_count": 10,
     "metadata": {},
     "output_type": "execute_result"
    }
   ],
   "source": [
    "# Obtención de las dimensiones de la solución de P1\n",
    "solucion_1.y.shape"
   ]
  },
  {
   "cell_type": "code",
   "execution_count": 11,
   "id": "da8acb42",
   "metadata": {},
   "outputs": [
    {
     "data": {
      "text/plain": [
       "(4, 10001)"
      ]
     },
     "execution_count": 11,
     "metadata": {},
     "output_type": "execute_result"
    }
   ],
   "source": [
    "# Obtención de las dimensiones de la solución de P2\n",
    "solucion_2.y.shape"
   ]
  },
  {
   "cell_type": "code",
   "execution_count": 12,
   "id": "cbf9689b",
   "metadata": {},
   "outputs": [
    {
     "data": {
      "text/plain": [
       "(4, 10001)"
      ]
     },
     "execution_count": 12,
     "metadata": {},
     "output_type": "execute_result"
    }
   ],
   "source": [
    "# Obtención de las dimensiones de la solución de P3\n",
    "solucion_3.y.shape"
   ]
  },
  {
   "cell_type": "code",
   "execution_count": 13,
   "id": "00899770",
   "metadata": {},
   "outputs": [
    {
     "data": {
      "text/plain": [
       "(10001, 4)"
      ]
     },
     "execution_count": 13,
     "metadata": {},
     "output_type": "execute_result"
    }
   ],
   "source": [
    "# Redimensionamiento de la solución de P1\n",
    "x_1 = solucion_1.y.T\n",
    "x_1.shape"
   ]
  },
  {
   "cell_type": "code",
   "execution_count": 14,
   "id": "0904c335",
   "metadata": {},
   "outputs": [
    {
     "data": {
      "text/plain": [
       "(10001, 4)"
      ]
     },
     "execution_count": 14,
     "metadata": {},
     "output_type": "execute_result"
    }
   ],
   "source": [
    "# Redimensionamiento de la solución de P2\n",
    "x_2 = solucion_2.y.T\n",
    "x_2.shape"
   ]
  },
  {
   "cell_type": "code",
   "execution_count": 15,
   "id": "5ae80cc6",
   "metadata": {},
   "outputs": [
    {
     "data": {
      "text/plain": [
       "(10001, 4)"
      ]
     },
     "execution_count": 15,
     "metadata": {},
     "output_type": "execute_result"
    }
   ],
   "source": [
    "# Redimensionamiento de la solución de P3\n",
    "x_3 = solucion_3.y.T\n",
    "x_3.shape"
   ]
  },
  {
   "cell_type": "code",
   "execution_count": 16,
   "id": "cd755e4c",
   "metadata": {},
   "outputs": [
    {
     "data": {
      "text/plain": [
       "array([   2.2741715 ,    2.2771161 ,    2.27856892, ..., -194.52997124,\n",
       "       -194.52255447, -194.53368839])"
      ]
     },
     "execution_count": 16,
     "metadata": {},
     "output_type": "execute_result"
    }
   ],
   "source": [
    "x_1[:,0] # Posición del primer péndulo de P1"
   ]
  },
  {
   "cell_type": "code",
   "execution_count": 17,
   "id": "7a34da25",
   "metadata": {},
   "outputs": [
    {
     "data": {
      "text/plain": [
       "array([   2.2741715 ,    2.27786304,    2.28155735, ..., -483.78265084,\n",
       "       -484.14977697, -484.49066689])"
      ]
     },
     "execution_count": 17,
     "metadata": {},
     "output_type": "execute_result"
    }
   ],
   "source": [
    "x_1[:,1] # Posición del segundo péndulo de P1"
   ]
  },
  {
   "cell_type": "code",
   "execution_count": 18,
   "id": "3fc292aa",
   "metadata": {},
   "outputs": [
    {
     "data": {
      "text/plain": [
       "array([ 0.3691349 ,  0.21984012,  0.07073114, ...,  1.44486879,\n",
       "       -0.11280124, -2.13202849])"
      ]
     },
     "execution_count": 18,
     "metadata": {},
     "output_type": "execute_result"
    }
   ],
   "source": [
    "x_1[:,2] # Velocidad del primer péndulo de P1"
   ]
  },
  {
   "cell_type": "code",
   "execution_count": 19,
   "id": "d47d12f2",
   "metadata": {},
   "outputs": [
    {
     "data": {
      "text/plain": [
       "array([  0.3691349 ,   0.36921345,   0.36976643, ..., -37.8204656 ,\n",
       "       -35.42246711, -32.83317318])"
      ]
     },
     "execution_count": 19,
     "metadata": {},
     "output_type": "execute_result"
    }
   ],
   "source": [
    "x_1[:,3] # Velocidad del segundo péndulo de P1"
   ]
  },
  {
   "cell_type": "code",
   "execution_count": 20,
   "id": "6e516634",
   "metadata": {},
   "outputs": [],
   "source": [
    "%matplotlib inline "
   ]
  },
  {
   "cell_type": "code",
   "execution_count": 21,
   "id": "5f2eb2cb",
   "metadata": {},
   "outputs": [
    {
     "data": {
      "image/png": "[encoded data removed]",
      "text/plain": [
       "<Figure size 432x288 with 1 Axes>"
      ]
     },
     "metadata": {
      "needs_background": "light"
     },
     "output_type": "display_data"
    }
   ],
   "source": [
    "# Gráfica de movimiento de los 3 péndulos dobles (P1,P2 y P3)\n",
    "plt.plot(solucion_1.t,x_1[:,0], 'b', label = 'Péndulo 1, P1') \n",
    "plt.plot(solucion_1.t,x_1[:,1], 'b--', label = 'Péndulo 2, P1')\n",
    "plt.plot(solucion_2.t,x_2[:,0], 'm', label = 'Péndulo 1, P2') \n",
    "plt.plot(solucion_2.t,x_2[:,1], 'm--', label = 'Péndulo 2, P2')\n",
    "plt.plot(solucion_3.t,x_3[:,0], 'g', label = 'Péndulo 1, P3') \n",
    "plt.plot(solucion_3.t,x_3[:,1], 'g--', label = 'Péndulo 2, P3')\n",
    "plt.xlabel('Tiempo ($s$)')\n",
    "plt.ylabel('Posición ($m$)')\n",
    "plt.legend()\n",
    "plt.grid()"
   ]
  },
  {
   "cell_type": "code",
   "execution_count": 22,
   "id": "c2cfb92d",
   "metadata": {},
   "outputs": [
    {
     "data": {
      "image/png": "[encoded data removed]",
      "text/plain": [
       "<Figure size 432x288 with 1 Axes>"
      ]
     },
     "metadata": {
      "needs_background": "light"
     },
     "output_type": "display_data"
    }
   ],
   "source": [
    "# Gráfica de velocidad de los 3 péndulos dobles (P1,P2 y P3)\n",
    "plt.plot(solucion_1.t,x_1[:,2], 'b', label = 'Péndulo 1, P1')\n",
    "plt.plot(solucion_1.t,x_1[:,3], 'b--',  label = 'Péndulo 2, P1')\n",
    "plt.plot(solucion_2.t,x_2[:,2], 'm', label = 'Péndulo 1, P2')\n",
    "plt.plot(solucion_2.t,x_2[:,3], 'm--', label = 'Péndulo 2, P2')\n",
    "plt.plot(solucion_3.t,x_3[:,2], 'g', label = 'Péndulo 1, P3') \n",
    "plt.plot(solucion_3.t,x_3[:,3], 'g--', label = 'Péndulo 2, P3')\n",
    "plt.xlabel('Tiempo ($s$)')\n",
    "plt.ylabel('Velocidad ($\\dfrac{m}{s}$)')\n",
    "plt.legend()\n",
    "plt.grid()"
   ]
  },
  {
   "cell_type": "code",
   "execution_count": 23,
   "id": "cb695755",
   "metadata": {},
   "outputs": [
    {
     "data": {
      "text/plain": [
       "2.2741714961337482"
      ]
     },
     "execution_count": 23,
     "metadata": {},
     "output_type": "execute_result"
    }
   ],
   "source": [
    "# Iteración sobre la posición angular del Péndulo 1, P1\n",
    "posicionP1_1 = []\n",
    "for i in range(solucion_1.y.shape[1]):\n",
    "    posicionP1_1.append(x_1[i,0])\n",
    "posicionP1_1[0]"
   ]
  },
  {
   "cell_type": "code",
   "execution_count": 24,
   "id": "37fabb65",
   "metadata": {},
   "outputs": [
    {
     "data": {
      "text/plain": [
       "2.2741714961337482"
      ]
     },
     "execution_count": 24,
     "metadata": {},
     "output_type": "execute_result"
    }
   ],
   "source": [
    "# Iteración sobre la posición angular del Péndulo 2, P1\n",
    "posicionP2_1 = []\n",
    "for i in range(solucion_1.y.shape[1]):\n",
    "    posicionP2_1.append(x_1[i,1])\n",
    "posicionP2_1[0]"
   ]
  },
  {
   "cell_type": "code",
   "execution_count": 25,
   "id": "9b0cfe97",
   "metadata": {},
   "outputs": [
    {
     "data": {
      "text/plain": [
       "2.3741714961337483"
      ]
     },
     "execution_count": 25,
     "metadata": {},
     "output_type": "execute_result"
    }
   ],
   "source": [
    "# Iteración sobre la posición angular del Péndulo 1, P2 \n",
    "posicionP1_2 = []\n",
    "for i in range(solucion_2.y.shape[1]):\n",
    "    posicionP1_2.append(x_2[i,0])\n",
    "posicionP1_2[0]"
   ]
  },
  {
   "cell_type": "code",
   "execution_count": 26,
   "id": "f92becb4",
   "metadata": {},
   "outputs": [
    {
     "data": {
      "text/plain": [
       "2.3741714961337483"
      ]
     },
     "execution_count": 26,
     "metadata": {},
     "output_type": "execute_result"
    }
   ],
   "source": [
    "# Iteración sobre la posición angular del Péndulo 2, P2\n",
    "posicionP2_2 = []\n",
    "for i in range(solucion_2.y.shape[1]):\n",
    "    posicionP2_2.append(x_2[i,1])\n",
    "posicionP2_2[0]"
   ]
  },
  {
   "cell_type": "code",
   "execution_count": 27,
   "id": "da79e9c4",
   "metadata": {},
   "outputs": [
    {
     "data": {
      "text/plain": [
       "2.4741714961337484"
      ]
     },
     "execution_count": 27,
     "metadata": {},
     "output_type": "execute_result"
    }
   ],
   "source": [
    "# Iteración sobre la posición angular del Péndulo 1, P3 \n",
    "posicionP1_3 = []\n",
    "for i in range(solucion_3.y.shape[1]):\n",
    "    posicionP1_3.append(x_3[i,0])\n",
    "posicionP1_3[0]"
   ]
  },
  {
   "cell_type": "code",
   "execution_count": 28,
   "id": "e205717b",
   "metadata": {},
   "outputs": [
    {
     "data": {
      "text/plain": [
       "2.4741714961337484"
      ]
     },
     "execution_count": 28,
     "metadata": {},
     "output_type": "execute_result"
    }
   ],
   "source": [
    "# Iteración sobre la posición angular del Péndulo 2, P3\n",
    "posicionP2_3 = []\n",
    "for i in range(solucion_3.y.shape[1]):\n",
    "    posicionP2_3.append(x_3[i,1])\n",
    "posicionP2_3[0]"
   ]
  },
  {
   "cell_type": "code",
   "execution_count": 29,
   "id": "632337d3",
   "metadata": {},
   "outputs": [],
   "source": [
    "%matplotlib notebook"
   ]
  },
  {
   "cell_type": "code",
   "execution_count": 30,
   "id": "2b20f03d",
   "metadata": {},
   "outputs": [
    {
     "data": {
      "application/javascript": [
       "/* Put everything inside the global mpl namespace */\n",
       "/* global mpl */\n",
       "window.mpl = {};\n",
       "\n",
       "mpl.get_websocket_type = function () {\n",
       "    if (typeof WebSocket !== 'undefined') {\n",
       "        return WebSocket;\n",
       "    } else if (typeof MozWebSocket !== 'undefined') {\n",
       "        return MozWebSocket;\n",
       "    } else {\n",
       "        alert(\n",
       "            'Your browser does not have WebSocket support. ' +\n",
       "                'Please try Chrome, Safari or Firefox ≥ 6. ' +\n",
       "                'Firefox 4 and 5 are also supported but you ' +\n",
       "                'have to enable WebSockets in about:config.'\n",
       "        );\n",
       "    }\n",
       "};\n",
       "\n",
       "mpl.figure = function (figure_id, websocket, ondownload, parent_element) {\n",
       "    this.id = figure_id;\n",
       "\n",
       "    this.ws = websocket;\n",
       "\n",
       "    this.supports_binary = this.ws.binaryType !== undefined;\n",
       "\n",
       "    if (!this.supports_binary) {\n",
       "        var warnings = document.getElementById('mpl-warnings');\n",
       "        if (warnings) {\n",
       "            warnings.style.display = 'block';\n",
       "            warnings.textContent =\n",
       "                'This browser does not support binary websocket messages. ' +\n",
       "                'Performance may be slow.';\n",
       "        }\n",
       "    }\n",
       "\n",
       "    this.imageObj = new Image();\n",
       "\n",
       "    this.context = undefined;\n",
       "    this.message = undefined;\n",
       "    this.canvas = undefined;\n",
       "    this.rubberband_canvas = undefined;\n",
       "    this.rubberband_context = undefined;\n",
       "    this.format_dropdown = undefined;\n",
       "\n",
       "    this.image_mode = 'full';\n",
       "\n",
       "    this.root = document.createElement('div');\n",
       "    this.root.setAttribute('style', 'display: inline-block');\n",
       "    this._root_extra_style(this.root);\n",
       "\n",
       "    parent_element.appendChild(this.root);\n",
       "\n",
       "    this._init_header(this);\n",
       "    this._init_canvas(this);\n",
       "    this._init_toolbar(this);\n",
       "\n",
       "    var fig = this;\n",
       "\n",
       "    this.waiting = false;\n",
       "\n",
       "    this.ws.onopen = function () {\n",
       "        fig.send_message('supports_binary', { value: fig.supports_binary });\n",
       "        fig.send_message('send_image_mode', {});\n",
       "        if (fig.ratio !== 1) {\n",
       "            fig.send_message('set_device_pixel_ratio', {\n",
       "                device_pixel_ratio: fig.ratio,\n",
       "            });\n",
       "        }\n",
       "        fig.send_message('refresh', {});\n",
       "    };\n",
       "\n",
       "    this.imageObj.onload = function () {\n",
       "        if (fig.image_mode === 'full') {\n",
       "            // Full images could contain transparency (where diff images\n",
       "            // almost always do), so we need to clear the canvas so that\n",
       "            // there is no ghosting.\n",
       "            fig.context.clearRect(0, 0, fig.canvas.width, fig.canvas.height);\n",
       "        }\n",
       "        fig.context.drawImage(fig.imageObj, 0, 0);\n",
       "    };\n",
       "\n",
       "    this.imageObj.onunload = function () {\n",
       "        fig.ws.close();\n",
       "    };\n",
       "\n",
       "    this.ws.onmessage = this._make_on_message_function(this);\n",
       "\n",
       "    this.ondownload = ondownload;\n",
       "};\n",
       "\n",
       "mpl.figure.prototype._init_header = function () {\n",
       "    var titlebar = document.createElement('div');\n",
       "    titlebar.classList =\n",
       "        'ui-dialog-titlebar ui-widget-header ui-corner-all ui-helper-clearfix';\n",
       "    var titletext = document.createElement('div');\n",
       "    titletext.classList = 'ui-dialog-title';\n",
       "    titletext.setAttribute(\n",
       "        'style',\n",
       "        'width: 100%; text-align: center; padding: 3px;'\n",
       "    );\n",
       "    titlebar.appendChild(titletext);\n",
       "    this.root.appendChild(titlebar);\n",
       "    this.header = titletext;\n",
       "};\n",
       "\n",
       "mpl.figure.prototype._canvas_extra_style = function (_canvas_div) {};\n",
       "\n",
       "mpl.figure.prototype._root_extra_style = function (_canvas_div) {};\n",
       "\n",
       "mpl.figure.prototype._init_canvas = function () {\n",
       "    var fig = this;\n",
       "\n",
       "    var canvas_div = (this.canvas_div = document.createElement('div'));\n",
       "    canvas_div.setAttribute(\n",
       "        'style',\n",
       "        'border: 1px solid #ddd;' +\n",
       "            'box-sizing: content-box;' +\n",
       "            'clear: both;' +\n",
       "            'min-height: 1px;' +\n",
       "            'min-width: 1px;' +\n",
       "            'outline: 0;' +\n",
       "            'overflow: hidden;' +\n",
       "            'position: relative;' +\n",
       "            'resize: both;'\n",
       "    );\n",
       "\n",
       "    function on_keyboard_event_closure(name) {\n",
       "        return function (event) {\n",
       "            return fig.key_event(event, name);\n",
       "        };\n",
       "    }\n",
       "\n",
       "    canvas_div.addEventListener(\n",
       "        'keydown',\n",
       "        on_keyboard_event_closure('key_press')\n",
       "    );\n",
       "    canvas_div.addEventListener(\n",
       "        'keyup',\n",
       "        on_keyboard_event_closure('key_release')\n",
       "    );\n",
       "\n",
       "    this._canvas_extra_style(canvas_div);\n",
       "    this.root.appendChild(canvas_div);\n",
       "\n",
       "    var canvas = (this.canvas = document.createElement('canvas'));\n",
       "    canvas.classList.add('mpl-canvas');\n",
       "    canvas.setAttribute('style', 'box-sizing: content-box;');\n",
       "\n",
       "    this.context = canvas.getContext('2d');\n",
       "\n",
       "    var backingStore =\n",
       "        this.context.backingStorePixelRatio ||\n",
       "        this.context.webkitBackingStorePixelRatio ||\n",
       "        this.context.mozBackingStorePixelRatio ||\n",
       "        this.context.msBackingStorePixelRatio ||\n",
       "        this.context.oBackingStorePixelRatio ||\n",
       "        this.context.backingStorePixelRatio ||\n",
       "        1;\n",
       "\n",
       "    this.ratio = (window.devicePixelRatio || 1) / backingStore;\n",
       "\n",
       "    var rubberband_canvas = (this.rubberband_canvas = document.createElement(\n",
       "        'canvas'\n",
       "    ));\n",
       "    rubberband_canvas.setAttribute(\n",
       "        'style',\n",
       "        'box-sizing: content-box; position: absolute; left: 0; top: 0; z-index: 1;'\n",
       "    );\n",
       "\n",
       "    // Apply a ponyfill if ResizeObserver is not implemented by browser.\n",
       "    if (this.ResizeObserver === undefined) {\n",
       "        if (window.ResizeObserver !== undefined) {\n",
       "            this.ResizeObserver = window.ResizeObserver;\n",
       "        } else {\n",
       "            var obs = _JSXTOOLS_RESIZE_OBSERVER({});\n",
       "            this.ResizeObserver = obs.ResizeObserver;\n",
       "        }\n",
       "    }\n",
       "\n",
       "    this.resizeObserverInstance = new this.ResizeObserver(function (entries) {\n",
       "        var nentries = entries.length;\n",
       "        for (var i = 0; i < nentries; i++) {\n",
       "            var entry = entries[i];\n",
       "            var width, height;\n",
       "            if (entry.contentBoxSize) {\n",
       "                if (entry.contentBoxSize instanceof Array) {\n",
       "                    // Chrome 84 implements new version of spec.\n",
       "                    width = entry.contentBoxSize[0].inlineSize;\n",
       "                    height = entry.contentBoxSize[0].blockSize;\n",
       "                } else {\n",
       "                    // Firefox implements old version of spec.\n",
       "                    width = entry.contentBoxSize.inlineSize;\n",
       "                    height = entry.contentBoxSize.blockSize;\n",
       "                }\n",
       "            } else {\n",
       "                // Chrome <84 implements even older version of spec.\n",
       "                width = entry.contentRect.width;\n",
       "                height = entry.contentRect.height;\n",
       "            }\n",
       "\n",
       "            // Keep the size of the canvas and rubber band canvas in sync with\n",
       "            // the canvas container.\n",
       "            if (entry.devicePixelContentBoxSize) {\n",
       "                // Chrome 84 implements new version of spec.\n",
       "                canvas.setAttribute(\n",
       "                    'width',\n",
       "                    entry.devicePixelContentBoxSize[0].inlineSize\n",
       "                );\n",
       "                canvas.setAttribute(\n",
       "                    'height',\n",
       "                    entry.devicePixelContentBoxSize[0].blockSize\n",
       "                );\n",
       "            } else {\n",
       "                canvas.setAttribute('width', width * fig.ratio);\n",
       "                canvas.setAttribute('height', height * fig.ratio);\n",
       "            }\n",
       "            canvas.setAttribute(\n",
       "                'style',\n",
       "                'width: ' + width + 'px; height: ' + height + 'px;'\n",
       "            );\n",
       "\n",
       "            rubberband_canvas.setAttribute('width', width);\n",
       "            rubberband_canvas.setAttribute('height', height);\n",
       "\n",
       "            // And update the size in Python. We ignore the initial 0/0 size\n",
       "            // that occurs as the element is placed into the DOM, which should\n",
       "            // otherwise not happen due to the minimum size styling.\n",
       "            if (fig.ws.readyState == 1 && width != 0 && height != 0) {\n",
       "                fig.request_resize(width, height);\n",
       "            }\n",
       "        }\n",
       "    });\n",
       "    this.resizeObserverInstance.observe(canvas_div);\n",
       "\n",
       "    function on_mouse_event_closure(name) {\n",
       "        return function (event) {\n",
       "            return fig.mouse_event(event, name);\n",
       "        };\n",
       "    }\n",
       "\n",
       "    rubberband_canvas.addEventListener(\n",
       "        'mousedown',\n",
       "        on_mouse_event_closure('button_press')\n",
       "    );\n",
       "    rubberband_canvas.addEventListener(\n",
       "        'mouseup',\n",
       "        on_mouse_event_closure('button_release')\n",
       "    );\n",
       "    rubberband_canvas.addEventListener(\n",
       "        'dblclick',\n",
       "        on_mouse_event_closure('dblclick')\n",
       "    );\n",
       "    // Throttle sequential mouse events to 1 every 20ms.\n",
       "    rubberband_canvas.addEventListener(\n",
       "        'mousemove',\n",
       "        on_mouse_event_closure('motion_notify')\n",
       "    );\n",
       "\n",
       "    rubberband_canvas.addEventListener(\n",
       "        'mouseenter',\n",
       "        on_mouse_event_closure('figure_enter')\n",
       "    );\n",
       "    rubberband_canvas.addEventListener(\n",
       "        'mouseleave',\n",
       "        on_mouse_event_closure('figure_leave')\n",
       "    );\n",
       "\n",
       "    canvas_div.addEventListener('wheel', function (event) {\n",
       "        if (event.deltaY < 0) {\n",
       "            event.step = 1;\n",
       "        } else {\n",
       "            event.step = -1;\n",
       "        }\n",
       "        on_mouse_event_closure('scroll')(event);\n",
       "    });\n",
       "\n",
       "    canvas_div.appendChild(canvas);\n",
       "    canvas_div.appendChild(rubberband_canvas);\n",
       "\n",
       "    this.rubberband_context = rubberband_canvas.getContext('2d');\n",
       "    this.rubberband_context.strokeStyle = '#000000';\n",
       "\n",
       "    this._resize_canvas = function (width, height, forward) {\n",
       "        if (forward) {\n",
       "            canvas_div.style.width = width + 'px';\n",
       "            canvas_div.style.height = height + 'px';\n",
       "        }\n",
       "    };\n",
       "\n",
       "    // Disable right mouse context menu.\n",
       "    this.rubberband_canvas.addEventListener('contextmenu', function (_e) {\n",
       "        event.preventDefault();\n",
       "        return false;\n",
       "    });\n",
       "\n",
       "    function set_focus() {\n",
       "        canvas.focus();\n",
       "        canvas_div.focus();\n",
       "    }\n",
       "\n",
       "    window.setTimeout(set_focus, 100);\n",
       "};\n",
       "\n",
       "mpl.figure.prototype._init_toolbar = function () {\n",
       "    var fig = this;\n",
       "\n",
       "    var toolbar = document.createElement('div');\n",
       "    toolbar.classList = 'mpl-toolbar';\n",
       "    this.root.appendChild(toolbar);\n",
       "\n",
       "    function on_click_closure(name) {\n",
       "        return function (_event) {\n",
       "            return fig.toolbar_button_onclick(name);\n",
       "        };\n",
       "    }\n",
       "\n",
       "    function on_mouseover_closure(tooltip) {\n",
       "        return function (event) {\n",
       "            if (!event.currentTarget.disabled) {\n",
       "                return fig.toolbar_button_onmouseover(tooltip);\n",
       "            }\n",
       "        };\n",
       "    }\n",
       "\n",
       "    fig.buttons = {};\n",
       "    var buttonGroup = document.createElement('div');\n",
       "    buttonGroup.classList = 'mpl-button-group';\n",
       "    for (var toolbar_ind in mpl.toolbar_items) {\n",
       "        var name = mpl.toolbar_items[toolbar_ind][0];\n",
       "        var tooltip = mpl.toolbar_items[toolbar_ind][1];\n",
       "        var image = mpl.toolbar_items[toolbar_ind][2];\n",
       "        var method_name = mpl.toolbar_items[toolbar_ind][3];\n",
       "\n",
       "        if (!name) {\n",
       "            /* Instead of a spacer, we start a new button group. */\n",
       "            if (buttonGroup.hasChildNodes()) {\n",
       "                toolbar.appendChild(buttonGroup);\n",
       "            }\n",
       "            buttonGroup = document.createElement('div');\n",
       "            buttonGroup.classList = 'mpl-button-group';\n",
       "            continue;\n",
       "        }\n",
       "\n",
       "        var button = (fig.buttons[name] = document.createElement('button'));\n",
       "        button.classList = 'mpl-widget';\n",
       "        button.setAttribute('role', 'button');\n",
       "        button.setAttribute('aria-disabled', 'false');\n",
       "        button.addEventListener('click', on_click_closure(method_name));\n",
       "        button.addEventListener('mouseover', on_mouseover_closure(tooltip));\n",
       "\n",
       "        var icon_img = document.createElement('img');\n",
       "        icon_img.src = '_images/' + image + '.png';\n",
       "        icon_img.srcset = '_images/' + image + '_large.png 2x';\n",
       "        icon_img.alt = tooltip;\n",
       "        button.appendChild(icon_img);\n",
       "\n",
       "        buttonGroup.appendChild(button);\n",
       "    }\n",
       "\n",
       "    if (buttonGroup.hasChildNodes()) {\n",
       "        toolbar.appendChild(buttonGroup);\n",
       "    }\n",
       "\n",
       "    var fmt_picker = document.createElement('select');\n",
       "    fmt_picker.classList = 'mpl-widget';\n",
       "    toolbar.appendChild(fmt_picker);\n",
       "    this.format_dropdown = fmt_picker;\n",
       "\n",
       "    for (var ind in mpl.extensions) {\n",
       "        var fmt = mpl.extensions[ind];\n",
       "        var option = document.createElement('option');\n",
       "        option.selected = fmt === mpl.default_extension;\n",
       "        option.innerHTML = fmt;\n",
       "        fmt_picker.appendChild(option);\n",
       "    }\n",
       "\n",
       "    var status_bar = document.createElement('span');\n",
       "    status_bar.classList = 'mpl-message';\n",
       "    toolbar.appendChild(status_bar);\n",
       "    this.message = status_bar;\n",
       "};\n",
       "\n",
       "mpl.figure.prototype.request_resize = function (x_pixels, y_pixels) {\n",
       "    // Request matplotlib to resize the figure. Matplotlib will then trigger a resize in the client,\n",
       "    // which will in turn request a refresh of the image.\n",
       "    this.send_message('resize', { width: x_pixels, height: y_pixels });\n",
       "};\n",
       "\n",
       "mpl.figure.prototype.send_message = function (type, properties) {\n",
       "    properties['type'] = type;\n",
       "    properties['figure_id'] = this.id;\n",
       "    this.ws.send(JSON.stringify(properties));\n",
       "};\n",
       "\n",
       "mpl.figure.prototype.send_draw_message = function () {\n",
       "    if (!this.waiting) {\n",
       "        this.waiting = true;\n",
       "        this.ws.send(JSON.stringify({ type: 'draw', figure_id: this.id }));\n",
       "    }\n",
       "};\n",
       "\n",
       "mpl.figure.prototype.handle_save = function (fig, _msg) {\n",
       "    var format_dropdown = fig.format_dropdown;\n",
       "    var format = format_dropdown.options[format_dropdown.selectedIndex].value;\n",
       "    fig.ondownload(fig, format);\n",
       "};\n",
       "\n",
       "mpl.figure.prototype.handle_resize = function (fig, msg) {\n",
       "    var size = msg['size'];\n",
       "    if (size[0] !== fig.canvas.width || size[1] !== fig.canvas.height) {\n",
       "        fig._resize_canvas(size[0], size[1], msg['forward']);\n",
       "        fig.send_message('refresh', {});\n",
       "    }\n",
       "};\n",
       "\n",
       "mpl.figure.prototype.handle_rubberband = function (fig, msg) {\n",
       "    var x0 = msg['x0'] / fig.ratio;\n",
       "    var y0 = (fig.canvas.height - msg['y0']) / fig.ratio;\n",
       "    var x1 = msg['x1'] / fig.ratio;\n",
       "    var y1 = (fig.canvas.height - msg['y1']) / fig.ratio;\n",
       "    x0 = Math.floor(x0) + 0.5;\n",
       "    y0 = Math.floor(y0) + 0.5;\n",
       "    x1 = Math.floor(x1) + 0.5;\n",
       "    y1 = Math.floor(y1) + 0.5;\n",
       "    var min_x = Math.min(x0, x1);\n",
       "    var min_y = Math.min(y0, y1);\n",
       "    var width = Math.abs(x1 - x0);\n",
       "    var height = Math.abs(y1 - y0);\n",
       "\n",
       "    fig.rubberband_context.clearRect(\n",
       "        0,\n",
       "        0,\n",
       "        fig.canvas.width / fig.ratio,\n",
       "        fig.canvas.height / fig.ratio\n",
       "    );\n",
       "\n",
       "    fig.rubberband_context.strokeRect(min_x, min_y, width, height);\n",
       "};\n",
       "\n",
       "mpl.figure.prototype.handle_figure_label = function (fig, msg) {\n",
       "    // Updates the figure title.\n",
       "    fig.header.textContent = msg['label'];\n",
       "};\n",
       "\n",
       "mpl.figure.prototype.handle_cursor = function (fig, msg) {\n",
       "    fig.rubberband_canvas.style.cursor = msg['cursor'];\n",
       "};\n",
       "\n",
       "mpl.figure.prototype.handle_message = function (fig, msg) {\n",
       "    fig.message.textContent = msg['message'];\n",
       "};\n",
       "\n",
       "mpl.figure.prototype.handle_draw = function (fig, _msg) {\n",
       "    // Request the server to send over a new figure.\n",
       "    fig.send_draw_message();\n",
       "};\n",
       "\n",
       "mpl.figure.prototype.handle_image_mode = function (fig, msg) {\n",
       "    fig.image_mode = msg['mode'];\n",
       "};\n",
       "\n",
       "mpl.figure.prototype.handle_history_buttons = function (fig, msg) {\n",
       "    for (var key in msg) {\n",
       "        if (!(key in fig.buttons)) {\n",
       "            continue;\n",
       "        }\n",
       "        fig.buttons[key].disabled = !msg[key];\n",
       "        fig.buttons[key].setAttribute('aria-disabled', !msg[key]);\n",
       "    }\n",
       "};\n",
       "\n",
       "mpl.figure.prototype.handle_navigate_mode = function (fig, msg) {\n",
       "    if (msg['mode'] === 'PAN') {\n",
       "        fig.buttons['Pan'].classList.add('active');\n",
       "        fig.buttons['Zoom'].classList.remove('active');\n",
       "    } else if (msg['mode'] === 'ZOOM') {\n",
       "        fig.buttons['Pan'].classList.remove('active');\n",
       "        fig.buttons['Zoom'].classList.add('active');\n",
       "    } else {\n",
       "        fig.buttons['Pan'].classList.remove('active');\n",
       "        fig.buttons['Zoom'].classList.remove('active');\n",
       "    }\n",
       "};\n",
       "\n",
       "mpl.figure.prototype.updated_canvas_event = function () {\n",
       "    // Called whenever the canvas gets updated.\n",
       "    this.send_message('ack', {});\n",
       "};\n",
       "\n",
       "// A function to construct a web socket function for onmessage handling.\n",
       "// Called in the figure constructor.\n",
       "mpl.figure.prototype._make_on_message_function = function (fig) {\n",
       "    return function socket_on_message(evt) {\n",
       "        if (evt.data instanceof Blob) {\n",
       "            var img = evt.data;\n",
       "            if (img.type !== 'image/png') {\n",
       "                /* FIXME: We get \"Resource interpreted as Image but\n",
       "                 * transferred with MIME type text/plain:\" errors on\n",
       "                 * Chrome.  But how to set the MIME type?  It doesn't seem\n",
       "                 * to be part of the websocket stream */\n",
       "                img.type = 'image/png';\n",
       "            }\n",
       "\n",
       "            /* Free the memory for the previous frames */\n",
       "            if (fig.imageObj.src) {\n",
       "                (window.URL || window.webkitURL).revokeObjectURL(\n",
       "                    fig.imageObj.src\n",
       "                );\n",
       "            }\n",
       "\n",
       "            fig.imageObj.src = (window.URL || window.webkitURL).createObjectURL(\n",
       "                img\n",
       "            );\n",
       "            fig.updated_canvas_event();\n",
       "            fig.waiting = false;\n",
       "            return;\n",
       "        } else if (\n",
       "            typeof evt.data === 'string' &&\n",
       "            evt.data.slice(0, 21) === 'data:image/png;base64'\n",
       "        ) {\n",
       "            fig.imageObj.src = evt.data;\n",
       "            fig.updated_canvas_event();\n",
       "            fig.waiting = false;\n",
       "            return;\n",
       "        }\n",
       "\n",
       "        var msg = JSON.parse(evt.data);\n",
       "        var msg_type = msg['type'];\n",
       "\n",
       "        // Call the  \"handle_{type}\" callback, which takes\n",
       "        // the figure and JSON message as its only arguments.\n",
       "        try {\n",
       "            var callback = fig['handle_' + msg_type];\n",
       "        } catch (e) {\n",
       "            console.log(\n",
       "                \"No handler for the '\" + msg_type + \"' message type: \",\n",
       "                msg\n",
       "            );\n",
       "            return;\n",
       "        }\n",
       "\n",
       "        if (callback) {\n",
       "            try {\n",
       "                // console.log(\"Handling '\" + msg_type + \"' message: \", msg);\n",
       "                callback(fig, msg);\n",
       "            } catch (e) {\n",
       "                console.log(\n",
       "                    \"Exception inside the 'handler_\" + msg_type + \"' callback:\",\n",
       "                    e,\n",
       "                    e.stack,\n",
       "                    msg\n",
       "                );\n",
       "            }\n",
       "        }\n",
       "    };\n",
       "};\n",
       "\n",
       "// from https://stackoverflow.com/questions/1114465/getting-mouse-location-in-canvas\n",
       "mpl.findpos = function (e) {\n",
       "    //this section is from http://www.quirksmode.org/js/events_properties.html\n",
       "    var targ;\n",
       "    if (!e) {\n",
       "        e = window.event;\n",
       "    }\n",
       "    if (e.target) {\n",
       "        targ = e.target;\n",
       "    } else if (e.srcElement) {\n",
       "        targ = e.srcElement;\n",
       "    }\n",
       "    if (targ.nodeType === 3) {\n",
       "        // defeat Safari bug\n",
       "        targ = targ.parentNode;\n",
       "    }\n",
       "\n",
       "    // pageX,Y are the mouse positions relative to the document\n",
       "    var boundingRect = targ.getBoundingClientRect();\n",
       "    var x = e.pageX - (boundingRect.left + document.body.scrollLeft);\n",
       "    var y = e.pageY - (boundingRect.top + document.body.scrollTop);\n",
       "\n",
       "    return { x: x, y: y };\n",
       "};\n",
       "\n",
       "/*\n",
       " * return a copy of an object with only non-object keys\n",
       " * we need this to avoid circular references\n",
       " * https://stackoverflow.com/a/24161582/3208463\n",
       " */\n",
       "function simpleKeys(original) {\n",
       "    return Object.keys(original).reduce(function (obj, key) {\n",
       "        if (typeof original[key] !== 'object') {\n",
       "            obj[key] = original[key];\n",
       "        }\n",
       "        return obj;\n",
       "    }, {});\n",
       "}\n",
       "\n",
       "mpl.figure.prototype.mouse_event = function (event, name) {\n",
       "    var canvas_pos = mpl.findpos(event);\n",
       "\n",
       "    if (name === 'button_press') {\n",
       "        this.canvas.focus();\n",
       "        this.canvas_div.focus();\n",
       "    }\n",
       "\n",
       "    var x = canvas_pos.x * this.ratio;\n",
       "    var y = canvas_pos.y * this.ratio;\n",
       "\n",
       "    this.send_message(name, {\n",
       "        x: x,\n",
       "        y: y,\n",
       "        button: event.button,\n",
       "        step: event.step,\n",
       "        guiEvent: simpleKeys(event),\n",
       "    });\n",
       "\n",
       "    /* This prevents the web browser from automatically changing to\n",
       "     * the text insertion cursor when the button is pressed.  We want\n",
       "     * to control all of the cursor setting manually through the\n",
       "     * 'cursor' event from matplotlib */\n",
       "    event.preventDefault();\n",
       "    return false;\n",
       "};\n",
       "\n",
       "mpl.figure.prototype._key_event_extra = function (_event, _name) {\n",
       "    // Handle any extra behaviour associated with a key event\n",
       "};\n",
       "\n",
       "mpl.figure.prototype.key_event = function (event, name) {\n",
       "    // Prevent repeat events\n",
       "    if (name === 'key_press') {\n",
       "        if (event.key === this._key) {\n",
       "            return;\n",
       "        } else {\n",
       "            this._key = event.key;\n",
       "        }\n",
       "    }\n",
       "    if (name === 'key_release') {\n",
       "        this._key = null;\n",
       "    }\n",
       "\n",
       "    var value = '';\n",
       "    if (event.ctrlKey && event.key !== 'Control') {\n",
       "        value += 'ctrl+';\n",
       "    }\n",
       "    else if (event.altKey && event.key !== 'Alt') {\n",
       "        value += 'alt+';\n",
       "    }\n",
       "    else if (event.shiftKey && event.key !== 'Shift') {\n",
       "        value += 'shift+';\n",
       "    }\n",
       "\n",
       "    value += 'k' + event.key;\n",
       "\n",
       "    this._key_event_extra(event, name);\n",
       "\n",
       "    this.send_message(name, { key: value, guiEvent: simpleKeys(event) });\n",
       "    return false;\n",
       "};\n",
       "\n",
       "mpl.figure.prototype.toolbar_button_onclick = function (name) {\n",
       "    if (name === 'download') {\n",
       "        this.handle_save(this, null);\n",
       "    } else {\n",
       "        this.send_message('toolbar_button', { name: name });\n",
       "    }\n",
       "};\n",
       "\n",
       "mpl.figure.prototype.toolbar_button_onmouseover = function (tooltip) {\n",
       "    this.message.textContent = tooltip;\n",
       "};\n",
       "\n",
       "///////////////// REMAINING CONTENT GENERATED BY embed_js.py /////////////////\n",
       "// prettier-ignore\n",
       "var _JSXTOOLS_RESIZE_OBSERVER=function(A){var t,i=new WeakMap,n=new WeakMap,a=new WeakMap,r=new WeakMap,o=new Set;function s(e){if(!(this instanceof s))throw new TypeError(\"Constructor requires 'new' operator\");i.set(this,e)}function h(){throw new TypeError(\"Function is not a constructor\")}function c(e,t,i,n){e=0 in arguments?Number(arguments[0]):0,t=1 in arguments?Number(arguments[1]):0,i=2 in arguments?Number(arguments[2]):0,n=3 in arguments?Number(arguments[3]):0,this.right=(this.x=this.left=e)+(this.width=i),this.bottom=(this.y=this.top=t)+(this.height=n),Object.freeze(this)}function d(){t=requestAnimationFrame(d);var s=new WeakMap,p=new Set;o.forEach((function(t){r.get(t).forEach((function(i){var r=t instanceof window.SVGElement,o=a.get(t),d=r?0:parseFloat(o.paddingTop),f=r?0:parseFloat(o.paddingRight),l=r?0:parseFloat(o.paddingBottom),u=r?0:parseFloat(o.paddingLeft),g=r?0:parseFloat(o.borderTopWidth),m=r?0:parseFloat(o.borderRightWidth),w=r?0:parseFloat(o.borderBottomWidth),b=u+f,F=d+l,v=(r?0:parseFloat(o.borderLeftWidth))+m,W=g+w,y=r?0:t.offsetHeight-W-t.clientHeight,E=r?0:t.offsetWidth-v-t.clientWidth,R=b+v,z=F+W,M=r?t.width:parseFloat(o.width)-R-E,O=r?t.height:parseFloat(o.height)-z-y;if(n.has(t)){var k=n.get(t);if(k[0]===M&&k[1]===O)return}n.set(t,[M,O]);var S=Object.create(h.prototype);S.target=t,S.contentRect=new c(u,d,M,O),s.has(i)||(s.set(i,[]),p.add(i)),s.get(i).push(S)}))})),p.forEach((function(e){i.get(e).call(e,s.get(e),e)}))}return s.prototype.observe=function(i){if(i instanceof window.Element){r.has(i)||(r.set(i,new Set),o.add(i),a.set(i,window.getComputedStyle(i)));var n=r.get(i);n.has(this)||n.add(this),cancelAnimationFrame(t),t=requestAnimationFrame(d)}},s.prototype.unobserve=function(i){if(i instanceof window.Element&&r.has(i)){var n=r.get(i);n.has(this)&&(n.delete(this),n.size||(r.delete(i),o.delete(i))),n.size||r.delete(i),o.size||cancelAnimationFrame(t)}},A.DOMRectReadOnly=c,A.ResizeObserver=s,A.ResizeObserverEntry=h,A}; // eslint-disable-line\n",
       "mpl.toolbar_items = [[\"Home\", \"Reset original view\", \"fa fa-home icon-home\", \"home\"], [\"Back\", \"Back to previous view\", \"fa fa-arrow-left icon-arrow-left\", \"back\"], [\"Forward\", \"Forward to next view\", \"fa fa-arrow-right icon-arrow-right\", \"forward\"], [\"\", \"\", \"\", \"\"], [\"Pan\", \"Left button pans, Right button zooms\\nx/y fixes axis, CTRL fixes aspect\", \"fa fa-arrows icon-move\", \"pan\"], [\"Zoom\", \"Zoom to rectangle\\nx/y fixes axis\", \"fa fa-square-o icon-check-empty\", \"zoom\"], [\"\", \"\", \"\", \"\"], [\"Download\", \"Download plot\", \"fa fa-floppy-o icon-save\", \"download\"]];\n",
       "\n",
       "mpl.extensions = [\"eps\", \"jpeg\", \"pgf\", \"pdf\", \"png\", \"ps\", \"raw\", \"svg\", \"tif\"];\n",
       "\n",
       "mpl.default_extension = \"png\";/* global mpl */\n",
       "\n",
       "var comm_websocket_adapter = function (comm) {\n",
       "    // Create a \"websocket\"-like object which calls the given IPython comm\n",
       "    // object with the appropriate methods. Currently this is a non binary\n",
       "    // socket, so there is still some room for performance tuning.\n",
       "    var ws = {};\n",
       "\n",
       "    ws.binaryType = comm.kernel.ws.binaryType;\n",
       "    ws.readyState = comm.kernel.ws.readyState;\n",
       "    function updateReadyState(_event) {\n",
       "        if (comm.kernel.ws) {\n",
       "            ws.readyState = comm.kernel.ws.readyState;\n",
       "        } else {\n",
       "            ws.readyState = 3; // Closed state.\n",
       "        }\n",
       "    }\n",
       "    comm.kernel.ws.addEventListener('open', updateReadyState);\n",
       "    comm.kernel.ws.addEventListener('close', updateReadyState);\n",
       "    comm.kernel.ws.addEventListener('error', updateReadyState);\n",
       "\n",
       "    ws.close = function () {\n",
       "        comm.close();\n",
       "    };\n",
       "    ws.send = function (m) {\n",
       "        //console.log('sending', m);\n",
       "        comm.send(m);\n",
       "    };\n",
       "    // Register the callback with on_msg.\n",
       "    comm.on_msg(function (msg) {\n",
       "        //console.log('receiving', msg['content']['data'], msg);\n",
       "        var data = msg['content']['data'];\n",
       "        if (data['blob'] !== undefined) {\n",
       "            data = {\n",
       "                data: new Blob(msg['buffers'], { type: data['blob'] }),\n",
       "            };\n",
       "        }\n",
       "        // Pass the mpl event to the overridden (by mpl) onmessage function.\n",
       "        ws.onmessage(data);\n",
       "    });\n",
       "    return ws;\n",
       "};\n",
       "\n",
       "mpl.mpl_figure_comm = function (comm, msg) {\n",
       "    // This is the function which gets called when the mpl process\n",
       "    // starts-up an IPython Comm through the \"matplotlib\" channel.\n",
       "\n",
       "    var id = msg.content.data.id;\n",
       "    // Get hold of the div created by the display call when the Comm\n",
       "    // socket was opened in Python.\n",
       "    var element = document.getElementById(id);\n",
       "    var ws_proxy = comm_websocket_adapter(comm);\n",
       "\n",
       "    function ondownload(figure, _format) {\n",
       "        window.open(figure.canvas.toDataURL());\n",
       "    }\n",
       "\n",
       "    var fig = new mpl.figure(id, ws_proxy, ondownload, element);\n",
       "\n",
       "    // Call onopen now - mpl needs it, as it is assuming we've passed it a real\n",
       "    // web socket which is closed, not our websocket->open comm proxy.\n",
       "    ws_proxy.onopen();\n",
       "\n",
       "    fig.parent_element = element;\n",
       "    fig.cell_info = mpl.find_output_cell(\"<div id='\" + id + \"'></div>\");\n",
       "    if (!fig.cell_info) {\n",
       "        console.error('Failed to find cell for figure', id, fig);\n",
       "        return;\n",
       "    }\n",
       "    fig.cell_info[0].output_area.element.on(\n",
       "        'cleared',\n",
       "        { fig: fig },\n",
       "        fig._remove_fig_handler\n",
       "    );\n",
       "};\n",
       "\n",
       "mpl.figure.prototype.handle_close = function (fig, msg) {\n",
       "    var width = fig.canvas.width / fig.ratio;\n",
       "    fig.cell_info[0].output_area.element.off(\n",
       "        'cleared',\n",
       "        fig._remove_fig_handler\n",
       "    );\n",
       "    fig.resizeObserverInstance.unobserve(fig.canvas_div);\n",
       "\n",
       "    // Update the output cell to use the data from the current canvas.\n",
       "    fig.push_to_output();\n",
       "    var dataURL = fig.canvas.toDataURL();\n",
       "    // Re-enable the keyboard manager in IPython - without this line, in FF,\n",
       "    // the notebook keyboard shortcuts fail.\n",
       "    IPython.keyboard_manager.enable();\n",
       "    fig.parent_element.innerHTML =\n",
       "        '<img src=\"' + dataURL + '\" width=\"' + width + '\">';\n",
       "    fig.close_ws(fig, msg);\n",
       "};\n",
       "\n",
       "mpl.figure.prototype.close_ws = function (fig, msg) {\n",
       "    fig.send_message('closing', msg);\n",
       "    // fig.ws.close()\n",
       "};\n",
       "\n",
       "mpl.figure.prototype.push_to_output = function (_remove_interactive) {\n",
       "    // Turn the data on the canvas into data in the output cell.\n",
       "    var width = this.canvas.width / this.ratio;\n",
       "    var dataURL = this.canvas.toDataURL();\n",
       "    this.cell_info[1]['text/html'] =\n",
       "        '<img src=\"' + dataURL + '\" width=\"' + width + '\">';\n",
       "};\n",
       "\n",
       "mpl.figure.prototype.updated_canvas_event = function () {\n",
       "    // Tell IPython that the notebook contents must change.\n",
       "    IPython.notebook.set_dirty(true);\n",
       "    this.send_message('ack', {});\n",
       "    var fig = this;\n",
       "    // Wait a second, then push the new image to the DOM so\n",
       "    // that it is saved nicely (might be nice to debounce this).\n",
       "    setTimeout(function () {\n",
       "        fig.push_to_output();\n",
       "    }, 1000);\n",
       "};\n",
       "\n",
       "mpl.figure.prototype._init_toolbar = function () {\n",
       "    var fig = this;\n",
       "\n",
       "    var toolbar = document.createElement('div');\n",
       "    toolbar.classList = 'btn-toolbar';\n",
       "    this.root.appendChild(toolbar);\n",
       "\n",
       "    function on_click_closure(name) {\n",
       "        return function (_event) {\n",
       "            return fig.toolbar_button_onclick(name);\n",
       "        };\n",
       "    }\n",
       "\n",
       "    function on_mouseover_closure(tooltip) {\n",
       "        return function (event) {\n",
       "            if (!event.currentTarget.disabled) {\n",
       "                return fig.toolbar_button_onmouseover(tooltip);\n",
       "            }\n",
       "        };\n",
       "    }\n",
       "\n",
       "    fig.buttons = {};\n",
       "    var buttonGroup = document.createElement('div');\n",
       "    buttonGroup.classList = 'btn-group';\n",
       "    var button;\n",
       "    for (var toolbar_ind in mpl.toolbar_items) {\n",
       "        var name = mpl.toolbar_items[toolbar_ind][0];\n",
       "        var tooltip = mpl.toolbar_items[toolbar_ind][1];\n",
       "        var image = mpl.toolbar_items[toolbar_ind][2];\n",
       "        var method_name = mpl.toolbar_items[toolbar_ind][3];\n",
       "\n",
       "        if (!name) {\n",
       "            /* Instead of a spacer, we start a new button group. */\n",
       "            if (buttonGroup.hasChildNodes()) {\n",
       "                toolbar.appendChild(buttonGroup);\n",
       "            }\n",
       "            buttonGroup = document.createElement('div');\n",
       "            buttonGroup.classList = 'btn-group';\n",
       "            continue;\n",
       "        }\n",
       "\n",
       "        button = fig.buttons[name] = document.createElement('button');\n",
       "        button.classList = 'btn btn-default';\n",
       "        button.href = '#';\n",
       "        button.title = name;\n",
       "        button.innerHTML = '<i class=\"fa ' + image + ' fa-lg\"></i>';\n",
       "        button.addEventListener('click', on_click_closure(method_name));\n",
       "        button.addEventListener('mouseover', on_mouseover_closure(tooltip));\n",
       "        buttonGroup.appendChild(button);\n",
       "    }\n",
       "\n",
       "    if (buttonGroup.hasChildNodes()) {\n",
       "        toolbar.appendChild(buttonGroup);\n",
       "    }\n",
       "\n",
       "    // Add the status bar.\n",
       "    var status_bar = document.createElement('span');\n",
       "    status_bar.classList = 'mpl-message pull-right';\n",
       "    toolbar.appendChild(status_bar);\n",
       "    this.message = status_bar;\n",
       "\n",
       "    // Add the close button to the window.\n",
       "    var buttongrp = document.createElement('div');\n",
       "    buttongrp.classList = 'btn-group inline pull-right';\n",
       "    button = document.createElement('button');\n",
       "    button.classList = 'btn btn-mini btn-primary';\n",
       "    button.href = '#';\n",
       "    button.title = 'Stop Interaction';\n",
       "    button.innerHTML = '<i class=\"fa fa-power-off icon-remove icon-large\"></i>';\n",
       "    button.addEventListener('click', function (_evt) {\n",
       "        fig.handle_close(fig, {});\n",
       "    });\n",
       "    button.addEventListener(\n",
       "        'mouseover',\n",
       "        on_mouseover_closure('Stop Interaction')\n",
       "    );\n",
       "    buttongrp.appendChild(button);\n",
       "    var titlebar = this.root.querySelector('.ui-dialog-titlebar');\n",
       "    titlebar.insertBefore(buttongrp, titlebar.firstChild);\n",
       "};\n",
       "\n",
       "mpl.figure.prototype._remove_fig_handler = function (event) {\n",
       "    var fig = event.data.fig;\n",
       "    if (event.target !== this) {\n",
       "        // Ignore bubbled events from children.\n",
       "        return;\n",
       "    }\n",
       "    fig.close_ws(fig, {});\n",
       "};\n",
       "\n",
       "mpl.figure.prototype._root_extra_style = function (el) {\n",
       "    el.style.boxSizing = 'content-box'; // override notebook setting of border-box.\n",
       "};\n",
       "\n",
       "mpl.figure.prototype._canvas_extra_style = function (el) {\n",
       "    // this is important to make the div 'focusable\n",
       "    el.setAttribute('tabindex', 0);\n",
       "    // reach out to IPython and tell the keyboard manager to turn it's self\n",
       "    // off when our div gets focus\n",
       "\n",
       "    // location in version 3\n",
       "    if (IPython.notebook.keyboard_manager) {\n",
       "        IPython.notebook.keyboard_manager.register_events(el);\n",
       "    } else {\n",
       "        // location in version 2\n",
       "        IPython.keyboard_manager.register_events(el);\n",
       "    }\n",
       "};\n",
       "\n",
       "mpl.figure.prototype._key_event_extra = function (event, _name) {\n",
       "    // Check for shift+enter\n",
       "    if (event.shiftKey && event.which === 13) {\n",
       "        this.canvas_div.blur();\n",
       "        // select the cell after this one\n",
       "        var index = IPython.notebook.find_cell_index(this.cell_info[0]);\n",
       "        IPython.notebook.select(index + 1);\n",
       "    }\n",
       "};\n",
       "\n",
       "mpl.figure.prototype.handle_save = function (fig, _msg) {\n",
       "    fig.ondownload(fig, null);\n",
       "};\n",
       "\n",
       "mpl.find_output_cell = function (html_output) {\n",
       "    // Return the cell and output element which can be found *uniquely* in the notebook.\n",
       "    // Note - this is a bit hacky, but it is done because the \"notebook_saving.Notebook\"\n",
       "    // IPython event is triggered only after the cells have been serialised, which for\n",
       "    // our purposes (turning an active figure into a static one), is too late.\n",
       "    var cells = IPython.notebook.get_cells();\n",
       "    var ncells = cells.length;\n",
       "    for (var i = 0; i < ncells; i++) {\n",
       "        var cell = cells[i];\n",
       "        if (cell.cell_type === 'code') {\n",
       "            for (var j = 0; j < cell.output_area.outputs.length; j++) {\n",
       "                var data = cell.output_area.outputs[j];\n",
       "                if (data.data) {\n",
       "                    // IPython >= 3 moved mimebundle to data attribute of output\n",
       "                    data = data.data;\n",
       "                }\n",
       "                if (data['text/html'] === html_output) {\n",
       "                    return [cell, data, j];\n",
       "                }\n",
       "            }\n",
       "        }\n",
       "    }\n",
       "};\n",
       "\n",
       "// Register the function which deals with the matplotlib target/channel.\n",
       "// The kernel may be null if the page has been refreshed.\n",
       "if (IPython.notebook.kernel !== null) {\n",
       "    IPython.notebook.kernel.comm_manager.register_target(\n",
       "        'matplotlib',\n",
       "        mpl.mpl_figure_comm\n",
       "    );\n",
       "}\n"
      ],
      "text/plain": [
       "<IPython.core.display.Javascript object>"
      ]
     },
     "metadata": {},
     "output_type": "display_data"
    },
    {
     "data": {
      "text/html": [
       "<img src=\"data:image/png;base64,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\" width=\"490.90908026892316\">"
      ],
      "text/plain": [
       "<IPython.core.display.HTML object>"
      ]
     },
     "metadata": {},
     "output_type": "display_data"
    },
    {
     "data": {
      "text/plain": [
       "<matplotlib.animation.FuncAnimation at 0x1e635ca0040>"
      ]
     },
     "execution_count": 30,
     "metadata": {},
     "output_type": "execute_result"
    }
   ],
   "source": [
    "# Animación del movimiento caótico de 3 péndulos dobles (P1,P2 y P3)\n",
    "figura,ax = plt.subplots()\n",
    "def PenduloDobleAni2(i):\n",
    "    plt.cla()\n",
    "    plt.axis([-l1-l2-0.2,l1+l2+0.2,-l1-l2-0.2,l1+l2+0.2])\n",
    "    \n",
    "    ax.plot([0,l1*np.sin(posicionP1_1[i])],[0,-l1*np.cos(posicionP1_1[i])], 'b', \n",
    "                    [l1*np.sin(posicionP1_1[i]), l1*np.sin(posicionP1_1[i]) + l2*np.sin(posicionP2_1[i])],[-l1*np.cos(posicionP1_1[i]),-l1*np.cos(posicionP1_1[i]) -l2*np.cos(posicionP2_1[i])], 'b',\n",
    "                    [0,l1*np.sin(posicionP1_2[i])],[0,-l1*np.cos(posicionP1_2[i])], 'm', \n",
    "                    [l1*np.sin(posicionP1_2[i]), l1*np.sin(posicionP1_2[i]) + l2*np.sin(posicionP2_2[i])],[-l1*np.cos(posicionP1_2[i]),-l1*np.cos(posicionP1_2[i]) -l2*np.cos(posicionP2_2[i])], 'm',\n",
    "                    [0,l1*np.sin(posicionP1_3[i])],[0,-l1*np.cos(posicionP1_3[i])], 'g', \n",
    "                    [l1*np.sin(posicionP1_3[i]), l1*np.sin(posicionP1_3[i]) + l2*np.sin(posicionP2_3[i])],[-l1*np.cos(posicionP1_3[i]),-l1*np.cos(posicionP1_3[i]) -l2*np.cos(posicionP2_3[i])], 'g',\n",
    "                    [-1.2,1.2], [0,0], 'k')\n",
    "    \n",
    "    ax.plot(l1*np.sin(posicionP1_1[i]), -l1*np.cos(posicionP1_1[i]), 'ob', \n",
    "                    l1*np.sin(posicionP1_1[i]) + l2*np.sin(posicionP2_1[i]), -l1*np.cos(posicionP1_1[i]) -l2*np.cos(posicionP2_1[i]), 'ob',\n",
    "                    l1*np.sin(posicionP1_2[i]), -l1*np.cos(posicionP1_2[i]), 'om', \n",
    "                    l1*np.sin(posicionP1_2[i]) + l2*np.sin(posicionP2_2[i]), -l1*np.cos(posicionP1_2[i]) -l2*np.cos(posicionP2_2[i]), 'om',\n",
    "                    l1*np.sin(posicionP1_3[i]), -l1*np.cos(posicionP1_3[i]), 'og', \n",
    "                    l1*np.sin(posicionP1_3[i]) + l2*np.sin(posicionP2_3[i]), -l1*np.cos(posicionP1_3[i]) -l2*np.cos(posicionP2_3[i]), 'og')\n",
    "    \n",
    "    ax.plot(l1*np.sin(posicionP1_1[:i]), -l1*np.cos(posicionP1_1[:i]), 'b', \n",
    "                    l1*np.sin(posicionP1_1[:i]) + l2*np.sin(posicionP2_1[:i]), -l1*np.cos(posicionP1_1[:i]) -l2*np.cos(posicionP2_1[:i]), 'b',\n",
    "                    l1*np.sin(posicionP1_2[:i]), -l1*np.cos(posicionP1_2[:i]), 'm', \n",
    "                    l1*np.sin(posicionP1_2[:i]) + l2*np.sin(posicionP2_2[:i]), -l1*np.cos(posicionP1_2[:i]) -l2*np.cos(posicionP2_2[:i]), 'm',\n",
    "                    l1*np.sin(posicionP1_3[:i]), -l1*np.cos(posicionP1_3[:i]), 'g', \n",
    "                    l1*np.sin(posicionP1_3[:i]) + l2*np.sin(posicionP2_3[:i]), -l1*np.cos(posicionP1_3[:i]) -l2*np.cos(posicionP2_3[:i]), 'g', alpha = 0.5, lw = 1)\n",
    "    return ax.get_lines()\n",
    "\n",
    "FuncAnimation(figura, PenduloDobleAni2, frames = range(solucion_1.y.shape[1]), interval = 10, repeat = False)"
   ]
  },
  {
   "cell_type": "markdown",
   "id": "776934ec",
   "metadata": {},
   "source": [
    "## Conclusión"
   ]
  },
  {
   "cell_type": "code",
   "execution_count": null,
   "id": "ce2b6a76",
   "metadata": {},
   "outputs": [],
   "source": []
  }
 ],
 "metadata": {
  "kernelspec": {
   "display_name": "Python 3 (ipykernel)",
   "language": "python",
   "name": "python3"
  },
  "language_info": {
   "codemirror_mode": {
    "name": "ipython",
    "version": 3
   },
   "file_extension": ".py",
   "mimetype": "text/x-python",
   "name": "python",
   "nbconvert_exporter": "python",
   "pygments_lexer": "ipython3",
   "version": "3.9.12"
  }
 },
 "nbformat": 4,
 "nbformat_minor": 5
}
