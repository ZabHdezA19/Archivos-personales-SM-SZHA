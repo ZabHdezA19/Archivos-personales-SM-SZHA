{
 "cells": [
  {
   "cell_type": "markdown",
   "id": "39b258d9",
   "metadata": {},
   "source": [
    "# Tarea - 3.1 Solución numérica de ecuaciones diferenciales\n",
    "Encuentre la solución numérica y simbólica para un oscilador armónico simple:\n",
    "\n",
    "$$\n",
    "\\frac{d^2 x}{dt^2} +  \\omega_{0}^2 x = 0.\n",
    "$$\n",
    "Donde $x_0=0.5$, $\\dot{x}_0=0.1$ y $\\omega_0=3$.\n",
    "\n",
    "1. Defina una función, cuyos argumentos de entrada sean:\n",
    "\n",
    "\n",
    "* el tiempo $t$,\n",
    "* el arreglo $[x,\\dot{x}]$.\n",
    "\n",
    "Y la salida:\n",
    "\n",
    "* el arreglo $[\\dot{x},\\ddot{x}]$.\n",
    "\n",
    "  Considerando el argumento de la frecuencia natural $\\omega_0$ debe ser una variable global."
   ]
  },
  {
   "cell_type": "code",
   "execution_count": null,
   "id": "3313d64a",
   "metadata": {},
   "outputs": [],
   "source": []
  },
  {
   "cell_type": "markdown",
   "id": "966a983d",
   "metadata": {},
   "source": [
    "2. Encuentre la solución numérica con la función `solve_ivp` y grafique"
   ]
  },
  {
   "cell_type": "code",
   "execution_count": null,
   "id": "f90e2954",
   "metadata": {},
   "outputs": [],
   "source": []
  }
 ],
 "metadata": {
  "kernelspec": {
   "display_name": "Python 3 (ipykernel)",
   "language": "python",
   "name": "python3"
  },
  "language_info": {
   "codemirror_mode": {
    "name": "ipython",
    "version": 3
   },
   "file_extension": ".py",
   "mimetype": "text/x-python",
   "name": "python",
   "nbconvert_exporter": "python",
   "pygments_lexer": "ipython3",
   "version": "3.9.12"
  }
 },
 "nbformat": 4,
 "nbformat_minor": 5
}
