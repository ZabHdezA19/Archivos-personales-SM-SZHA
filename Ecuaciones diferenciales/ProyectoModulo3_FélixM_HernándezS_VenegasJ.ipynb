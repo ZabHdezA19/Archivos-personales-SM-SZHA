{
 "cells": [
  {
   "cell_type": "markdown",
   "id": "0dc74d3f",
   "metadata": {},
   "source": [
    "# Simulación de 3 péndulos dobles"
   ]
  },
  {
   "cell_type": "markdown",
   "id": "0cce58d7",
   "metadata": {},
   "source": [
    "La teoría del caos es la rama de la matemática, la física y otras ciencias que trata ciertos tipos de sistemas complejos y sistemas dinámicos no lineales muy sensibles a las variaciones en las condiciones iniciales en donde pequeños cambios en dichas condiciones pueden implicar grandes diferencias en el comportamiento futuro, imposibilitando la predicción a largo plazo. Realizar la animación de un sistema caótico compuesto por 3 péndulos dobles con las mismas características (longitudes, masas y velocidades), variando únicamente el ángulo inicial entre cada péndulo doble en 0.1 radianes."
   ]
  },
  {
   "cell_type": "markdown",
   "id": "3fc9c744",
   "metadata": {},
   "source": [
    "## Objetivos\n",
    "**Objetivo general**\n",
    " - *Simular el comportamiento caótico de un péndulo doble mediante la comparación de las trayectorias de 3 péndulos que varían ligeramente en el ángulo de su posición inicial.*\n",
    " \n",
    "**Objetivos específicos**\n",
    "   - *Establecer las características generales del sistema.*\n",
    "   - *Definir una función que simule el movimiento de un péndulo doble.*\n",
    "   - *Asignar las condiciones iniciales de cada péndulo, variando el ángulo de la posición inicial en cada caso.*\n",
    "   - *Resolver las ecuaciones de movimiento para los diferentes péndulos.*\n",
    "   - *Generar gráficas del tiempo vs posición y del tiempo vs velocidad del sistema de 3 péndulos dobles.*\n",
    "   - *Realizar una animación que simule el movimiento caótico del sistema anterior.*"
   ]
  },
  {
   "cell_type": "markdown",
   "id": "507e4432",
   "metadata": {},
   "source": [
    "## Obtención del modelo"
   ]
  },
  {
   "cell_type": "code",
   "execution_count": 73,
   "id": "d2583444",
   "metadata": {},
   "outputs": [],
   "source": [
    "# Importación de librerías\n",
    "import numpy as np\n",
    "import matplotlib.pyplot as plt\n",
    "from scipy.integrate import solve_ivp\n",
    "from matplotlib.animation import FuncAnimation\n",
    "import sympy as sym"
   ]
  },
  {
   "cell_type": "code",
   "execution_count": 74,
   "id": "cef5eac3",
   "metadata": {},
   "outputs": [],
   "source": [
    "# Inicialización de las características del sistema\n",
    "g = 9.8       # Gravedad de la Tierra\n",
    "l1 = 0.5      # Longitud del primer péndulo en m\n",
    "l2 = 0.3      # Longitud del segundo péndulo en m\n",
    "m1 = 0.8      # Masa del primer péndulo en kg\n",
    "m2 = 0.4      # Masa del segundo péndulo en kg"
   ]
  },
  {
   "cell_type": "code",
   "execution_count": 75,
   "id": "0089cc8f",
   "metadata": {},
   "outputs": [],
   "source": [
    "# Definición de la función del movimiento del péndulo doble\n",
    "def PenduloDoble(t, arreglo):\n",
    "    theta1 = arreglo[0]\n",
    "    theta2 = arreglo[1]\n",
    "    v1 = arreglo[2]\n",
    "    v2 = arreglo[3]\n",
    "    # Función de movimiento del primer péndulo\n",
    "    p1=(-g*(2*m1+m2)*np.sin(theta1)-m2*g*np.sin(theta1-2*theta2)-2*np.sin(theta1-theta2)*m2*(v2**2*l2+v1*l1*np.cos(theta1-theta2)))/(l1*(2*m1+m2-m2*np.cos(2*theta1-2*theta2)))\n",
    "    # Función de movimiento del segundo péndulo\n",
    "    p2=(2*np.sin(theta1-theta2)*(v1**2*l1*(m1+m2)+g*(m1+m2)*np.cos(theta1)+v2**2*l2*m2*np.cos(theta1-theta2)))/(l2*(2*m1+m2-m2*np.cos(2*theta1-2*theta2)))\n",
    "    return np.array([v1,v2,p1,p2])"
   ]
  },
  {
   "cell_type": "code",
   "execution_count": 76,
   "id": "4d64ff69",
   "metadata": {},
   "outputs": [
    {
     "data": {
      "text/plain": [
       "[1.3455452815520699, 1.3455452815520699, 1.264742502216888, 1.264742502216888]"
      ]
     },
     "execution_count": 76,
     "metadata": {},
     "output_type": "execute_result"
    }
   ],
   "source": [
    "# Condiciones iniciales del primer péndulo doble (P1)\n",
    "t = (0,100)\n",
    "arreglo_1 = []\n",
    "theta1_1 = np.random.uniform(0.01,np.pi)\n",
    "theta2_1 = theta1_1\n",
    "v1_1 = np.random.uniform(0,2)\n",
    "v2_1 = v1_1\n",
    "arreglo_1.append(theta1_1)\n",
    "arreglo_1.append(theta2_1)\n",
    "arreglo_1.append(v1_1)\n",
    "arreglo_1.append(v2_1)\n",
    "arreglo_1"
   ]
  },
  {
   "cell_type": "code",
   "execution_count": 77,
   "id": "85bf4402",
   "metadata": {},
   "outputs": [
    {
     "data": {
      "text/plain": [
       "[1.44554528155207, 1.44554528155207, 1.264742502216888, 1.264742502216888]"
      ]
     },
     "execution_count": 77,
     "metadata": {},
     "output_type": "execute_result"
    }
   ],
   "source": [
    "# Condiciones iniciales del segundo péndulo doble (P2)\n",
    "arreglo_2 = []\n",
    "theta1_2 = theta1_1 + 0.1\n",
    "theta2_2 = theta1_2\n",
    "v1_2 = v1_1 \n",
    "v2_2 = v1_2 \n",
    "arreglo_2.append(theta1_2)\n",
    "arreglo_2.append(theta2_2)\n",
    "arreglo_2.append(v1_2)\n",
    "arreglo_2.append(v2_2)\n",
    "arreglo_2"
   ]
  },
  {
   "cell_type": "code",
   "execution_count": 78,
   "id": "b10cd48f",
   "metadata": {},
   "outputs": [
    {
     "data": {
      "text/plain": [
       "[1.54554528155207, 1.54554528155207, 1.264742502216888, 1.264742502216888]"
      ]
     },
     "execution_count": 78,
     "metadata": {},
     "output_type": "execute_result"
    }
   ],
   "source": [
    "# Condiciones iniciales del tercer péndulo doble (P3)\n",
    "arreglo_3 = []\n",
    "theta1_3 = theta1_2 + 0.1\n",
    "theta2_3 = theta1_3\n",
    "v1_3 = v1_2 \n",
    "v2_3 = v1_3 \n",
    "arreglo_3.append(theta1_3)\n",
    "arreglo_3.append(theta2_3)\n",
    "arreglo_3.append(v1_3)\n",
    "arreglo_3.append(v2_3)\n",
    "arreglo_3"
   ]
  },
  {
   "cell_type": "markdown",
   "id": "84154827",
   "metadata": {},
   "source": [
    "## Solución del problema"
   ]
  },
  {
   "cell_type": "code",
   "execution_count": 79,
   "id": "3054067a",
   "metadata": {},
   "outputs": [
    {
     "data": {
      "text/plain": [
       "  message: 'The solver successfully reached the end of the integration interval.'\n",
       "     nfev: 60002\n",
       "     njev: 0\n",
       "      nlu: 0\n",
       "      sol: None\n",
       "   status: 0\n",
       "  success: True\n",
       "        t: array([0.000e+00, 1.000e-02, 2.000e-02, ..., 9.998e+01, 9.999e+01,\n",
       "       1.000e+02])\n",
       " t_events: None\n",
       "        y: array([[  1.34554528,   1.35723661,   1.36701289, ...,  12.60504415,\n",
       "         12.54768493,  12.49179741],\n",
       "       [  1.34554528,   1.35819259,   1.37083837, ..., 203.23801532,\n",
       "        203.14767002, 203.05060788],\n",
       "       [  1.2647425 ,   1.07344551,   0.88175805, ...,  -5.79713858,\n",
       "         -5.66858157,  -5.50257124],\n",
       "       [  1.2647425 ,   1.26469642,   1.26440213, ...,  -8.68860549,\n",
       "         -9.37554042, -10.03150372]])\n",
       " y_events: None"
      ]
     },
     "execution_count": 79,
     "metadata": {},
     "output_type": "execute_result"
    }
   ],
   "source": [
    "# Solución de las ecuaciones de movimiento del primer péndulo doble (P1)\n",
    "solucion_1 = solve_ivp(PenduloDoble, t, np.array(arreglo_1), max_step = 0.01)\n",
    "solucion_1"
   ]
  },
  {
   "cell_type": "code",
   "execution_count": 80,
   "id": "d0b1b69d",
   "metadata": {},
   "outputs": [
    {
     "data": {
      "text/plain": [
       "  message: 'The solver successfully reached the end of the integration interval.'\n",
       "     nfev: 60002\n",
       "     njev: 0\n",
       "      nlu: 0\n",
       "      sol: None\n",
       "   status: 0\n",
       "  success: True\n",
       "        t: array([0.000e+00, 1.000e-02, 2.000e-02, ..., 9.998e+01, 9.999e+01,\n",
       "       1.000e+02])\n",
       " t_events: None\n",
       "        y: array([[  1.44554528,   1.45721992,   1.46694747, ..., -29.93467819,\n",
       "        -29.93454808, -29.9287906 ],\n",
       "       [  1.44554528,   1.45819263,   1.47083897, ..., -29.28936457,\n",
       "        -29.07757565, -28.87426748],\n",
       "       [  1.2647425 ,   1.07014267,   0.87534262, ...,  -0.25904004,\n",
       "          0.29194371,   0.85896686],\n",
       "       [  1.2647425 ,   1.26471131,   1.26452223, ...,  21.65224531,\n",
       "         20.72644952,  19.96790081]])\n",
       " y_events: None"
      ]
     },
     "execution_count": 80,
     "metadata": {},
     "output_type": "execute_result"
    }
   ],
   "source": [
    "# Solución de las ecuaciones de movimiento del segundo péndulo doble (P2)\n",
    "solucion_2 = solve_ivp(PenduloDoble, t, np.array(arreglo_2), max_step = 0.01)\n",
    "solucion_2"
   ]
  },
  {
   "cell_type": "code",
   "execution_count": 81,
   "id": "d63218db",
   "metadata": {},
   "outputs": [
    {
     "data": {
      "text/plain": [
       "  message: 'The solver successfully reached the end of the integration interval.'\n",
       "     nfev: 60002\n",
       "     njev: 0\n",
       "      nlu: 0\n",
       "      sol: None\n",
       "   status: 0\n",
       "  success: True\n",
       "        t: array([0.000e+00, 1.000e-02, 2.000e-02, ..., 9.998e+01, 9.999e+01,\n",
       "       1.000e+02])\n",
       " t_events: None\n",
       "        y: array([[  1.54554528,   1.55721294,   1.56692093, ...,  -5.63956374,\n",
       "         -5.59937128,  -5.55694321],\n",
       "       [  1.54554528,   1.55819267,   1.5708396 , ..., 428.54042989,\n",
       "        428.37920377, 428.21017045],\n",
       "       [  1.2647425 ,   1.06878386,   0.87281533, ...,   3.87925776,\n",
       "          4.14831168,   4.31314824],\n",
       "       [  1.2647425 ,   1.26472706,   1.26464863, ..., -15.68576267,\n",
       "        -16.54452434, -17.21233414]])\n",
       " y_events: None"
      ]
     },
     "execution_count": 81,
     "metadata": {},
     "output_type": "execute_result"
    }
   ],
   "source": [
    "# Solución de las ecuaciones de movimiento del tercer péndulo doble (P3)\n",
    "solucion_3 = solve_ivp(PenduloDoble, t, np.array(arreglo_3), max_step = 0.01)\n",
    "solucion_3"
   ]
  },
  {
   "cell_type": "code",
   "execution_count": 82,
   "id": "804e69bb",
   "metadata": {},
   "outputs": [
    {
     "data": {
      "text/plain": [
       "(4, 10001)"
      ]
     },
     "execution_count": 82,
     "metadata": {},
     "output_type": "execute_result"
    }
   ],
   "source": [
    "# Obtención de las dimensiones de la solución de P1\n",
    "solucion_1.y.shape"
   ]
  },
  {
   "cell_type": "code",
   "execution_count": 83,
   "id": "da8acb42",
   "metadata": {},
   "outputs": [
    {
     "data": {
      "text/plain": [
       "(4, 10001)"
      ]
     },
     "execution_count": 83,
     "metadata": {},
     "output_type": "execute_result"
    }
   ],
   "source": [
    "# Obtención de las dimensiones de la solución de P2\n",
    "solucion_2.y.shape"
   ]
  },
  {
   "cell_type": "code",
   "execution_count": 84,
   "id": "cbf9689b",
   "metadata": {},
   "outputs": [
    {
     "data": {
      "text/plain": [
       "(4, 10001)"
      ]
     },
     "execution_count": 84,
     "metadata": {},
     "output_type": "execute_result"
    }
   ],
   "source": [
    "# Obtención de las dimensiones de la solución de P3\n",
    "solucion_3.y.shape"
   ]
  },
  {
   "cell_type": "code",
   "execution_count": 85,
   "id": "00899770",
   "metadata": {},
   "outputs": [
    {
     "data": {
      "text/plain": [
       "(10001, 4)"
      ]
     },
     "execution_count": 85,
     "metadata": {},
     "output_type": "execute_result"
    }
   ],
   "source": [
    "# Redimensionamiento de la solución de P1\n",
    "x_1 = solucion_1.y.T\n",
    "x_1.shape"
   ]
  },
  {
   "cell_type": "code",
   "execution_count": 86,
   "id": "0904c335",
   "metadata": {},
   "outputs": [
    {
     "data": {
      "text/plain": [
       "(10001, 4)"
      ]
     },
     "execution_count": 86,
     "metadata": {},
     "output_type": "execute_result"
    }
   ],
   "source": [
    "# Redimensionamiento de la solución de P2\n",
    "x_2 = solucion_2.y.T\n",
    "x_2.shape"
   ]
  },
  {
   "cell_type": "code",
   "execution_count": 87,
   "id": "5ae80cc6",
   "metadata": {},
   "outputs": [
    {
     "data": {
      "text/plain": [
       "(10001, 4)"
      ]
     },
     "execution_count": 87,
     "metadata": {},
     "output_type": "execute_result"
    }
   ],
   "source": [
    "# Redimensionamiento de la solución de P3\n",
    "x_3 = solucion_3.y.T\n",
    "x_3.shape"
   ]
  },
  {
   "cell_type": "code",
   "execution_count": 88,
   "id": "cd755e4c",
   "metadata": {},
   "outputs": [
    {
     "data": {
      "text/plain": [
       "array([ 1.34554528,  1.35723661,  1.36701289, ..., 12.60504415,\n",
       "       12.54768493, 12.49179741])"
      ]
     },
     "execution_count": 88,
     "metadata": {},
     "output_type": "execute_result"
    }
   ],
   "source": [
    "x_1[:,0] # Posición del primer péndulo de P1"
   ]
  },
  {
   "cell_type": "code",
   "execution_count": 89,
   "id": "7a34da25",
   "metadata": {},
   "outputs": [
    {
     "data": {
      "text/plain": [
       "array([  1.34554528,   1.35819259,   1.37083837, ..., 203.23801532,\n",
       "       203.14767002, 203.05060788])"
      ]
     },
     "execution_count": 89,
     "metadata": {},
     "output_type": "execute_result"
    }
   ],
   "source": [
    "x_1[:,1] # Posición del segundo péndulo de P1"
   ]
  },
  {
   "cell_type": "code",
   "execution_count": 90,
   "id": "3fc292aa",
   "metadata": {},
   "outputs": [
    {
     "data": {
      "text/plain": [
       "array([ 1.2647425 ,  1.07344551,  0.88175805, ..., -5.79713858,\n",
       "       -5.66858157, -5.50257124])"
      ]
     },
     "execution_count": 90,
     "metadata": {},
     "output_type": "execute_result"
    }
   ],
   "source": [
    "x_1[:,2] # Velocidad del primer péndulo de P1"
   ]
  },
  {
   "cell_type": "code",
   "execution_count": 91,
   "id": "d47d12f2",
   "metadata": {},
   "outputs": [
    {
     "data": {
      "text/plain": [
       "array([  1.2647425 ,   1.26469642,   1.26440213, ...,  -8.68860549,\n",
       "        -9.37554042, -10.03150372])"
      ]
     },
     "execution_count": 91,
     "metadata": {},
     "output_type": "execute_result"
    }
   ],
   "source": [
    "x_1[:,3] # Velocidad del segundo péndulo de P1"
   ]
  },
  {
   "cell_type": "code",
   "execution_count": 92,
   "id": "6e516634",
   "metadata": {},
   "outputs": [],
   "source": [
    "%matplotlib inline "
   ]
  },
  {
   "cell_type": "code",
   "execution_count": 93,
   "id": "5f2eb2cb",
   "metadata": {},
   "outputs": [
    {
     "data": {
      "image/png": "[encoded data removed]",
      "text/plain": [
       "<Figure size 432x288 with 1 Axes>"
      ]
     },
     "metadata": {
      "needs_background": "light"
     },
     "output_type": "display_data"
    }
   ],
   "source": [
    "# Gráfica de movimiento de los 3 péndulos dobles (P1,P2 y P3)\n",
    "plt.plot(solucion_1.t,x_1[:,0], 'b', label = 'Péndulo 1, P1') \n",
    "plt.plot(solucion_1.t,x_1[:,1], 'b--', label = 'Péndulo 2, P1')\n",
    "plt.plot(solucion_2.t,x_2[:,0], 'm', label = 'Péndulo 1, P2') \n",
    "plt.plot(solucion_2.t,x_2[:,1], 'm--', label = 'Péndulo 2, P2')\n",
    "plt.plot(solucion_3.t,x_3[:,0], 'g', label = 'Péndulo 1, P3') \n",
    "plt.plot(solucion_3.t,x_3[:,1], 'g--', label = 'Péndulo 2, P3')\n",
    "plt.xlabel('Tiempo ($s$)')\n",
    "plt.ylabel('Posición ($m$)')\n",
    "plt.legend()\n",
    "plt.grid()"
   ]
  },
  {
   "cell_type": "code",
   "execution_count": 94,
   "id": "c2cfb92d",
   "metadata": {},
   "outputs": [
    {
     "data": {
      "image/png": "[encoded data removed]",
      "text/plain": [
       "<Figure size 432x288 with 1 Axes>"
      ]
     },
     "metadata": {
      "needs_background": "light"
     },
     "output_type": "display_data"
    }
   ],
   "source": [
    "# Gráfica de velocidad de los 3 péndulos dobles (P1,P2 y P3)\n",
    "plt.plot(solucion_1.t,x_1[:,2], 'b', label = 'Péndulo 1, P1')\n",
    "plt.plot(solucion_1.t,x_1[:,3], 'b--',  label = 'Péndulo 2, P1')\n",
    "plt.plot(solucion_2.t,x_2[:,2], 'm', label = 'Péndulo 1, P2')\n",
    "plt.plot(solucion_2.t,x_2[:,3], 'm--', label = 'Péndulo 2, P2')\n",
    "plt.plot(solucion_3.t,x_3[:,2], 'g', label = 'Péndulo 1, P3') \n",
    "plt.plot(solucion_3.t,x_3[:,3], 'g--', label = 'Péndulo 2, P3')\n",
    "plt.xlabel('Tiempo ($s$)')\n",
    "plt.ylabel('Velocidad ($\\dfrac{m}{s}$)')\n",
    "plt.legend()\n",
    "plt.grid()"
   ]
  },
  {
   "cell_type": "code",
   "execution_count": 95,
   "id": "cb695755",
   "metadata": {},
   "outputs": [
    {
     "data": {
      "text/plain": [
       "1.3455452815520699"
      ]
     },
     "execution_count": 95,
     "metadata": {},
     "output_type": "execute_result"
    }
   ],
   "source": [
    "# Iteración sobre la posición angular del Péndulo 1, P1\n",
    "posicionP1_1 = []\n",
    "for i in range(solucion_1.y.shape[1]):\n",
    "    posicionP1_1.append(x_1[i,0])\n",
    "posicionP1_1[0]"
   ]
  },
  {
   "cell_type": "code",
   "execution_count": 96,
   "id": "37fabb65",
   "metadata": {},
   "outputs": [
    {
     "data": {
      "text/plain": [
       "1.3455452815520699"
      ]
     },
     "execution_count": 96,
     "metadata": {},
     "output_type": "execute_result"
    }
   ],
   "source": [
    "# Iteración sobre la posición angular del Péndulo 2, P1\n",
    "posicionP2_1 = []\n",
    "for i in range(solucion_1.y.shape[1]):\n",
    "    posicionP2_1.append(x_1[i,1])\n",
    "posicionP2_1[0]"
   ]
  },
  {
   "cell_type": "code",
   "execution_count": 97,
   "id": "9b0cfe97",
   "metadata": {},
   "outputs": [
    {
     "data": {
      "text/plain": [
       "1.44554528155207"
      ]
     },
     "execution_count": 97,
     "metadata": {},
     "output_type": "execute_result"
    }
   ],
   "source": [
    "# Iteración sobre la posición angular del Péndulo 1, P2 \n",
    "posicionP1_2 = []\n",
    "for i in range(solucion_2.y.shape[1]):\n",
    "    posicionP1_2.append(x_2[i,0])\n",
    "posicionP1_2[0]"
   ]
  },
  {
   "cell_type": "code",
   "execution_count": 98,
   "id": "f92becb4",
   "metadata": {},
   "outputs": [
    {
     "data": {
      "text/plain": [
       "1.44554528155207"
      ]
     },
     "execution_count": 98,
     "metadata": {},
     "output_type": "execute_result"
    }
   ],
   "source": [
    "# Iteración sobre la posición angular del Péndulo 2, P2\n",
    "posicionP2_2 = []\n",
    "for i in range(solucion_2.y.shape[1]):\n",
    "    posicionP2_2.append(x_2[i,1])\n",
    "posicionP2_2[0]"
   ]
  },
  {
   "cell_type": "code",
   "execution_count": 99,
   "id": "da79e9c4",
   "metadata": {},
   "outputs": [
    {
     "data": {
      "text/plain": [
       "1.54554528155207"
      ]
     },
     "execution_count": 99,
     "metadata": {},
     "output_type": "execute_result"
    }
   ],
   "source": [
    "# Iteración sobre la posición angular del Péndulo 1, P3 \n",
    "posicionP1_3 = []\n",
    "for i in range(solucion_3.y.shape[1]):\n",
    "    posicionP1_3.append(x_3[i,0])\n",
    "posicionP1_3[0]"
   ]
  },
  {
   "cell_type": "code",
   "execution_count": 100,
   "id": "e205717b",
   "metadata": {},
   "outputs": [
    {
     "data": {
      "text/plain": [
       "1.54554528155207"
      ]
     },
     "execution_count": 100,
     "metadata": {},
     "output_type": "execute_result"
    }
   ],
   "source": [
    "# Iteración sobre la posición angular del Péndulo 2, P3\n",
    "posicionP2_3 = []\n",
    "for i in range(solucion_3.y.shape[1]):\n",
    "    posicionP2_3.append(x_3[i,1])\n",
    "posicionP2_3[0]"
   ]
  },
  {
   "cell_type": "code",
   "execution_count": 101,
   "id": "632337d3",
   "metadata": {},
   "outputs": [],
   "source": [
    "%matplotlib notebook"
   ]
  },
  {
   "cell_type": "code",
   "execution_count": 102,
   "id": "2b20f03d",
   "metadata": {},
   "outputs": [
    {
     "data": {
      "application/javascript": [
       "/* Put everything inside the global mpl namespace */\n",
       "/* global mpl */\n",
       "window.mpl = {};\n",
       "\n",
       "mpl.get_websocket_type = function () {\n",
       "    if (typeof WebSocket !== 'undefined') {\n",
       "        return WebSocket;\n",
       "    } else if (typeof MozWebSocket !== 'undefined') {\n",
       "        return MozWebSocket;\n",
       "    } else {\n",
       "        alert(\n",
       "            'Your browser does not have WebSocket support. ' +\n",
       "                'Please try Chrome, Safari or Firefox ≥ 6. ' +\n",
       "                'Firefox 4 and 5 are also supported but you ' +\n",
       "                'have to enable WebSockets in about:config.'\n",
       "        );\n",
       "    }\n",
       "};\n",
       "\n",
       "mpl.figure = function (figure_id, websocket, ondownload, parent_element) {\n",
       "    this.id = figure_id;\n",
       "\n",
       "    this.ws = websocket;\n",
       "\n",
       "    this.supports_binary = this.ws.binaryType !== undefined;\n",
       "\n",
       "    if (!this.supports_binary) {\n",
       "        var warnings = document.getElementById('mpl-warnings');\n",
       "        if (warnings) {\n",
       "            warnings.style.display = 'block';\n",
       "            warnings.textContent =\n",
       "                'This browser does not support binary websocket messages. ' +\n",
       "                'Performance may be slow.';\n",
       "        }\n",
       "    }\n",
       "\n",
       "    this.imageObj = new Image();\n",
       "\n",
       "    this.context = undefined;\n",
       "    this.message = undefined;\n",
       "    this.canvas = undefined;\n",
       "    this.rubberband_canvas = undefined;\n",
       "    this.rubberband_context = undefined;\n",
       "    this.format_dropdown = undefined;\n",
       "\n",
       "    this.image_mode = 'full';\n",
       "\n",
       "    this.root = document.createElement('div');\n",
       "    this.root.setAttribute('style', 'display: inline-block');\n",
       "    this._root_extra_style(this.root);\n",
       "\n",
       "    parent_element.appendChild(this.root);\n",
       "\n",
       "    this._init_header(this);\n",
       "    this._init_canvas(this);\n",
       "    this._init_toolbar(this);\n",
       "\n",
       "    var fig = this;\n",
       "\n",
       "    this.waiting = false;\n",
       "\n",
       "    this.ws.onopen = function () {\n",
       "        fig.send_message('supports_binary', { value: fig.supports_binary });\n",
       "        fig.send_message('send_image_mode', {});\n",
       "        if (fig.ratio !== 1) {\n",
       "            fig.send_message('set_device_pixel_ratio', {\n",
       "                device_pixel_ratio: fig.ratio,\n",
       "            });\n",
       "        }\n",
       "        fig.send_message('refresh', {});\n",
       "    };\n",
       "\n",
       "    this.imageObj.onload = function () {\n",
       "        if (fig.image_mode === 'full') {\n",
       "            // Full images could contain transparency (where diff images\n",
       "            // almost always do), so we need to clear the canvas so that\n",
       "            // there is no ghosting.\n",
       "            fig.context.clearRect(0, 0, fig.canvas.width, fig.canvas.height);\n",
       "        }\n",
       "        fig.context.drawImage(fig.imageObj, 0, 0);\n",
       "    };\n",
       "\n",
       "    this.imageObj.onunload = function () {\n",
       "        fig.ws.close();\n",
       "    };\n",
       "\n",
       "    this.ws.onmessage = this._make_on_message_function(this);\n",
       "\n",
       "    this.ondownload = ondownload;\n",
       "};\n",
       "\n",
       "mpl.figure.prototype._init_header = function () {\n",
       "    var titlebar = document.createElement('div');\n",
       "    titlebar.classList =\n",
       "        'ui-dialog-titlebar ui-widget-header ui-corner-all ui-helper-clearfix';\n",
       "    var titletext = document.createElement('div');\n",
       "    titletext.classList = 'ui-dialog-title';\n",
       "    titletext.setAttribute(\n",
       "        'style',\n",
       "        'width: 100%; text-align: center; padding: 3px;'\n",
       "    );\n",
       "    titlebar.appendChild(titletext);\n",
       "    this.root.appendChild(titlebar);\n",
       "    this.header = titletext;\n",
       "};\n",
       "\n",
       "mpl.figure.prototype._canvas_extra_style = function (_canvas_div) {};\n",
       "\n",
       "mpl.figure.prototype._root_extra_style = function (_canvas_div) {};\n",
       "\n",
       "mpl.figure.prototype._init_canvas = function () {\n",
       "    var fig = this;\n",
       "\n",
       "    var canvas_div = (this.canvas_div = document.createElement('div'));\n",
       "    canvas_div.setAttribute(\n",
       "        'style',\n",
       "        'border: 1px solid #ddd;' +\n",
       "            'box-sizing: content-box;' +\n",
       "            'clear: both;' +\n",
       "            'min-height: 1px;' +\n",
       "            'min-width: 1px;' +\n",
       "            'outline: 0;' +\n",
       "            'overflow: hidden;' +\n",
       "            'position: relative;' +\n",
       "            'resize: both;'\n",
       "    );\n",
       "\n",
       "    function on_keyboard_event_closure(name) {\n",
       "        return function (event) {\n",
       "            return fig.key_event(event, name);\n",
       "        };\n",
       "    }\n",
       "\n",
       "    canvas_div.addEventListener(\n",
       "        'keydown',\n",
       "        on_keyboard_event_closure('key_press')\n",
       "    );\n",
       "    canvas_div.addEventListener(\n",
       "        'keyup',\n",
       "        on_keyboard_event_closure('key_release')\n",
       "    );\n",
       "\n",
       "    this._canvas_extra_style(canvas_div);\n",
       "    this.root.appendChild(canvas_div);\n",
       "\n",
       "    var canvas = (this.canvas = document.createElement('canvas'));\n",
       "    canvas.classList.add('mpl-canvas');\n",
       "    canvas.setAttribute('style', 'box-sizing: content-box;');\n",
       "\n",
       "    this.context = canvas.getContext('2d');\n",
       "\n",
       "    var backingStore =\n",
       "        this.context.backingStorePixelRatio ||\n",
       "        this.context.webkitBackingStorePixelRatio ||\n",
       "        this.context.mozBackingStorePixelRatio ||\n",
       "        this.context.msBackingStorePixelRatio ||\n",
       "        this.context.oBackingStorePixelRatio ||\n",
       "        this.context.backingStorePixelRatio ||\n",
       "        1;\n",
       "\n",
       "    this.ratio = (window.devicePixelRatio || 1) / backingStore;\n",
       "\n",
       "    var rubberband_canvas = (this.rubberband_canvas = document.createElement(\n",
       "        'canvas'\n",
       "    ));\n",
       "    rubberband_canvas.setAttribute(\n",
       "        'style',\n",
       "        'box-sizing: content-box; position: absolute; left: 0; top: 0; z-index: 1;'\n",
       "    );\n",
       "\n",
       "    // Apply a ponyfill if ResizeObserver is not implemented by browser.\n",
       "    if (this.ResizeObserver === undefined) {\n",
       "        if (window.ResizeObserver !== undefined) {\n",
       "            this.ResizeObserver = window.ResizeObserver;\n",
       "        } else {\n",
       "            var obs = _JSXTOOLS_RESIZE_OBSERVER({});\n",
       "            this.ResizeObserver = obs.ResizeObserver;\n",
       "        }\n",
       "    }\n",
       "\n",
       "    this.resizeObserverInstance = new this.ResizeObserver(function (entries) {\n",
       "        var nentries = entries.length;\n",
       "        for (var i = 0; i < nentries; i++) {\n",
       "            var entry = entries[i];\n",
       "            var width, height;\n",
       "            if (entry.contentBoxSize) {\n",
       "                if (entry.contentBoxSize instanceof Array) {\n",
       "                    // Chrome 84 implements new version of spec.\n",
       "                    width = entry.contentBoxSize[0].inlineSize;\n",
       "                    height = entry.contentBoxSize[0].blockSize;\n",
       "                } else {\n",
       "                    // Firefox implements old version of spec.\n",
       "                    width = entry.contentBoxSize.inlineSize;\n",
       "                    height = entry.contentBoxSize.blockSize;\n",
       "                }\n",
       "            } else {\n",
       "                // Chrome <84 implements even older version of spec.\n",
       "                width = entry.contentRect.width;\n",
       "                height = entry.contentRect.height;\n",
       "            }\n",
       "\n",
       "            // Keep the size of the canvas and rubber band canvas in sync with\n",
       "            // the canvas container.\n",
       "            if (entry.devicePixelContentBoxSize) {\n",
       "                // Chrome 84 implements new version of spec.\n",
       "                canvas.setAttribute(\n",
       "                    'width',\n",
       "                    entry.devicePixelContentBoxSize[0].inlineSize\n",
       "                );\n",
       "                canvas.setAttribute(\n",
       "                    'height',\n",
       "                    entry.devicePixelContentBoxSize[0].blockSize\n",
       "                );\n",
       "            } else {\n",
       "                canvas.setAttribute('width', width * fig.ratio);\n",
       "                canvas.setAttribute('height', height * fig.ratio);\n",
       "            }\n",
       "            canvas.setAttribute(\n",
       "                'style',\n",
       "                'width: ' + width + 'px; height: ' + height + 'px;'\n",
       "            );\n",
       "\n",
       "            rubberband_canvas.setAttribute('width', width);\n",
       "            rubberband_canvas.setAttribute('height', height);\n",
       "\n",
       "            // And update the size in Python. We ignore the initial 0/0 size\n",
       "            // that occurs as the element is placed into the DOM, which should\n",
       "            // otherwise not happen due to the minimum size styling.\n",
       "            if (fig.ws.readyState == 1 && width != 0 && height != 0) {\n",
       "                fig.request_resize(width, height);\n",
       "            }\n",
       "        }\n",
       "    });\n",
       "    this.resizeObserverInstance.observe(canvas_div);\n",
       "\n",
       "    function on_mouse_event_closure(name) {\n",
       "        return function (event) {\n",
       "            return fig.mouse_event(event, name);\n",
       "        };\n",
       "    }\n",
       "\n",
       "    rubberband_canvas.addEventListener(\n",
       "        'mousedown',\n",
       "        on_mouse_event_closure('button_press')\n",
       "    );\n",
       "    rubberband_canvas.addEventListener(\n",
       "        'mouseup',\n",
       "        on_mouse_event_closure('button_release')\n",
       "    );\n",
       "    rubberband_canvas.addEventListener(\n",
       "        'dblclick',\n",
       "        on_mouse_event_closure('dblclick')\n",
       "    );\n",
       "    // Throttle sequential mouse events to 1 every 20ms.\n",
       "    rubberband_canvas.addEventListener(\n",
       "        'mousemove',\n",
       "        on_mouse_event_closure('motion_notify')\n",
       "    );\n",
       "\n",
       "    rubberband_canvas.addEventListener(\n",
       "        'mouseenter',\n",
       "        on_mouse_event_closure('figure_enter')\n",
       "    );\n",
       "    rubberband_canvas.addEventListener(\n",
       "        'mouseleave',\n",
       "        on_mouse_event_closure('figure_leave')\n",
       "    );\n",
       "\n",
       "    canvas_div.addEventListener('wheel', function (event) {\n",
       "        if (event.deltaY < 0) {\n",
       "            event.step = 1;\n",
       "        } else {\n",
       "            event.step = -1;\n",
       "        }\n",
       "        on_mouse_event_closure('scroll')(event);\n",
       "    });\n",
       "\n",
       "    canvas_div.appendChild(canvas);\n",
       "    canvas_div.appendChild(rubberband_canvas);\n",
       "\n",
       "    this.rubberband_context = rubberband_canvas.getContext('2d');\n",
       "    this.rubberband_context.strokeStyle = '#000000';\n",
       "\n",
       "    this._resize_canvas = function (width, height, forward) {\n",
       "        if (forward) {\n",
       "            canvas_div.style.width = width + 'px';\n",
       "            canvas_div.style.height = height + 'px';\n",
       "        }\n",
       "    };\n",
       "\n",
       "    // Disable right mouse context menu.\n",
       "    this.rubberband_canvas.addEventListener('contextmenu', function (_e) {\n",
       "        event.preventDefault();\n",
       "        return false;\n",
       "    });\n",
       "\n",
       "    function set_focus() {\n",
       "        canvas.focus();\n",
       "        canvas_div.focus();\n",
       "    }\n",
       "\n",
       "    window.setTimeout(set_focus, 100);\n",
       "};\n",
       "\n",
       "mpl.figure.prototype._init_toolbar = function () {\n",
       "    var fig = this;\n",
       "\n",
       "    var toolbar = document.createElement('div');\n",
       "    toolbar.classList = 'mpl-toolbar';\n",
       "    this.root.appendChild(toolbar);\n",
       "\n",
       "    function on_click_closure(name) {\n",
       "        return function (_event) {\n",
       "            return fig.toolbar_button_onclick(name);\n",
       "        };\n",
       "    }\n",
       "\n",
       "    function on_mouseover_closure(tooltip) {\n",
       "        return function (event) {\n",
       "            if (!event.currentTarget.disabled) {\n",
       "                return fig.toolbar_button_onmouseover(tooltip);\n",
       "            }\n",
       "        };\n",
       "    }\n",
       "\n",
       "    fig.buttons = {};\n",
       "    var buttonGroup = document.createElement('div');\n",
       "    buttonGroup.classList = 'mpl-button-group';\n",
       "    for (var toolbar_ind in mpl.toolbar_items) {\n",
       "        var name = mpl.toolbar_items[toolbar_ind][0];\n",
       "        var tooltip = mpl.toolbar_items[toolbar_ind][1];\n",
       "        var image = mpl.toolbar_items[toolbar_ind][2];\n",
       "        var method_name = mpl.toolbar_items[toolbar_ind][3];\n",
       "\n",
       "        if (!name) {\n",
       "            /* Instead of a spacer, we start a new button group. */\n",
       "            if (buttonGroup.hasChildNodes()) {\n",
       "                toolbar.appendChild(buttonGroup);\n",
       "            }\n",
       "            buttonGroup = document.createElement('div');\n",
       "            buttonGroup.classList = 'mpl-button-group';\n",
       "            continue;\n",
       "        }\n",
       "\n",
       "        var button = (fig.buttons[name] = document.createElement('button'));\n",
       "        button.classList = 'mpl-widget';\n",
       "        button.setAttribute('role', 'button');\n",
       "        button.setAttribute('aria-disabled', 'false');\n",
       "        button.addEventListener('click', on_click_closure(method_name));\n",
       "        button.addEventListener('mouseover', on_mouseover_closure(tooltip));\n",
       "\n",
       "        var icon_img = document.createElement('img');\n",
       "        icon_img.src = '_images/' + image + '.png';\n",
       "        icon_img.srcset = '_images/' + image + '_large.png 2x';\n",
       "        icon_img.alt = tooltip;\n",
       "        button.appendChild(icon_img);\n",
       "\n",
       "        buttonGroup.appendChild(button);\n",
       "    }\n",
       "\n",
       "    if (buttonGroup.hasChildNodes()) {\n",
       "        toolbar.appendChild(buttonGroup);\n",
       "    }\n",
       "\n",
       "    var fmt_picker = document.createElement('select');\n",
       "    fmt_picker.classList = 'mpl-widget';\n",
       "    toolbar.appendChild(fmt_picker);\n",
       "    this.format_dropdown = fmt_picker;\n",
       "\n",
       "    for (var ind in mpl.extensions) {\n",
       "        var fmt = mpl.extensions[ind];\n",
       "        var option = document.createElement('option');\n",
       "        option.selected = fmt === mpl.default_extension;\n",
       "        option.innerHTML = fmt;\n",
       "        fmt_picker.appendChild(option);\n",
       "    }\n",
       "\n",
       "    var status_bar = document.createElement('span');\n",
       "    status_bar.classList = 'mpl-message';\n",
       "    toolbar.appendChild(status_bar);\n",
       "    this.message = status_bar;\n",
       "};\n",
       "\n",
       "mpl.figure.prototype.request_resize = function (x_pixels, y_pixels) {\n",
       "    // Request matplotlib to resize the figure. Matplotlib will then trigger a resize in the client,\n",
       "    // which will in turn request a refresh of the image.\n",
       "    this.send_message('resize', { width: x_pixels, height: y_pixels });\n",
       "};\n",
       "\n",
       "mpl.figure.prototype.send_message = function (type, properties) {\n",
       "    properties['type'] = type;\n",
       "    properties['figure_id'] = this.id;\n",
       "    this.ws.send(JSON.stringify(properties));\n",
       "};\n",
       "\n",
       "mpl.figure.prototype.send_draw_message = function () {\n",
       "    if (!this.waiting) {\n",
       "        this.waiting = true;\n",
       "        this.ws.send(JSON.stringify({ type: 'draw', figure_id: this.id }));\n",
       "    }\n",
       "};\n",
       "\n",
       "mpl.figure.prototype.handle_save = function (fig, _msg) {\n",
       "    var format_dropdown = fig.format_dropdown;\n",
       "    var format = format_dropdown.options[format_dropdown.selectedIndex].value;\n",
       "    fig.ondownload(fig, format);\n",
       "};\n",
       "\n",
       "mpl.figure.prototype.handle_resize = function (fig, msg) {\n",
       "    var size = msg['size'];\n",
       "    if (size[0] !== fig.canvas.width || size[1] !== fig.canvas.height) {\n",
       "        fig._resize_canvas(size[0], size[1], msg['forward']);\n",
       "        fig.send_message('refresh', {});\n",
       "    }\n",
       "};\n",
       "\n",
       "mpl.figure.prototype.handle_rubberband = function (fig, msg) {\n",
       "    var x0 = msg['x0'] / fig.ratio;\n",
       "    var y0 = (fig.canvas.height - msg['y0']) / fig.ratio;\n",
       "    var x1 = msg['x1'] / fig.ratio;\n",
       "    var y1 = (fig.canvas.height - msg['y1']) / fig.ratio;\n",
       "    x0 = Math.floor(x0) + 0.5;\n",
       "    y0 = Math.floor(y0) + 0.5;\n",
       "    x1 = Math.floor(x1) + 0.5;\n",
       "    y1 = Math.floor(y1) + 0.5;\n",
       "    var min_x = Math.min(x0, x1);\n",
       "    var min_y = Math.min(y0, y1);\n",
       "    var width = Math.abs(x1 - x0);\n",
       "    var height = Math.abs(y1 - y0);\n",
       "\n",
       "    fig.rubberband_context.clearRect(\n",
       "        0,\n",
       "        0,\n",
       "        fig.canvas.width / fig.ratio,\n",
       "        fig.canvas.height / fig.ratio\n",
       "    );\n",
       "\n",
       "    fig.rubberband_context.strokeRect(min_x, min_y, width, height);\n",
       "};\n",
       "\n",
       "mpl.figure.prototype.handle_figure_label = function (fig, msg) {\n",
       "    // Updates the figure title.\n",
       "    fig.header.textContent = msg['label'];\n",
       "};\n",
       "\n",
       "mpl.figure.prototype.handle_cursor = function (fig, msg) {\n",
       "    fig.rubberband_canvas.style.cursor = msg['cursor'];\n",
       "};\n",
       "\n",
       "mpl.figure.prototype.handle_message = function (fig, msg) {\n",
       "    fig.message.textContent = msg['message'];\n",
       "};\n",
       "\n",
       "mpl.figure.prototype.handle_draw = function (fig, _msg) {\n",
       "    // Request the server to send over a new figure.\n",
       "    fig.send_draw_message();\n",
       "};\n",
       "\n",
       "mpl.figure.prototype.handle_image_mode = function (fig, msg) {\n",
       "    fig.image_mode = msg['mode'];\n",
       "};\n",
       "\n",
       "mpl.figure.prototype.handle_history_buttons = function (fig, msg) {\n",
       "    for (var key in msg) {\n",
       "        if (!(key in fig.buttons)) {\n",
       "            continue;\n",
       "        }\n",
       "        fig.buttons[key].disabled = !msg[key];\n",
       "        fig.buttons[key].setAttribute('aria-disabled', !msg[key]);\n",
       "    }\n",
       "};\n",
       "\n",
       "mpl.figure.prototype.handle_navigate_mode = function (fig, msg) {\n",
       "    if (msg['mode'] === 'PAN') {\n",
       "        fig.buttons['Pan'].classList.add('active');\n",
       "        fig.buttons['Zoom'].classList.remove('active');\n",
       "    } else if (msg['mode'] === 'ZOOM') {\n",
       "        fig.buttons['Pan'].classList.remove('active');\n",
       "        fig.buttons['Zoom'].classList.add('active');\n",
       "    } else {\n",
       "        fig.buttons['Pan'].classList.remove('active');\n",
       "        fig.buttons['Zoom'].classList.remove('active');\n",
       "    }\n",
       "};\n",
       "\n",
       "mpl.figure.prototype.updated_canvas_event = function () {\n",
       "    // Called whenever the canvas gets updated.\n",
       "    this.send_message('ack', {});\n",
       "};\n",
       "\n",
       "// A function to construct a web socket function for onmessage handling.\n",
       "// Called in the figure constructor.\n",
       "mpl.figure.prototype._make_on_message_function = function (fig) {\n",
       "    return function socket_on_message(evt) {\n",
       "        if (evt.data instanceof Blob) {\n",
       "            var img = evt.data;\n",
       "            if (img.type !== 'image/png') {\n",
       "                /* FIXME: We get \"Resource interpreted as Image but\n",
       "                 * transferred with MIME type text/plain:\" errors on\n",
       "                 * Chrome.  But how to set the MIME type?  It doesn't seem\n",
       "                 * to be part of the websocket stream */\n",
       "                img.type = 'image/png';\n",
       "            }\n",
       "\n",
       "            /* Free the memory for the previous frames */\n",
       "            if (fig.imageObj.src) {\n",
       "                (window.URL || window.webkitURL).revokeObjectURL(\n",
       "                    fig.imageObj.src\n",
       "                );\n",
       "            }\n",
       "\n",
       "            fig.imageObj.src = (window.URL || window.webkitURL).createObjectURL(\n",
       "                img\n",
       "            );\n",
       "            fig.updated_canvas_event();\n",
       "            fig.waiting = false;\n",
       "            return;\n",
       "        } else if (\n",
       "            typeof evt.data === 'string' &&\n",
       "            evt.data.slice(0, 21) === 'data:image/png;base64'\n",
       "        ) {\n",
       "            fig.imageObj.src = evt.data;\n",
       "            fig.updated_canvas_event();\n",
       "            fig.waiting = false;\n",
       "            return;\n",
       "        }\n",
       "\n",
       "        var msg = JSON.parse(evt.data);\n",
       "        var msg_type = msg['type'];\n",
       "\n",
       "        // Call the  \"handle_{type}\" callback, which takes\n",
       "        // the figure and JSON message as its only arguments.\n",
       "        try {\n",
       "            var callback = fig['handle_' + msg_type];\n",
       "        } catch (e) {\n",
       "            console.log(\n",
       "                \"No handler for the '\" + msg_type + \"' message type: \",\n",
       "                msg\n",
       "            );\n",
       "            return;\n",
       "        }\n",
       "\n",
       "        if (callback) {\n",
       "            try {\n",
       "                // console.log(\"Handling '\" + msg_type + \"' message: \", msg);\n",
       "                callback(fig, msg);\n",
       "            } catch (e) {\n",
       "                console.log(\n",
       "                    \"Exception inside the 'handler_\" + msg_type + \"' callback:\",\n",
       "                    e,\n",
       "                    e.stack,\n",
       "                    msg\n",
       "                );\n",
       "            }\n",
       "        }\n",
       "    };\n",
       "};\n",
       "\n",
       "// from https://stackoverflow.com/questions/1114465/getting-mouse-location-in-canvas\n",
       "mpl.findpos = function (e) {\n",
       "    //this section is from http://www.quirksmode.org/js/events_properties.html\n",
       "    var targ;\n",
       "    if (!e) {\n",
       "        e = window.event;\n",
       "    }\n",
       "    if (e.target) {\n",
       "        targ = e.target;\n",
       "    } else if (e.srcElement) {\n",
       "        targ = e.srcElement;\n",
       "    }\n",
       "    if (targ.nodeType === 3) {\n",
       "        // defeat Safari bug\n",
       "        targ = targ.parentNode;\n",
       "    }\n",
       "\n",
       "    // pageX,Y are the mouse positions relative to the document\n",
       "    var boundingRect = targ.getBoundingClientRect();\n",
       "    var x = e.pageX - (boundingRect.left + document.body.scrollLeft);\n",
       "    var y = e.pageY - (boundingRect.top + document.body.scrollTop);\n",
       "\n",
       "    return { x: x, y: y };\n",
       "};\n",
       "\n",
       "/*\n",
       " * return a copy of an object with only non-object keys\n",
       " * we need this to avoid circular references\n",
       " * https://stackoverflow.com/a/24161582/3208463\n",
       " */\n",
       "function simpleKeys(original) {\n",
       "    return Object.keys(original).reduce(function (obj, key) {\n",
       "        if (typeof original[key] !== 'object') {\n",
       "            obj[key] = original[key];\n",
       "        }\n",
       "        return obj;\n",
       "    }, {});\n",
       "}\n",
       "\n",
       "mpl.figure.prototype.mouse_event = function (event, name) {\n",
       "    var canvas_pos = mpl.findpos(event);\n",
       "\n",
       "    if (name === 'button_press') {\n",
       "        this.canvas.focus();\n",
       "        this.canvas_div.focus();\n",
       "    }\n",
       "\n",
       "    var x = canvas_pos.x * this.ratio;\n",
       "    var y = canvas_pos.y * this.ratio;\n",
       "\n",
       "    this.send_message(name, {\n",
       "        x: x,\n",
       "        y: y,\n",
       "        button: event.button,\n",
       "        step: event.step,\n",
       "        guiEvent: simpleKeys(event),\n",
       "    });\n",
       "\n",
       "    /* This prevents the web browser from automatically changing to\n",
       "     * the text insertion cursor when the button is pressed.  We want\n",
       "     * to control all of the cursor setting manually through the\n",
       "     * 'cursor' event from matplotlib */\n",
       "    event.preventDefault();\n",
       "    return false;\n",
       "};\n",
       "\n",
       "mpl.figure.prototype._key_event_extra = function (_event, _name) {\n",
       "    // Handle any extra behaviour associated with a key event\n",
       "};\n",
       "\n",
       "mpl.figure.prototype.key_event = function (event, name) {\n",
       "    // Prevent repeat events\n",
       "    if (name === 'key_press') {\n",
       "        if (event.key === this._key) {\n",
       "            return;\n",
       "        } else {\n",
       "            this._key = event.key;\n",
       "        }\n",
       "    }\n",
       "    if (name === 'key_release') {\n",
       "        this._key = null;\n",
       "    }\n",
       "\n",
       "    var value = '';\n",
       "    if (event.ctrlKey && event.key !== 'Control') {\n",
       "        value += 'ctrl+';\n",
       "    }\n",
       "    else if (event.altKey && event.key !== 'Alt') {\n",
       "        value += 'alt+';\n",
       "    }\n",
       "    else if (event.shiftKey && event.key !== 'Shift') {\n",
       "        value += 'shift+';\n",
       "    }\n",
       "\n",
       "    value += 'k' + event.key;\n",
       "\n",
       "    this._key_event_extra(event, name);\n",
       "\n",
       "    this.send_message(name, { key: value, guiEvent: simpleKeys(event) });\n",
       "    return false;\n",
       "};\n",
       "\n",
       "mpl.figure.prototype.toolbar_button_onclick = function (name) {\n",
       "    if (name === 'download') {\n",
       "        this.handle_save(this, null);\n",
       "    } else {\n",
       "        this.send_message('toolbar_button', { name: name });\n",
       "    }\n",
       "};\n",
       "\n",
       "mpl.figure.prototype.toolbar_button_onmouseover = function (tooltip) {\n",
       "    this.message.textContent = tooltip;\n",
       "};\n",
       "\n",
       "///////////////// REMAINING CONTENT GENERATED BY embed_js.py /////////////////\n",
       "// prettier-ignore\n",
       "var _JSXTOOLS_RESIZE_OBSERVER=function(A){var t,i=new WeakMap,n=new WeakMap,a=new WeakMap,r=new WeakMap,o=new Set;function s(e){if(!(this instanceof s))throw new TypeError(\"Constructor requires 'new' operator\");i.set(this,e)}function h(){throw new TypeError(\"Function is not a constructor\")}function c(e,t,i,n){e=0 in arguments?Number(arguments[0]):0,t=1 in arguments?Number(arguments[1]):0,i=2 in arguments?Number(arguments[2]):0,n=3 in arguments?Number(arguments[3]):0,this.right=(this.x=this.left=e)+(this.width=i),this.bottom=(this.y=this.top=t)+(this.height=n),Object.freeze(this)}function d(){t=requestAnimationFrame(d);var s=new WeakMap,p=new Set;o.forEach((function(t){r.get(t).forEach((function(i){var r=t instanceof window.SVGElement,o=a.get(t),d=r?0:parseFloat(o.paddingTop),f=r?0:parseFloat(o.paddingRight),l=r?0:parseFloat(o.paddingBottom),u=r?0:parseFloat(o.paddingLeft),g=r?0:parseFloat(o.borderTopWidth),m=r?0:parseFloat(o.borderRightWidth),w=r?0:parseFloat(o.borderBottomWidth),b=u+f,F=d+l,v=(r?0:parseFloat(o.borderLeftWidth))+m,W=g+w,y=r?0:t.offsetHeight-W-t.clientHeight,E=r?0:t.offsetWidth-v-t.clientWidth,R=b+v,z=F+W,M=r?t.width:parseFloat(o.width)-R-E,O=r?t.height:parseFloat(o.height)-z-y;if(n.has(t)){var k=n.get(t);if(k[0]===M&&k[1]===O)return}n.set(t,[M,O]);var S=Object.create(h.prototype);S.target=t,S.contentRect=new c(u,d,M,O),s.has(i)||(s.set(i,[]),p.add(i)),s.get(i).push(S)}))})),p.forEach((function(e){i.get(e).call(e,s.get(e),e)}))}return s.prototype.observe=function(i){if(i instanceof window.Element){r.has(i)||(r.set(i,new Set),o.add(i),a.set(i,window.getComputedStyle(i)));var n=r.get(i);n.has(this)||n.add(this),cancelAnimationFrame(t),t=requestAnimationFrame(d)}},s.prototype.unobserve=function(i){if(i instanceof window.Element&&r.has(i)){var n=r.get(i);n.has(this)&&(n.delete(this),n.size||(r.delete(i),o.delete(i))),n.size||r.delete(i),o.size||cancelAnimationFrame(t)}},A.DOMRectReadOnly=c,A.ResizeObserver=s,A.ResizeObserverEntry=h,A}; // eslint-disable-line\n",
       "mpl.toolbar_items = [[\"Home\", \"Reset original view\", \"fa fa-home icon-home\", \"home\"], [\"Back\", \"Back to previous view\", \"fa fa-arrow-left icon-arrow-left\", \"back\"], [\"Forward\", \"Forward to next view\", \"fa fa-arrow-right icon-arrow-right\", \"forward\"], [\"\", \"\", \"\", \"\"], [\"Pan\", \"Left button pans, Right button zooms\\nx/y fixes axis, CTRL fixes aspect\", \"fa fa-arrows icon-move\", \"pan\"], [\"Zoom\", \"Zoom to rectangle\\nx/y fixes axis\", \"fa fa-square-o icon-check-empty\", \"zoom\"], [\"\", \"\", \"\", \"\"], [\"Download\", \"Download plot\", \"fa fa-floppy-o icon-save\", \"download\"]];\n",
       "\n",
       "mpl.extensions = [\"eps\", \"jpeg\", \"pgf\", \"pdf\", \"png\", \"ps\", \"raw\", \"svg\", \"tif\"];\n",
       "\n",
       "mpl.default_extension = \"png\";/* global mpl */\n",
       "\n",
       "var comm_websocket_adapter = function (comm) {\n",
       "    // Create a \"websocket\"-like object which calls the given IPython comm\n",
       "    // object with the appropriate methods. Currently this is a non binary\n",
       "    // socket, so there is still some room for performance tuning.\n",
       "    var ws = {};\n",
       "\n",
       "    ws.binaryType = comm.kernel.ws.binaryType;\n",
       "    ws.readyState = comm.kernel.ws.readyState;\n",
       "    function updateReadyState(_event) {\n",
       "        if (comm.kernel.ws) {\n",
       "            ws.readyState = comm.kernel.ws.readyState;\n",
       "        } else {\n",
       "            ws.readyState = 3; // Closed state.\n",
       "        }\n",
       "    }\n",
       "    comm.kernel.ws.addEventListener('open', updateReadyState);\n",
       "    comm.kernel.ws.addEventListener('close', updateReadyState);\n",
       "    comm.kernel.ws.addEventListener('error', updateReadyState);\n",
       "\n",
       "    ws.close = function () {\n",
       "        comm.close();\n",
       "    };\n",
       "    ws.send = function (m) {\n",
       "        //console.log('sending', m);\n",
       "        comm.send(m);\n",
       "    };\n",
       "    // Register the callback with on_msg.\n",
       "    comm.on_msg(function (msg) {\n",
       "        //console.log('receiving', msg['content']['data'], msg);\n",
       "        var data = msg['content']['data'];\n",
       "        if (data['blob'] !== undefined) {\n",
       "            data = {\n",
       "                data: new Blob(msg['buffers'], { type: data['blob'] }),\n",
       "            };\n",
       "        }\n",
       "        // Pass the mpl event to the overridden (by mpl) onmessage function.\n",
       "        ws.onmessage(data);\n",
       "    });\n",
       "    return ws;\n",
       "};\n",
       "\n",
       "mpl.mpl_figure_comm = function (comm, msg) {\n",
       "    // This is the function which gets called when the mpl process\n",
       "    // starts-up an IPython Comm through the \"matplotlib\" channel.\n",
       "\n",
       "    var id = msg.content.data.id;\n",
       "    // Get hold of the div created by the display call when the Comm\n",
       "    // socket was opened in Python.\n",
       "    var element = document.getElementById(id);\n",
       "    var ws_proxy = comm_websocket_adapter(comm);\n",
       "\n",
       "    function ondownload(figure, _format) {\n",
       "        window.open(figure.canvas.toDataURL());\n",
       "    }\n",
       "\n",
       "    var fig = new mpl.figure(id, ws_proxy, ondownload, element);\n",
       "\n",
       "    // Call onopen now - mpl needs it, as it is assuming we've passed it a real\n",
       "    // web socket which is closed, not our websocket->open comm proxy.\n",
       "    ws_proxy.onopen();\n",
       "\n",
       "    fig.parent_element = element;\n",
       "    fig.cell_info = mpl.find_output_cell(\"<div id='\" + id + \"'></div>\");\n",
       "    if (!fig.cell_info) {\n",
       "        console.error('Failed to find cell for figure', id, fig);\n",
       "        return;\n",
       "    }\n",
       "    fig.cell_info[0].output_area.element.on(\n",
       "        'cleared',\n",
       "        { fig: fig },\n",
       "        fig._remove_fig_handler\n",
       "    );\n",
       "};\n",
       "\n",
       "mpl.figure.prototype.handle_close = function (fig, msg) {\n",
       "    var width = fig.canvas.width / fig.ratio;\n",
       "    fig.cell_info[0].output_area.element.off(\n",
       "        'cleared',\n",
       "        fig._remove_fig_handler\n",
       "    );\n",
       "    fig.resizeObserverInstance.unobserve(fig.canvas_div);\n",
       "\n",
       "    // Update the output cell to use the data from the current canvas.\n",
       "    fig.push_to_output();\n",
       "    var dataURL = fig.canvas.toDataURL();\n",
       "    // Re-enable the keyboard manager in IPython - without this line, in FF,\n",
       "    // the notebook keyboard shortcuts fail.\n",
       "    IPython.keyboard_manager.enable();\n",
       "    fig.parent_element.innerHTML =\n",
       "        '<img src=\"' + dataURL + '\" width=\"' + width + '\">';\n",
       "    fig.close_ws(fig, msg);\n",
       "};\n",
       "\n",
       "mpl.figure.prototype.close_ws = function (fig, msg) {\n",
       "    fig.send_message('closing', msg);\n",
       "    // fig.ws.close()\n",
       "};\n",
       "\n",
       "mpl.figure.prototype.push_to_output = function (_remove_interactive) {\n",
       "    // Turn the data on the canvas into data in the output cell.\n",
       "    var width = this.canvas.width / this.ratio;\n",
       "    var dataURL = this.canvas.toDataURL();\n",
       "    this.cell_info[1]['text/html'] =\n",
       "        '<img src=\"' + dataURL + '\" width=\"' + width + '\">';\n",
       "};\n",
       "\n",
       "mpl.figure.prototype.updated_canvas_event = function () {\n",
       "    // Tell IPython that the notebook contents must change.\n",
       "    IPython.notebook.set_dirty(true);\n",
       "    this.send_message('ack', {});\n",
       "    var fig = this;\n",
       "    // Wait a second, then push the new image to the DOM so\n",
       "    // that it is saved nicely (might be nice to debounce this).\n",
       "    setTimeout(function () {\n",
       "        fig.push_to_output();\n",
       "    }, 1000);\n",
       "};\n",
       "\n",
       "mpl.figure.prototype._init_toolbar = function () {\n",
       "    var fig = this;\n",
       "\n",
       "    var toolbar = document.createElement('div');\n",
       "    toolbar.classList = 'btn-toolbar';\n",
       "    this.root.appendChild(toolbar);\n",
       "\n",
       "    function on_click_closure(name) {\n",
       "        return function (_event) {\n",
       "            return fig.toolbar_button_onclick(name);\n",
       "        };\n",
       "    }\n",
       "\n",
       "    function on_mouseover_closure(tooltip) {\n",
       "        return function (event) {\n",
       "            if (!event.currentTarget.disabled) {\n",
       "                return fig.toolbar_button_onmouseover(tooltip);\n",
       "            }\n",
       "        };\n",
       "    }\n",
       "\n",
       "    fig.buttons = {};\n",
       "    var buttonGroup = document.createElement('div');\n",
       "    buttonGroup.classList = 'btn-group';\n",
       "    var button;\n",
       "    for (var toolbar_ind in mpl.toolbar_items) {\n",
       "        var name = mpl.toolbar_items[toolbar_ind][0];\n",
       "        var tooltip = mpl.toolbar_items[toolbar_ind][1];\n",
       "        var image = mpl.toolbar_items[toolbar_ind][2];\n",
       "        var method_name = mpl.toolbar_items[toolbar_ind][3];\n",
       "\n",
       "        if (!name) {\n",
       "            /* Instead of a spacer, we start a new button group. */\n",
       "            if (buttonGroup.hasChildNodes()) {\n",
       "                toolbar.appendChild(buttonGroup);\n",
       "            }\n",
       "            buttonGroup = document.createElement('div');\n",
       "            buttonGroup.classList = 'btn-group';\n",
       "            continue;\n",
       "        }\n",
       "\n",
       "        button = fig.buttons[name] = document.createElement('button');\n",
       "        button.classList = 'btn btn-default';\n",
       "        button.href = '#';\n",
       "        button.title = name;\n",
       "        button.innerHTML = '<i class=\"fa ' + image + ' fa-lg\"></i>';\n",
       "        button.addEventListener('click', on_click_closure(method_name));\n",
       "        button.addEventListener('mouseover', on_mouseover_closure(tooltip));\n",
       "        buttonGroup.appendChild(button);\n",
       "    }\n",
       "\n",
       "    if (buttonGroup.hasChildNodes()) {\n",
       "        toolbar.appendChild(buttonGroup);\n",
       "    }\n",
       "\n",
       "    // Add the status bar.\n",
       "    var status_bar = document.createElement('span');\n",
       "    status_bar.classList = 'mpl-message pull-right';\n",
       "    toolbar.appendChild(status_bar);\n",
       "    this.message = status_bar;\n",
       "\n",
       "    // Add the close button to the window.\n",
       "    var buttongrp = document.createElement('div');\n",
       "    buttongrp.classList = 'btn-group inline pull-right';\n",
       "    button = document.createElement('button');\n",
       "    button.classList = 'btn btn-mini btn-primary';\n",
       "    button.href = '#';\n",
       "    button.title = 'Stop Interaction';\n",
       "    button.innerHTML = '<i class=\"fa fa-power-off icon-remove icon-large\"></i>';\n",
       "    button.addEventListener('click', function (_evt) {\n",
       "        fig.handle_close(fig, {});\n",
       "    });\n",
       "    button.addEventListener(\n",
       "        'mouseover',\n",
       "        on_mouseover_closure('Stop Interaction')\n",
       "    );\n",
       "    buttongrp.appendChild(button);\n",
       "    var titlebar = this.root.querySelector('.ui-dialog-titlebar');\n",
       "    titlebar.insertBefore(buttongrp, titlebar.firstChild);\n",
       "};\n",
       "\n",
       "mpl.figure.prototype._remove_fig_handler = function (event) {\n",
       "    var fig = event.data.fig;\n",
       "    if (event.target !== this) {\n",
       "        // Ignore bubbled events from children.\n",
       "        return;\n",
       "    }\n",
       "    fig.close_ws(fig, {});\n",
       "};\n",
       "\n",
       "mpl.figure.prototype._root_extra_style = function (el) {\n",
       "    el.style.boxSizing = 'content-box'; // override notebook setting of border-box.\n",
       "};\n",
       "\n",
       "mpl.figure.prototype._canvas_extra_style = function (el) {\n",
       "    // this is important to make the div 'focusable\n",
       "    el.setAttribute('tabindex', 0);\n",
       "    // reach out to IPython and tell the keyboard manager to turn it's self\n",
       "    // off when our div gets focus\n",
       "\n",
       "    // location in version 3\n",
       "    if (IPython.notebook.keyboard_manager) {\n",
       "        IPython.notebook.keyboard_manager.register_events(el);\n",
       "    } else {\n",
       "        // location in version 2\n",
       "        IPython.keyboard_manager.register_events(el);\n",
       "    }\n",
       "};\n",
       "\n",
       "mpl.figure.prototype._key_event_extra = function (event, _name) {\n",
       "    // Check for shift+enter\n",
       "    if (event.shiftKey && event.which === 13) {\n",
       "        this.canvas_div.blur();\n",
       "        // select the cell after this one\n",
       "        var index = IPython.notebook.find_cell_index(this.cell_info[0]);\n",
       "        IPython.notebook.select(index + 1);\n",
       "    }\n",
       "};\n",
       "\n",
       "mpl.figure.prototype.handle_save = function (fig, _msg) {\n",
       "    fig.ondownload(fig, null);\n",
       "};\n",
       "\n",
       "mpl.find_output_cell = function (html_output) {\n",
       "    // Return the cell and output element which can be found *uniquely* in the notebook.\n",
       "    // Note - this is a bit hacky, but it is done because the \"notebook_saving.Notebook\"\n",
       "    // IPython event is triggered only after the cells have been serialised, which for\n",
       "    // our purposes (turning an active figure into a static one), is too late.\n",
       "    var cells = IPython.notebook.get_cells();\n",
       "    var ncells = cells.length;\n",
       "    for (var i = 0; i < ncells; i++) {\n",
       "        var cell = cells[i];\n",
       "        if (cell.cell_type === 'code') {\n",
       "            for (var j = 0; j < cell.output_area.outputs.length; j++) {\n",
       "                var data = cell.output_area.outputs[j];\n",
       "                if (data.data) {\n",
       "                    // IPython >= 3 moved mimebundle to data attribute of output\n",
       "                    data = data.data;\n",
       "                }\n",
       "                if (data['text/html'] === html_output) {\n",
       "                    return [cell, data, j];\n",
       "                }\n",
       "            }\n",
       "        }\n",
       "    }\n",
       "};\n",
       "\n",
       "// Register the function which deals with the matplotlib target/channel.\n",
       "// The kernel may be null if the page has been refreshed.\n",
       "if (IPython.notebook.kernel !== null) {\n",
       "    IPython.notebook.kernel.comm_manager.register_target(\n",
       "        'matplotlib',\n",
       "        mpl.mpl_figure_comm\n",
       "    );\n",
       "}\n"
      ],
      "text/plain": [
       "<IPython.core.display.Javascript object>"
      ]
     },
     "metadata": {},
     "output_type": "display_data"
    },
    {
     "data": {
      "text/html": [
       "<img src=\"data:image/png;base64,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\" width=\"432\">"
      ],
      "text/plain": [
       "<IPython.core.display.HTML object>"
      ]
     },
     "metadata": {},
     "output_type": "display_data"
    },
    {
     "data": {
      "text/plain": [
       "<matplotlib.animation.FuncAnimation at 0x1cc1217aee0>"
      ]
     },
     "execution_count": 102,
     "metadata": {},
     "output_type": "execute_result"
    }
   ],
   "source": [
    "# Animación del movimiento caótico de 3 péndulos dobles (P1,P2 y P3)\n",
    "figura,ax = plt.subplots()\n",
    "def PenduloDobleAni2(i):\n",
    "    plt.cla()\n",
    "    plt.axis([-l1-l2-0.2,l1+l2+0.2,-l1-l2-0.2,l1+l2+0.2])\n",
    "    \n",
    "    ax.plot([0,l1*np.sin(posicionP1_1[i])],[0,-l1*np.cos(posicionP1_1[i])], 'b', \n",
    "                    [l1*np.sin(posicionP1_1[i]), l1*np.sin(posicionP1_1[i]) + l2*np.sin(posicionP2_1[i])],[-l1*np.cos(posicionP1_1[i]),-l1*np.cos(posicionP1_1[i]) -l2*np.cos(posicionP2_1[i])], 'b',\n",
    "                    [0,l1*np.sin(posicionP1_2[i])],[0,-l1*np.cos(posicionP1_2[i])], 'm', \n",
    "                    [l1*np.sin(posicionP1_2[i]), l1*np.sin(posicionP1_2[i]) + l2*np.sin(posicionP2_2[i])],[-l1*np.cos(posicionP1_2[i]),-l1*np.cos(posicionP1_2[i]) -l2*np.cos(posicionP2_2[i])], 'm',\n",
    "                    [0,l1*np.sin(posicionP1_3[i])],[0,-l1*np.cos(posicionP1_3[i])], 'g', \n",
    "                    [l1*np.sin(posicionP1_3[i]), l1*np.sin(posicionP1_3[i]) + l2*np.sin(posicionP2_3[i])],[-l1*np.cos(posicionP1_3[i]),-l1*np.cos(posicionP1_3[i]) -l2*np.cos(posicionP2_3[i])], 'g',\n",
    "                    [-1.2,1.2], [0,0], 'k')\n",
    "    \n",
    "    ax.plot(l1*np.sin(posicionP1_1[i]), -l1*np.cos(posicionP1_1[i]), 'ob', \n",
    "                    l1*np.sin(posicionP1_1[i]) + l2*np.sin(posicionP2_1[i]), -l1*np.cos(posicionP1_1[i]) -l2*np.cos(posicionP2_1[i]), 'ob',\n",
    "                    l1*np.sin(posicionP1_2[i]), -l1*np.cos(posicionP1_2[i]), 'om', \n",
    "                    l1*np.sin(posicionP1_2[i]) + l2*np.sin(posicionP2_2[i]), -l1*np.cos(posicionP1_2[i]) -l2*np.cos(posicionP2_2[i]), 'om',\n",
    "                    l1*np.sin(posicionP1_3[i]), -l1*np.cos(posicionP1_3[i]), 'og', \n",
    "                    l1*np.sin(posicionP1_3[i]) + l2*np.sin(posicionP2_3[i]), -l1*np.cos(posicionP1_3[i]) -l2*np.cos(posicionP2_3[i]), 'og')\n",
    "    \n",
    "    ax.plot(l1*np.sin(posicionP1_1[:i]), -l1*np.cos(posicionP1_1[:i]), 'b', \n",
    "                    l1*np.sin(posicionP1_1[:i]) + l2*np.sin(posicionP2_1[:i]), -l1*np.cos(posicionP1_1[:i]) -l2*np.cos(posicionP2_1[:i]), 'b',\n",
    "                    l1*np.sin(posicionP1_2[:i]), -l1*np.cos(posicionP1_2[:i]), 'm', \n",
    "                    l1*np.sin(posicionP1_2[:i]) + l2*np.sin(posicionP2_2[:i]), -l1*np.cos(posicionP1_2[:i]) -l2*np.cos(posicionP2_2[:i]), 'm',\n",
    "                    l1*np.sin(posicionP1_3[:i]), -l1*np.cos(posicionP1_3[:i]), 'g', \n",
    "                    l1*np.sin(posicionP1_3[:i]) + l2*np.sin(posicionP2_3[:i]), -l1*np.cos(posicionP1_3[:i]) -l2*np.cos(posicionP2_3[:i]), 'g', alpha = 0.5, lw = 1)\n",
    "    return ax.get_lines()\n",
    "\n",
    "FuncAnimation(figura, PenduloDobleAni2, frames = range(solucion_1.y.shape[1]), interval = 10, repeat = False)"
   ]
  },
  {
   "cell_type": "markdown",
   "id": "40c6b2f9",
   "metadata": {},
   "source": [
    "## Conclusión"
   ]
  },
  {
   "cell_type": "markdown",
   "id": "4b260990",
   "metadata": {},
   "source": [
    "El movimiento caótico de un sistema de tres péndulos dobles fue simulado con éxito debido a que durante la animación se puede observar que la trayectoria es totalmente distinta para cada péndulo y además es impredecible en los 3 casos."
   ]
  }
 ],
 "metadata": {
  "kernelspec": {
   "display_name": "Python 3 (ipykernel)",
   "language": "python",
   "name": "python3"
  },
  "language_info": {
   "codemirror_mode": {
    "name": "ipython",
    "version": 3
   },
   "file_extension": ".py",
   "mimetype": "text/x-python",
   "name": "python",
   "nbconvert_exporter": "python",
   "pygments_lexer": "ipython3",
   "version": "3.9.12"
  }
 },
 "nbformat": 4,
 "nbformat_minor": 5
}
