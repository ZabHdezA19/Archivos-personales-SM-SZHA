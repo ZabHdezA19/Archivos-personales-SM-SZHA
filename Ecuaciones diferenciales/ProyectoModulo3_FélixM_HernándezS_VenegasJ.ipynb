{
 "cells": [
  {
   "cell_type": "markdown",
   "id": "0dc74d3f",
   "metadata": {},
   "source": [
    "# Simulación de 3 péndulos dobles"
   ]
  },
  {
   "cell_type": "markdown",
   "id": "0cce58d7",
   "metadata": {},
   "source": [
    "La teoría del caos es la rama de la matemática, la física y otras ciencias que trata ciertos tipos de sistemas complejos y sistemas dinámicos no lineales muy sensibles a las variaciones en las condiciones iniciales en donde pequeños cambios en dichas condiciones pueden implicar grandes diferencias en el comportamiento futuro, imposibilitando la predicción a largo plazo. Realizar la animación de un sistema caótico compuesto por 3 péndulos dobles con las mismas características (longitudes, masas y velocidades), variando únicamente el ángulo inicial entre cada péndulo doble en 0.1 radianes."
   ]
  },
  {
   "cell_type": "markdown",
   "id": "3fc9c744",
   "metadata": {},
   "source": [
    "## Objetivos\n",
    "**Objetivo general**\n",
    " - *Simular el comportamiento caótico de un péndulo doble mediante la comparación de las trayectorias de 3 péndulos que varían ligeramente en el ángulo de su posición inicial.*\n",
    " \n",
    "**Objetivos específicos**\n",
    "   - *Establecer las características generales del sistema.*\n",
    "   - *Definir una función que simule el movimiento de un péndulo doble.*\n",
    "   - *Asignar las condiciones iniciales de cada péndulo, variando el ángulo de la posición inicial en cada caso.*\n",
    "   - *Resolver las ecuaciones de movimiento para los diferentes péndulos.*\n",
    "   - *Generar gráficas del tiempo vs posición y del tiempo vs velocidad del sistema de 3 péndulos dobles.*\n",
    "   - *Realizar una animación que simule el movimiento caótico del sistema anterior.*"
   ]
  },
  {
   "cell_type": "markdown",
   "id": "507e4432",
   "metadata": {},
   "source": [
    "## Obtención del modelo"
   ]
  },
  {
   "cell_type": "code",
   "execution_count": 1,
   "id": "d2583444",
   "metadata": {},
   "outputs": [],
   "source": [
    "# Importación de librerías\n",
    "import numpy as np\n",
    "import matplotlib.pyplot as plt\n",
    "from scipy.integrate import solve_ivp\n",
    "from matplotlib.animation import FuncAnimation\n",
    "import sympy as sym"
   ]
  },
  {
   "cell_type": "code",
   "execution_count": 2,
   "id": "cef5eac3",
   "metadata": {},
   "outputs": [],
   "source": [
    "# Inicialización de las características del sistema\n",
    "g = 9.8       # Gravedad de la Tierra\n",
    "l1 = 0.5      # Longitud del primer péndulo en m\n",
    "l2 = 0.3      # Longitud del segundo péndulo en m\n",
    "m1 = 0.8      # Masa del primer péndulo en kg\n",
    "m2 = 0.4      # Masa del segundo péndulo en kg"
   ]
  },
  {
   "cell_type": "code",
   "execution_count": 3,
   "id": "0089cc8f",
   "metadata": {},
   "outputs": [],
   "source": [
    "# Definición de la función del movimiento del péndulo doble\n",
    "def PenduloDoble(t, arreglo):\n",
    "    theta1 = arreglo[0]\n",
    "    theta2 = arreglo[1]\n",
    "    v1 = arreglo[2]\n",
    "    v2 = arreglo[3]\n",
    "    # Función de movimiento del primer péndulo\n",
    "    p1=(-g*(2*m1+m2)*np.sin(theta1)-m2*g*np.sin(theta1-2*theta2)-2*np.sin(theta1-theta2)*m2*(v2**2*l2+v1*l1*np.cos(theta1-theta2)))/(l1*(2*m1+m2-m2*np.cos(2*theta1-2*theta2)))\n",
    "    # Función de movimiento del segundo péndulo\n",
    "    p2=(2*np.sin(theta1-theta2)*(v1**2*l1*(m1+m2)+g*(m1+m2)*np.cos(theta1)+v2**2*l2*m2*np.cos(theta1-theta2)))/(l2*(2*m1+m2-m2*np.cos(2*theta1-2*theta2)))\n",
    "    return np.array([v1,v2,p1,p2])"
   ]
  },
  {
   "cell_type": "code",
   "execution_count": 4,
   "id": "4d64ff69",
   "metadata": {},
   "outputs": [
    {
     "data": {
      "text/plain": [
       "[2.893998060729286, 2.893998060729286, 0.6994347563255778, 0.6994347563255778]"
      ]
     },
     "execution_count": 4,
     "metadata": {},
     "output_type": "execute_result"
    }
   ],
   "source": [
    "# Condiciones iniciales del primer péndulo doble (P1)\n",
    "t = (0,100)\n",
    "arreglo_1 = []\n",
    "theta1_1 = np.random.uniform(0.01,np.pi)\n",
    "theta2_1 = theta1_1\n",
    "v1_1 = np.random.uniform(0,2)\n",
    "v2_1 = v1_1\n",
    "arreglo_1.append(theta1_1)\n",
    "arreglo_1.append(theta2_1)\n",
    "arreglo_1.append(v1_1)\n",
    "arreglo_1.append(v2_1)\n",
    "arreglo_1"
   ]
  },
  {
   "cell_type": "code",
   "execution_count": 5,
   "id": "85bf4402",
   "metadata": {},
   "outputs": [
    {
     "data": {
      "text/plain": [
       "[2.993998060729286, 2.993998060729286, 0.6994347563255778, 0.6994347563255778]"
      ]
     },
     "execution_count": 5,
     "metadata": {},
     "output_type": "execute_result"
    }
   ],
   "source": [
    "# Condiciones iniciales del segundo péndulo doble (P2)\n",
    "arreglo_2 = []\n",
    "theta1_2 = theta1_1 + 0.1\n",
    "theta2_2 = theta1_2\n",
    "v1_2 = v1_1 \n",
    "v2_2 = v1_2 \n",
    "arreglo_2.append(theta1_2)\n",
    "arreglo_2.append(theta2_2)\n",
    "arreglo_2.append(v1_2)\n",
    "arreglo_2.append(v2_2)\n",
    "arreglo_2"
   ]
  },
  {
   "cell_type": "code",
   "execution_count": 6,
   "id": "b10cd48f",
   "metadata": {},
   "outputs": [
    {
     "data": {
      "text/plain": [
       "[3.093998060729286, 3.093998060729286, 0.6994347563255778, 0.6994347563255778]"
      ]
     },
     "execution_count": 6,
     "metadata": {},
     "output_type": "execute_result"
    }
   ],
   "source": [
    "# Condiciones iniciales del tercer péndulo doble (P3)\n",
    "arreglo_3 = []\n",
    "theta1_3 = theta1_2 + 0.1\n",
    "theta2_3 = theta1_3\n",
    "v1_3 = v1_2 \n",
    "v2_3 = v1_3 \n",
    "arreglo_3.append(theta1_3)\n",
    "arreglo_3.append(theta2_3)\n",
    "arreglo_3.append(v1_3)\n",
    "arreglo_3.append(v2_3)\n",
    "arreglo_3"
   ]
  },
  {
   "cell_type": "markdown",
   "id": "84154827",
   "metadata": {},
   "source": [
    "## Solución del problema"
   ]
  },
  {
   "cell_type": "code",
   "execution_count": 7,
   "id": "3054067a",
   "metadata": {},
   "outputs": [
    {
     "data": {
      "text/plain": [
       "  message: 'The solver successfully reached the end of the integration interval.'\n",
       "     nfev: 60002\n",
       "     njev: 0\n",
       "      nlu: 0\n",
       "      sol: None\n",
       "   status: 0\n",
       "  success: True\n",
       "        t: array([0.000e+00, 1.000e-02, 2.000e-02, ..., 9.998e+01, 9.999e+01,\n",
       "       1.000e+02])\n",
       " t_events: None\n",
       "        y: array([[   2.89399806,    2.9007544 ,    2.90704292, ..., -390.56181156,\n",
       "        -390.61994663, -390.68727742],\n",
       "       [   2.89399806,    2.9009925 ,    2.90798822, ..., -568.26769676,\n",
       "        -568.50575002, -568.74268444],\n",
       "       [   0.69943476,    0.65204314,    0.60584984, ...,   -5.33832035,\n",
       "          -6.28104881,   -7.1769108 ],\n",
       "       [   0.69943476,    0.69947152,    0.69972818, ...,  -23.9069283 ,\n",
       "         -23.72897785,  -23.67374491]])\n",
       " y_events: None"
      ]
     },
     "execution_count": 7,
     "metadata": {},
     "output_type": "execute_result"
    }
   ],
   "source": [
    "# Solución de las ecuaciones de movimiento del primer péndulo doble (P1)\n",
    "solucion_1 = solve_ivp(PenduloDoble, t, np.array(arreglo_1), max_step = 0.01)\n",
    "solucion_1"
   ]
  },
  {
   "cell_type": "code",
   "execution_count": 8,
   "id": "d0b1b69d",
   "metadata": {},
   "outputs": [
    {
     "data": {
      "text/plain": [
       "  message: 'The solver successfully reached the end of the integration interval.'\n",
       "     nfev: 60002\n",
       "     njev: 0\n",
       "      nlu: 0\n",
       "      sol: None\n",
       "   status: 0\n",
       "  success: True\n",
       "        t: array([0.000e+00, 1.000e-02, 2.000e-02, ..., 9.998e+01, 9.999e+01,\n",
       "       1.000e+02])\n",
       " t_events: None\n",
       "        y: array([[  2.99399806,   3.00085052,   3.00742783, ...,  64.11793601,\n",
       "         64.09755079,  64.07651052],\n",
       "       [  2.99399806,   3.00099246,   3.00798765, ..., 185.74231957,\n",
       "        185.65902373, 185.57538921],\n",
       "       [  0.69943476,   0.67127577,   0.64439372, ...,  -2.00415175,\n",
       "         -2.07209902,  -2.13509215],\n",
       "       [  0.69943476,   0.69945713,   0.6996122 , ...,  -8.31952805,\n",
       "         -8.34304805,  -8.38738172]])\n",
       " y_events: None"
      ]
     },
     "execution_count": 8,
     "metadata": {},
     "output_type": "execute_result"
    }
   ],
   "source": [
    "# Solución de las ecuaciones de movimiento del segundo péndulo doble (P2)\n",
    "solucion_2 = solve_ivp(PenduloDoble, t, np.array(arreglo_2), max_step = 0.01)\n",
    "solucion_2"
   ]
  },
  {
   "cell_type": "code",
   "execution_count": 9,
   "id": "d63218db",
   "metadata": {},
   "outputs": [
    {
     "data": {
      "text/plain": [
       "  message: 'The solver successfully reached the end of the integration interval.'\n",
       "     nfev: 60002\n",
       "     njev: 0\n",
       "      nlu: 0\n",
       "      sol: None\n",
       "   status: 0\n",
       "  success: True\n",
       "        t: array([0.000e+00, 1.000e-02, 2.000e-02, ..., 9.998e+01, 9.999e+01,\n",
       "       1.000e+02])\n",
       " t_events: None\n",
       "        y: array([[   3.09399806,    3.10094805,    3.10781835, ..., -224.42902578,\n",
       "        -224.47394531, -224.5259343 ],\n",
       "       [   3.09399806,    3.10099243,    3.10798703, ..., -439.26766788,\n",
       "        -439.43238374, -439.59161111],\n",
       "       [   0.69943476,    0.69079016,    0.68349065, ...,   -4.13040213,\n",
       "          -4.84967268,   -5.54345722],\n",
       "       [   0.69943476,    0.69944187,    0.69948961, ...,  -16.74043747,\n",
       "         -16.20128558,  -15.63740034]])\n",
       " y_events: None"
      ]
     },
     "execution_count": 9,
     "metadata": {},
     "output_type": "execute_result"
    }
   ],
   "source": [
    "# Solución de las ecuaciones de movimiento del tercer péndulo doble (P3)\n",
    "solucion_3 = solve_ivp(PenduloDoble, t, np.array(arreglo_3), max_step = 0.01)\n",
    "solucion_3"
   ]
  },
  {
   "cell_type": "code",
   "execution_count": 10,
   "id": "804e69bb",
   "metadata": {},
   "outputs": [
    {
     "data": {
      "text/plain": [
       "(4, 10001)"
      ]
     },
     "execution_count": 10,
     "metadata": {},
     "output_type": "execute_result"
    }
   ],
   "source": [
    "# Obtención de las dimensiones de la solución de P1\n",
    "solucion_1.y.shape"
   ]
  },
  {
   "cell_type": "code",
   "execution_count": 11,
   "id": "da8acb42",
   "metadata": {},
   "outputs": [
    {
     "data": {
      "text/plain": [
       "(4, 10001)"
      ]
     },
     "execution_count": 11,
     "metadata": {},
     "output_type": "execute_result"
    }
   ],
   "source": [
    "# Obtención de las dimensiones de la solución de P2\n",
    "solucion_2.y.shape"
   ]
  },
  {
   "cell_type": "code",
   "execution_count": 12,
   "id": "cbf9689b",
   "metadata": {},
   "outputs": [
    {
     "data": {
      "text/plain": [
       "(4, 10001)"
      ]
     },
     "execution_count": 12,
     "metadata": {},
     "output_type": "execute_result"
    }
   ],
   "source": [
    "# Obtención de las dimensiones de la solución de P3\n",
    "solucion_3.y.shape"
   ]
  },
  {
   "cell_type": "code",
   "execution_count": 13,
   "id": "00899770",
   "metadata": {},
   "outputs": [
    {
     "data": {
      "text/plain": [
       "(10001, 4)"
      ]
     },
     "execution_count": 13,
     "metadata": {},
     "output_type": "execute_result"
    }
   ],
   "source": [
    "# Redimensionamiento de la solución de P1\n",
    "x_1 = solucion_1.y.T\n",
    "x_1.shape"
   ]
  },
  {
   "cell_type": "code",
   "execution_count": 14,
   "id": "0904c335",
   "metadata": {},
   "outputs": [
    {
     "data": {
      "text/plain": [
       "(10001, 4)"
      ]
     },
     "execution_count": 14,
     "metadata": {},
     "output_type": "execute_result"
    }
   ],
   "source": [
    "# Redimensionamiento de la solución de P2\n",
    "x_2 = solucion_2.y.T\n",
    "x_2.shape"
   ]
  },
  {
   "cell_type": "code",
   "execution_count": 15,
   "id": "5ae80cc6",
   "metadata": {},
   "outputs": [
    {
     "data": {
      "text/plain": [
       "(10001, 4)"
      ]
     },
     "execution_count": 15,
     "metadata": {},
     "output_type": "execute_result"
    }
   ],
   "source": [
    "# Redimensionamiento de la solución de P3\n",
    "x_3 = solucion_3.y.T\n",
    "x_3.shape"
   ]
  },
  {
   "cell_type": "code",
   "execution_count": 16,
   "id": "cd755e4c",
   "metadata": {},
   "outputs": [
    {
     "data": {
      "text/plain": [
       "array([   2.89399806,    2.9007544 ,    2.90704292, ..., -390.56181156,\n",
       "       -390.61994663, -390.68727742])"
      ]
     },
     "execution_count": 16,
     "metadata": {},
     "output_type": "execute_result"
    }
   ],
   "source": [
    "x_1[:,0] # Posición del primer péndulo de P1"
   ]
  },
  {
   "cell_type": "code",
   "execution_count": 17,
   "id": "7a34da25",
   "metadata": {},
   "outputs": [
    {
     "data": {
      "text/plain": [
       "array([   2.89399806,    2.9009925 ,    2.90798822, ..., -568.26769676,\n",
       "       -568.50575002, -568.74268444])"
      ]
     },
     "execution_count": 17,
     "metadata": {},
     "output_type": "execute_result"
    }
   ],
   "source": [
    "x_1[:,1] # Posición del segundo péndulo de P1"
   ]
  },
  {
   "cell_type": "code",
   "execution_count": 18,
   "id": "3fc292aa",
   "metadata": {},
   "outputs": [
    {
     "data": {
      "text/plain": [
       "array([ 0.69943476,  0.65204314,  0.60584984, ..., -5.33832035,\n",
       "       -6.28104881, -7.1769108 ])"
      ]
     },
     "execution_count": 18,
     "metadata": {},
     "output_type": "execute_result"
    }
   ],
   "source": [
    "x_1[:,2] # Velocidad del primer péndulo de P1"
   ]
  },
  {
   "cell_type": "code",
   "execution_count": 19,
   "id": "d47d12f2",
   "metadata": {},
   "outputs": [
    {
     "data": {
      "text/plain": [
       "array([  0.69943476,   0.69947152,   0.69972818, ..., -23.9069283 ,\n",
       "       -23.72897785, -23.67374491])"
      ]
     },
     "execution_count": 19,
     "metadata": {},
     "output_type": "execute_result"
    }
   ],
   "source": [
    "x_1[:,3] # Velocidad del segundo péndulo de P1"
   ]
  },
  {
   "cell_type": "code",
   "execution_count": 20,
   "id": "6e516634",
   "metadata": {},
   "outputs": [],
   "source": [
    "%matplotlib inline "
   ]
  },
  {
   "cell_type": "code",
   "execution_count": 21,
   "id": "5f2eb2cb",
   "metadata": {},
   "outputs": [
    {
     "data": {
      "image/png": "[encoded data removed]",
      "text/plain": [
       "<Figure size 432x288 with 1 Axes>"
      ]
     },
     "metadata": {
      "needs_background": "light"
     },
     "output_type": "display_data"
    }
   ],
   "source": [
    "# Gráfica de movimiento de los 3 péndulos dobles (P1,P2 y P3)\n",
    "plt.plot(solucion_1.t,x_1[:,0], 'b', label = 'Péndulo 1, P1') \n",
    "plt.plot(solucion_1.t,x_1[:,1], 'b--', label = 'Péndulo 2, P1')\n",
    "plt.plot(solucion_2.t,x_2[:,0], 'm', label = 'Péndulo 1, P2') \n",
    "plt.plot(solucion_2.t,x_2[:,1], 'm--', label = 'Péndulo 2, P2')\n",
    "plt.plot(solucion_3.t,x_3[:,0], 'g', label = 'Péndulo 1, P3') \n",
    "plt.plot(solucion_3.t,x_3[:,1], 'g--', label = 'Péndulo 2, P3')\n",
    "plt.xlabel('Tiempo ($s$)')\n",
    "plt.ylabel('Posición ($m$)')\n",
    "plt.legend()\n",
    "plt.grid()"
   ]
  },
  {
   "cell_type": "code",
   "execution_count": 22,
   "id": "c2cfb92d",
   "metadata": {},
   "outputs": [
    {
     "data": {
      "image/png": "[encoded data removed]",
      "text/plain": [
       "<Figure size 432x288 with 1 Axes>"
      ]
     },
     "metadata": {
      "needs_background": "light"
     },
     "output_type": "display_data"
    }
   ],
   "source": [
    "# Gráfica de velocidad de los 3 péndulos dobles (P1,P2 y P3)\n",
    "plt.plot(solucion_1.t,x_1[:,2], 'b', label = 'Péndulo 1, P1')\n",
    "plt.plot(solucion_1.t,x_1[:,3], 'b--',  label = 'Péndulo 2, P1')\n",
    "plt.plot(solucion_2.t,x_2[:,2], 'm', label = 'Péndulo 1, P2')\n",
    "plt.plot(solucion_2.t,x_2[:,3], 'm--', label = 'Péndulo 2, P2')\n",
    "plt.plot(solucion_3.t,x_3[:,2], 'g', label = 'Péndulo 1, P3') \n",
    "plt.plot(solucion_3.t,x_3[:,3], 'g--', label = 'Péndulo 2, P3')\n",
    "plt.xlabel('Tiempo ($s$)')\n",
    "plt.ylabel('Velocidad ($\\dfrac{m}{s}$)')\n",
    "plt.legend()\n",
    "plt.grid()"
   ]
  },
  {
   "cell_type": "code",
   "execution_count": 23,
   "id": "cb695755",
   "metadata": {},
   "outputs": [
    {
     "data": {
      "text/plain": [
       "2.893998060729286"
      ]
     },
     "execution_count": 23,
     "metadata": {},
     "output_type": "execute_result"
    }
   ],
   "source": [
    "# Iteración sobre la posición angular del Péndulo 1, P1\n",
    "posicionP1_1 = []\n",
    "for i in range(solucion_1.y.shape[1]):\n",
    "    posicionP1_1.append(x_1[i,0])\n",
    "posicionP1_1[0]"
   ]
  },
  {
   "cell_type": "code",
   "execution_count": 24,
   "id": "37fabb65",
   "metadata": {},
   "outputs": [
    {
     "data": {
      "text/plain": [
       "2.893998060729286"
      ]
     },
     "execution_count": 24,
     "metadata": {},
     "output_type": "execute_result"
    }
   ],
   "source": [
    "# Iteración sobre la posición angular del Péndulo 2, P1\n",
    "posicionP2_1 = []\n",
    "for i in range(solucion_1.y.shape[1]):\n",
    "    posicionP2_1.append(x_1[i,1])\n",
    "posicionP2_1[0]"
   ]
  },
  {
   "cell_type": "code",
   "execution_count": 25,
   "id": "9b0cfe97",
   "metadata": {},
   "outputs": [
    {
     "data": {
      "text/plain": [
       "2.993998060729286"
      ]
     },
     "execution_count": 25,
     "metadata": {},
     "output_type": "execute_result"
    }
   ],
   "source": [
    "# Iteración sobre la posición angular del Péndulo 1, P2 \n",
    "posicionP1_2 = []\n",
    "for i in range(solucion_2.y.shape[1]):\n",
    "    posicionP1_2.append(x_2[i,0])\n",
    "posicionP1_2[0]"
   ]
  },
  {
   "cell_type": "code",
   "execution_count": 26,
   "id": "f92becb4",
   "metadata": {},
   "outputs": [
    {
     "data": {
      "text/plain": [
       "2.993998060729286"
      ]
     },
     "execution_count": 26,
     "metadata": {},
     "output_type": "execute_result"
    }
   ],
   "source": [
    "# Iteración sobre la posición angular del Péndulo 2, P2\n",
    "posicionP2_2 = []\n",
    "for i in range(solucion_2.y.shape[1]):\n",
    "    posicionP2_2.append(x_2[i,1])\n",
    "posicionP2_2[0]"
   ]
  },
  {
   "cell_type": "code",
   "execution_count": 27,
   "id": "da79e9c4",
   "metadata": {},
   "outputs": [
    {
     "data": {
      "text/plain": [
       "3.093998060729286"
      ]
     },
     "execution_count": 27,
     "metadata": {},
     "output_type": "execute_result"
    }
   ],
   "source": [
    "# Iteración sobre la posición angular del Péndulo 1, P3 \n",
    "posicionP1_3 = []\n",
    "for i in range(solucion_3.y.shape[1]):\n",
    "    posicionP1_3.append(x_3[i,0])\n",
    "posicionP1_3[0]"
   ]
  },
  {
   "cell_type": "code",
   "execution_count": 28,
   "id": "e205717b",
   "metadata": {},
   "outputs": [
    {
     "data": {
      "text/plain": [
       "3.093998060729286"
      ]
     },
     "execution_count": 28,
     "metadata": {},
     "output_type": "execute_result"
    }
   ],
   "source": [
    "# Iteración sobre la posición angular del Péndulo 2, P3\n",
    "posicionP2_3 = []\n",
    "for i in range(solucion_3.y.shape[1]):\n",
    "    posicionP2_3.append(x_3[i,1])\n",
    "posicionP2_3[0]"
   ]
  },
  {
   "cell_type": "code",
   "execution_count": 29,
   "id": "632337d3",
   "metadata": {},
   "outputs": [],
   "source": [
    "%matplotlib notebook"
   ]
  },
  {
   "cell_type": "code",
   "execution_count": 30,
   "id": "2b20f03d",
   "metadata": {},
   "outputs": [
    {
     "data": {
      "application/javascript": [
       "/* Put everything inside the global mpl namespace */\n",
       "/* global mpl */\n",
       "window.mpl = {};\n",
       "\n",
       "mpl.get_websocket_type = function () {\n",
       "    if (typeof WebSocket !== 'undefined') {\n",
       "        return WebSocket;\n",
       "    } else if (typeof MozWebSocket !== 'undefined') {\n",
       "        return MozWebSocket;\n",
       "    } else {\n",
       "        alert(\n",
       "            'Your browser does not have WebSocket support. ' +\n",
       "                'Please try Chrome, Safari or Firefox ≥ 6. ' +\n",
       "                'Firefox 4 and 5 are also supported but you ' +\n",
       "                'have to enable WebSockets in about:config.'\n",
       "        );\n",
       "    }\n",
       "};\n",
       "\n",
       "mpl.figure = function (figure_id, websocket, ondownload, parent_element) {\n",
       "    this.id = figure_id;\n",
       "\n",
       "    this.ws = websocket;\n",
       "\n",
       "    this.supports_binary = this.ws.binaryType !== undefined;\n",
       "\n",
       "    if (!this.supports_binary) {\n",
       "        var warnings = document.getElementById('mpl-warnings');\n",
       "        if (warnings) {\n",
       "            warnings.style.display = 'block';\n",
       "            warnings.textContent =\n",
       "                'This browser does not support binary websocket messages. ' +\n",
       "                'Performance may be slow.';\n",
       "        }\n",
       "    }\n",
       "\n",
       "    this.imageObj = new Image();\n",
       "\n",
       "    this.context = undefined;\n",
       "    this.message = undefined;\n",
       "    this.canvas = undefined;\n",
       "    this.rubberband_canvas = undefined;\n",
       "    this.rubberband_context = undefined;\n",
       "    this.format_dropdown = undefined;\n",
       "\n",
       "    this.image_mode = 'full';\n",
       "\n",
       "    this.root = document.createElement('div');\n",
       "    this.root.setAttribute('style', 'display: inline-block');\n",
       "    this._root_extra_style(this.root);\n",
       "\n",
       "    parent_element.appendChild(this.root);\n",
       "\n",
       "    this._init_header(this);\n",
       "    this._init_canvas(this);\n",
       "    this._init_toolbar(this);\n",
       "\n",
       "    var fig = this;\n",
       "\n",
       "    this.waiting = false;\n",
       "\n",
       "    this.ws.onopen = function () {\n",
       "        fig.send_message('supports_binary', { value: fig.supports_binary });\n",
       "        fig.send_message('send_image_mode', {});\n",
       "        if (fig.ratio !== 1) {\n",
       "            fig.send_message('set_device_pixel_ratio', {\n",
       "                device_pixel_ratio: fig.ratio,\n",
       "            });\n",
       "        }\n",
       "        fig.send_message('refresh', {});\n",
       "    };\n",
       "\n",
       "    this.imageObj.onload = function () {\n",
       "        if (fig.image_mode === 'full') {\n",
       "            // Full images could contain transparency (where diff images\n",
       "            // almost always do), so we need to clear the canvas so that\n",
       "            // there is no ghosting.\n",
       "            fig.context.clearRect(0, 0, fig.canvas.width, fig.canvas.height);\n",
       "        }\n",
       "        fig.context.drawImage(fig.imageObj, 0, 0);\n",
       "    };\n",
       "\n",
       "    this.imageObj.onunload = function () {\n",
       "        fig.ws.close();\n",
       "    };\n",
       "\n",
       "    this.ws.onmessage = this._make_on_message_function(this);\n",
       "\n",
       "    this.ondownload = ondownload;\n",
       "};\n",
       "\n",
       "mpl.figure.prototype._init_header = function () {\n",
       "    var titlebar = document.createElement('div');\n",
       "    titlebar.classList =\n",
       "        'ui-dialog-titlebar ui-widget-header ui-corner-all ui-helper-clearfix';\n",
       "    var titletext = document.createElement('div');\n",
       "    titletext.classList = 'ui-dialog-title';\n",
       "    titletext.setAttribute(\n",
       "        'style',\n",
       "        'width: 100%; text-align: center; padding: 3px;'\n",
       "    );\n",
       "    titlebar.appendChild(titletext);\n",
       "    this.root.appendChild(titlebar);\n",
       "    this.header = titletext;\n",
       "};\n",
       "\n",
       "mpl.figure.prototype._canvas_extra_style = function (_canvas_div) {};\n",
       "\n",
       "mpl.figure.prototype._root_extra_style = function (_canvas_div) {};\n",
       "\n",
       "mpl.figure.prototype._init_canvas = function () {\n",
       "    var fig = this;\n",
       "\n",
       "    var canvas_div = (this.canvas_div = document.createElement('div'));\n",
       "    canvas_div.setAttribute(\n",
       "        'style',\n",
       "        'border: 1px solid #ddd;' +\n",
       "            'box-sizing: content-box;' +\n",
       "            'clear: both;' +\n",
       "            'min-height: 1px;' +\n",
       "            'min-width: 1px;' +\n",
       "            'outline: 0;' +\n",
       "            'overflow: hidden;' +\n",
       "            'position: relative;' +\n",
       "            'resize: both;'\n",
       "    );\n",
       "\n",
       "    function on_keyboard_event_closure(name) {\n",
       "        return function (event) {\n",
       "            return fig.key_event(event, name);\n",
       "        };\n",
       "    }\n",
       "\n",
       "    canvas_div.addEventListener(\n",
       "        'keydown',\n",
       "        on_keyboard_event_closure('key_press')\n",
       "    );\n",
       "    canvas_div.addEventListener(\n",
       "        'keyup',\n",
       "        on_keyboard_event_closure('key_release')\n",
       "    );\n",
       "\n",
       "    this._canvas_extra_style(canvas_div);\n",
       "    this.root.appendChild(canvas_div);\n",
       "\n",
       "    var canvas = (this.canvas = document.createElement('canvas'));\n",
       "    canvas.classList.add('mpl-canvas');\n",
       "    canvas.setAttribute('style', 'box-sizing: content-box;');\n",
       "\n",
       "    this.context = canvas.getContext('2d');\n",
       "\n",
       "    var backingStore =\n",
       "        this.context.backingStorePixelRatio ||\n",
       "        this.context.webkitBackingStorePixelRatio ||\n",
       "        this.context.mozBackingStorePixelRatio ||\n",
       "        this.context.msBackingStorePixelRatio ||\n",
       "        this.context.oBackingStorePixelRatio ||\n",
       "        this.context.backingStorePixelRatio ||\n",
       "        1;\n",
       "\n",
       "    this.ratio = (window.devicePixelRatio || 1) / backingStore;\n",
       "\n",
       "    var rubberband_canvas = (this.rubberband_canvas = document.createElement(\n",
       "        'canvas'\n",
       "    ));\n",
       "    rubberband_canvas.setAttribute(\n",
       "        'style',\n",
       "        'box-sizing: content-box; position: absolute; left: 0; top: 0; z-index: 1;'\n",
       "    );\n",
       "\n",
       "    // Apply a ponyfill if ResizeObserver is not implemented by browser.\n",
       "    if (this.ResizeObserver === undefined) {\n",
       "        if (window.ResizeObserver !== undefined) {\n",
       "            this.ResizeObserver = window.ResizeObserver;\n",
       "        } else {\n",
       "            var obs = _JSXTOOLS_RESIZE_OBSERVER({});\n",
       "            this.ResizeObserver = obs.ResizeObserver;\n",
       "        }\n",
       "    }\n",
       "\n",
       "    this.resizeObserverInstance = new this.ResizeObserver(function (entries) {\n",
       "        var nentries = entries.length;\n",
       "        for (var i = 0; i < nentries; i++) {\n",
       "            var entry = entries[i];\n",
       "            var width, height;\n",
       "            if (entry.contentBoxSize) {\n",
       "                if (entry.contentBoxSize instanceof Array) {\n",
       "                    // Chrome 84 implements new version of spec.\n",
       "                    width = entry.contentBoxSize[0].inlineSize;\n",
       "                    height = entry.contentBoxSize[0].blockSize;\n",
       "                } else {\n",
       "                    // Firefox implements old version of spec.\n",
       "                    width = entry.contentBoxSize.inlineSize;\n",
       "                    height = entry.contentBoxSize.blockSize;\n",
       "                }\n",
       "            } else {\n",
       "                // Chrome <84 implements even older version of spec.\n",
       "                width = entry.contentRect.width;\n",
       "                height = entry.contentRect.height;\n",
       "            }\n",
       "\n",
       "            // Keep the size of the canvas and rubber band canvas in sync with\n",
       "            // the canvas container.\n",
       "            if (entry.devicePixelContentBoxSize) {\n",
       "                // Chrome 84 implements new version of spec.\n",
       "                canvas.setAttribute(\n",
       "                    'width',\n",
       "                    entry.devicePixelContentBoxSize[0].inlineSize\n",
       "                );\n",
       "                canvas.setAttribute(\n",
       "                    'height',\n",
       "                    entry.devicePixelContentBoxSize[0].blockSize\n",
       "                );\n",
       "            } else {\n",
       "                canvas.setAttribute('width', width * fig.ratio);\n",
       "                canvas.setAttribute('height', height * fig.ratio);\n",
       "            }\n",
       "            canvas.setAttribute(\n",
       "                'style',\n",
       "                'width: ' + width + 'px; height: ' + height + 'px;'\n",
       "            );\n",
       "\n",
       "            rubberband_canvas.setAttribute('width', width);\n",
       "            rubberband_canvas.setAttribute('height', height);\n",
       "\n",
       "            // And update the size in Python. We ignore the initial 0/0 size\n",
       "            // that occurs as the element is placed into the DOM, which should\n",
       "            // otherwise not happen due to the minimum size styling.\n",
       "            if (fig.ws.readyState == 1 && width != 0 && height != 0) {\n",
       "                fig.request_resize(width, height);\n",
       "            }\n",
       "        }\n",
       "    });\n",
       "    this.resizeObserverInstance.observe(canvas_div);\n",
       "\n",
       "    function on_mouse_event_closure(name) {\n",
       "        return function (event) {\n",
       "            return fig.mouse_event(event, name);\n",
       "        };\n",
       "    }\n",
       "\n",
       "    rubberband_canvas.addEventListener(\n",
       "        'mousedown',\n",
       "        on_mouse_event_closure('button_press')\n",
       "    );\n",
       "    rubberband_canvas.addEventListener(\n",
       "        'mouseup',\n",
       "        on_mouse_event_closure('button_release')\n",
       "    );\n",
       "    rubberband_canvas.addEventListener(\n",
       "        'dblclick',\n",
       "        on_mouse_event_closure('dblclick')\n",
       "    );\n",
       "    // Throttle sequential mouse events to 1 every 20ms.\n",
       "    rubberband_canvas.addEventListener(\n",
       "        'mousemove',\n",
       "        on_mouse_event_closure('motion_notify')\n",
       "    );\n",
       "\n",
       "    rubberband_canvas.addEventListener(\n",
       "        'mouseenter',\n",
       "        on_mouse_event_closure('figure_enter')\n",
       "    );\n",
       "    rubberband_canvas.addEventListener(\n",
       "        'mouseleave',\n",
       "        on_mouse_event_closure('figure_leave')\n",
       "    );\n",
       "\n",
       "    canvas_div.addEventListener('wheel', function (event) {\n",
       "        if (event.deltaY < 0) {\n",
       "            event.step = 1;\n",
       "        } else {\n",
       "            event.step = -1;\n",
       "        }\n",
       "        on_mouse_event_closure('scroll')(event);\n",
       "    });\n",
       "\n",
       "    canvas_div.appendChild(canvas);\n",
       "    canvas_div.appendChild(rubberband_canvas);\n",
       "\n",
       "    this.rubberband_context = rubberband_canvas.getContext('2d');\n",
       "    this.rubberband_context.strokeStyle = '#000000';\n",
       "\n",
       "    this._resize_canvas = function (width, height, forward) {\n",
       "        if (forward) {\n",
       "            canvas_div.style.width = width + 'px';\n",
       "            canvas_div.style.height = height + 'px';\n",
       "        }\n",
       "    };\n",
       "\n",
       "    // Disable right mouse context menu.\n",
       "    this.rubberband_canvas.addEventListener('contextmenu', function (_e) {\n",
       "        event.preventDefault();\n",
       "        return false;\n",
       "    });\n",
       "\n",
       "    function set_focus() {\n",
       "        canvas.focus();\n",
       "        canvas_div.focus();\n",
       "    }\n",
       "\n",
       "    window.setTimeout(set_focus, 100);\n",
       "};\n",
       "\n",
       "mpl.figure.prototype._init_toolbar = function () {\n",
       "    var fig = this;\n",
       "\n",
       "    var toolbar = document.createElement('div');\n",
       "    toolbar.classList = 'mpl-toolbar';\n",
       "    this.root.appendChild(toolbar);\n",
       "\n",
       "    function on_click_closure(name) {\n",
       "        return function (_event) {\n",
       "            return fig.toolbar_button_onclick(name);\n",
       "        };\n",
       "    }\n",
       "\n",
       "    function on_mouseover_closure(tooltip) {\n",
       "        return function (event) {\n",
       "            if (!event.currentTarget.disabled) {\n",
       "                return fig.toolbar_button_onmouseover(tooltip);\n",
       "            }\n",
       "        };\n",
       "    }\n",
       "\n",
       "    fig.buttons = {};\n",
       "    var buttonGroup = document.createElement('div');\n",
       "    buttonGroup.classList = 'mpl-button-group';\n",
       "    for (var toolbar_ind in mpl.toolbar_items) {\n",
       "        var name = mpl.toolbar_items[toolbar_ind][0];\n",
       "        var tooltip = mpl.toolbar_items[toolbar_ind][1];\n",
       "        var image = mpl.toolbar_items[toolbar_ind][2];\n",
       "        var method_name = mpl.toolbar_items[toolbar_ind][3];\n",
       "\n",
       "        if (!name) {\n",
       "            /* Instead of a spacer, we start a new button group. */\n",
       "            if (buttonGroup.hasChildNodes()) {\n",
       "                toolbar.appendChild(buttonGroup);\n",
       "            }\n",
       "            buttonGroup = document.createElement('div');\n",
       "            buttonGroup.classList = 'mpl-button-group';\n",
       "            continue;\n",
       "        }\n",
       "\n",
       "        var button = (fig.buttons[name] = document.createElement('button'));\n",
       "        button.classList = 'mpl-widget';\n",
       "        button.setAttribute('role', 'button');\n",
       "        button.setAttribute('aria-disabled', 'false');\n",
       "        button.addEventListener('click', on_click_closure(method_name));\n",
       "        button.addEventListener('mouseover', on_mouseover_closure(tooltip));\n",
       "\n",
       "        var icon_img = document.createElement('img');\n",
       "        icon_img.src = '_images/' + image + '.png';\n",
       "        icon_img.srcset = '_images/' + image + '_large.png 2x';\n",
       "        icon_img.alt = tooltip;\n",
       "        button.appendChild(icon_img);\n",
       "\n",
       "        buttonGroup.appendChild(button);\n",
       "    }\n",
       "\n",
       "    if (buttonGroup.hasChildNodes()) {\n",
       "        toolbar.appendChild(buttonGroup);\n",
       "    }\n",
       "\n",
       "    var fmt_picker = document.createElement('select');\n",
       "    fmt_picker.classList = 'mpl-widget';\n",
       "    toolbar.appendChild(fmt_picker);\n",
       "    this.format_dropdown = fmt_picker;\n",
       "\n",
       "    for (var ind in mpl.extensions) {\n",
       "        var fmt = mpl.extensions[ind];\n",
       "        var option = document.createElement('option');\n",
       "        option.selected = fmt === mpl.default_extension;\n",
       "        option.innerHTML = fmt;\n",
       "        fmt_picker.appendChild(option);\n",
       "    }\n",
       "\n",
       "    var status_bar = document.createElement('span');\n",
       "    status_bar.classList = 'mpl-message';\n",
       "    toolbar.appendChild(status_bar);\n",
       "    this.message = status_bar;\n",
       "};\n",
       "\n",
       "mpl.figure.prototype.request_resize = function (x_pixels, y_pixels) {\n",
       "    // Request matplotlib to resize the figure. Matplotlib will then trigger a resize in the client,\n",
       "    // which will in turn request a refresh of the image.\n",
       "    this.send_message('resize', { width: x_pixels, height: y_pixels });\n",
       "};\n",
       "\n",
       "mpl.figure.prototype.send_message = function (type, properties) {\n",
       "    properties['type'] = type;\n",
       "    properties['figure_id'] = this.id;\n",
       "    this.ws.send(JSON.stringify(properties));\n",
       "};\n",
       "\n",
       "mpl.figure.prototype.send_draw_message = function () {\n",
       "    if (!this.waiting) {\n",
       "        this.waiting = true;\n",
       "        this.ws.send(JSON.stringify({ type: 'draw', figure_id: this.id }));\n",
       "    }\n",
       "};\n",
       "\n",
       "mpl.figure.prototype.handle_save = function (fig, _msg) {\n",
       "    var format_dropdown = fig.format_dropdown;\n",
       "    var format = format_dropdown.options[format_dropdown.selectedIndex].value;\n",
       "    fig.ondownload(fig, format);\n",
       "};\n",
       "\n",
       "mpl.figure.prototype.handle_resize = function (fig, msg) {\n",
       "    var size = msg['size'];\n",
       "    if (size[0] !== fig.canvas.width || size[1] !== fig.canvas.height) {\n",
       "        fig._resize_canvas(size[0], size[1], msg['forward']);\n",
       "        fig.send_message('refresh', {});\n",
       "    }\n",
       "};\n",
       "\n",
       "mpl.figure.prototype.handle_rubberband = function (fig, msg) {\n",
       "    var x0 = msg['x0'] / fig.ratio;\n",
       "    var y0 = (fig.canvas.height - msg['y0']) / fig.ratio;\n",
       "    var x1 = msg['x1'] / fig.ratio;\n",
       "    var y1 = (fig.canvas.height - msg['y1']) / fig.ratio;\n",
       "    x0 = Math.floor(x0) + 0.5;\n",
       "    y0 = Math.floor(y0) + 0.5;\n",
       "    x1 = Math.floor(x1) + 0.5;\n",
       "    y1 = Math.floor(y1) + 0.5;\n",
       "    var min_x = Math.min(x0, x1);\n",
       "    var min_y = Math.min(y0, y1);\n",
       "    var width = Math.abs(x1 - x0);\n",
       "    var height = Math.abs(y1 - y0);\n",
       "\n",
       "    fig.rubberband_context.clearRect(\n",
       "        0,\n",
       "        0,\n",
       "        fig.canvas.width / fig.ratio,\n",
       "        fig.canvas.height / fig.ratio\n",
       "    );\n",
       "\n",
       "    fig.rubberband_context.strokeRect(min_x, min_y, width, height);\n",
       "};\n",
       "\n",
       "mpl.figure.prototype.handle_figure_label = function (fig, msg) {\n",
       "    // Updates the figure title.\n",
       "    fig.header.textContent = msg['label'];\n",
       "};\n",
       "\n",
       "mpl.figure.prototype.handle_cursor = function (fig, msg) {\n",
       "    fig.rubberband_canvas.style.cursor = msg['cursor'];\n",
       "};\n",
       "\n",
       "mpl.figure.prototype.handle_message = function (fig, msg) {\n",
       "    fig.message.textContent = msg['message'];\n",
       "};\n",
       "\n",
       "mpl.figure.prototype.handle_draw = function (fig, _msg) {\n",
       "    // Request the server to send over a new figure.\n",
       "    fig.send_draw_message();\n",
       "};\n",
       "\n",
       "mpl.figure.prototype.handle_image_mode = function (fig, msg) {\n",
       "    fig.image_mode = msg['mode'];\n",
       "};\n",
       "\n",
       "mpl.figure.prototype.handle_history_buttons = function (fig, msg) {\n",
       "    for (var key in msg) {\n",
       "        if (!(key in fig.buttons)) {\n",
       "            continue;\n",
       "        }\n",
       "        fig.buttons[key].disabled = !msg[key];\n",
       "        fig.buttons[key].setAttribute('aria-disabled', !msg[key]);\n",
       "    }\n",
       "};\n",
       "\n",
       "mpl.figure.prototype.handle_navigate_mode = function (fig, msg) {\n",
       "    if (msg['mode'] === 'PAN') {\n",
       "        fig.buttons['Pan'].classList.add('active');\n",
       "        fig.buttons['Zoom'].classList.remove('active');\n",
       "    } else if (msg['mode'] === 'ZOOM') {\n",
       "        fig.buttons['Pan'].classList.remove('active');\n",
       "        fig.buttons['Zoom'].classList.add('active');\n",
       "    } else {\n",
       "        fig.buttons['Pan'].classList.remove('active');\n",
       "        fig.buttons['Zoom'].classList.remove('active');\n",
       "    }\n",
       "};\n",
       "\n",
       "mpl.figure.prototype.updated_canvas_event = function () {\n",
       "    // Called whenever the canvas gets updated.\n",
       "    this.send_message('ack', {});\n",
       "};\n",
       "\n",
       "// A function to construct a web socket function for onmessage handling.\n",
       "// Called in the figure constructor.\n",
       "mpl.figure.prototype._make_on_message_function = function (fig) {\n",
       "    return function socket_on_message(evt) {\n",
       "        if (evt.data instanceof Blob) {\n",
       "            var img = evt.data;\n",
       "            if (img.type !== 'image/png') {\n",
       "                /* FIXME: We get \"Resource interpreted as Image but\n",
       "                 * transferred with MIME type text/plain:\" errors on\n",
       "                 * Chrome.  But how to set the MIME type?  It doesn't seem\n",
       "                 * to be part of the websocket stream */\n",
       "                img.type = 'image/png';\n",
       "            }\n",
       "\n",
       "            /* Free the memory for the previous frames */\n",
       "            if (fig.imageObj.src) {\n",
       "                (window.URL || window.webkitURL).revokeObjectURL(\n",
       "                    fig.imageObj.src\n",
       "                );\n",
       "            }\n",
       "\n",
       "            fig.imageObj.src = (window.URL || window.webkitURL).createObjectURL(\n",
       "                img\n",
       "            );\n",
       "            fig.updated_canvas_event();\n",
       "            fig.waiting = false;\n",
       "            return;\n",
       "        } else if (\n",
       "            typeof evt.data === 'string' &&\n",
       "            evt.data.slice(0, 21) === 'data:image/png;base64'\n",
       "        ) {\n",
       "            fig.imageObj.src = evt.data;\n",
       "            fig.updated_canvas_event();\n",
       "            fig.waiting = false;\n",
       "            return;\n",
       "        }\n",
       "\n",
       "        var msg = JSON.parse(evt.data);\n",
       "        var msg_type = msg['type'];\n",
       "\n",
       "        // Call the  \"handle_{type}\" callback, which takes\n",
       "        // the figure and JSON message as its only arguments.\n",
       "        try {\n",
       "            var callback = fig['handle_' + msg_type];\n",
       "        } catch (e) {\n",
       "            console.log(\n",
       "                \"No handler for the '\" + msg_type + \"' message type: \",\n",
       "                msg\n",
       "            );\n",
       "            return;\n",
       "        }\n",
       "\n",
       "        if (callback) {\n",
       "            try {\n",
       "                // console.log(\"Handling '\" + msg_type + \"' message: \", msg);\n",
       "                callback(fig, msg);\n",
       "            } catch (e) {\n",
       "                console.log(\n",
       "                    \"Exception inside the 'handler_\" + msg_type + \"' callback:\",\n",
       "                    e,\n",
       "                    e.stack,\n",
       "                    msg\n",
       "                );\n",
       "            }\n",
       "        }\n",
       "    };\n",
       "};\n",
       "\n",
       "// from https://stackoverflow.com/questions/1114465/getting-mouse-location-in-canvas\n",
       "mpl.findpos = function (e) {\n",
       "    //this section is from http://www.quirksmode.org/js/events_properties.html\n",
       "    var targ;\n",
       "    if (!e) {\n",
       "        e = window.event;\n",
       "    }\n",
       "    if (e.target) {\n",
       "        targ = e.target;\n",
       "    } else if (e.srcElement) {\n",
       "        targ = e.srcElement;\n",
       "    }\n",
       "    if (targ.nodeType === 3) {\n",
       "        // defeat Safari bug\n",
       "        targ = targ.parentNode;\n",
       "    }\n",
       "\n",
       "    // pageX,Y are the mouse positions relative to the document\n",
       "    var boundingRect = targ.getBoundingClientRect();\n",
       "    var x = e.pageX - (boundingRect.left + document.body.scrollLeft);\n",
       "    var y = e.pageY - (boundingRect.top + document.body.scrollTop);\n",
       "\n",
       "    return { x: x, y: y };\n",
       "};\n",
       "\n",
       "/*\n",
       " * return a copy of an object with only non-object keys\n",
       " * we need this to avoid circular references\n",
       " * https://stackoverflow.com/a/24161582/3208463\n",
       " */\n",
       "function simpleKeys(original) {\n",
       "    return Object.keys(original).reduce(function (obj, key) {\n",
       "        if (typeof original[key] !== 'object') {\n",
       "            obj[key] = original[key];\n",
       "        }\n",
       "        return obj;\n",
       "    }, {});\n",
       "}\n",
       "\n",
       "mpl.figure.prototype.mouse_event = function (event, name) {\n",
       "    var canvas_pos = mpl.findpos(event);\n",
       "\n",
       "    if (name === 'button_press') {\n",
       "        this.canvas.focus();\n",
       "        this.canvas_div.focus();\n",
       "    }\n",
       "\n",
       "    var x = canvas_pos.x * this.ratio;\n",
       "    var y = canvas_pos.y * this.ratio;\n",
       "\n",
       "    this.send_message(name, {\n",
       "        x: x,\n",
       "        y: y,\n",
       "        button: event.button,\n",
       "        step: event.step,\n",
       "        guiEvent: simpleKeys(event),\n",
       "    });\n",
       "\n",
       "    /* This prevents the web browser from automatically changing to\n",
       "     * the text insertion cursor when the button is pressed.  We want\n",
       "     * to control all of the cursor setting manually through the\n",
       "     * 'cursor' event from matplotlib */\n",
       "    event.preventDefault();\n",
       "    return false;\n",
       "};\n",
       "\n",
       "mpl.figure.prototype._key_event_extra = function (_event, _name) {\n",
       "    // Handle any extra behaviour associated with a key event\n",
       "};\n",
       "\n",
       "mpl.figure.prototype.key_event = function (event, name) {\n",
       "    // Prevent repeat events\n",
       "    if (name === 'key_press') {\n",
       "        if (event.key === this._key) {\n",
       "            return;\n",
       "        } else {\n",
       "            this._key = event.key;\n",
       "        }\n",
       "    }\n",
       "    if (name === 'key_release') {\n",
       "        this._key = null;\n",
       "    }\n",
       "\n",
       "    var value = '';\n",
       "    if (event.ctrlKey && event.key !== 'Control') {\n",
       "        value += 'ctrl+';\n",
       "    }\n",
       "    else if (event.altKey && event.key !== 'Alt') {\n",
       "        value += 'alt+';\n",
       "    }\n",
       "    else if (event.shiftKey && event.key !== 'Shift') {\n",
       "        value += 'shift+';\n",
       "    }\n",
       "\n",
       "    value += 'k' + event.key;\n",
       "\n",
       "    this._key_event_extra(event, name);\n",
       "\n",
       "    this.send_message(name, { key: value, guiEvent: simpleKeys(event) });\n",
       "    return false;\n",
       "};\n",
       "\n",
       "mpl.figure.prototype.toolbar_button_onclick = function (name) {\n",
       "    if (name === 'download') {\n",
       "        this.handle_save(this, null);\n",
       "    } else {\n",
       "        this.send_message('toolbar_button', { name: name });\n",
       "    }\n",
       "};\n",
       "\n",
       "mpl.figure.prototype.toolbar_button_onmouseover = function (tooltip) {\n",
       "    this.message.textContent = tooltip;\n",
       "};\n",
       "\n",
       "///////////////// REMAINING CONTENT GENERATED BY embed_js.py /////////////////\n",
       "// prettier-ignore\n",
       "var _JSXTOOLS_RESIZE_OBSERVER=function(A){var t,i=new WeakMap,n=new WeakMap,a=new WeakMap,r=new WeakMap,o=new Set;function s(e){if(!(this instanceof s))throw new TypeError(\"Constructor requires 'new' operator\");i.set(this,e)}function h(){throw new TypeError(\"Function is not a constructor\")}function c(e,t,i,n){e=0 in arguments?Number(arguments[0]):0,t=1 in arguments?Number(arguments[1]):0,i=2 in arguments?Number(arguments[2]):0,n=3 in arguments?Number(arguments[3]):0,this.right=(this.x=this.left=e)+(this.width=i),this.bottom=(this.y=this.top=t)+(this.height=n),Object.freeze(this)}function d(){t=requestAnimationFrame(d);var s=new WeakMap,p=new Set;o.forEach((function(t){r.get(t).forEach((function(i){var r=t instanceof window.SVGElement,o=a.get(t),d=r?0:parseFloat(o.paddingTop),f=r?0:parseFloat(o.paddingRight),l=r?0:parseFloat(o.paddingBottom),u=r?0:parseFloat(o.paddingLeft),g=r?0:parseFloat(o.borderTopWidth),m=r?0:parseFloat(o.borderRightWidth),w=r?0:parseFloat(o.borderBottomWidth),b=u+f,F=d+l,v=(r?0:parseFloat(o.borderLeftWidth))+m,W=g+w,y=r?0:t.offsetHeight-W-t.clientHeight,E=r?0:t.offsetWidth-v-t.clientWidth,R=b+v,z=F+W,M=r?t.width:parseFloat(o.width)-R-E,O=r?t.height:parseFloat(o.height)-z-y;if(n.has(t)){var k=n.get(t);if(k[0]===M&&k[1]===O)return}n.set(t,[M,O]);var S=Object.create(h.prototype);S.target=t,S.contentRect=new c(u,d,M,O),s.has(i)||(s.set(i,[]),p.add(i)),s.get(i).push(S)}))})),p.forEach((function(e){i.get(e).call(e,s.get(e),e)}))}return s.prototype.observe=function(i){if(i instanceof window.Element){r.has(i)||(r.set(i,new Set),o.add(i),a.set(i,window.getComputedStyle(i)));var n=r.get(i);n.has(this)||n.add(this),cancelAnimationFrame(t),t=requestAnimationFrame(d)}},s.prototype.unobserve=function(i){if(i instanceof window.Element&&r.has(i)){var n=r.get(i);n.has(this)&&(n.delete(this),n.size||(r.delete(i),o.delete(i))),n.size||r.delete(i),o.size||cancelAnimationFrame(t)}},A.DOMRectReadOnly=c,A.ResizeObserver=s,A.ResizeObserverEntry=h,A}; // eslint-disable-line\n",
       "mpl.toolbar_items = [[\"Home\", \"Reset original view\", \"fa fa-home icon-home\", \"home\"], [\"Back\", \"Back to previous view\", \"fa fa-arrow-left icon-arrow-left\", \"back\"], [\"Forward\", \"Forward to next view\", \"fa fa-arrow-right icon-arrow-right\", \"forward\"], [\"\", \"\", \"\", \"\"], [\"Pan\", \"Left button pans, Right button zooms\\nx/y fixes axis, CTRL fixes aspect\", \"fa fa-arrows icon-move\", \"pan\"], [\"Zoom\", \"Zoom to rectangle\\nx/y fixes axis\", \"fa fa-square-o icon-check-empty\", \"zoom\"], [\"\", \"\", \"\", \"\"], [\"Download\", \"Download plot\", \"fa fa-floppy-o icon-save\", \"download\"]];\n",
       "\n",
       "mpl.extensions = [\"eps\", \"jpeg\", \"pgf\", \"pdf\", \"png\", \"ps\", \"raw\", \"svg\", \"tif\"];\n",
       "\n",
       "mpl.default_extension = \"png\";/* global mpl */\n",
       "\n",
       "var comm_websocket_adapter = function (comm) {\n",
       "    // Create a \"websocket\"-like object which calls the given IPython comm\n",
       "    // object with the appropriate methods. Currently this is a non binary\n",
       "    // socket, so there is still some room for performance tuning.\n",
       "    var ws = {};\n",
       "\n",
       "    ws.binaryType = comm.kernel.ws.binaryType;\n",
       "    ws.readyState = comm.kernel.ws.readyState;\n",
       "    function updateReadyState(_event) {\n",
       "        if (comm.kernel.ws) {\n",
       "            ws.readyState = comm.kernel.ws.readyState;\n",
       "        } else {\n",
       "            ws.readyState = 3; // Closed state.\n",
       "        }\n",
       "    }\n",
       "    comm.kernel.ws.addEventListener('open', updateReadyState);\n",
       "    comm.kernel.ws.addEventListener('close', updateReadyState);\n",
       "    comm.kernel.ws.addEventListener('error', updateReadyState);\n",
       "\n",
       "    ws.close = function () {\n",
       "        comm.close();\n",
       "    };\n",
       "    ws.send = function (m) {\n",
       "        //console.log('sending', m);\n",
       "        comm.send(m);\n",
       "    };\n",
       "    // Register the callback with on_msg.\n",
       "    comm.on_msg(function (msg) {\n",
       "        //console.log('receiving', msg['content']['data'], msg);\n",
       "        var data = msg['content']['data'];\n",
       "        if (data['blob'] !== undefined) {\n",
       "            data = {\n",
       "                data: new Blob(msg['buffers'], { type: data['blob'] }),\n",
       "            };\n",
       "        }\n",
       "        // Pass the mpl event to the overridden (by mpl) onmessage function.\n",
       "        ws.onmessage(data);\n",
       "    });\n",
       "    return ws;\n",
       "};\n",
       "\n",
       "mpl.mpl_figure_comm = function (comm, msg) {\n",
       "    // This is the function which gets called when the mpl process\n",
       "    // starts-up an IPython Comm through the \"matplotlib\" channel.\n",
       "\n",
       "    var id = msg.content.data.id;\n",
       "    // Get hold of the div created by the display call when the Comm\n",
       "    // socket was opened in Python.\n",
       "    var element = document.getElementById(id);\n",
       "    var ws_proxy = comm_websocket_adapter(comm);\n",
       "\n",
       "    function ondownload(figure, _format) {\n",
       "        window.open(figure.canvas.toDataURL());\n",
       "    }\n",
       "\n",
       "    var fig = new mpl.figure(id, ws_proxy, ondownload, element);\n",
       "\n",
       "    // Call onopen now - mpl needs it, as it is assuming we've passed it a real\n",
       "    // web socket which is closed, not our websocket->open comm proxy.\n",
       "    ws_proxy.onopen();\n",
       "\n",
       "    fig.parent_element = element;\n",
       "    fig.cell_info = mpl.find_output_cell(\"<div id='\" + id + \"'></div>\");\n",
       "    if (!fig.cell_info) {\n",
       "        console.error('Failed to find cell for figure', id, fig);\n",
       "        return;\n",
       "    }\n",
       "    fig.cell_info[0].output_area.element.on(\n",
       "        'cleared',\n",
       "        { fig: fig },\n",
       "        fig._remove_fig_handler\n",
       "    );\n",
       "};\n",
       "\n",
       "mpl.figure.prototype.handle_close = function (fig, msg) {\n",
       "    var width = fig.canvas.width / fig.ratio;\n",
       "    fig.cell_info[0].output_area.element.off(\n",
       "        'cleared',\n",
       "        fig._remove_fig_handler\n",
       "    );\n",
       "    fig.resizeObserverInstance.unobserve(fig.canvas_div);\n",
       "\n",
       "    // Update the output cell to use the data from the current canvas.\n",
       "    fig.push_to_output();\n",
       "    var dataURL = fig.canvas.toDataURL();\n",
       "    // Re-enable the keyboard manager in IPython - without this line, in FF,\n",
       "    // the notebook keyboard shortcuts fail.\n",
       "    IPython.keyboard_manager.enable();\n",
       "    fig.parent_element.innerHTML =\n",
       "        '<img src=\"' + dataURL + '\" width=\"' + width + '\">';\n",
       "    fig.close_ws(fig, msg);\n",
       "};\n",
       "\n",
       "mpl.figure.prototype.close_ws = function (fig, msg) {\n",
       "    fig.send_message('closing', msg);\n",
       "    // fig.ws.close()\n",
       "};\n",
       "\n",
       "mpl.figure.prototype.push_to_output = function (_remove_interactive) {\n",
       "    // Turn the data on the canvas into data in the output cell.\n",
       "    var width = this.canvas.width / this.ratio;\n",
       "    var dataURL = this.canvas.toDataURL();\n",
       "    this.cell_info[1]['text/html'] =\n",
       "        '<img src=\"' + dataURL + '\" width=\"' + width + '\">';\n",
       "};\n",
       "\n",
       "mpl.figure.prototype.updated_canvas_event = function () {\n",
       "    // Tell IPython that the notebook contents must change.\n",
       "    IPython.notebook.set_dirty(true);\n",
       "    this.send_message('ack', {});\n",
       "    var fig = this;\n",
       "    // Wait a second, then push the new image to the DOM so\n",
       "    // that it is saved nicely (might be nice to debounce this).\n",
       "    setTimeout(function () {\n",
       "        fig.push_to_output();\n",
       "    }, 1000);\n",
       "};\n",
       "\n",
       "mpl.figure.prototype._init_toolbar = function () {\n",
       "    var fig = this;\n",
       "\n",
       "    var toolbar = document.createElement('div');\n",
       "    toolbar.classList = 'btn-toolbar';\n",
       "    this.root.appendChild(toolbar);\n",
       "\n",
       "    function on_click_closure(name) {\n",
       "        return function (_event) {\n",
       "            return fig.toolbar_button_onclick(name);\n",
       "        };\n",
       "    }\n",
       "\n",
       "    function on_mouseover_closure(tooltip) {\n",
       "        return function (event) {\n",
       "            if (!event.currentTarget.disabled) {\n",
       "                return fig.toolbar_button_onmouseover(tooltip);\n",
       "            }\n",
       "        };\n",
       "    }\n",
       "\n",
       "    fig.buttons = {};\n",
       "    var buttonGroup = document.createElement('div');\n",
       "    buttonGroup.classList = 'btn-group';\n",
       "    var button;\n",
       "    for (var toolbar_ind in mpl.toolbar_items) {\n",
       "        var name = mpl.toolbar_items[toolbar_ind][0];\n",
       "        var tooltip = mpl.toolbar_items[toolbar_ind][1];\n",
       "        var image = mpl.toolbar_items[toolbar_ind][2];\n",
       "        var method_name = mpl.toolbar_items[toolbar_ind][3];\n",
       "\n",
       "        if (!name) {\n",
       "            /* Instead of a spacer, we start a new button group. */\n",
       "            if (buttonGroup.hasChildNodes()) {\n",
       "                toolbar.appendChild(buttonGroup);\n",
       "            }\n",
       "            buttonGroup = document.createElement('div');\n",
       "            buttonGroup.classList = 'btn-group';\n",
       "            continue;\n",
       "        }\n",
       "\n",
       "        button = fig.buttons[name] = document.createElement('button');\n",
       "        button.classList = 'btn btn-default';\n",
       "        button.href = '#';\n",
       "        button.title = name;\n",
       "        button.innerHTML = '<i class=\"fa ' + image + ' fa-lg\"></i>';\n",
       "        button.addEventListener('click', on_click_closure(method_name));\n",
       "        button.addEventListener('mouseover', on_mouseover_closure(tooltip));\n",
       "        buttonGroup.appendChild(button);\n",
       "    }\n",
       "\n",
       "    if (buttonGroup.hasChildNodes()) {\n",
       "        toolbar.appendChild(buttonGroup);\n",
       "    }\n",
       "\n",
       "    // Add the status bar.\n",
       "    var status_bar = document.createElement('span');\n",
       "    status_bar.classList = 'mpl-message pull-right';\n",
       "    toolbar.appendChild(status_bar);\n",
       "    this.message = status_bar;\n",
       "\n",
       "    // Add the close button to the window.\n",
       "    var buttongrp = document.createElement('div');\n",
       "    buttongrp.classList = 'btn-group inline pull-right';\n",
       "    button = document.createElement('button');\n",
       "    button.classList = 'btn btn-mini btn-primary';\n",
       "    button.href = '#';\n",
       "    button.title = 'Stop Interaction';\n",
       "    button.innerHTML = '<i class=\"fa fa-power-off icon-remove icon-large\"></i>';\n",
       "    button.addEventListener('click', function (_evt) {\n",
       "        fig.handle_close(fig, {});\n",
       "    });\n",
       "    button.addEventListener(\n",
       "        'mouseover',\n",
       "        on_mouseover_closure('Stop Interaction')\n",
       "    );\n",
       "    buttongrp.appendChild(button);\n",
       "    var titlebar = this.root.querySelector('.ui-dialog-titlebar');\n",
       "    titlebar.insertBefore(buttongrp, titlebar.firstChild);\n",
       "};\n",
       "\n",
       "mpl.figure.prototype._remove_fig_handler = function (event) {\n",
       "    var fig = event.data.fig;\n",
       "    if (event.target !== this) {\n",
       "        // Ignore bubbled events from children.\n",
       "        return;\n",
       "    }\n",
       "    fig.close_ws(fig, {});\n",
       "};\n",
       "\n",
       "mpl.figure.prototype._root_extra_style = function (el) {\n",
       "    el.style.boxSizing = 'content-box'; // override notebook setting of border-box.\n",
       "};\n",
       "\n",
       "mpl.figure.prototype._canvas_extra_style = function (el) {\n",
       "    // this is important to make the div 'focusable\n",
       "    el.setAttribute('tabindex', 0);\n",
       "    // reach out to IPython and tell the keyboard manager to turn it's self\n",
       "    // off when our div gets focus\n",
       "\n",
       "    // location in version 3\n",
       "    if (IPython.notebook.keyboard_manager) {\n",
       "        IPython.notebook.keyboard_manager.register_events(el);\n",
       "    } else {\n",
       "        // location in version 2\n",
       "        IPython.keyboard_manager.register_events(el);\n",
       "    }\n",
       "};\n",
       "\n",
       "mpl.figure.prototype._key_event_extra = function (event, _name) {\n",
       "    // Check for shift+enter\n",
       "    if (event.shiftKey && event.which === 13) {\n",
       "        this.canvas_div.blur();\n",
       "        // select the cell after this one\n",
       "        var index = IPython.notebook.find_cell_index(this.cell_info[0]);\n",
       "        IPython.notebook.select(index + 1);\n",
       "    }\n",
       "};\n",
       "\n",
       "mpl.figure.prototype.handle_save = function (fig, _msg) {\n",
       "    fig.ondownload(fig, null);\n",
       "};\n",
       "\n",
       "mpl.find_output_cell = function (html_output) {\n",
       "    // Return the cell and output element which can be found *uniquely* in the notebook.\n",
       "    // Note - this is a bit hacky, but it is done because the \"notebook_saving.Notebook\"\n",
       "    // IPython event is triggered only after the cells have been serialised, which for\n",
       "    // our purposes (turning an active figure into a static one), is too late.\n",
       "    var cells = IPython.notebook.get_cells();\n",
       "    var ncells = cells.length;\n",
       "    for (var i = 0; i < ncells; i++) {\n",
       "        var cell = cells[i];\n",
       "        if (cell.cell_type === 'code') {\n",
       "            for (var j = 0; j < cell.output_area.outputs.length; j++) {\n",
       "                var data = cell.output_area.outputs[j];\n",
       "                if (data.data) {\n",
       "                    // IPython >= 3 moved mimebundle to data attribute of output\n",
       "                    data = data.data;\n",
       "                }\n",
       "                if (data['text/html'] === html_output) {\n",
       "                    return [cell, data, j];\n",
       "                }\n",
       "            }\n",
       "        }\n",
       "    }\n",
       "};\n",
       "\n",
       "// Register the function which deals with the matplotlib target/channel.\n",
       "// The kernel may be null if the page has been refreshed.\n",
       "if (IPython.notebook.kernel !== null) {\n",
       "    IPython.notebook.kernel.comm_manager.register_target(\n",
       "        'matplotlib',\n",
       "        mpl.mpl_figure_comm\n",
       "    );\n",
       "}\n"
      ],
      "text/plain": [
       "<IPython.core.display.Javascript object>"
      ]
     },
     "metadata": {},
     "output_type": "display_data"
    },
    {
     "data": {
      "text/html": [
       "<img src=\"data:image/png;base64,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\" width=\"432.7272633481619\">"
      ],
      "text/plain": [
       "<IPython.core.display.HTML object>"
      ]
     },
     "metadata": {},
     "output_type": "display_data"
    },
    {
     "data": {
      "text/plain": [
       "<matplotlib.animation.FuncAnimation at 0x22426f70d00>"
      ]
     },
     "execution_count": 30,
     "metadata": {},
     "output_type": "execute_result"
    }
   ],
   "source": [
    "# Animación del movimiento caótico de 3 péndulos dobles (P1,P2 y P3)\n",
    "figura,ax = plt.subplots()\n",
    "def PenduloDobleAni2(i):\n",
    "    plt.cla()\n",
    "    plt.axis([-l1-l2-0.2,l1+l2+0.2,-l1-l2-0.2,l1+l2+0.2])\n",
    "    \n",
    "    ax.plot([0,l1*np.sin(posicionP1_1[i])],[0,-l1*np.cos(posicionP1_1[i])], 'b', \n",
    "                    [l1*np.sin(posicionP1_1[i]), l1*np.sin(posicionP1_1[i]) + l2*np.sin(posicionP2_1[i])],[-l1*np.cos(posicionP1_1[i]),-l1*np.cos(posicionP1_1[i]) -l2*np.cos(posicionP2_1[i])], 'b',\n",
    "                    [0,l1*np.sin(posicionP1_2[i])],[0,-l1*np.cos(posicionP1_2[i])], 'm', \n",
    "                    [l1*np.sin(posicionP1_2[i]), l1*np.sin(posicionP1_2[i]) + l2*np.sin(posicionP2_2[i])],[-l1*np.cos(posicionP1_2[i]),-l1*np.cos(posicionP1_2[i]) -l2*np.cos(posicionP2_2[i])], 'm',\n",
    "                    [0,l1*np.sin(posicionP1_3[i])],[0,-l1*np.cos(posicionP1_3[i])], 'g', \n",
    "                    [l1*np.sin(posicionP1_3[i]), l1*np.sin(posicionP1_3[i]) + l2*np.sin(posicionP2_3[i])],[-l1*np.cos(posicionP1_3[i]),-l1*np.cos(posicionP1_3[i]) -l2*np.cos(posicionP2_3[i])], 'g',\n",
    "                    [-1.2,1.2], [0,0], 'k')\n",
    "    \n",
    "    ax.plot(l1*np.sin(posicionP1_1[i]), -l1*np.cos(posicionP1_1[i]), 'ob', \n",
    "                    l1*np.sin(posicionP1_1[i]) + l2*np.sin(posicionP2_1[i]), -l1*np.cos(posicionP1_1[i]) -l2*np.cos(posicionP2_1[i]), 'ob',\n",
    "                    l1*np.sin(posicionP1_2[i]), -l1*np.cos(posicionP1_2[i]), 'om', \n",
    "                    l1*np.sin(posicionP1_2[i]) + l2*np.sin(posicionP2_2[i]), -l1*np.cos(posicionP1_2[i]) -l2*np.cos(posicionP2_2[i]), 'om',\n",
    "                    l1*np.sin(posicionP1_3[i]), -l1*np.cos(posicionP1_3[i]), 'og', \n",
    "                    l1*np.sin(posicionP1_3[i]) + l2*np.sin(posicionP2_3[i]), -l1*np.cos(posicionP1_3[i]) -l2*np.cos(posicionP2_3[i]), 'og')\n",
    "    \n",
    "    ax.plot(l1*np.sin(posicionP1_1[:i]), -l1*np.cos(posicionP1_1[:i]), 'b', \n",
    "                    l1*np.sin(posicionP1_1[:i]) + l2*np.sin(posicionP2_1[:i]), -l1*np.cos(posicionP1_1[:i]) -l2*np.cos(posicionP2_1[:i]), 'b',\n",
    "                    l1*np.sin(posicionP1_2[:i]), -l1*np.cos(posicionP1_2[:i]), 'm', \n",
    "                    l1*np.sin(posicionP1_2[:i]) + l2*np.sin(posicionP2_2[:i]), -l1*np.cos(posicionP1_2[:i]) -l2*np.cos(posicionP2_2[:i]), 'm',\n",
    "                    l1*np.sin(posicionP1_3[:i]), -l1*np.cos(posicionP1_3[:i]), 'g', \n",
    "                    l1*np.sin(posicionP1_3[:i]) + l2*np.sin(posicionP2_3[:i]), -l1*np.cos(posicionP1_3[:i]) -l2*np.cos(posicionP2_3[:i]), 'g', alpha = 0.5, lw = 1)\n",
    "    return ax.get_lines()\n",
    "\n",
    "FuncAnimation(figura, PenduloDobleAni2, frames = range(solucion_1.y.shape[1]), interval = 10, repeat = False)"
   ]
  },
  {
   "cell_type": "markdown",
   "id": "40c6b2f9",
   "metadata": {},
   "source": [
    "## Conclusión"
   ]
  },
  {
   "cell_type": "markdown",
   "id": "4b260990",
   "metadata": {},
   "source": [
    "El movimiento caótico de un sistema de tres péndulos dobles fue simulado con éxito debido a que durante la animación se puede observar que la trayectoria es totalmente distinta para cada péndulo y además es impredecible en los 3 casos."
   ]
  }
 ],
 "metadata": {
  "kernelspec": {
   "display_name": "Python 3 (ipykernel)",
   "language": "python",
   "name": "python3"
  },
  "language_info": {
   "codemirror_mode": {
    "name": "ipython",
    "version": 3
   },
   "file_extension": ".py",
   "mimetype": "text/x-python",
   "name": "python",
   "nbconvert_exporter": "python",
   "pygments_lexer": "ipython3",
   "version": "3.9.12"
  }
 },
 "nbformat": 4,
 "nbformat_minor": 5
}
