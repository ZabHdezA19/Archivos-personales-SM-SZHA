{
 "cells": [
  {
   "cell_type": "markdown",
   "id": "4399339e",
   "metadata": {},
   "source": [
    "## Presentación \n",
    "\n",
    "Hola, mi nombre es *Sergio Zabdiel Hernández Anaya* la verdad me gusta más que me llamen **Zabdiel** pero si se le complica un poco, *Sergio* esta bien. \n",
    "\n",
    "Soy nacido en *Guadalajara, Jaliso*, tengo **21 años** y actualmente vivo en *Tlajomulco de Zúñiga*. En *otoño* de este año cursaré el *séptimo semestre* de la carrera de **Ingeniería en nanotecnología**\n",
    "\n",
    "----"
   ]
  },
  {
   "cell_type": "markdown",
   "id": "99d50240",
   "metadata": {},
   "source": [
    "## Resumen del artículo\n",
    "\n",
    "### El 98% de los latinoamericanos no vive en una democracia completa, según el índice de ‘The Economist’\n",
    "\n",
    "Aunque en el año 2021 la agenda electoral que vivió Latinoamérica fue inmensa, el índice que elabora anualmente la revista *The Economist* nos indica que sólo el **1.3%** de la población de *América Latina* vive bajo un régimen *democrático*. Además, la revista establece que esta región ha sufrido la mayor caida en sus índices desde su primera publicación en **2006**.\n",
    "\n",
    "Chile ha pasado de ser clasificado como una *democracia completa* a una *democracia defectuosa*. Esto se debe a que aunque Chile representa una de las democracias más sanas dentro del índice, sólo el 55% de la población participó en las elecciones. \n",
    "\n",
    "Los criterios que se toman en cuenta para este índice son: \n",
    "* El pluralismo electoral y la existencia de procesos democráticos.\n",
    "* El funcionamineto del gobierno.\n",
    "* La participación política de los ciudadanos.\n",
    "* La cultura política del país.\n",
    "* El respeto a las libertades civiles.\n",
    "\n",
    "Tomando en cuenta todos estos estándares, **Mexico** perdió su estado de *democracia defectuosa* y pasó a ser designado como un *régimen híbrido*. Además Haití se integró a la lsita de los *regímenes autoritarios* junto con Cuba, Venezuela y Nicaragua. Debido al *aumento* de los *ataques populistas* a las instituciones, la revista británica señala con especial **preocupación** al **gobierno de Andrés Manuel López Obrador**. \n"
   ]
  }
 ],
 "metadata": {
  "kernelspec": {
   "display_name": "Python 3 (ipykernel)",
   "language": "python",
   "name": "python3"
  },
  "language_info": {
   "codemirror_mode": {
    "name": "ipython",
    "version": 3
   },
   "file_extension": ".py",
   "mimetype": "text/x-python",
   "name": "python",
   "nbconvert_exporter": "python",
   "pygments_lexer": "ipython3",
   "version": "3.9.12"
  }
 },
 "nbformat": 4,
 "nbformat_minor": 5
}
