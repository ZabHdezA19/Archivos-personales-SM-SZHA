{
 "cells": [
  {
   "cell_type": "markdown",
   "metadata": {},
   "source": [
    "# Ajuste de curvas\n",
    "\n",
    "<img style=\"float: right; margin: 0px 0px 15px 15px;\" src=\"https://upload.wikimedia.org/wikipedia/commons/a/a8/Regression_pic_assymetrique.gif\" width=\"400px\" height=\"125px\" />\n",
    "\n",
    "> El **ajuste de curvas** es el proceso de construir una curva (función), que sea el mejor ajuste a una serie de puntos. Las curvas ajustadas pueden ser usadas como asistencia en la visualización de datos, para inferir valores de una función donde no hay datos disponibles, y para resumir la relación entre variables.\n",
    "\n",
    "**Referencia**:\n",
    "- https://en.wikipedia.org/wiki/Curve_fitting\n",
    "___"
   ]
  },
  {
   "cell_type": "markdown",
   "metadata": {},
   "source": [
    "## 0. Introducción\n",
    "\n",
    "Consideremos un polinomio de grado uno:\n",
    "\n",
    "$$y = \\beta_1 x + \\beta_0.$$\n",
    "\n",
    "Esta es una **línea recta** que tiene pendiente $\\beta_1$. Sabemos que habrá una línea conectando dos puntos cualesquiera. Por tanto, *una ecuación polinómica de primer grado es un ajuste perfecto entre dos puntos*.\n",
    "\n",
    "Si consideramos ahora un polinomio de segundo grado,\n",
    "\n",
    "$$y = \\beta_2 x^2 + \\beta_1 x + \\beta_0,$$\n",
    "\n",
    "este se ajustará exactamente a tres puntos. Si aumentamos el grado de la función a la de un polinomio de tercer grado, obtenemos:\n",
    "\n",
    "$$y = \\beta_3 x^3 + \\beta_2 x^2 + \\beta_1 x + \\beta_0,$$\n",
    "\n",
    "que se ajustará a cuatro puntos.\n",
    "\n",
    "**Ejemplos**\n",
    "1. Encontrar la línea recta que pasa exactamente por los puntos $(3,1)$ y $(2,0)$.\n",
    "2. Encontrar la parábola que pasa exactamente por los puntos $(0,1)$, $(1,0)$ y $(2,1)$.\n",
    "\n",
    "**Solución**\n",
    "1. Consideramos $y=\\beta_1 x + \\beta_0$. Evaluando en el punto $(3,1)$, obtenemos $\\beta_1(3) + \\beta_0 = 1$. Ahora, evaluando en el punto $(2,0)$, obtenemos $\\beta_1(2) + \\beta_0 = 0$. De esta manera,\n",
    "$$\\left[\\begin{array}{cc} 1 & 3 \\\\ 1 & 2\\end{array}\\right]\\left[\\begin{array}{c} \\beta_0 \\\\ \\beta_1\\end{array}\\right]=\\left[\\begin{array}{c} 1 \\\\ 0\\end{array}\\right].$$\n",
    "Resolviendo, $\\beta_0=-2, \\, \\beta_1=1$."
   ]
  },
  {
   "cell_type": "code",
   "execution_count": 25,
   "metadata": {},
   "outputs": [],
   "source": [
    "import numpy as np\n",
    "import sympy as sym\n",
    "import matplotlib.pyplot as plt"
   ]
  },
  {
   "cell_type": "code",
   "execution_count": 2,
   "metadata": {},
   "outputs": [
    {
     "data": {
      "text/plain": [
       "array([-2.,  1.])"
      ]
     },
     "execution_count": 2,
     "metadata": {},
     "output_type": "execute_result"
    }
   ],
   "source": [
    "A = np.array([[1,3],\n",
    "            [1,2]])\n",
    "b = np.array([1,0])\n",
    "np.linalg.inv(A)@b  #El signo de '@' se refiere a una multriplicación matricial"
   ]
  },
  {
   "cell_type": "code",
   "execution_count": 3,
   "metadata": {},
   "outputs": [
    {
     "data": {
      "image/png": "[encoded data removed]",
      "text/plain": [
       "<Figure size 432x288 with 1 Axes>"
      ]
     },
     "metadata": {
      "needs_background": "light"
     },
     "output_type": "display_data"
    }
   ],
   "source": [
    "def sol(x):\n",
    "    return x - 2\n",
    "xnum = np.linspace(0,5,15)\n",
    "plt.plot(xnum,sol(xnum))\n",
    "plt.plot([3,2],[1,0], 'rx')\n",
    "plt.grid()"
   ]
  },
  {
   "cell_type": "markdown",
   "metadata": {},
   "source": [
    "---"
   ]
  },
  {
   "cell_type": "markdown",
   "metadata": {},
   "source": [
    "2. Consideramos $y=\\beta_2 x^2 + \\beta_1 x + \\beta_0$. Evaluando en el punto $(0,1)$, obtenemos $\\beta_2(0)^2 + \\beta_1(0) + \\beta_0 = 1$. Ahora, evaluando en el punto $(1,0)$, obtenemos $\\beta_2(1)^2 + \\beta_1(1) + \\beta_0 = 0$. Finalmente, evaluando en el punto $(2,1)$, obtenemos $\\beta_2(2)^2 + \\beta_1(2) + \\beta_0 = 1$. De esta manera,\n",
    "$$\\left[\\begin{array}{ccc} 1 & 0 & 0 \\\\ 1 & 1 & 1 \\\\ 1 & 2 & 4 \\end{array}\\right]\\left[\\begin{array}{c} \\beta_0 \\\\ \\beta_1 \\\\ \\beta_2 \\end{array}\\right]=\\left[\\begin{array}{c} 1 \\\\ 0 \\\\ 1 \\end{array}\\right].$$\n",
    "Resolviendo, $\\beta_0=1, \\, \\beta_1=-2$ y $\\beta_2=1$."
   ]
  },
  {
   "cell_type": "code",
   "execution_count": 4,
   "metadata": {},
   "outputs": [
    {
     "data": {
      "text/plain": [
       "array([ 1., -2.,  1.])"
      ]
     },
     "execution_count": 4,
     "metadata": {},
     "output_type": "execute_result"
    }
   ],
   "source": [
    "A = np.array([[1,0,0],\n",
    "              [1,1,1],\n",
    "              [1,2,4]])\n",
    "b = np.array([1,0,1])\n",
    "np.linalg.inv(A)@b"
   ]
  },
  {
   "cell_type": "code",
   "execution_count": 5,
   "metadata": {},
   "outputs": [
    {
     "data": {
      "image/png": "[encoded data removed]",
      "text/plain": [
       "<Figure size 432x288 with 1 Axes>"
      ]
     },
     "metadata": {
      "needs_background": "light"
     },
     "output_type": "display_data"
    }
   ],
   "source": [
    "def sol2(x):\n",
    "    return 1 + (-2*x) + x**2\n",
    "xnum = np.linspace(-5,7,30)\n",
    "plt.plot(xnum,sol2(xnum))\n",
    "plt.plot([0,1,2],[1,0,1], 'r*', ms = 8)\n",
    "plt.grid()"
   ]
  },
  {
   "cell_type": "code",
   "execution_count": 6,
   "metadata": {},
   "outputs": [
    {
     "data": {
      "text/plain": [
       "1"
      ]
     },
     "execution_count": 6,
     "metadata": {},
     "output_type": "execute_result"
    }
   ],
   "source": [
    "sol2(2)"
   ]
  },
  {
   "cell_type": "markdown",
   "metadata": {},
   "source": [
    "---"
   ]
  },
  {
   "cell_type": "markdown",
   "metadata": {},
   "source": [
    "### ¿Qué tienen en común los anteriores problemas?\n",
    "Las curvas están completamente determinadas por los puntos (datos limpios, suficientes y necesarios).\n",
    "\n",
    "Esto se traduce en que, al llevar el problema a un sistema de ecuaciones lineales, existe una única solución: **no hay necesidad, ni se puede optimizar nada**.\n",
    "\n",
    "¿Tendremos datos así de **'*bonitos*'** en la vida real?\n",
    "\n",
    "La realidad es que los datos que encontraremos en nuestra vida profesional se parecen más a esto..."
   ]
  },
  {
   "cell_type": "code",
   "execution_count": 7,
   "metadata": {},
   "outputs": [
    {
     "data": {
      "text/plain": [
       "<function matplotlib.pyplot.grid(visible=None, which='major', axis='both', **kwargs)>"
      ]
     },
     "execution_count": 7,
     "metadata": {},
     "output_type": "execute_result"
    },
    {
     "data": {
      "image/png": "[encoded data removed]",
      "text/plain": [
       "<Figure size 432x288 with 1 Axes>"
      ]
     },
     "metadata": {
      "needs_background": "light"
     },
     "output_type": "display_data"
    }
   ],
   "source": [
    "x = np.random.uniform(-20,60,100)\n",
    "y = 5 + (3/20*x) + np.random.uniform(-3,3,100)\n",
    "plt.scatter(x,y,s=5) # s --> size\n",
    "plt.grid"
   ]
  },
  {
   "cell_type": "markdown",
   "metadata": {},
   "source": [
    "### ¿Cómo ajustamos una curva a esto?"
   ]
  },
  {
   "cell_type": "markdown",
   "metadata": {},
   "source": [
    "## 1. Problema básico\n",
    "\n",
    "<img style=\"float: right; margin: 0px 0px 15px 15px;\" src=\"https://upload.wikimedia.org/wikipedia/commons/3/3a/Linear_regression.svg\" width=\"400px\" height=\"125px\" />\n",
    "\n",
    "Consideramos que tenemos un conjunto de n pares ordenados de datos $(x_i,y_i)$, para $i=1,2,3,\\dots,n$.\n",
    "\n",
    "### ¿Cuál es la recta que mejor se ajusta a estos datos?\n",
    "Consideramos entonces ajustes de la forma $\\hat{f}(x) = \\beta_0+\\beta_1 x = \\left[1 \\quad x\\right]\\left[\\begin{array}{c} \\beta_0 \\\\ \\beta_1 \\end{array}\\right]=\\left[1 \\quad x\\right]\\boldsymbol{\\beta}$ (lineas rectas).\n",
    "\n",
    "Para decir '*mejor*', tenemos que definir algún sentido en que una recta se ajuste *mejor* que otra.\n",
    "\n",
    "**Mínimos cuadrados**: el objetivo es seleccionar los coeficientes $\\boldsymbol{\\beta}=\\left[\\beta_0 \\quad \\beta_1 \\right]^\\top$, de forma que la función evaluada en los puntos $x_i$ i.e.($\\hat{f}(x_i)$) aproxime los valores correspondientes $y_i$.\n",
    "\n",
    "La formulación por mínimos cuadrados, encuentra los $\\boldsymbol{\\beta}=\\left[\\beta_0 \\quad \\beta_1 \\right]^T$ que minimiza\n",
    "$$\\sum_{i=1}^{n}(y_i-\\hat{f}(x_i))^2=\\sum_{i=1}^{n}(y_i-\\left[1 \\quad x_i\\right]\\boldsymbol{\\beta})^2=\\left|\\left|\\boldsymbol{y}-\\boldsymbol{X}\\boldsymbol{\\beta}\\right|\\right|^2,$$\n",
    "\n",
    "donde $\\boldsymbol{y}=\\left[y_1,\\quad\\cdots\\quad, y_n\\right]^\\top$, y $\\boldsymbol{X}=\\left[\\begin{array}{ccc}1 & x_1\\\\ \\vdots & \\vdots \\\\ 1 & x_n\\end{array}\\right].$ Esto es,\n",
    "\n",
    "$$\\boldsymbol{\\beta}^{ls} = \\arg \\min_{\\boldsymbol{\\beta}} \\left|\\left|\\boldsymbol{y}-\\boldsymbol{X}\\boldsymbol{\\beta}\\right|\\right|^2$$"
   ]
  },
  {
   "cell_type": "code",
   "execution_count": 116,
   "metadata": {},
   "outputs": [],
   "source": [
    "import scipy.optimize as opt"
   ]
  },
  {
   "cell_type": "code",
   "execution_count": 9,
   "metadata": {},
   "outputs": [],
   "source": [
    "opt.minimize?"
   ]
  },
  {
   "cell_type": "code",
   "execution_count": 10,
   "metadata": {},
   "outputs": [],
   "source": [
    "# Función objetivo\n",
    "#Criterio de minimización\n",
    "#Mínimos cuadrados\n",
    "def obj_lin(beta,x,y):\n",
    "    f = beta[0] + beta[1]*x\n",
    "    return np.sum((y-f)**2)"
   ]
  },
  {
   "cell_type": "code",
   "execution_count": 11,
   "metadata": {},
   "outputs": [
    {
     "data": {
      "text/plain": [
       "array([0.84233315, 0.27637042])"
      ]
     },
     "execution_count": 11,
     "metadata": {},
     "output_type": "execute_result"
    }
   ],
   "source": [
    "beta0 = np.random.rand(2)\n",
    "beta0"
   ]
  },
  {
   "cell_type": "code",
   "execution_count": 12,
   "metadata": {},
   "outputs": [
    {
     "data": {
      "text/plain": [
       "      fun: 301.7458973840119\n",
       " hess_inv: array([[ 9.47330604e-03, -1.93888123e-04],\n",
       "       [-1.93888123e-04,  8.40376299e-06]])\n",
       "      jac: array([0.00000000e+00, 3.81469727e-06])\n",
       "  message: 'Optimization terminated successfully.'\n",
       "     nfev: 21\n",
       "      nit: 5\n",
       "     njev: 7\n",
       "   status: 0\n",
       "  success: True\n",
       "        x: array([5.20957954, 0.14546055])"
      ]
     },
     "execution_count": 12,
     "metadata": {},
     "output_type": "execute_result"
    }
   ],
   "source": [
    "sol_lin = opt.minimize(obj_lin,beta0,args = (x,y))\n",
    "sol_lin"
   ]
  },
  {
   "cell_type": "code",
   "execution_count": 13,
   "metadata": {},
   "outputs": [
    {
     "data": {
      "text/plain": [
       "array([5.20957954, 0.14546055])"
      ]
     },
     "execution_count": 13,
     "metadata": {},
     "output_type": "execute_result"
    }
   ],
   "source": [
    "sol_lin.x"
   ]
  },
  {
   "cell_type": "markdown",
   "metadata": {},
   "source": [
    "**El modelo óptimo lineal obtenido es**\n",
    "$$\n",
    "f(x) = 4.830 + 0.153x\n",
    "$$\n",
    "\n",
    "*con un error acumulado de* $307.205$"
   ]
  },
  {
   "cell_type": "code",
   "execution_count": 14,
   "metadata": {},
   "outputs": [
    {
     "data": {
      "image/png": "[encoded data removed]",
      "text/plain": [
       "<Figure size 432x288 with 1 Axes>"
      ]
     },
     "metadata": {
      "needs_background": "light"
     },
     "output_type": "display_data"
    }
   ],
   "source": [
    "plt.scatter(x,y,s = 4)\n",
    "f = sol_lin.x[0] + sol_lin.x[1]*x\n",
    "plt.plot(x,f,'r')\n",
    "plt.grid()"
   ]
  },
  {
   "cell_type": "markdown",
   "metadata": {},
   "source": [
    "## 2. Ajuste polinomial\n",
    "\n",
    "Ahora, considere el siguiente conjunto de datos..."
   ]
  },
  {
   "cell_type": "code",
   "execution_count": 28,
   "metadata": {},
   "outputs": [
    {
     "data": {
      "image/png": "[encoded data removed]",
      "text/plain": [
       "<Figure size 432x288 with 1 Axes>"
      ]
     },
     "metadata": {
      "needs_background": "light"
     },
     "output_type": "display_data"
    }
   ],
   "source": [
    "x = np.linspace(-3/5 * np.pi, 3/4*np.pi,100)\n",
    "y= np.sin(x) + np.random.uniform(-0.3,0.3,100)\n",
    "plt.scatter(x,y, s = 4)\n",
    "plt.grid()"
   ]
  },
  {
   "cell_type": "code",
   "execution_count": 29,
   "metadata": {},
   "outputs": [
    {
     "name": "stdout",
     "output_type": "stream",
     "text": [
      "0\n",
      "1\n",
      "2\n",
      "3\n",
      "4\n",
      "5\n"
     ]
    }
   ],
   "source": [
    "n = 5\n",
    "for i in range(n+1):\n",
    "    print(i)"
   ]
  },
  {
   "cell_type": "code",
   "execution_count": 30,
   "metadata": {},
   "outputs": [
    {
     "data": {
      "text/plain": [
       "3"
      ]
     },
     "execution_count": 30,
     "metadata": {},
     "output_type": "execute_result"
    }
   ],
   "source": [
    "beta = np.array([1,2,3,4])\n",
    "len(beta)-1"
   ]
  },
  {
   "cell_type": "code",
   "execution_count": 31,
   "metadata": {},
   "outputs": [
    {
     "data": {
      "text/plain": [
       "(12.154000000000003, 12.154000000000003)"
      ]
     },
     "execution_count": 31,
     "metadata": {},
     "output_type": "execute_result"
    }
   ],
   "source": [
    "# Obtención del modelo polinomial\n",
    "def f(x,beta):\n",
    "    n = len(beta)-1\n",
    "    X = np.array([x**i for i in range(n+1)])\n",
    "    return beta@X\n",
    "x_ = 1.1\n",
    "f(x_,beta),beta[0] + (beta[1]*x_) + (beta[2]*x_**2) + (beta[3]*x_**3)"
   ]
  },
  {
   "cell_type": "code",
   "execution_count": 32,
   "metadata": {},
   "outputs": [],
   "source": [
    "#Se modifica la función objetivo\n",
    "def obj_pol(beta,x,y):\n",
    "    n = len(beta) - 1\n",
    "    X = np.array([x**i for i in range(n+1)])\n",
    "    f = beta@X #Modelo a optimizar\n",
    "    return np.sum((y-f)**2)"
   ]
  },
  {
   "cell_type": "code",
   "execution_count": 33,
   "metadata": {},
   "outputs": [
    {
     "data": {
      "text/plain": [
       "      fun: 7.364845813840908\n",
       " hess_inv: array([[ 0.00518152, -0.00077039],\n",
       "       [-0.00077039,  0.00326962]])\n",
       "      jac: array([ 1.78813934e-07, -4.76837158e-07])\n",
       "  message: 'Optimization terminated successfully.'\n",
       "     nfev: 21\n",
       "      nit: 4\n",
       "     njev: 7\n",
       "   status: 0\n",
       "  success: True\n",
       "        x: array([-0.06739023,  0.58223249])"
      ]
     },
     "execution_count": 33,
     "metadata": {},
     "output_type": "execute_result"
    }
   ],
   "source": [
    "# Polinomio de grado uno\n",
    "beta0 = np.random.rand(2)\n",
    "sol_1 = opt.minimize(obj_pol,beta0,args = (x,y))\n",
    "sol_1"
   ]
  },
  {
   "cell_type": "code",
   "execution_count": 34,
   "metadata": {},
   "outputs": [
    {
     "data": {
      "image/png": "[encoded data removed]",
      "text/plain": [
       "<Figure size 432x288 with 1 Axes>"
      ]
     },
     "metadata": {
      "needs_background": "light"
     },
     "output_type": "display_data"
    }
   ],
   "source": [
    "plt.scatter(x,y,s = 4)\n",
    "plt.plot(x,f(x,sol_1.x), 'r')\n",
    "plt.grid()"
   ]
  },
  {
   "cell_type": "markdown",
   "metadata": {},
   "source": [
    "**Clase 07/06/2022**"
   ]
  },
  {
   "cell_type": "code",
   "execution_count": 75,
   "metadata": {},
   "outputs": [
    {
     "data": {
      "image/png": "[encoded data removed]",
      "text/plain": [
       "<Figure size 432x288 with 1 Axes>"
      ]
     },
     "metadata": {
      "needs_background": "light"
     },
     "output_type": "display_data"
    }
   ],
   "source": [
    "x = np.random.uniform(-3/5*np.pi,3/4*np.pi,100)\n",
    "y = np.sin(x) + np.random.uniform(-0.3,0.3,100)\n",
    "plt.scatter(x,y, s = 4)\n",
    "plt.grid()"
   ]
  },
  {
   "cell_type": "code",
   "execution_count": 76,
   "metadata": {},
   "outputs": [],
   "source": [
    "def f(x,beta):\n",
    "    #vemos de que orden debe ser el polnomio\n",
    "    n = len(beta) - 1\n",
    "    #Se define el vector de potencias de 'x'\n",
    "    X = np.array([x**i for i in range(n+1)]) \n",
    "    return beta@X\n",
    "    "
   ]
  },
  {
   "cell_type": "code",
   "execution_count": 77,
   "metadata": {},
   "outputs": [],
   "source": [
    "#Se define la función objetivo a minimizar mediante mínimos cuadrados\n",
    "def objetivo(beta,x,y):\n",
    "    #Se utiliza la 'f' externa como la función que vamos a aproximar\n",
    "    return np.sum((y-f(x,beta))**2)"
   ]
  },
  {
   "cell_type": "code",
   "execution_count": 43,
   "metadata": {},
   "outputs": [
    {
     "data": {
      "text/plain": [
       "array([0.02741115, 0.99014982])"
      ]
     },
     "execution_count": 43,
     "metadata": {},
     "output_type": "execute_result"
    }
   ],
   "source": [
    "#Aproximamos el polinomio lineal\n",
    "beta0 = np.random.rand(2)\n",
    "beta0"
   ]
  },
  {
   "cell_type": "code",
   "execution_count": 48,
   "metadata": {},
   "outputs": [
    {
     "data": {
      "text/plain": [
       "      fun: 5.805704363038954\n",
       " hess_inv: array([[ 0.99122567, -0.10234042],\n",
       "       [-0.10234042,  0.01436869]])\n",
       "      jac: array([2.98023224e-07, 2.86102295e-06])\n",
       "  message: 'Optimization terminated successfully.'\n",
       "     nfev: 15\n",
       "      nit: 2\n",
       "     njev: 5\n",
       "   status: 0\n",
       "  success: True\n",
       "        x: array([-0.04781991,  0.62318702])"
      ]
     },
     "execution_count": 48,
     "metadata": {},
     "output_type": "execute_result"
    }
   ],
   "source": [
    "solucion = opt.minimize(objetivo,beta0,args =(x,y))\n",
    "solucion"
   ]
  },
  {
   "cell_type": "markdown",
   "metadata": {},
   "source": [
    "El modelo lineal que mejor se ajusta al conjunto de datos (x,y) es\n",
    "\n",
    "$$\n",
    "y = -0.0478 + 0.6232x\n",
    "$$\n",
    "\n",
    "Con un error cuadrático de $5.806$"
   ]
  },
  {
   "cell_type": "code",
   "execution_count": 54,
   "metadata": {},
   "outputs": [
    {
     "data": {
      "image/png": "[encoded data removed]",
      "text/plain": [
       "<Figure size 432x288 with 1 Axes>"
      ]
     },
     "metadata": {
      "needs_background": "light"
     },
     "output_type": "display_data"
    }
   ],
   "source": [
    "#Gráfica\n",
    "plt.scatter(x,y, s=4)\n",
    "plt.plot(x,f(x,solucion.x), 'r', ms = 1)\n",
    "plt.grid()"
   ]
  },
  {
   "cell_type": "code",
   "execution_count": 78,
   "metadata": {},
   "outputs": [
    {
     "data": {
      "text/plain": [
       "      fun: 6.985552975824888\n",
       " hess_inv: array([[ 1.1027754 , -0.03631142, -0.41139484],\n",
       "       [-0.03631142,  0.00569956,  0.01256129],\n",
       "       [-0.41139484,  0.01256129,  0.15493166]])\n",
       "      jac: array([5.96046448e-08, 1.43051147e-06, 3.33786011e-06])\n",
       "  message: 'Optimization terminated successfully.'\n",
       "     nfev: 28\n",
       "      nit: 3\n",
       "     njev: 7\n",
       "   status: 0\n",
       "  success: True\n",
       "        x: array([ 0.10651631,  0.65499343, -0.10311526])"
      ]
     },
     "execution_count": 78,
     "metadata": {},
     "output_type": "execute_result"
    }
   ],
   "source": [
    "#Polinomio de orden dos\n",
    "beta2 = np.random.rand(3)\n",
    "solucion2 = opt.minimize(objetivo,beta2,args = (x,y))\n",
    "solucion2"
   ]
  },
  {
   "cell_type": "code",
   "execution_count": 79,
   "metadata": {},
   "outputs": [
    {
     "data": {
      "image/png": "[encoded data removed]",
      "text/plain": [
       "<Figure size 432x288 with 1 Axes>"
      ]
     },
     "metadata": {
      "needs_background": "light"
     },
     "output_type": "display_data"
    }
   ],
   "source": [
    "#Gráfica\n",
    "plt.scatter(x,y, s=4)\n",
    "plt.scatter(x,f(x,solucion2.x), c = 'r', s=4)\n",
    "plt.grid()"
   ]
  },
  {
   "cell_type": "markdown",
   "metadata": {},
   "source": [
    "El mejor modelo polinomial de orden dos es\n",
    "$$\n",
    "y = 0.012 + 0.631x - 0.044x^2\n",
    "$$\n",
    "Con un error cuadrático acumulado de $5.480$"
   ]
  },
  {
   "cell_type": "code",
   "execution_count": 60,
   "metadata": {},
   "outputs": [
    {
     "data": {
      "text/plain": [
       "      fun: 3.220472700052135\n",
       " hess_inv: array([[ 0.01060866, -0.00104954, -0.00432693,  0.00071475],\n",
       "       [-0.00104954,  0.02168635,  0.00213311, -0.00703631],\n",
       "       [-0.00432693,  0.00213311,  0.00343335, -0.00105652],\n",
       "       [ 0.00071475, -0.00703631, -0.00105652,  0.00277432]])\n",
       "      jac: array([ 1.34110451e-06,  3.87430191e-07, -1.93715096e-06,  2.17556953e-06])\n",
       "  message: 'Optimization terminated successfully.'\n",
       "     nfev: 55\n",
       "      nit: 6\n",
       "     njev: 11\n",
       "   status: 0\n",
       "  success: True\n",
       "        x: array([-0.01721643,  0.91517552, -0.00180052, -0.11196812])"
      ]
     },
     "execution_count": 60,
     "metadata": {},
     "output_type": "execute_result"
    }
   ],
   "source": [
    "#Polinomio de orden dos\n",
    "beta3 = np.random.rand(4)\n",
    "solucion3 = opt.minimize(objetivo,beta3,args = (x,y))\n",
    "solucion3"
   ]
  },
  {
   "cell_type": "markdown",
   "metadata": {},
   "source": [
    "El mejor modelo polinomial de orden tres es\n",
    "$$\n",
    "y = -0.017 + 0.915x - 0.002x^2 - 0.0112x^3\n",
    "$$\n",
    "Con un error cuadrático acumulado de $3.220$"
   ]
  },
  {
   "cell_type": "code",
   "execution_count": 81,
   "metadata": {},
   "outputs": [
    {
     "data": {
      "image/png": "[encoded data removed]",
      "text/plain": [
       "<Figure size 432x288 with 1 Axes>"
      ]
     },
     "metadata": {
      "needs_background": "light"
     },
     "output_type": "display_data"
    }
   ],
   "source": [
    "#Gráfica\n",
    "plt.scatter(x,y, s=4)\n",
    "plt.scatter(x,f(x,solucion3.x), c = 'r', s=4)\n",
    "plt.grid()"
   ]
  },
  {
   "cell_type": "code",
   "execution_count": 82,
   "metadata": {},
   "outputs": [],
   "source": [
    "# Ahora todos los polinomios juntos\n",
    "#Creamos una lista con todas las soluciones\n",
    "sol = []"
   ]
  },
  {
   "cell_type": "code",
   "execution_count": 83,
   "metadata": {},
   "outputs": [
    {
     "data": {
      "text/plain": [
       "[1]"
      ]
     },
     "execution_count": 83,
     "metadata": {},
     "output_type": "execute_result"
    }
   ],
   "source": [
    "sol.append(1)\n",
    "sol"
   ]
  },
  {
   "cell_type": "code",
   "execution_count": 84,
   "metadata": {},
   "outputs": [
    {
     "data": {
      "text/plain": [
       "[1, 2]"
      ]
     },
     "execution_count": 84,
     "metadata": {},
     "output_type": "execute_result"
    }
   ],
   "source": [
    "sol.append(2)\n",
    "sol"
   ]
  },
  {
   "cell_type": "code",
   "execution_count": 86,
   "metadata": {},
   "outputs": [
    {
     "data": {
      "text/plain": [
       "[]"
      ]
     },
     "execution_count": 86,
     "metadata": {},
     "output_type": "execute_result"
    }
   ],
   "source": [
    "# Se define de nuevo para borrar datos\n",
    "sol = []\n",
    "sol"
   ]
  },
  {
   "cell_type": "code",
   "execution_count": 87,
   "metadata": {},
   "outputs": [],
   "source": [
    "N = 5\n",
    "for n in range(N):\n",
    "    beta0 = np.random.rand(n+2)\n",
    "    sol.append(opt.minimize(objetivo,beta0,args = (x,y)))"
   ]
  },
  {
   "cell_type": "code",
   "execution_count": 89,
   "metadata": {},
   "outputs": [
    {
     "data": {
      "text/plain": [
       "      fun: 8.722413363376631\n",
       " hess_inv: array([[ 0.00507448, -0.00051479],\n",
       "       [-0.00051479,  0.00355817]])\n",
       "      jac: array([-2.38418579e-07, -1.19209290e-07])\n",
       "  message: 'Optimization terminated successfully.'\n",
       "     nfev: 18\n",
       "      nit: 4\n",
       "     njev: 6\n",
       "   status: 0\n",
       "  success: True\n",
       "        x: array([-0.03280453,  0.60151673])"
      ]
     },
     "execution_count": 89,
     "metadata": {},
     "output_type": "execute_result"
    }
   ],
   "source": [
    "sol[0] #Polinomio orden 1"
   ]
  },
  {
   "cell_type": "code",
   "execution_count": 90,
   "metadata": {},
   "outputs": [
    {
     "data": {
      "text/plain": [
       "      fun: 6.985552975824906\n",
       " hess_inv: array([[ 0.01066223,  0.00163   , -0.00413565],\n",
       "       [ 0.00163   ,  0.00438142, -0.00158742],\n",
       "       [-0.00413565, -0.00158742,  0.00306091]])\n",
       "      jac: array([-5.96046448e-08, -1.78813934e-07, -5.96046448e-08])\n",
       "  message: 'Optimization terminated successfully.'\n",
       "     nfev: 40\n",
       "      nit: 7\n",
       "     njev: 10\n",
       "   status: 0\n",
       "  success: True\n",
       "        x: array([ 0.10651632,  0.65499343, -0.10311526])"
      ]
     },
     "execution_count": 90,
     "metadata": {},
     "output_type": "execute_result"
    }
   ],
   "source": [
    "sol[1] #Polinomio orden 2"
   ]
  },
  {
   "cell_type": "code",
   "execution_count": 91,
   "metadata": {},
   "outputs": [
    {
     "data": {
      "text/plain": [
       "      fun: 2.5716542599767562\n",
       " hess_inv: array([[ 0.01131338, -0.00135346, -0.00511187,  0.00125418],\n",
       "       [-0.00135346,  0.0180531 ,  0.00288593, -0.00574713],\n",
       "       [-0.00511187,  0.00288593,  0.0045246 , -0.00188046],\n",
       "       [ 0.00125418, -0.00574713, -0.00188046,  0.00241591]])\n",
       "      jac: array([-2.98023224e-08,  0.00000000e+00,  2.98023224e-08,  2.98023224e-08])\n",
       "  message: 'Optimization terminated successfully.'\n",
       "     nfev: 60\n",
       "      nit: 9\n",
       "     njev: 12\n",
       "   status: 0\n",
       "  success: True\n",
       "        x: array([ 0.03070004,  1.00239596,  0.01055696, -0.14603777])"
      ]
     },
     "execution_count": 91,
     "metadata": {},
     "output_type": "execute_result"
    }
   ],
   "source": [
    "sol[2] #Polinomio orden 3"
   ]
  },
  {
   "cell_type": "code",
   "execution_count": 92,
   "metadata": {},
   "outputs": [
    {
     "data": {
      "text/plain": [
       "      fun: 2.5714768291812162\n",
       " hess_inv: array([[ 0.01617826,  0.00452328, -0.0157056 , -0.00209755,  0.00310154],\n",
       "       [ 0.00452328,  0.02563294, -0.01010576, -0.01001142,  0.00383983],\n",
       "       [-0.0157056 , -0.01010576,  0.02771122,  0.00551435, -0.00680427],\n",
       "       [-0.00209755, -0.01001142,  0.00551435,  0.00482372, -0.00218151],\n",
       "       [ 0.00310154,  0.00383983, -0.00680427, -0.00218151,  0.00199952]])\n",
       "      jac: array([-2.68220901e-07, -1.78813934e-07, -2.08616257e-07, -8.34465027e-07,\n",
       "       -2.23517418e-06])\n",
       "  message: 'Optimization terminated successfully.'\n",
       "     nfev: 84\n",
       "      nit: 11\n",
       "     njev: 14\n",
       "   status: 0\n",
       "  success: True\n",
       "        x: array([ 2.93971944e-02,  1.00077869e+00,  1.34181014e-02, -1.45119101e-01,\n",
       "       -8.41121984e-04])"
      ]
     },
     "execution_count": 92,
     "metadata": {},
     "output_type": "execute_result"
    }
   ],
   "source": [
    "sol[3] #Polinomio orden 4"
   ]
  },
  {
   "cell_type": "code",
   "execution_count": 94,
   "metadata": {},
   "outputs": [
    {
     "data": {
      "text/plain": [
       "      fun: 2.5002994298588335\n",
       " hess_inv: array([[ 0.01760394, -0.00159834, -0.02096553,  0.0046276 ,  0.00502384,\n",
       "        -0.00153048],\n",
       "       [-0.00159834,  0.05911423,  0.01541433, -0.04569821, -0.00568218,\n",
       "         0.00794385],\n",
       "       [-0.02096553,  0.01541433,  0.04817085, -0.02194089, -0.01434262,\n",
       "         0.00615853],\n",
       "       [ 0.0046276 , -0.04569821, -0.02194089,  0.04285075,  0.00801789,\n",
       "        -0.00846906],\n",
       "       [ 0.00502384, -0.00568218, -0.01434262,  0.00801789,  0.0047795 ,\n",
       "        -0.00228125],\n",
       "       [-0.00153048,  0.00794385,  0.00615853, -0.00846906, -0.00228125,\n",
       "         0.00188755]])\n",
       "      jac: array([1.57952309e-06, 2.65240669e-06, 1.81794167e-06, 2.50339508e-06,\n",
       "       6.19888306e-06, 1.57058239e-05])\n",
       "  message: 'Desired error not necessarily achieved due to precision loss.'\n",
       "     nfev: 257\n",
       "      nit: 12\n",
       "     njev: 35\n",
       "   status: 2\n",
       "  success: False\n",
       "        x: array([ 0.0161482 ,  1.06977018,  0.06683881, -0.21865721, -0.02063591,\n",
       "        0.01638801])"
      ]
     },
     "execution_count": 94,
     "metadata": {},
     "output_type": "execute_result"
    }
   ],
   "source": [
    "sol[4] #Polinomio orde 5"
   ]
  },
  {
   "cell_type": "code",
   "execution_count": 104,
   "metadata": {},
   "outputs": [
    {
     "data": {
      "text/plain": [
       "<matplotlib.legend.Legend at 0x27bd1f72cd0>"
      ]
     },
     "execution_count": 104,
     "metadata": {},
     "output_type": "execute_result"
    },
    {
     "data": {
      "image/png": "[encoded data removed]",
      "text/plain": [
       "<Figure size 432x288 with 1 Axes>"
      ]
     },
     "metadata": {
      "needs_background": "light"
     },
     "output_type": "display_data"
    }
   ],
   "source": [
    "# Gráfica\n",
    "plt.scatter(x,y,s = 5)\n",
    "x_ordenada = np.linspace(-3/5*np.pi, 3/4*np.pi,100)\n",
    "for n in range(N):\n",
    "    plt.plot(x_ordenada,f(x_ordenada,sol[n].x), label = 'Polinomio de grado  ' + str(n+1))\n",
    "plt.grid()\n",
    "plt.legend()"
   ]
  },
  {
   "cell_type": "code",
   "execution_count": 105,
   "metadata": {},
   "outputs": [
    {
     "data": {
      "image/png": "[encoded data removed]",
      "text/plain": [
       "<Figure size 432x288 with 1 Axes>"
      ]
     },
     "metadata": {
      "needs_background": "light"
     },
     "output_type": "display_data"
    }
   ],
   "source": [
    "for n in range(N):\n",
    "    plt.scatter(n+1,sol[n].fun)\n",
    "plt.xlabel('Orden del polinomio')\n",
    "plt.ylabel('Error cuadrático acumulado')\n",
    "plt.grid()"
   ]
  },
  {
   "cell_type": "markdown",
   "metadata": {},
   "source": [
    "---"
   ]
  },
  {
   "cell_type": "markdown",
   "metadata": {},
   "source": [
    "## 3. Regularización\n",
    "\n",
    "Vimos que la solución de mínimos cuadrados es:\n",
    "$$\\boldsymbol{\\beta}^{ls} = \\arg \\min_{\\boldsymbol{\\beta}} \\left|\\left|\\boldsymbol{y}-\\boldsymbol{X}\\boldsymbol{\\beta}\\right|\\right|^2.$$\n",
    "\n",
    "Sin embargo, si crecemos el orden del modelo hay overfitting y algunos coeficientes óptimos $\\boldsymbol{\\beta}$ crecen muchísimo. Que un coeficiente sea muy grande, significa que se le da mucha importancia a alguna característica (que quizá sea ruido... no sirve para predecir).\n",
    "\n",
    "La regularización consiste en penalizar la magnitud de los coeficientes $\\boldsymbol{\\beta}$ en el problema de optimización, para que no crezcan tanto. "
   ]
  },
  {
   "cell_type": "markdown",
   "metadata": {},
   "source": [
    "### 3.1. Ridge\n",
    "\n",
    "$$\\boldsymbol{\\beta}^{ridge} = \\arg \\min_{\\boldsymbol{\\beta}} \\left|\\left|\\boldsymbol{y}-\\boldsymbol{X}\\boldsymbol{\\beta}\\right|\\right|^2 + \\lambda\\left|\\left|\\boldsymbol{\\beta}\\right|\\right|^2$$"
   ]
  },
  {
   "cell_type": "code",
   "execution_count": 118,
   "metadata": {},
   "outputs": [],
   "source": [
    "# Definimos otra función objetivo\n",
    "def ridge(beta,x,y, l = 0):\n",
    "    #Usamos la función 'f' extendida\n",
    "    return np.sum((y-f(x,beta))**2) + l*np.sum(beta**2)"
   ]
  },
  {
   "cell_type": "code",
   "execution_count": 114,
   "metadata": {},
   "outputs": [
    {
     "data": {
      "text/plain": [
       "[]"
      ]
     },
     "execution_count": 114,
     "metadata": {},
     "output_type": "execute_result"
    }
   ],
   "source": [
    "sol_r =[]\n",
    "sol_r"
   ]
  },
  {
   "cell_type": "code",
   "execution_count": 125,
   "metadata": {},
   "outputs": [
    {
     "data": {
      "text/plain": [
       "<matplotlib.legend.Legend at 0x27bd1fa8580>"
      ]
     },
     "execution_count": 125,
     "metadata": {},
     "output_type": "execute_result"
    },
    {
     "data": {
      "image/png": "[encoded data removed]",
      "text/plain": [
       "<Figure size 432x288 with 1 Axes>"
      ]
     },
     "metadata": {
      "needs_background": "light"
     },
     "output_type": "display_data"
    }
   ],
   "source": [
    "for n in range(N):\n",
    "    beta0 = np.random.rand(n+2)\n",
    "    sol_r.append(opt.minimize(ridge,beta0,args = (x,y,50)))\n",
    "plt.scatter(x,y,s=5)\n",
    "for n in range(N):\n",
    "    plt.plot(x_ordenada,f(x_ordenada,sol_r[n].x), label = 'Polinomio de orden ' + str(n+1))\n",
    "plt.grid()\n",
    "plt.legend()"
   ]
  },
  {
   "cell_type": "code",
   "execution_count": null,
   "metadata": {},
   "outputs": [],
   "source": []
  },
  {
   "cell_type": "markdown",
   "metadata": {},
   "source": [
    "### 3.2. Lasso\n",
    "\n",
    "$$\\boldsymbol{\\beta}^{lasso} = \\arg \\min_{\\boldsymbol{\\beta}} \\left|\\left|\\boldsymbol{y}-\\boldsymbol{X}\\boldsymbol{\\beta}\\right|\\right|^2 + \\lambda\\left|\\left|\\boldsymbol{\\beta}\\right|\\right|_1$$\n",
    "\n",
    "La norma 1 no es más que la suma de los valores absolutos de las componentes $\\left|\\left|\\boldsymbol{\\beta}\\right|\\right|_1=\\sum_{j=0}^m\\left|\\beta_j\\right|$."
   ]
  },
  {
   "cell_type": "code",
   "execution_count": 122,
   "metadata": {},
   "outputs": [],
   "source": [
    "# Definimos la función objejtivo\n",
    "def lasso(beta,x,y,l = 0):\n",
    "    return np.sum((y-f(x,beta))**2) + l*np.sum(np.abs(beta))\n",
    "    "
   ]
  },
  {
   "cell_type": "code",
   "execution_count": 123,
   "metadata": {},
   "outputs": [
    {
     "data": {
      "text/plain": [
       "[]"
      ]
     },
     "execution_count": 123,
     "metadata": {},
     "output_type": "execute_result"
    }
   ],
   "source": [
    "sol_l = []\n",
    "sol_l"
   ]
  },
  {
   "cell_type": "code",
   "execution_count": 132,
   "metadata": {},
   "outputs": [
    {
     "data": {
      "text/plain": [
       "<matplotlib.legend.Legend at 0x27bd3838700>"
      ]
     },
     "execution_count": 132,
     "metadata": {},
     "output_type": "execute_result"
    },
    {
     "data": {
      "image/png": "[encoded data removed]",
      "text/plain": [
       "<Figure size 432x288 with 1 Axes>"
      ]
     },
     "metadata": {
      "needs_background": "light"
     },
     "output_type": "display_data"
    }
   ],
   "source": [
    "for n in range(N):\n",
    "    beta0 = np.random.rand(n+2)\n",
    "    sol_l.append(opt.minimize(lasso,beta0,args = (x,y, 10)))\n",
    "plt.scatter(x,y,s=5)\n",
    "for n in range(N):\n",
    "    plt.plot(x_ordenada,f(x_ordenada,sol_l[n].x), label = 'Polinomio de orden ' + str(n+1))\n",
    "plt.grid()\n",
    "plt.legend()"
   ]
  },
  {
   "cell_type": "code",
   "execution_count": 133,
   "metadata": {},
   "outputs": [
    {
     "data": {
      "image/png": "[encoded data removed]",
      "text/plain": [
       "<Figure size 432x288 with 1 Axes>"
      ]
     },
     "metadata": {
      "needs_background": "light"
     },
     "output_type": "display_data"
    }
   ],
   "source": [
    "for n in range(N):\n",
    "    plt.scatter(n+1,sol_l[n].fun)\n",
    "plt.xlabel('Orden del polinomio')\n",
    "plt.ylabel('Error cuadrático acumulado')\n",
    "plt.grid()"
   ]
  },
  {
   "cell_type": "code",
   "execution_count": 134,
   "metadata": {},
   "outputs": [
    {
     "data": {
      "text/plain": [
       "      fun: 34.35548267723101\n",
       " hess_inv: array([[ 2.21849504e-05, -2.77578198e-05],\n",
       "       [-2.77578198e-05,  2.97609979e-03]])\n",
       "      jac: array([40.58114576,  0.115942  ])\n",
       "  message: 'Desired error not necessarily achieved due to precision loss.'\n",
       "     nfev: 315\n",
       "      nit: 9\n",
       "     njev: 101\n",
       "   status: 2\n",
       "  success: False\n",
       "        x: array([-1.61273151e-09,  4.23298129e-01])"
      ]
     },
     "execution_count": 134,
     "metadata": {},
     "output_type": "execute_result"
    }
   ],
   "source": [
    "sol_l[0]"
   ]
  },
  {
   "cell_type": "code",
   "execution_count": 136,
   "metadata": {},
   "outputs": [
    {
     "data": {
      "text/plain": [
       "      fun: 34.3554743591779\n",
       " hess_inv: array([[ 1.61159834e-08, -1.59648606e-06, -6.95851788e-10],\n",
       "       [-1.59648606e-06,  3.06338233e-03, -6.31043836e-08],\n",
       "       [-6.95851788e-10, -6.31043836e-08,  3.60274483e-08]])\n",
       "      jac: array([-4.86083031e+01, -4.76074219e-03,  3.11789670e+01])\n",
       "  message: 'Desired error not necessarily achieved due to precision loss.'\n",
       "     nfev: 536\n",
       "      nit: 19\n",
       "     njev: 131\n",
       "   status: 2\n",
       "  success: False\n",
       "        x: array([-3.10917410e-07,  4.22874985e-01, -4.24029194e-09])"
      ]
     },
     "execution_count": 136,
     "metadata": {},
     "output_type": "execute_result"
    }
   ],
   "source": [
    "sol_l[1]"
   ]
  },
  {
   "cell_type": "code",
   "execution_count": 137,
   "metadata": {},
   "outputs": [
    {
     "data": {
      "text/plain": [
       "      fun: 34.353259860203444\n",
       " hess_inv: array([[ 3.35682414e-10,  1.79763967e-07, -8.60176511e-11,\n",
       "        -4.98814840e-08],\n",
       "       [ 1.79763967e-07,  9.34440074e-03, -8.49734670e-07,\n",
       "        -2.54347734e-03],\n",
       "       [-8.60176511e-11, -8.49734670e-07,  1.13428226e-09,\n",
       "         2.38410225e-07],\n",
       "       [-4.98814840e-08, -2.54347734e-03,  2.38410225e-07,\n",
       "         9.15225778e-04]])\n",
       "      jac: array([-4.83344283e+01, -9.78612900e-03,  5.35371594e+01,  3.27014923e-03])\n",
       "  message: 'Desired error not necessarily achieved due to precision loss.'\n",
       "     nfev: 597\n",
       "      nit: 29\n",
       "     njev: 117\n",
       "   status: 2\n",
       "  success: False\n",
       "        x: array([-2.21020011e-08,  4.15442302e-01, -1.06246921e-09,  2.61410210e-03])"
      ]
     },
     "execution_count": 137,
     "metadata": {},
     "output_type": "execute_result"
    }
   ],
   "source": [
    "sol_l[2]"
   ]
  },
  {
   "cell_type": "code",
   "execution_count": 138,
   "metadata": {},
   "outputs": [
    {
     "data": {
      "text/plain": [
       "      fun: 34.27139551266772\n",
       " hess_inv: array([[ 1.53762326e-10, -1.29231333e-07,  1.37341152e-10,\n",
       "         6.50133332e-08, -5.57692972e-09],\n",
       "       [-1.29231333e-07,  1.72793666e-02,  1.36513594e-06,\n",
       "        -6.61775827e-03,  9.92641649e-04],\n",
       "       [ 1.37341152e-10,  1.36513594e-06,  2.11032632e-09,\n",
       "        -7.60881549e-07,  1.03304542e-07],\n",
       "       [ 6.50133332e-08, -6.61775827e-03, -7.60881549e-07,\n",
       "         3.08198724e-03, -5.49049590e-04],\n",
       "       [-5.57692972e-09,  9.92641649e-04,  1.03304542e-07,\n",
       "        -5.49049590e-04,  1.66993280e-04]])\n",
       "      jac: array([-9.53074217e+00, -4.76837158e-07,  4.71611733e+01,  5.88417053e-04,\n",
       "        2.73036957e-03])\n",
       "  message: 'Desired error not necessarily achieved due to precision loss.'\n",
       "     nfev: 672\n",
       "      nit: 31\n",
       "     njev: 110\n",
       "   status: 2\n",
       "  success: False\n",
       "        x: array([-8.72394151e-09,  3.84407530e-01, -8.49328986e-10,  2.08852924e-02,\n",
       "       -6.39003400e-03])"
      ]
     },
     "execution_count": 138,
     "metadata": {},
     "output_type": "execute_result"
    }
   ],
   "source": [
    "sol_l[3]"
   ]
  },
  {
   "cell_type": "code",
   "execution_count": 139,
   "metadata": {},
   "outputs": [
    {
     "data": {
      "text/plain": [
       "      fun: 34.27139594988171\n",
       " hess_inv: array([[ 1.16717197e-09, -2.38128763e-07, -1.88888536e-11,\n",
       "         1.00388454e-07, -1.81079158e-08, -9.89915615e-13],\n",
       "       [-2.38128763e-07,  1.80142965e-02, -5.43291690e-07,\n",
       "        -6.38868936e-03,  1.01898788e-03,  6.37759105e-08],\n",
       "       [-1.88888536e-11, -5.43291690e-07,  1.93738502e-10,\n",
       "         2.05730530e-07, -3.31526005e-08,  1.10426070e-11],\n",
       "       [ 1.00388454e-07, -6.38868936e-03,  2.05730530e-07,\n",
       "         2.85748026e-03, -5.78926984e-04, -2.43444408e-08],\n",
       "       [-1.81079158e-08,  1.01898788e-03, -3.31526005e-08,\n",
       "        -5.78926984e-04,  2.32267340e-04,  5.12400811e-09],\n",
       "       [-9.89915615e-13,  6.37759105e-08,  1.10426070e-11,\n",
       "        -2.43444408e-08,  5.12400811e-09,  2.26893099e-10]])\n",
       "      jac: array([ 3.22559013e+01, -3.51476669e-03, -1.42382126e+01, -4.50801849e-03,\n",
       "       -5.20038605e-03, -3.20243645e+00])\n",
       "  message: 'Desired error not necessarily achieved due to precision loss.'\n",
       "     nfev: 1006\n",
       "      nit: 36\n",
       "     njev: 142\n",
       "   status: 2\n",
       "  success: False\n",
       "        x: array([-2.49714624e-09,  3.84361684e-01, -9.99816296e-09,  2.09001443e-02,\n",
       "       -6.39264228e-03, -1.20568829e-08])"
      ]
     },
     "execution_count": 139,
     "metadata": {},
     "output_type": "execute_result"
    }
   ],
   "source": [
    "sol_l[4]"
   ]
  }
 ],
 "metadata": {
  "kernelspec": {
   "display_name": "Python 3 (ipykernel)",
   "language": "python",
   "name": "python3"
  },
  "language_info": {
   "codemirror_mode": {
    "name": "ipython",
    "version": 3
   },
   "file_extension": ".py",
   "mimetype": "text/x-python",
   "name": "python",
   "nbconvert_exporter": "python",
   "pygments_lexer": "ipython3",
   "version": "3.9.12"
  }
 },
 "nbformat": 4,
 "nbformat_minor": 2
}
