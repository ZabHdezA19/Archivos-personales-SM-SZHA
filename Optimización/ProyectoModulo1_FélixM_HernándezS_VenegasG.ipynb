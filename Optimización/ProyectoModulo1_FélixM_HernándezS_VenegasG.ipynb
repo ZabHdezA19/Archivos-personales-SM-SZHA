{
 "cells": [
  {
   "cell_type": "markdown",
   "id": "deac1e46",
   "metadata": {},
   "source": [
    "# Título"
   ]
  },
  {
   "cell_type": "markdown",
   "id": "529ed238",
   "metadata": {},
   "source": [
    "Una empresa que vende café en grano desea diseñar un contenedor cilíndrico con tapa cuyo volumen sea de $\\frac{1}{2}$ litro. El material seleccionado para fabricar dicho envase cuesta $\\$0.05$ por cm$^2$. ¿Cuáles deben ser las dimensiones de modo que la superficie de la caja sea mínima?, ¿cuál es la superficie mínima? y ¿cuánto será el costo por contenedor fabricado?"
   ]
  },
  {
   "cell_type": "markdown",
   "id": "cb291207",
   "metadata": {},
   "source": [
    "**Obtención del modelo**\n",
    "\n",
    "<img style=\"float: left; margin: 30px 30px 15px 15px;\" src=\"https://upload.wikimedia.org/wikipedia/commons/thumb/e/e1/Cylinder_geometry.svg/389px-Cylinder_geometry.svg.png\" width=\"80px\" height=\"10px\" />\n",
    "\n",
    "Se comienza asignándole variables a los parámetros correspondientes a la altura del cilindro $(h)$ y al radio de su base/tapa circular $(r)$ como se muestra en la figura de la izquierda. \n",
    "\n",
    "Tomando en cuenta la restricción de volumen dada, se transforman sus unidades de litros a unidades de cm$^3$, empleando la conversión $1l=1000$ cm$^3$:\n",
    "\n",
    "$$\n",
    "V=(0.5l) (\\frac{1000cm^3}{1l}) \\rightarrow V=500cm^3\n",
    "$$"
   ]
  },
  {
   "cell_type": "markdown",
   "id": "4cabf49b",
   "metadata": {},
   "source": [
    "<img style=\"float: left; margin: 0px 30px 15px 15px;\" src=\"https://haygot.s3.amazonaws.com/choices/1946840_4951691_c837770f041242b793c35aec591422ba.png\" width=\"170px\"/>\n",
    "\n",
    "Para formular la función que describa al volumen, es necesario expresar primeramente la superficie de la base ($S_{base}$), correspondiente al área de un círculo:\n",
    "\n",
    "$$\n",
    "S_{base}=\\pi r^2.\n",
    "$$\n",
    "\n",
    "Una vez obtenido este dato, basta con multiplicarlo por la altura para calcular el volumen del cilindro:\n",
    "\n",
    "$$\n",
    "V=hS_{base} \\rightarrow 500cm^3=h\\pi r^2.\n",
    "$$\n",
    "\n",
    "Se despeja '$h$', para dejarla en términos de la variable '$r$':\n",
    "\n",
    "$$\n",
    "500cm^3=h\\pi r^2 \\rightarrow h=\\frac{500cm^3}{\\pi r^2}.\n",
    "$$\n",
    "\n",
    "Continuando con el planteamiento de la función a optimizar, se busca una expresión que represente la superficie total del contenedor cilíndrico ($S_{total}$), la cual está compuesta por la suma de la superficie de la pared ($S_{pared}$) y de las bases ($S_{bases}$), es decir, de la base y la tapa:\n",
    "\n",
    "$$\n",
    "S_{total}=S_{bases}+S_{pared}.\n",
    "$$\n",
    "\n",
    "La superficie de las bases es el doble de la supercicie de la base utilizada anteriomente:\n",
    "\n",
    "$$\n",
    "S_{bases}=2S_{base} \\rightarrow S_{bases}=2\\pi r^2,\n",
    "$$\n",
    "\n",
    "mientras que la de la pared se calcula como el área de un rectángulo de lados $2\\pi r$ y $h$:\n",
    "\n",
    "$$\n",
    "S_{pared}=2\\pi rh.\n",
    "$$\n",
    "\n",
    "En esta última expresión se sustituye la '$h$' despejada y se simplifica:\n",
    "\n",
    "$$\n",
    "S_{pared}=2\\pi rh=2\\pi r(\\frac{500cm^3}{\\pi r^2}) \\rightarrow S_{pared}=\\frac{1000cm^3}{r}.\n",
    "$$\n",
    "\n",
    "Finalmente, se suman la superficie de las bases y de la pared para obtener la función de superficie total del contenedor cilíndrico a optimizar:\n",
    "\n",
    "$$\n",
    "S_{total}=S_{bases}+S_{pared} \\rightarrow S_{total}=2\\pi r^2+\\frac{1000cm^3}{r}.\n",
    "$$"
   ]
  },
  {
   "cell_type": "markdown",
   "id": "911a26f3",
   "metadata": {},
   "source": [
    "**Solución del problema de optimización**"
   ]
  },
  {
   "cell_type": "code",
   "execution_count": 1,
   "id": "559b63c9",
   "metadata": {},
   "outputs": [
    {
     "data": {
      "text/latex": [
       "$\\displaystyle 6.28318530717959 r^{2} + \\frac{1000}{r}$"
      ],
      "text/plain": [
       "6.28318530717959*r**2 + 1000/r"
      ]
     },
     "execution_count": 1,
     "metadata": {},
     "output_type": "execute_result"
    }
   ],
   "source": [
    "# Importación de librerías\n",
    "import sympy as sym\n",
    "import numpy as np\n",
    "import matplotlib.pyplot as plt \n",
    "\n",
    "# Definición de función\n",
    "sym.var('r',real=True)\n",
    "def S(r):\n",
    "    return (2*np.pi*r**2)+(1000/r)\n",
    "S(r)"
   ]
  },
  {
   "cell_type": "code",
   "execution_count": 2,
   "id": "564be254",
   "metadata": {},
   "outputs": [
    {
     "data": {
      "text/latex": [
       "$\\displaystyle 12.5663706143592 r - \\frac{1000}{r^{2}}$"
      ],
      "text/plain": [
       "12.5663706143592*r - 1000/r**2"
      ]
     },
     "execution_count": 2,
     "metadata": {},
     "output_type": "execute_result"
    }
   ],
   "source": [
    "# Derivada\n",
    "dS=sym.diff(S(r),r)\n",
    "dS"
   ]
  },
  {
   "cell_type": "code",
   "execution_count": 3,
   "id": "7fb4530c",
   "metadata": {},
   "outputs": [
    {
     "data": {
      "text/plain": [
       "[4.30127006914049]"
      ]
     },
     "execution_count": 3,
     "metadata": {},
     "output_type": "execute_result"
    }
   ],
   "source": [
    "# Puntos críticos\n",
    "c=sym.solve(dS,r)\n",
    "c"
   ]
  },
  {
   "cell_type": "code",
   "execution_count": 4,
   "id": "198a650f",
   "metadata": {},
   "outputs": [
    {
     "data": {
      "text/latex": [
       "$\\displaystyle 348.734205452888$"
      ],
      "text/plain": [
       "348.734205452888"
      ]
     },
     "execution_count": 4,
     "metadata": {},
     "output_type": "execute_result"
    }
   ],
   "source": [
    "S(c[0])"
   ]
  },
  {
   "cell_type": "markdown",
   "id": "2fd3a22a",
   "metadata": {},
   "source": [
    "Debido a que es el único punto crítico real encontrado en la función de superficie, se analiza gráficamente para determinar si representa un mínimo o máximo en dicha función:"
   ]
  },
  {
   "cell_type": "code",
   "execution_count": 6,
   "id": "4193ff57",
   "metadata": {},
   "outputs": [
    {
     "data": {
      "image/png": "[encoded data removed]",
      "text/plain": [
       "<Figure size 432x288 with 1 Axes>"
      ]
     },
     "metadata": {
      "needs_background": "light"
     },
     "output_type": "display_data"
    }
   ],
   "source": [
    "# Graficar\n",
    "xnum=np.linspace(0.1,20,100)\n",
    "ynum=S(xnum)\n",
    "plt.plot(xnum,ynum)\n",
    "plt.plot(c[0],S(c[0]),'*r',ms=15)\n",
    "plt.xlabel('Logitud del radio (cm)')\n",
    "plt.ylabel('Costo ($)')\n",
    "plt.grid()"
   ]
  },
  {
   "cell_type": "code",
   "execution_count": null,
   "id": "773a85da",
   "metadata": {},
   "outputs": [],
   "source": []
  }
 ],
 "metadata": {
  "kernelspec": {
   "display_name": "Python 3 (ipykernel)",
   "language": "python",
   "name": "python3"
  },
  "language_info": {
   "codemirror_mode": {
    "name": "ipython",
    "version": 3
   },
   "file_extension": ".py",
   "mimetype": "text/x-python",
   "name": "python",
   "nbconvert_exporter": "python",
   "pygments_lexer": "ipython3",
   "version": "3.9.12"
  }
 },
 "nbformat": 4,
 "nbformat_minor": 5
}
