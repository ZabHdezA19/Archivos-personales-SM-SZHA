{
 "cells": [
  {
   "cell_type": "markdown",
   "metadata": {
    "colab_type": "text",
    "id": "PedPDtG9ESjJ"
   },
   "source": [
    "# Tarea. Optimización de funciones escalares"
   ]
  },
  {
   "cell_type": "code",
   "execution_count": 3,
   "metadata": {},
   "outputs": [],
   "source": [
    "import numpy as np\n",
    "import sympy as sym\n",
    "import matplotlib.pyplot as plt"
   ]
  },
  {
   "cell_type": "markdown",
   "metadata": {
    "colab_type": "text",
    "id": "I1rmrSnYElMl"
   },
   "source": [
    "1. Encuntre el punto crítico de cada $f(x)$, grafique y diga si éste es máximo o mínimo:"
   ]
  },
  {
   "cell_type": "markdown",
   "metadata": {
    "colab_type": "text",
    "id": "rZsQPEsnE-b9"
   },
   "source": [
    "1.1 $f(x)=x+\\frac{1}{x^2}$"
   ]
  },
  {
   "cell_type": "code",
   "execution_count": 4,
   "metadata": {
    "colab": {},
    "colab_type": "code",
    "id": "BnSeOKFZEIpZ"
   },
   "outputs": [
    {
     "data": {
      "text/latex": [
       "$\\displaystyle x + \\frac{1}{x^{2}}$"
      ],
      "text/plain": [
       "x + x**(-2)"
      ]
     },
     "execution_count": 4,
     "metadata": {},
     "output_type": "execute_result"
    }
   ],
   "source": [
    "sym.var('x', real = 'true')\n",
    "def f(x):\n",
    "    return x + 1/x**2\n",
    "f(x)"
   ]
  },
  {
   "cell_type": "code",
   "execution_count": 5,
   "metadata": {},
   "outputs": [
    {
     "data": {
      "text/latex": [
       "$\\displaystyle 1 - \\frac{2}{x^{3}}$"
      ],
      "text/plain": [
       "1 - 2/x**3"
      ]
     },
     "execution_count": 5,
     "metadata": {},
     "output_type": "execute_result"
    }
   ],
   "source": [
    "df = sym.diff(f(x),x)\n",
    "cf = sym.solve(df,x)\n",
    "df"
   ]
  },
  {
   "cell_type": "code",
   "execution_count": 6,
   "metadata": {},
   "outputs": [
    {
     "data": {
      "text/plain": [
       "[2**(1/3)]"
      ]
     },
     "execution_count": 6,
     "metadata": {},
     "output_type": "execute_result"
    }
   ],
   "source": [
    "cf"
   ]
  },
  {
   "cell_type": "code",
   "execution_count": 7,
   "metadata": {},
   "outputs": [
    {
     "data": {
      "image/png": "[encoded data removed]",
      "text/plain": [
       "<Figure size 432x288 with 1 Axes>"
      ]
     },
     "metadata": {
      "needs_background": "light"
     },
     "output_type": "display_data"
    }
   ],
   "source": [
    "xfnum = np.linspace(0.1,10,150)\n",
    "yfnum = f(xfnum)\n",
    "plt.plot(xfnum,yfnum)\n",
    "plt.plot(cf[0],f(cf[0]),'r*')\n",
    "plt.ylim([0,20])\n",
    "plt.grid()"
   ]
  },
  {
   "cell_type": "code",
   "execution_count": 8,
   "metadata": {},
   "outputs": [
    {
     "data": {
      "text/latex": [
       "$\\displaystyle \\frac{3 \\cdot \\sqrt[3]{2}}{2}$"
      ],
      "text/plain": [
       "3*2**(1/3)/2"
      ]
     },
     "execution_count": 8,
     "metadata": {},
     "output_type": "execute_result"
    }
   ],
   "source": [
    "f(cf[0])"
   ]
  },
  {
   "cell_type": "markdown",
   "metadata": {},
   "source": [
    "**El punto crítico es un mínimo local y se encuentra en $(\\sqrt[3]{2}, \\dfrac{3\\sqrt[3]{2}}{2})$**"
   ]
  },
  {
   "cell_type": "markdown",
   "metadata": {},
   "source": [
    "---"
   ]
  },
  {
   "cell_type": "markdown",
   "metadata": {
    "colab_type": "text",
    "id": "WSf2O-FsGYtu"
   },
   "source": [
    "1.2 $g(x)=\\frac{15x}{2}\\sqrt{\\frac{x}{x-30}}$"
   ]
  },
  {
   "cell_type": "code",
   "execution_count": 9,
   "metadata": {},
   "outputs": [
    {
     "data": {
      "text/latex": [
       "$\\displaystyle \\frac{15 x \\left(\\frac{x}{x - 30}\\right)^{0.5}}{2}$"
      ],
      "text/plain": [
       "15*x*(x/(x - 30))**0.5/2"
      ]
     },
     "execution_count": 9,
     "metadata": {},
     "output_type": "execute_result"
    }
   ],
   "source": [
    "def g(x):\n",
    "    return ((15*x)/2)*(x/(x-30))**0.5\n",
    "g(x)"
   ]
  },
  {
   "cell_type": "code",
   "execution_count": 10,
   "metadata": {},
   "outputs": [
    {
     "data": {
      "text/latex": [
       "$\\displaystyle \\frac{15 \\left(\\frac{x}{x - 30}\\right)^{0.5} \\left(x - 30\\right) \\left(- \\frac{0.5 x}{\\left(x - 30\\right)^{2}} + \\frac{0.5}{x - 30}\\right)}{2} + \\frac{15 \\left(\\frac{x}{x - 30}\\right)^{0.5}}{2}$"
      ],
      "text/plain": [
       "15*(x/(x - 30))**0.5*(x - 30)*(-0.5*x/(x - 30)**2 + 0.5/(x - 30))/2 + 15*(x/(x - 30))**0.5/2"
      ]
     },
     "execution_count": 10,
     "metadata": {},
     "output_type": "execute_result"
    }
   ],
   "source": [
    "dg = sym.diff(g(x),x)\n",
    "cg = sym.solve(dg,x)\n",
    "dg"
   ]
  },
  {
   "cell_type": "code",
   "execution_count": 11,
   "metadata": {},
   "outputs": [
    {
     "data": {
      "text/plain": [
       "[0.0, 45.0000000000000]"
      ]
     },
     "execution_count": 11,
     "metadata": {},
     "output_type": "execute_result"
    }
   ],
   "source": [
    "cg"
   ]
  },
  {
   "cell_type": "markdown",
   "metadata": {},
   "source": [
    "**Existen dos puntos críticos**"
   ]
  },
  {
   "cell_type": "code",
   "execution_count": 34,
   "metadata": {},
   "outputs": [
    {
     "data": {
      "image/png": "[encoded data removed]",
      "text/plain": [
       "<Figure size 432x288 with 1 Axes>"
      ]
     },
     "metadata": {
      "needs_background": "light"
     },
     "output_type": "display_data"
    }
   ],
   "source": [
    "x1gnum = np.linspace(40,50,250)\n",
    "y1gnum = g(x1gnum)\n",
    "plt.plot(x1gnum,y1gnum)\n",
    "plt.plot(cg[1],g(cg[1]),'r*')\n",
    "plt.grid()"
   ]
  },
  {
   "cell_type": "code",
   "execution_count": 35,
   "metadata": {},
   "outputs": [
    {
     "data": {
      "text/latex": [
       "$\\displaystyle 584.567147554496$"
      ],
      "text/plain": [
       "584.567147554496"
      ]
     },
     "execution_count": 35,
     "metadata": {},
     "output_type": "execute_result"
    }
   ],
   "source": [
    "g(cg[1])"
   ]
  },
  {
   "cell_type": "markdown",
   "metadata": {},
   "source": [
    "**Un punto crítico es un mínimo local y se localiza en (45, 584.567)**"
   ]
  },
  {
   "cell_type": "code",
   "execution_count": 36,
   "metadata": {},
   "outputs": [
    {
     "data": {
      "image/png": "[encoded data removed]",
      "text/plain": [
       "<Figure size 432x288 with 1 Axes>"
      ]
     },
     "metadata": {
      "needs_background": "light"
     },
     "output_type": "display_data"
    }
   ],
   "source": [
    "xgnum = np.linspace(-10,0,250)\n",
    "ygnum = g(xgnum)\n",
    "plt.plot(xgnum,ygnum)\n",
    "plt.plot(cg[0],g(cg[0]),'r*')\n",
    "plt.grid()"
   ]
  },
  {
   "cell_type": "code",
   "execution_count": 37,
   "metadata": {},
   "outputs": [
    {
     "data": {
      "text/latex": [
       "$\\displaystyle 0$"
      ],
      "text/plain": [
       "0"
      ]
     },
     "execution_count": 37,
     "metadata": {},
     "output_type": "execute_result"
    }
   ],
   "source": [
    "g(cg[0])"
   ]
  },
  {
   "cell_type": "markdown",
   "metadata": {},
   "source": [
    "**El segundo punto crítico es un máximo local y se encuentra en (0, 0)**"
   ]
  },
  {
   "cell_type": "markdown",
   "metadata": {},
   "source": [
    "---"
   ]
  },
  {
   "cell_type": "markdown",
   "metadata": {
    "colab_type": "text",
    "id": "7A2O6L5gGx-q"
   },
   "source": [
    "1.3 $h(x)=100(1+\\cos(x)\\sin(x))$, para $x\\in[0.\\frac{\\pi}{2}]$"
   ]
  },
  {
   "cell_type": "code",
   "execution_count": 13,
   "metadata": {},
   "outputs": [
    {
     "data": {
      "text/latex": [
       "$\\displaystyle 100 \\sin{\\left(x \\right)} \\cos{\\left(x \\right)} + 100$"
      ],
      "text/plain": [
       "100*sin(x)*cos(x) + 100"
      ]
     },
     "execution_count": 13,
     "metadata": {},
     "output_type": "execute_result"
    }
   ],
   "source": [
    "def h(x):\n",
    "    return 100*(1+sym.cos(x)*sym.sin(x))\n",
    "h(x)"
   ]
  },
  {
   "cell_type": "code",
   "execution_count": 14,
   "metadata": {},
   "outputs": [
    {
     "data": {
      "text/latex": [
       "$\\displaystyle - 100 \\sin^{2}{\\left(x \\right)} + 100 \\cos^{2}{\\left(x \\right)}$"
      ],
      "text/plain": [
       "-100*sin(x)**2 + 100*cos(x)**2"
      ]
     },
     "execution_count": 14,
     "metadata": {},
     "output_type": "execute_result"
    }
   ],
   "source": [
    "dh = sym.diff(h(x),x)\n",
    "ch = sym.solve(dh,x)\n",
    "dh"
   ]
  },
  {
   "cell_type": "code",
   "execution_count": 15,
   "metadata": {},
   "outputs": [
    {
     "data": {
      "text/plain": [
       "[-pi/4, pi/4]"
      ]
     },
     "execution_count": 15,
     "metadata": {},
     "output_type": "execute_result"
    }
   ],
   "source": [
    "ch"
   ]
  },
  {
   "cell_type": "code",
   "execution_count": 17,
   "metadata": {},
   "outputs": [
    {
     "data": {
      "text/plain": [
       "[<matplotlib.lines.Line2D at 0x2b63413c3d0>]"
      ]
     },
     "execution_count": 17,
     "metadata": {},
     "output_type": "execute_result"
    },
    {
     "data": {
      "image/png": "[encoded data removed]",
      "text/plain": [
       "<Figure size 432x288 with 1 Axes>"
      ]
     },
     "metadata": {
      "needs_background": "light"
     },
     "output_type": "display_data"
    }
   ],
   "source": [
    "fn = sym.lambdify(x,h(x),'numpy')\n",
    "xhnum = np.linspace(0,np.pi/2,150)\n",
    "yhnum = fn(xhnum)\n",
    "plt.plot(xhnum,yhnum)\n",
    "plt.plot(ch[1],fn(float(ch[1])), 'r*')"
   ]
  },
  {
   "cell_type": "code",
   "execution_count": 18,
   "metadata": {},
   "outputs": [
    {
     "data": {
      "text/plain": [
       "150.0"
      ]
     },
     "execution_count": 18,
     "metadata": {},
     "output_type": "execute_result"
    }
   ],
   "source": [
    "fn(np.pi/4)"
   ]
  },
  {
   "cell_type": "markdown",
   "metadata": {},
   "source": [
    "**El punto crítico es un máximo local y se encuentra en ($\\dfrac{\\pi}{4}$, 150)**"
   ]
  },
  {
   "cell_type": "markdown",
   "metadata": {
    "colab_type": "text",
    "id": "mibUuJQGHSUO"
   },
   "source": [
    "2. Resuelva los siguientes problemas:"
   ]
  },
  {
   "cell_type": "markdown",
   "metadata": {
    "colab_type": "text",
    "id": "uxDIyBC6HYFx"
   },
   "source": [
    "2.1  Se desea hacer una caja con tapa cuyo volumen sea de 72 $cm^3$. Además, lo largo de la base debe ser el doble de lo ancho. ¿Cuáles deben ser las dimensiones de modo que la superficie de la caja sea mínima? y, ¿cuál la superficie mínima?\n"
   ]
  },
  {
   "cell_type": "markdown",
   "metadata": {
    "colab": {},
    "colab_type": "code",
    "id": "7Lvny-LWHXcx"
   },
   "source": [
    "Se denominara $a$ al ancho de la caja, $l$ a lo largo y $h$ a la altura.\n",
    "\n",
    "Por el contexto del problema sabemos que el largo de la base es el doble del ancho, por lo tanto $l = 2a$\n",
    "\n",
    "El volumen de la caja se calcula $V = 72 = l\\times a\\times h$\n",
    "El área será determinada de la siguiente manera $$A = 2(l\\times a) + 2(l\\times h) + 2(h\\times a) $$\n",
    "\n",
    "Si sustituimos $l$ en las dos ecuaciones nos quedaría que:\n",
    "\n",
    "$$V = 72 = 2a\\times a\\times h = 2a^2 \\times h $$\n",
    "\n",
    "$$A = 2(2a\\times a) + 2(2a\\times h) + 2(h\\times a) = 2(2a^2) + 2(2a\\times h) + 2(h\\times a)$$\n",
    "\n",
    "Si despejamos $h$ de la ecuación de volumen, nos queda que \n",
    "$$h = \\dfrac{72}{2a^2} = \\dfrac{36}{a^2}$$\n",
    "\n",
    "Si sustituiimos $h$ en la ecuación del área y nos queda como:\n",
    "$$A = 2(2a^2) + 2(2a\\times \\dfrac{36}{a^2}) + 2(\\dfrac{36}{a^2}\\times a) = 2(2a^2) + 2(2\\times \\dfrac{36}{a}) + 2(\\dfrac{36}{a})$$\n",
    "\n",
    "Haciendo un poco de álgebra\n",
    "\n",
    "$$A = 4a^2 + 4\\times \\dfrac{36}{a} + \\dfrac{72}{a} = 4(a^2 + \\dfrac{36}{a} + \\dfrac{18}{a}) = 4(a^2 + \\dfrac{54}{a})$$\n"
   ]
  },
  {
   "cell_type": "code",
   "execution_count": 27,
   "metadata": {},
   "outputs": [
    {
     "data": {
      "text/latex": [
       "$\\displaystyle 4 a^{2} + \\frac{216}{a}$"
      ],
      "text/plain": [
       "4*a**2 + 216/a"
      ]
     },
     "execution_count": 27,
     "metadata": {},
     "output_type": "execute_result"
    }
   ],
   "source": [
    "sym.var('a')\n",
    "def A(a):\n",
    "    return 4*((a**2) + (54/a))\n",
    "A(a)"
   ]
  },
  {
   "cell_type": "code",
   "execution_count": 28,
   "metadata": {},
   "outputs": [
    {
     "data": {
      "text/latex": [
       "$\\displaystyle 8 a - \\frac{216}{a^{2}}$"
      ],
      "text/plain": [
       "8*a - 216/a**2"
      ]
     },
     "execution_count": 28,
     "metadata": {},
     "output_type": "execute_result"
    }
   ],
   "source": [
    "dA = sym.diff(A(a),a)\n",
    "ca = sym.solve(dA,a)\n",
    "dA"
   ]
  },
  {
   "cell_type": "code",
   "execution_count": 29,
   "metadata": {},
   "outputs": [
    {
     "data": {
      "text/plain": [
       "[3, -3/2 - 3*sqrt(3)*I/2, -3/2 + 3*sqrt(3)*I/2]"
      ]
     },
     "execution_count": 29,
     "metadata": {},
     "output_type": "execute_result"
    }
   ],
   "source": [
    "ca"
   ]
  },
  {
   "cell_type": "code",
   "execution_count": 32,
   "metadata": {},
   "outputs": [
    {
     "data": {
      "image/png": "[encoded data removed]",
      "text/plain": [
       "<Figure size 432x288 with 1 Axes>"
      ]
     },
     "metadata": {
      "needs_background": "light"
     },
     "output_type": "display_data"
    }
   ],
   "source": [
    "anum = np.linspace(0.1,6,150)\n",
    "Anum = A(anum)\n",
    "plt.plot(anum,Anum)\n",
    "plt.plot(ca[0],A(ca[0]),'r*')\n",
    "plt.grid()"
   ]
  },
  {
   "cell_type": "code",
   "execution_count": 33,
   "metadata": {},
   "outputs": [
    {
     "data": {
      "text/latex": [
       "$\\displaystyle 108$"
      ],
      "text/plain": [
       "108"
      ]
     },
     "execution_count": 33,
     "metadata": {},
     "output_type": "execute_result"
    }
   ],
   "source": [
    "A(ca[0])"
   ]
  },
  {
   "cell_type": "markdown",
   "metadata": {},
   "source": [
    "Para obtener una superficie mínima de $108 cm^2$, es necesario tener un ancho $a = 3cm$; \n",
    "\n",
    "un largo $l = 2a = 2\\times3 = 6cm$;\n",
    "\n",
    "y un alto $h = \\dfrac{36}{a^2} = \\dfrac{36}{3^2} = \\dfrac{36}{9} = 4cm $"
   ]
  },
  {
   "cell_type": "markdown",
   "metadata": {},
   "source": [
    "---"
   ]
  },
  {
   "cell_type": "markdown",
   "metadata": {
    "colab_type": "text",
    "id": "AhKGcooYopud"
   },
   "source": [
    "2.2 Una bodega de 5 $m$ de largo, 4 $m$ de ancho y 3 $m$ de alto, tiene un contacto en una esquina a 80 $cm$ de alto. Si se requiere colocar un foco en el techo justo en la esquina opuesta, ¿cuál es la distancia sobre las paredes de la bodega que se debe seguir para ahorrar cable eléctrico?\n",
    "\n",
    "Pista: Encuentre el punto P en la imágen.\n",
    "\n",
    "![](.\\Tarea_OptEsc_2.2.PNG)\n"
   ]
  },
  {
   "cell_type": "markdown",
   "metadata": {},
   "source": [
    "**En un triángulo rectangulo, la hipotenusa siempre será el camino más corto, por lo tanto se dividirá en dos partes **\n",
    "\n",
    "$d_1$ será la distancia del contacto a un punto P situado en el en la parte opuesta a lo largo de la bodega, por lo tanto\n",
    "$$\n",
    "d_1 = \\sqrt{5^2 + x^2}\n",
    "$$\n",
    "\n",
    "Ahora $d_2$ será la distancia de ese punto P al foco, entonces \n",
    "\n",
    "$$\n",
    "d_2 = \\sqrt{4^2 + (3-(0.8+x))^2}\n",
    "$$\n",
    "\n",
    "La suma de estas dos distancias nos debe dar la distancia total, la cual es la que se desea minimizar, por lo tanto \n",
    "$$\n",
    "D = d_1 + d_2\n",
    "$$\n",
    "\n",
    "$$\n",
    "D = \\sqrt{5^2 + x^2} + \\sqrt{4^2 + (3-(0.8+x))^2}\n",
    "$$"
   ]
  },
  {
   "cell_type": "code",
   "execution_count": 6,
   "metadata": {},
   "outputs": [
    {
     "data": {
      "text/latex": [
       "$\\displaystyle \\left(x^{2} + 25\\right)^{0.5} + 4.0 \\left(0.3025 \\left(1 - 0.454545454545455 x\\right)^{2} + 1\\right)^{0.5}$"
      ],
      "text/plain": [
       "(x**2 + 25)**0.5 + 4.0*(0.3025*(1 - 0.454545454545455*x)**2 + 1)**0.5"
      ]
     },
     "execution_count": 6,
     "metadata": {},
     "output_type": "execute_result"
    }
   ],
   "source": [
    "sym.var('x')\n",
    "def D(x):\n",
    "    return (((5**2) + (x**2))**0.5) + ((((4**2)+(3-(0.8+x))**2))**0.5)\n",
    "D(x)"
   ]
  },
  {
   "cell_type": "code",
   "execution_count": 43,
   "metadata": {},
   "outputs": [
    {
     "data": {
      "text/latex": [
       "$\\displaystyle \\frac{1.0 x}{\\left(x^{2} + 25\\right)^{0.5}} + \\frac{4.0 \\cdot \\left(0.0625 x - 0.1375\\right)}{\\left(0.3025 \\left(1 - 0.454545454545455 x\\right)^{2} + 1\\right)^{0.5}}$"
      ],
      "text/plain": [
       "1.0*x/(x**2 + 25)**0.5 + 4.0*(0.0625*x - 0.1375)/(0.3025*(1 - 0.454545454545455*x)**2 + 1)**0.5"
      ]
     },
     "execution_count": 43,
     "metadata": {},
     "output_type": "execute_result"
    }
   ],
   "source": [
    "dD = sym.diff(D(x),x)\n",
    "cD = sym.solve(dD,x)\n",
    "dD"
   ]
  },
  {
   "cell_type": "code",
   "execution_count": 44,
   "metadata": {},
   "outputs": [
    {
     "data": {
      "text/plain": [
       "[1.22222222222222]"
      ]
     },
     "execution_count": 44,
     "metadata": {},
     "output_type": "execute_result"
    }
   ],
   "source": [
    "cD"
   ]
  },
  {
   "cell_type": "code",
   "execution_count": 45,
   "metadata": {},
   "outputs": [
    {
     "data": {
      "image/png": "[encoded data removed]",
      "text/plain": [
       "<Figure size 432x288 with 1 Axes>"
      ]
     },
     "metadata": {
      "needs_background": "light"
     },
     "output_type": "display_data"
    }
   ],
   "source": [
    "dnum = np.linspace(0,3,150)\n",
    "Dnum = D(dnum)\n",
    "plt.plot(dnum,Dnum)\n",
    "plt.plot(cD[0],D(cD[0]),'r*')\n",
    "plt.grid()"
   ]
  },
  {
   "cell_type": "code",
   "execution_count": 47,
   "metadata": {},
   "outputs": [
    {
     "data": {
      "text/latex": [
       "$\\displaystyle 9.26498785752037$"
      ],
      "text/plain": [
       "9.26498785752037"
      ]
     },
     "execution_count": 47,
     "metadata": {},
     "output_type": "execute_result"
    }
   ],
   "source": [
    "D(cD[0])"
   ]
  },
  {
   "cell_type": "markdown",
   "metadata": {},
   "source": [
    "La menor distancia posible es de $9.265 m$, esto se obtiene sí, como se mencionó anteriormente se realizan triangulos rectángulos para recorrer menor distancia mediante la hipotenusa de éste. \n",
    "\n",
    "$x$ la cual es nuestra altura del enchufe hasta el punto p debe de ser de $1.2222 m$ para obtener esta distancia mínima"
   ]
  },
  {
   "cell_type": "markdown",
   "metadata": {},
   "source": [
    "---"
   ]
  },
  {
   "cell_type": "markdown",
   "metadata": {
    "colab_type": "text",
    "id": "OIowvQqGpG7a"
   },
   "source": [
    "2.3 Un barco encalló a $9 km$ del punto **P** más próximo de una costa en línea recta. Se necesita enviar a un mensajero a un pueblo situado en la orilla de la costa a 15 km de **P**. Teniendo en cuenta que el mensajero recorre a pie $5 km/h$, y en una barca a $4 km/h$, decir en qué punto de la orilla debe desembarcar para llegar al pueblo lo más pronto posible?\n",
    "\n",
    "![](./Tarea_OptEsc_2.3.PNG)"
   ]
  },
  {
   "cell_type": "markdown",
   "metadata": {},
   "source": [
    "**De la misma manera que el ejercicio pasado, dividiremos nuestra distancia a recorrer mediante triángulos rectangulos**"
   ]
  },
  {
   "cell_type": "markdown",
   "metadata": {},
   "source": [
    "Si usamos la variable $y$ para determinar un supuesto camino en barca, mediante el Teorema de Pitágoras, tenemos que\n",
    "$$\n",
    "y = \\sqrt{9^2 + (15-x)^2}\n",
    "$$\n",
    "Se usará la variable $x$ para un supuesto recorrido caminando\n",
    "\n",
    "Se sabe que $t = \\dfrac{d}{v}$\n",
    "\n",
    "Por lo tanto,\n",
    "$$\n",
    "T = \\dfrac{x}{5} + \\dfrac{y}{4}\n",
    "$$\n",
    "Al sustituir $y$ en nuestra ecuación del tiempo, nos queda que\n",
    "\n",
    "$$\n",
    "T = \\dfrac{x}{5} + \\dfrac{\\sqrt{9^2 + (15-x)^2}}{4}\n",
    "$$"
   ]
  },
  {
   "cell_type": "markdown",
   "metadata": {},
   "source": [
    "**Esta última ecuación es la que se desea minimizar**"
   ]
  },
  {
   "cell_type": "code",
   "execution_count": 7,
   "metadata": {},
   "outputs": [
    {
     "data": {
      "text/latex": [
       "$\\displaystyle \\frac{x}{5} + \\frac{\\left(\\left(15 - x\\right)^{2} + 81\\right)^{0.5}}{4}$"
      ],
      "text/plain": [
       "x/5 + ((15 - x)**2 + 81)**0.5/4"
      ]
     },
     "execution_count": 7,
     "metadata": {},
     "output_type": "execute_result"
    }
   ],
   "source": [
    "def T(x):\n",
    "    return (x/5) + ((((9**2)+(15-x)**2)**0.5)/4)\n",
    "T(x)"
   ]
  },
  {
   "cell_type": "code",
   "execution_count": 8,
   "metadata": {},
   "outputs": [
    {
     "data": {
      "text/latex": [
       "$\\displaystyle \\frac{1.0 x - 15.0}{4 \\left(\\left(15 - x\\right)^{2} + 81\\right)^{0.5}} + \\frac{1}{5}$"
      ],
      "text/plain": [
       "(1.0*x - 15.0)/(4*((15 - x)**2 + 81)**0.5) + 1/5"
      ]
     },
     "execution_count": 8,
     "metadata": {},
     "output_type": "execute_result"
    }
   ],
   "source": [
    "dT = sym.diff(T(x),x)\n",
    "cT = sym.solve(dT,x)\n",
    "dT"
   ]
  },
  {
   "cell_type": "code",
   "execution_count": 9,
   "metadata": {},
   "outputs": [
    {
     "data": {
      "text/plain": [
       "[3.00000000000000]"
      ]
     },
     "execution_count": 9,
     "metadata": {},
     "output_type": "execute_result"
    }
   ],
   "source": [
    "cT"
   ]
  },
  {
   "cell_type": "code",
   "execution_count": 10,
   "metadata": {},
   "outputs": [
    {
     "data": {
      "image/png": "[encoded data removed]",
      "text/plain": [
       "<Figure size 432x288 with 1 Axes>"
      ]
     },
     "metadata": {
      "needs_background": "light"
     },
     "output_type": "display_data"
    }
   ],
   "source": [
    "xnum = np.linspace(0,6,150)\n",
    "Tnum = T(xnum)\n",
    "plt.plot(xnum,Tnum)\n",
    "plt.plot(cT[0],T(cT[0]),'r*')\n",
    "plt.xlabel('Superficie')\n",
    "plt.ylabel('Cost ($)')\n",
    "plt.grid()"
   ]
  },
  {
   "cell_type": "code",
   "execution_count": 57,
   "metadata": {},
   "outputs": [
    {
     "data": {
      "text/latex": [
       "$\\displaystyle 4.35$"
      ],
      "text/plain": [
       "4.35000000000000"
      ]
     },
     "execution_count": 57,
     "metadata": {},
     "output_type": "execute_result"
    }
   ],
   "source": [
    "T(cT[0])"
   ]
  },
  {
   "cell_type": "markdown",
   "metadata": {},
   "source": [
    "Se concluye que para realizar el menor tiempo posible, es necesario que la persona desembarque $3 m$ antes de llegar al pueblo, para que así *reme* $15m$ y *camine* sólo $3m$. Con esto, tendremos un tiempo mínimo de $4.35 horas$"
   ]
  }
 ],
 "metadata": {
  "colab": {
   "collapsed_sections": [],
   "name": "Tarea - OptEsc.ipynb",
   "provenance": []
  },
  "kernelspec": {
   "display_name": "Python 3 (ipykernel)",
   "language": "python",
   "name": "python3"
  },
  "language_info": {
   "codemirror_mode": {
    "name": "ipython",
    "version": 3
   },
   "file_extension": ".py",
   "mimetype": "text/x-python",
   "name": "python",
   "nbconvert_exporter": "python",
   "pygments_lexer": "ipython3",
   "version": "3.9.12"
  }
 },
 "nbformat": 4,
 "nbformat_minor": 1
}
