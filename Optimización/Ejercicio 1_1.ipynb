{
 "cells": [
  {
   "cell_type": "markdown",
   "metadata": {},
   "source": [
    "# Ejercicios de optimización escalar"
   ]
  },
  {
   "cell_type": "markdown",
   "metadata": {},
   "source": [
    "**Para la siguientes funciones encuentre los puntos críticos, grafique y diga si éste se trata de un máximo o mínimo, local o global.**"
   ]
  },
  {
   "cell_type": "code",
   "execution_count": 3,
   "metadata": {},
   "outputs": [],
   "source": [
    "import numpy as np\n",
    "import sympy as sym\n",
    "import matplotlib.pyplot as plt"
   ]
  },
  {
   "cell_type": "code",
   "execution_count": null,
   "metadata": {},
   "outputs": [],
   "source": []
  },
  {
   "cell_type": "markdown",
   "metadata": {},
   "source": [
    "$f(x)=1260+117x-9x^2$"
   ]
  },
  {
   "cell_type": "code",
   "execution_count": 9,
   "metadata": {},
   "outputs": [
    {
     "data": {
      "text/latex": [
       "$\\displaystyle - 9 x^{2} + 117 x + 1260$"
      ],
      "text/plain": [
       "-9*x**2 + 117*x + 1260"
      ]
     },
     "execution_count": 9,
     "metadata": {},
     "output_type": "execute_result"
    }
   ],
   "source": [
    "sym.var('x')\n",
    "def f(x):\n",
    "    return 1260 + 117*x - 9*(x**2)\n",
    "f(x)"
   ]
  },
  {
   "cell_type": "code",
   "execution_count": 10,
   "metadata": {},
   "outputs": [
    {
     "data": {
      "text/latex": [
       "$\\displaystyle 117 - 18 x$"
      ],
      "text/plain": [
       "117 - 18*x"
      ]
     },
     "execution_count": 10,
     "metadata": {},
     "output_type": "execute_result"
    }
   ],
   "source": [
    "df = sym.diff(f(x),x)\n",
    "c = sym.solve(df,x)\n",
    "df"
   ]
  },
  {
   "cell_type": "code",
   "execution_count": 11,
   "metadata": {},
   "outputs": [
    {
     "data": {
      "text/plain": [
       "[13/2]"
      ]
     },
     "execution_count": 11,
     "metadata": {},
     "output_type": "execute_result"
    }
   ],
   "source": [
    "c"
   ]
  },
  {
   "cell_type": "code",
   "execution_count": 12,
   "metadata": {},
   "outputs": [
    {
     "data": {
      "image/png": "[encoded data removed]",
      "text/plain": [
       "<Figure size 432x288 with 1 Axes>"
      ]
     },
     "metadata": {
      "needs_background": "light"
     },
     "output_type": "display_data"
    }
   ],
   "source": [
    "xnum = np.linspace(3,10,150)\n",
    "ynum = f(xnum)\n",
    "plt.plot(xnum,ynum)\n",
    "plt.plot(c[0],f(c[0]),'r*')\n",
    "plt.grid()"
   ]
  },
  {
   "cell_type": "code",
   "execution_count": 14,
   "metadata": {},
   "outputs": [
    {
     "data": {
      "text/latex": [
       "$\\displaystyle \\frac{6561}{4}$"
      ],
      "text/plain": [
       "6561/4"
      ]
     },
     "execution_count": 14,
     "metadata": {},
     "output_type": "execute_result"
    }
   ],
   "source": [
    "f(c[0])"
   ]
  },
  {
   "cell_type": "markdown",
   "metadata": {},
   "source": [
    "**El punto crítico se encuentra en un máximo global**"
   ]
  },
  {
   "cell_type": "markdown",
   "metadata": {},
   "source": [
    "---"
   ]
  },
  {
   "cell_type": "markdown",
   "metadata": {},
   "source": [
    "$g(x)=5+x+\\frac{4}{x}$, para $x>0$"
   ]
  },
  {
   "cell_type": "code",
   "execution_count": 15,
   "metadata": {},
   "outputs": [
    {
     "data": {
      "text/latex": [
       "$\\displaystyle x + 5 + \\frac{4}{x}$"
      ],
      "text/plain": [
       "x + 5 + 4/x"
      ]
     },
     "execution_count": 15,
     "metadata": {},
     "output_type": "execute_result"
    }
   ],
   "source": [
    "def g(x):\n",
    "    return 5+x+(4/x)\n",
    "g(x)"
   ]
  },
  {
   "cell_type": "code",
   "execution_count": 16,
   "metadata": {},
   "outputs": [
    {
     "data": {
      "text/latex": [
       "$\\displaystyle 1 - \\frac{4}{x^{2}}$"
      ],
      "text/plain": [
       "1 - 4/x**2"
      ]
     },
     "execution_count": 16,
     "metadata": {},
     "output_type": "execute_result"
    }
   ],
   "source": [
    "dg = sym.diff(g(x),x)\n",
    "c1 = sym.solve(dg,x)\n",
    "dg"
   ]
  },
  {
   "cell_type": "code",
   "execution_count": 17,
   "metadata": {},
   "outputs": [
    {
     "data": {
      "text/plain": [
       "[-2, 2]"
      ]
     },
     "execution_count": 17,
     "metadata": {},
     "output_type": "execute_result"
    }
   ],
   "source": [
    "c1"
   ]
  },
  {
   "cell_type": "code",
   "execution_count": 18,
   "metadata": {},
   "outputs": [
    {
     "data": {
      "text/latex": [
       "$\\displaystyle 2$"
      ],
      "text/plain": [
       "2"
      ]
     },
     "execution_count": 18,
     "metadata": {},
     "output_type": "execute_result"
    }
   ],
   "source": [
    "c1[1]"
   ]
  },
  {
   "cell_type": "code",
   "execution_count": 20,
   "metadata": {},
   "outputs": [
    {
     "data": {
      "image/png": "[encoded data removed]",
      "text/plain": [
       "<Figure size 432x288 with 1 Axes>"
      ]
     },
     "metadata": {
      "needs_background": "light"
     },
     "output_type": "display_data"
    }
   ],
   "source": [
    "xnum1 = np.linspace(0.1,4,150)\n",
    "ynum1 = g(xnum1)\n",
    "plt.plot(xnum1,ynum1)\n",
    "plt.plot(c1[1],g(c1[1]),'r*')\n",
    "plt.grid()"
   ]
  },
  {
   "cell_type": "code",
   "execution_count": 22,
   "metadata": {},
   "outputs": [
    {
     "data": {
      "text/latex": [
       "$\\displaystyle 9$"
      ],
      "text/plain": [
       "9"
      ]
     },
     "execution_count": 22,
     "metadata": {},
     "output_type": "execute_result"
    }
   ],
   "source": [
    "g(c1[1])"
   ]
  },
  {
   "cell_type": "markdown",
   "metadata": {},
   "source": [
    "**El punto crítico se encuentra en un mínimo local**"
   ]
  },
  {
   "cell_type": "markdown",
   "metadata": {},
   "source": [
    "---"
   ]
  },
  {
   "cell_type": "markdown",
   "metadata": {},
   "source": [
    "$h(x)=6-2x+\\sqrt{18-2x^2}$, para $-3\\leq x\\leq 3$"
   ]
  },
  {
   "cell_type": "code",
   "execution_count": 23,
   "metadata": {},
   "outputs": [
    {
     "data": {
      "text/latex": [
       "$\\displaystyle - 2 x + \\left(18 - 2 x^{2}\\right)^{0.5} + 6$"
      ],
      "text/plain": [
       "-2*x + (18 - 2*x**2)**0.5 + 6"
      ]
     },
     "execution_count": 23,
     "metadata": {},
     "output_type": "execute_result"
    }
   ],
   "source": [
    "def h(x):\n",
    "    return 6 - 2*x + (18-2*(x**2))**0.5\n",
    "h(x)"
   ]
  },
  {
   "cell_type": "code",
   "execution_count": 24,
   "metadata": {},
   "outputs": [
    {
     "data": {
      "text/latex": [
       "$\\displaystyle - \\frac{2.0 x}{\\left(18 - 2 x^{2}\\right)^{0.5}} - 2$"
      ],
      "text/plain": [
       "-2.0*x/(18 - 2*x**2)**0.5 - 2"
      ]
     },
     "execution_count": 24,
     "metadata": {},
     "output_type": "execute_result"
    }
   ],
   "source": [
    "dh = sym.diff(h(x),x)\n",
    "c2 = sym.solve(dh,x)\n",
    "dh"
   ]
  },
  {
   "cell_type": "code",
   "execution_count": 25,
   "metadata": {},
   "outputs": [
    {
     "data": {
      "text/plain": [
       "[-2.44948974278318]"
      ]
     },
     "execution_count": 25,
     "metadata": {},
     "output_type": "execute_result"
    }
   ],
   "source": [
    "c2"
   ]
  },
  {
   "cell_type": "code",
   "execution_count": 26,
   "metadata": {},
   "outputs": [
    {
     "data": {
      "image/png": "[encoded data removed]",
      "text/plain": [
       "<Figure size 432x288 with 1 Axes>"
      ]
     },
     "metadata": {
      "needs_background": "light"
     },
     "output_type": "display_data"
    }
   ],
   "source": [
    "xnum2 = np.linspace(-3,3,150)\n",
    "ynum2 = h(xnum2)\n",
    "plt.plot(xnum2,ynum2)\n",
    "plt.plot(c2[0],h(c2[0]),'r*')\n",
    "plt.grid()"
   ]
  },
  {
   "cell_type": "code",
   "execution_count": 27,
   "metadata": {},
   "outputs": [
    {
     "data": {
      "text/latex": [
       "$\\displaystyle 13.3484692283495$"
      ],
      "text/plain": [
       "13.3484692283495"
      ]
     },
     "execution_count": 27,
     "metadata": {},
     "output_type": "execute_result"
    }
   ],
   "source": [
    "h(c2[0])"
   ]
  },
  {
   "cell_type": "markdown",
   "metadata": {},
   "source": [
    "**El punto crítico se encuentra en un máximo global**"
   ]
  },
  {
   "cell_type": "markdown",
   "metadata": {},
   "source": [
    "---"
   ]
  },
  {
   "cell_type": "markdown",
   "metadata": {},
   "source": [
    "$j(x)=\\frac{1}{4}x^4+\\frac{1}{3}x^3-x^2$ en el intervalo $[-3,1.7]$"
   ]
  },
  {
   "cell_type": "code",
   "execution_count": 28,
   "metadata": {},
   "outputs": [
    {
     "data": {
      "text/latex": [
       "$\\displaystyle \\frac{x^{4}}{4} + \\frac{x^{3}}{3} - x^{2}$"
      ],
      "text/plain": [
       "x**4/4 + x**3/3 - x**2"
      ]
     },
     "execution_count": 28,
     "metadata": {},
     "output_type": "execute_result"
    }
   ],
   "source": [
    "def j(x):\n",
    "    return (x**4/4) + (x**3)/3 - x**2\n",
    "j(x)"
   ]
  },
  {
   "cell_type": "code",
   "execution_count": 29,
   "metadata": {},
   "outputs": [
    {
     "data": {
      "text/latex": [
       "$\\displaystyle x^{3} + x^{2} - 2 x$"
      ],
      "text/plain": [
       "x**3 + x**2 - 2*x"
      ]
     },
     "execution_count": 29,
     "metadata": {},
     "output_type": "execute_result"
    }
   ],
   "source": [
    "dj = sym.diff(j(x),x)\n",
    "c3 = sym.solve(dj,x)\n",
    "dj"
   ]
  },
  {
   "cell_type": "code",
   "execution_count": 30,
   "metadata": {},
   "outputs": [
    {
     "data": {
      "text/plain": [
       "[-2, 0, 1]"
      ]
     },
     "execution_count": 30,
     "metadata": {},
     "output_type": "execute_result"
    }
   ],
   "source": [
    "c3"
   ]
  },
  {
   "cell_type": "code",
   "execution_count": 31,
   "metadata": {},
   "outputs": [
    {
     "data": {
      "image/png": "[encoded data removed]",
      "text/plain": [
       "<Figure size 432x288 with 1 Axes>"
      ]
     },
     "metadata": {
      "needs_background": "light"
     },
     "output_type": "display_data"
    }
   ],
   "source": [
    "xnum3 = np.linspace(-3,1.7,150)\n",
    "ynum3 = j(xnum3)\n",
    "plt.plot(xnum3,ynum3)\n",
    "plt.plot(c3[0],j(c3[0]),'r*')\n",
    "plt.plot(c3[1],j(c3[1]),'r*')\n",
    "plt.plot(c3[2],j(c3[2]),'r*')\n",
    "plt.grid()"
   ]
  },
  {
   "cell_type": "code",
   "execution_count": 32,
   "metadata": {},
   "outputs": [
    {
     "data": {
      "text/latex": [
       "$\\displaystyle - \\frac{8}{3}$"
      ],
      "text/plain": [
       "-8/3"
      ]
     },
     "execution_count": 32,
     "metadata": {},
     "output_type": "execute_result"
    }
   ],
   "source": [
    "j(c3[0])"
   ]
  },
  {
   "cell_type": "code",
   "execution_count": 33,
   "metadata": {},
   "outputs": [
    {
     "data": {
      "text/latex": [
       "$\\displaystyle 0$"
      ],
      "text/plain": [
       "0"
      ]
     },
     "execution_count": 33,
     "metadata": {},
     "output_type": "execute_result"
    }
   ],
   "source": [
    "j(c3[1])"
   ]
  },
  {
   "cell_type": "code",
   "execution_count": 34,
   "metadata": {},
   "outputs": [
    {
     "data": {
      "text/latex": [
       "$\\displaystyle - \\frac{5}{12}$"
      ],
      "text/plain": [
       "-5/12"
      ]
     },
     "execution_count": 34,
     "metadata": {},
     "output_type": "execute_result"
    }
   ],
   "source": [
    "j(c3[2])"
   ]
  },
  {
   "cell_type": "markdown",
   "metadata": {},
   "source": [
    "**Dentro de esta gráfica se pueden encontrar 3 puntos críticos**\n",
    "\n",
    "*Uno en $x = -2$ en donde se encuentra un mínimo global*\n",
    "\n",
    "*El segundo en $x = 0$ en donde podemos observar un máximo local*\n",
    "\n",
    "*Y por último en $x = 1$ donde se encuentra un mínimo local*"
   ]
  },
  {
   "cell_type": "markdown",
   "metadata": {},
   "source": [
    "---\n",
    "**Resuelva los siguientes problemas usando la librería `SymPy`. Use celdas en `Markdown` para explicar su procedimiento.**"
   ]
  },
  {
   "cell_type": "markdown",
   "metadata": {},
   "source": [
    "El perímetro de un triángulo isósceles es de $10 cm$. ¿Cuánto deben medir sus lados para que el volumen del cuerpo generado por la rotación del triángulo en torno a su base sea el mayor posible? (Volumen de un cono $= \\frac{1}{3}\\pi r^2 h$, donde $r$ es el radio de la base y $h$ la altura del cono)."
   ]
  },
  {
   "cell_type": "markdown",
   "metadata": {},
   "source": [
    "Se sabe que el perímetro $$P = 10 $$ por ser un triánguilo isósceles $$ P = 2L + b $$\n",
    "Además, como la base del triángulo es el diámetro del cono, entonces $$ r = \\dfrac{b}{2}$$ \n",
    "Entonces $$ P = 10 = 2L + 2r $$\n",
    "Si despejamos $L$ nos queda que $$ L = 5-r $$\n",
    "Usando el Teorema de Pitágoras $$ L^2 = h^2 + r^2 $$\n",
    "Si se despeja $h^2$ nos queda que $$ h^2 = L^2 - r^2 $$\n",
    "Sustituyendo $L$ obtenemos que $$ h^2 = (5-r)^2 - r^2 $$\n",
    "Realizando un poco de álgebra obtenemos que $$ h = \\sqrt{25-10r} $$\n",
    "\n",
    "Si sustituimos $h$ en la ecuación del Volumen del cono, donde  $$ V = \\dfrac{1}{3}\\pi r^2 h$$\n",
    "\n",
    "Nos queda que $$  V = \\dfrac{1}{3}\\pi r^2 \\sqrt{25-10r}$$\n"
   ]
  },
  {
   "cell_type": "code",
   "execution_count": 12,
   "metadata": {},
   "outputs": [
    {
     "data": {
      "text/latex": [
       "$\\displaystyle 1.0471975511966 r^{2} \\left(25 - 10 r\\right)^{0.5}$"
      ],
      "text/plain": [
       "1.0471975511966*r**2*(25 - 10*r)**0.5"
      ]
     },
     "execution_count": 12,
     "metadata": {},
     "output_type": "execute_result"
    }
   ],
   "source": [
    "sym.var('r')\n",
    "def V(r):\n",
    "    return np.pi/3*(r**2)*(25-10*r)**0.5\n",
    "V(r)"
   ]
  },
  {
   "cell_type": "code",
   "execution_count": 13,
   "metadata": {},
   "outputs": [
    {
     "data": {
      "text/latex": [
       "$\\displaystyle - \\frac{5.23598775598299 r^{2}}{\\left(25 - 10 r\\right)^{0.5}} + 2.0943951023932 r \\left(25 - 10 r\\right)^{0.5}$"
      ],
      "text/plain": [
       "-5.23598775598299*r**2/(25 - 10*r)**0.5 + 2.0943951023932*r*(25 - 10*r)**0.5"
      ]
     },
     "execution_count": 13,
     "metadata": {},
     "output_type": "execute_result"
    }
   ],
   "source": [
    "dV = sym.diff(V(r),r)\n",
    "cr = sym.solve(dV,r)\n",
    "dV"
   ]
  },
  {
   "cell_type": "code",
   "execution_count": 14,
   "metadata": {},
   "outputs": [
    {
     "data": {
      "text/plain": [
       "[0.0, 2.00000000000000]"
      ]
     },
     "execution_count": 14,
     "metadata": {},
     "output_type": "execute_result"
    }
   ],
   "source": [
    "cr"
   ]
  },
  {
   "cell_type": "code",
   "execution_count": 21,
   "metadata": {},
   "outputs": [
    {
     "name": "stderr",
     "output_type": "stream",
     "text": [
      "C:\\Users\\Sergio\\AppData\\Local\\Temp\\ipykernel_26720\\3408001986.py:3: RuntimeWarning: invalid value encountered in sqrt\n",
      "  return np.pi/3*(r**2)*(25-10*r)**0.5\n"
     ]
    },
    {
     "data": {
      "image/png": "[encoded data removed]",
      "text/plain": [
       "<Figure size 432x288 with 1 Axes>"
      ]
     },
     "metadata": {
      "needs_background": "light"
     },
     "output_type": "display_data"
    }
   ],
   "source": [
    "rnum = np.linspace(1,5,150)\n",
    "Vnum = V(rnum)\n",
    "plt.plot(rnum,Vnum)\n",
    "plt.plot(cr[1],V(cr[1]),'r*')\n",
    "plt.grid()"
   ]
  },
  {
   "cell_type": "code",
   "execution_count": 22,
   "metadata": {},
   "outputs": [
    {
     "data": {
      "text/latex": [
       "$\\displaystyle 9.36641964138764$"
      ],
      "text/plain": [
       "9.36641964138764"
      ]
     },
     "execution_count": 22,
     "metadata": {},
     "output_type": "execute_result"
    }
   ],
   "source": [
    "V(cr[1])"
   ]
  },
  {
   "cell_type": "markdown",
   "metadata": {},
   "source": [
    "Se puede observar que obtiene un volumen máximo si el radio del triángulo es de $2$ \n",
    "Y como ya sabiamos que $$ r = \\dfrac{b}{2} $$ \n",
    "Entonces $$ 2 = \\dfrac{b}{2} $$ \n",
    "Donde $$ b = 4 $$\n",
    "Se sabe que el perímetro esta dado por $$ P = 2L + b = 10 $$\n",
    "\n",
    "$$ 10 - b = 2L $$\n",
    "\n",
    "$$ 10 - 4 = 2L$$\n",
    "\n",
    "$$ \\dfrac{6}{2} = L $$\n",
    "\n",
    "Por lo que $$ L = 3 $$\n",
    "\n",
    "y $$ b = 4 $$ \n",
    "**Para que el volumen del cono sea máximo**"
   ]
  },
  {
   "cell_type": "markdown",
   "metadata": {},
   "source": [
    "---"
   ]
  },
  {
   "cell_type": "code",
   "execution_count": null,
   "metadata": {},
   "outputs": [],
   "source": []
  },
  {
   "cell_type": "markdown",
   "metadata": {},
   "source": [
    "Disponemos de una barra de aluminio de 6 metros para construir una portería de fútbol. Si queremos que el área de la portería sea máxima, ¿cuánto deben medir los postes y el travesaño?"
   ]
  },
  {
   "cell_type": "markdown",
   "metadata": {},
   "source": [
    "Si se tienen 6m de aluminio para la porteria decimos que $$ P = 6 $$ \n",
    "Si usamos la letra $p$ para los postes y $T$ para el travesaño\n",
    "Tenemos que $$ P = 6 = 2p + T $$\n",
    "Al despejar $p$ de la ecuación del perímetro se tiene que $$ p = \\dfrac{6-T}{2} $$\n",
    "El área de la porteria esta dado por la ecuacion de un rectángulo, por lo tanto $$ A = T\\times p $$\n",
    "Al sustituir $p$ en el área obtenemos que $$ A = T(\\dfrac{6-T}{2}) $$\n",
    "\n",
    "$$ A = \\dfrac{6T-T^2}{2} $$"
   ]
  },
  {
   "cell_type": "code",
   "execution_count": 23,
   "metadata": {},
   "outputs": [
    {
     "data": {
      "text/latex": [
       "$\\displaystyle - \\frac{T^{2}}{2} + 3 T$"
      ],
      "text/plain": [
       "-T**2/2 + 3*T"
      ]
     },
     "execution_count": 23,
     "metadata": {},
     "output_type": "execute_result"
    }
   ],
   "source": [
    "sym.var('T')\n",
    "def A(T):\n",
    "    return (6*T-T**2)/2\n",
    "A(T)"
   ]
  },
  {
   "cell_type": "code",
   "execution_count": 24,
   "metadata": {},
   "outputs": [
    {
     "data": {
      "text/latex": [
       "$\\displaystyle 3 - T$"
      ],
      "text/plain": [
       "3 - T"
      ]
     },
     "execution_count": 24,
     "metadata": {},
     "output_type": "execute_result"
    }
   ],
   "source": [
    "dA = sym.diff(A(T),T)\n",
    "cT = sym.solve(dA,T)\n",
    "dA"
   ]
  },
  {
   "cell_type": "code",
   "execution_count": 25,
   "metadata": {},
   "outputs": [
    {
     "data": {
      "text/plain": [
       "[3]"
      ]
     },
     "execution_count": 25,
     "metadata": {},
     "output_type": "execute_result"
    }
   ],
   "source": [
    "cT"
   ]
  },
  {
   "cell_type": "code",
   "execution_count": 28,
   "metadata": {},
   "outputs": [
    {
     "data": {
      "image/png": "[encoded data removed]",
      "text/plain": [
       "<Figure size 432x288 with 1 Axes>"
      ]
     },
     "metadata": {
      "needs_background": "light"
     },
     "output_type": "display_data"
    }
   ],
   "source": [
    "Tnum = np.linspace(0,5,150)\n",
    "Anum = A(Tnum)\n",
    "plt.plot(Tnum,Anum)\n",
    "plt.plot(cT[0],A(cT[0]),'r*')\n",
    "plt.grid()"
   ]
  },
  {
   "cell_type": "code",
   "execution_count": 29,
   "metadata": {},
   "outputs": [
    {
     "data": {
      "text/latex": [
       "$\\displaystyle \\frac{9}{2}$"
      ],
      "text/plain": [
       "9/2"
      ]
     },
     "execution_count": 29,
     "metadata": {},
     "output_type": "execute_result"
    }
   ],
   "source": [
    "A(cT[0])"
   ]
  },
  {
   "cell_type": "markdown",
   "metadata": {},
   "source": [
    "Para hacer que el área sea máxima en una porteria con el uso de una barra de aluminio de 6m es necesario que el travesaño teng una longitud de $T = 3m $ \n",
    "\n",
    "Para los poste con la ecuación del perímetro se sabe que $$ P = 6 = 2p + T $$\n",
    "\n",
    "$$ 6 = 2p + 3 $$\n",
    "\n",
    "$$ 6 - 3 = 2p $$\n",
    "\n",
    "$$ p = \\dfrac{3}{2} $$\n",
    "\n",
    "Por lo tanto los postes deben medir $ p = 1.5 m $ cada uno"
   ]
  },
  {
   "cell_type": "code",
   "execution_count": null,
   "metadata": {},
   "outputs": [],
   "source": []
  },
  {
   "cell_type": "code",
   "execution_count": null,
   "metadata": {},
   "outputs": [],
   "source": []
  }
 ],
 "metadata": {
  "kernelspec": {
   "display_name": "Python 3 (ipykernel)",
   "language": "python",
   "name": "python3"
  },
  "language_info": {
   "codemirror_mode": {
    "name": "ipython",
    "version": 3
   },
   "file_extension": ".py",
   "mimetype": "text/x-python",
   "name": "python",
   "nbconvert_exporter": "python",
   "pygments_lexer": "ipython3",
   "version": "3.9.12"
  }
 },
 "nbformat": 4,
 "nbformat_minor": 2
}
