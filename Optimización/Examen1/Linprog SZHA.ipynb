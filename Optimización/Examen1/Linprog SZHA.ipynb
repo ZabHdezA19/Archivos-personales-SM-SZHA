{
 "cells": [
  {
   "cell_type": "markdown",
   "id": "8cd35306",
   "metadata": {},
   "source": [
    "# Segundo punto. Programación lineal\n",
    "\n",
    "**Tubos** (3.33 puntos). Una compañia de aceros produce dos tamaños de tubos: A, B que son vendidos, respectivamente en 10u.m. y 9u.m. por metro. Para fabricar cada metro del tubo A se requieren 0.5 minutos de tiempo de procesamiento sobre un tipo particular de maquina de modelado y cada metro del tubo B requiere 0.6 minutos. Después de la producción, cada metro de tubo, sin importar el tipo requiere 1 onza de material de soldar. El costo total se estima en 3u.m. y 4u.m. por metro de los tubos respectivamente. Para la siguiente semana, la compañía ha recibido pedidos excepcionalmente grandes que totalizan 2000 metros del tubo A y 5000 metros del tubo B. como solo se dispone de 30 horas de tiempo de maquina esta semana y solo se tienen en inventario 3500 onzas de material de soldar, el departamento de producción no podrá satisfacer esta demanda. Como no se espera que continúe esta demanda tan alta, la gerencia esta considerando la compra de algunos de estos tubos a proveedores de Japón a un costo de entrega de 6u.m. por metro del tubo A y 7u.m. por metro del tubo B.\n",
    "\n",
    "Se desea conocer la cantidad de producción de cada tipo de tubo y la cantidad de compra a Japón para satisfacer la demanda y **maximizar** las ganancias de la compañía (esto es, precio de venta menos costos). La siguiente tabla presenta la información correspondiente.\n",
    "\n",
    "<table>\n",
    "  <tr>\n",
    "      <th>Tubo</th>\n",
    "      <th>Precio de venta</th>\n",
    "      <th>Demanda</th>\n",
    "      <th>Tiempo de máquina</th>\n",
    "      <th>Material para soldar</th>\n",
    "      <th>Costo de producción</th>\n",
    "      <th>Costo de compra</th>\n",
    "  </tr>\n",
    "  <tr>\n",
    "      <th>Tipo A</th>\n",
    "      <td>10</td>\n",
    "      <td>2000</td>\n",
    "      <td>0.5 min</td>\n",
    "      <td>1 oz/m</td>\n",
    "      <td>3</td>\n",
    "      <td>6</td>\n",
    "  </tr>\n",
    "  <tr style=\"border-bottom: 1px solid #000;\">\n",
    "      <th>Tipo B</th>\n",
    "      <td>9</td>\n",
    "      <td>5000</td>\n",
    "      <td>0.6 min</td>\n",
    "      <td>1 oz/m</td>\n",
    "      <td>4</td>\n",
    "      <td>7</td>\n",
    "  </tr>\n",
    "  <tr>\n",
    "      <td>Disponibilidad</td>\n",
    "      <td></td>\n",
    "      <td></td>\n",
    "      <td>30 horas</td>\n",
    "      <td>3500 oz</td>\n",
    "      <td></td>\n",
    "      <td></td>\n",
    "  </tr>\n",
    "</table>\n",
    "\n",
    "1. Escriba la función a **minimizar** junto con las restricciones, explicando detalladamente cada paso (usando fórmulas en $\\LaTeX$, en celdas Markdown). Además escriba el problema en la forma \\begin{equation}\n",
    "\\begin{array}{ll}\n",
    "\\min_{\\boldsymbol{x}} & \\boldsymbol{c}^T\\boldsymbol{x} \\\\\n",
    "\\text{s. a. }        & \\boldsymbol{A}_{eq}\\boldsymbol{x}=\\boldsymbol{b}_{eq} \\\\\n",
    "                     & \\boldsymbol{A}\\boldsymbol{x}\\leq\\boldsymbol{b},\n",
    "\\end{array}\\qquad\\text{(2.3 puntos)}\n",
    "\\end{equation}\n",
    "2. Resuelva el problema utilizando la función `linprog`. ¿Cuántos tubos de cada tipo se deben producir?, ¿Cuántos se deben comprar?, ¿Cuál es la ganancia? (1 punto)"
   ]
  },
  {
   "cell_type": "markdown",
   "id": "fa3d8ff1",
   "metadata": {},
   "source": [
    "## SOLUCIÓN\n",
    "\n",
    "### 1."
   ]
  },
  {
   "cell_type": "markdown",
   "id": "4ecca3f9",
   "metadata": {},
   "source": [
    "Para resolver este problema de manera más sencilla, se utilizarán 4 variables para representar los cuatro datos que se desean obtener:\n",
    "\n",
    "\n",
    "- $x_1 \\rightarrow$ Metros de tubo A fabricados por la empresa\n",
    "\n",
    "- $x_2 \\rightarrow$ Metros de tubo B fabricados por la empresa\n",
    "\n",
    "- $x_3 \\rightarrow$ Metros de tubo A comprados a un proveedor de Japón\n",
    "\n",
    "- $x_4 \\rightarrow$ Metros de tubo B comprados a un proveedor de Japón\n",
    "\n",
    "*La ecuación a maximizar es la siguiente:*\n",
    "\n",
    "$$\n",
    "(10-3)x_1 + (9-4)x_2 + (10-6)x_3 + (9-7)x_4 \\rightarrow 7x_1 + 5x_2 + 4x_3 + 2x_4\n",
    "$$\n",
    "\n",
    "Por lo tanto, la función a minimizar se representa de la siguiente manera\n",
    "\n",
    "$$\n",
    "min_{x_i} \\rightarrow -7x_1 - 5x_2 - 4x_3 - 2x_4\n",
    "$$\n",
    "\n",
    "Además existen unas cuantas restrcciones las cuales se deben cumplir para completar con éxito el pedido, éstas son:\n",
    "\n",
    "- Total de metros de tubo A $\\rightarrow x_1 + x_3 = 2000$\n",
    "\n",
    "- Total de metros de tubo B $\\rightarrow x_2 + x_4 = 5000$\n",
    "\n",
    "- Tiempo en máquina $\\rightarrow 0.5x_1 + 0.6x_2 \\leq 30(60) = 1800$\n",
    "\n",
    "- Material para soldar $\\rightarrow x_1 + x_2 \\leq 3500$"
   ]
  },
  {
   "cell_type": "markdown",
   "id": "e5002700",
   "metadata": {},
   "source": [
    "### 2."
   ]
  },
  {
   "cell_type": "code",
   "execution_count": 2,
   "id": "6df859d2",
   "metadata": {},
   "outputs": [],
   "source": [
    "# Importar librerias\n",
    "import numpy as np\n",
    "import scipy.optimize as opt"
   ]
  },
  {
   "cell_type": "code",
   "execution_count": 4,
   "id": "96f28119",
   "metadata": {},
   "outputs": [],
   "source": [
    "c = np.array([-7, -5, -4, -2]) #Función a minimizar\n",
    "A = np.array([[0.5,0.6,0,0],\n",
    "             [1,1,0,0]])   \n",
    "b = np.array([1800,3500])\n",
    "Aeq = np.array([[1,0,1,0],\n",
    "               [0,1,0,1]])\n",
    "beq = ([2000,5000])"
   ]
  },
  {
   "cell_type": "code",
   "execution_count": 5,
   "id": "50541f92",
   "metadata": {},
   "outputs": [
    {
     "data": {
      "text/plain": [
       "     con: array([0., 0.])\n",
       "     fun: -28000.0\n",
       " message: 'Optimization terminated successfully.'\n",
       "     nit: 5\n",
       "   slack: array([  0.        , 166.66666667])\n",
       "  status: 0\n",
       " success: True\n",
       "       x: array([2000.        , 1333.33333333,    0.        , 3666.66666667])"
      ]
     },
     "execution_count": 5,
     "metadata": {},
     "output_type": "execute_result"
    }
   ],
   "source": [
    "# Uso de la función 'linprog'\n",
    "opt.linprog(c,A,b,Aeq,beq, method = 'simplex')"
   ]
  },
  {
   "cell_type": "markdown",
   "id": "d3ec1a63",
   "metadata": {},
   "source": [
    "## RESULTADOS\n",
    "\n",
    "De acuerdo a los resultados obtenidos mediante las iteraciónes realizadas por el código `linprog` y unos cuantos ajustes. **Se concluye que:**\n",
    "\n",
    "- Se deben *producir* $2000m$ de *tubo A*\n",
    "\n",
    "\n",
    "- Se deben *producir* $1333\\dfrac{1}{3}m$ de *tubo B*\n",
    "\n",
    "\n",
    "- Se deben *comprar* $3666\\dfrac{2}{3}m$ de *tubo B*\n",
    "\n",
    "Con estas cantidades obtenemos una **ganancia máxima** de $28000u.m$ \n"
   ]
  }
 ],
 "metadata": {
  "kernelspec": {
   "display_name": "Python 3 (ipykernel)",
   "language": "python",
   "name": "python3"
  },
  "language_info": {
   "codemirror_mode": {
    "name": "ipython",
    "version": 3
   },
   "file_extension": ".py",
   "mimetype": "text/x-python",
   "name": "python",
   "nbconvert_exporter": "python",
   "pygments_lexer": "ipython3",
   "version": "3.9.12"
  }
 },
 "nbformat": 4,
 "nbformat_minor": 5
}
