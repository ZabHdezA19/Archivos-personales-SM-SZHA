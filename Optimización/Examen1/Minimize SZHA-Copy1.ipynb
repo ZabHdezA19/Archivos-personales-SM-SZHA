{
 "cells": [
  {
   "cell_type": "markdown",
   "id": "b0fe2541",
   "metadata": {},
   "source": [
    "# Tercer punto. Ajuste de curvas\n",
    "**Bancarrotas** (3.33 puntos). Los siguientes datos extraidos de Administrative Office of the U.S. Courts, representan el número de bancarrotas en miles entre los años 1988 y 2001."
   ]
  },
  {
   "cell_type": "code",
   "execution_count": 16,
   "id": "3714df2d",
   "metadata": {},
   "outputs": [],
   "source": [
    "# Importar las librerias necesarias\n",
    "import numpy as np\n",
    "import matplotlib.pyplot as plt\n",
    "import scipy.optimize as opt"
   ]
  },
  {
   "cell_type": "code",
   "execution_count": 17,
   "id": "8c5409d4",
   "metadata": {},
   "outputs": [],
   "source": [
    "y = np.array([594.6,643.0,725.5,880.4,972.5,918.7,845.3,858.1,\n",
    "                           1042.1,1317.0,1429.5,1392.0,1277.0,1386.6])\n",
    "x = np.arange(8,22)"
   ]
  },
  {
   "cell_type": "code",
   "execution_count": 18,
   "id": "003d6de6",
   "metadata": {},
   "outputs": [
    {
     "data": {
      "image/png": "[encoded data removed]",
      "text/plain": [
       "<Figure size 432x288 with 1 Axes>"
      ]
     },
     "metadata": {
      "needs_background": "light"
     },
     "output_type": "display_data"
    }
   ],
   "source": [
    "plt.plot(x+1980,y)\n",
    "plt.grid()"
   ]
  },
  {
   "cell_type": "markdown",
   "id": "25881d14",
   "metadata": {},
   "source": [
    "1. Ajuste las bancarrotas con polinomios de grado 1, 3 y 5. Muestre los errores de forma gráfica, ¿Qué polinómio se ajusta mejor? (2.3 puntos).\n",
    "2. Muestre en un gráfico los datos y el polinómio que mejor se ajuste (0.5 puntos).\n",
    "3. Usar el modelo para averiguar el número de bancarrotas a mediados de 1998 (es decir en 1998.5) y predecirlo para el año 2011. ¿Qué diferencias encuentra en cuanto a la interpolación y la extrapolación? (0.5 puntos)."
   ]
  },
  {
   "cell_type": "markdown",
   "id": "fa34bee5",
   "metadata": {},
   "source": [
    "## SOLUCIÓN\n",
    "### 1. "
   ]
  },
  {
   "cell_type": "code",
   "execution_count": 19,
   "id": "59de0137",
   "metadata": {},
   "outputs": [
    {
     "data": {
      "text/plain": [
       "[]"
      ]
     },
     "execution_count": 19,
     "metadata": {},
     "output_type": "execute_result"
    }
   ],
   "source": [
    "# Se crea una lista en donde se contendrán todas las soluciones\n",
    "soluciones = []\n",
    "soluciones"
   ]
  },
  {
   "cell_type": "code",
   "execution_count": 20,
   "id": "d23e35b4",
   "metadata": {},
   "outputs": [],
   "source": [
    "# Se obtiene el modelo polinomial\n",
    "def f(x,beta):\n",
    "    n = len(beta) - 1 #Orden del polinomio\n",
    "    X = np.array([x**i for i in range(n+1)]) # Vector de potencias de la variable 'x' \n",
    "    return beta@X"
   ]
  },
  {
   "cell_type": "code",
   "execution_count": 21,
   "id": "84141160",
   "metadata": {},
   "outputs": [],
   "source": [
    "#Función objetivo\n",
    "def objetivo(beta,x,y):\n",
    "    n = len(beta) -1\n",
    "    X = np.array([x**i for i in range(n+1)])\n",
    "    f = beta@X\n",
    "    return np.sum((y-f)**2)"
   ]
  },
  {
   "cell_type": "code",
   "execution_count": 22,
   "id": "97933135",
   "metadata": {},
   "outputs": [],
   "source": [
    "N = 5\n",
    "for n in range(N):\n",
    "    beta0 = np.random.rand(n+2) #Se  obtienen valores aleatorios para 'beta'\n",
    "    soluciones.append(opt.minimize(objetivo,beta0,args = (x,y)))"
   ]
  },
  {
   "cell_type": "code",
   "execution_count": 23,
   "id": "c66e19ea",
   "metadata": {},
   "outputs": [
    {
     "data": {
      "text/plain": [
       "      fun: 155674.762813826\n",
       " hess_inv: array([[ 0.50948424, -0.03222869],\n",
       "       [-0.03222869,  0.00219258]])\n",
       "      jac: array([0., 0.])\n",
       "  message: 'Optimization terminated successfully.'\n",
       "     nfev: 72\n",
       "      nit: 6\n",
       "     njev: 24\n",
       "   status: 0\n",
       "  success: True\n",
       "        x: array([89.05156678, 64.21467452])"
      ]
     },
     "execution_count": 23,
     "metadata": {},
     "output_type": "execute_result"
    }
   ],
   "source": [
    "soluciones[0]"
   ]
  },
  {
   "cell_type": "code",
   "execution_count": 24,
   "id": "15ea235d",
   "metadata": {},
   "outputs": [
    {
     "data": {
      "text/plain": [
       "      fun: 152011.49483306467\n",
       " hess_inv: array([[ 1.01021359e-01, -1.58292162e-05,  1.64362740e-05,\n",
       "        -1.82903728e-05],\n",
       "       [-1.58292162e-05,  7.94524561e-08, -5.43962733e-08,\n",
       "         7.22117933e-09],\n",
       "       [ 1.64362740e-05, -5.43962733e-08,  4.16109380e-08,\n",
       "        -6.70851055e-09],\n",
       "       [-1.82903728e-05,  7.22117933e-09, -6.70851055e-09,\n",
       "         5.27955428e-09]])\n",
       "      jac: array([0.        , 0.00195312, 0.        , 0.00390625])\n",
       "  message: 'Desired error not necessarily achieved due to precision loss.'\n",
       "     nfev: 482\n",
       "      nit: 10\n",
       "     njev: 92\n",
       "   status: 2\n",
       "  success: False\n",
       "        x: array([ 9.40372436e+02, -1.30635745e+02,  1.40788935e+01, -3.23488023e-01])"
      ]
     },
     "execution_count": 24,
     "metadata": {},
     "output_type": "execute_result"
    }
   ],
   "source": [
    "soluciones[2]"
   ]
  },
  {
   "cell_type": "code",
   "execution_count": 25,
   "id": "ee2446a7",
   "metadata": {},
   "outputs": [
    {
     "data": {
      "text/plain": [
       "      fun: 107150.37075884393\n",
       " hess_inv: array([[ 3.00665873e+02, -1.10631685e+02,  1.46669326e+01,\n",
       "        -8.70217246e-01,  2.25220972e-02, -1.86885013e-04],\n",
       "       [-1.10631685e+02,  5.25288984e+01, -8.82972283e+00,\n",
       "         6.80564355e-01, -2.45647431e-02,  3.36786334e-04],\n",
       "       [ 1.46669326e+01, -8.82972283e+00,  1.71364845e+00,\n",
       "        -1.47348266e-01,  5.84158816e-03, -8.72794273e-05],\n",
       "       [-8.70217246e-01,  6.80564355e-01, -1.47348266e-01,\n",
       "         1.35559632e-02, -5.64855946e-04,  8.78529628e-06],\n",
       "       [ 2.25220972e-02, -2.45647431e-02,  5.84158816e-03,\n",
       "        -5.64855946e-04,  2.43385102e-05, -3.88259369e-07],\n",
       "       [-1.86885013e-04,  3.36786334e-04, -8.72794273e-05,\n",
       "         8.78529628e-06, -3.88259369e-07,  6.30899974e-09]])\n",
       "      jac: array([-5.68457031e+00, -2.51289062e+01, -4.84316406e+01,  1.14020703e+03,\n",
       "        2.76426660e+04,  6.40223521e+05])\n",
       "  message: 'Desired error not necessarily achieved due to precision loss.'\n",
       "     nfev: 453\n",
       "      nit: 13\n",
       "     njev: 63\n",
       "   status: 2\n",
       "  success: False\n",
       "        x: array([-2.03990164e+02, -7.43786554e+02,  2.65886857e+02, -3.00885235e+01,\n",
       "        1.44311280e+00, -2.50077915e-02])"
      ]
     },
     "execution_count": 25,
     "metadata": {},
     "output_type": "execute_result"
    }
   ],
   "source": [
    "soluciones[4]"
   ]
  },
  {
   "cell_type": "code",
   "execution_count": 26,
   "id": "ba142c62",
   "metadata": {},
   "outputs": [
    {
     "data": {
      "text/plain": [
       "<matplotlib.legend.Legend at 0x1a8a76158e0>"
      ]
     },
     "execution_count": 26,
     "metadata": {},
     "output_type": "execute_result"
    },
    {
     "data": {
      "image/png": "[encoded data removed]",
      "text/plain": [
       "<Figure size 432x288 with 1 Axes>"
      ]
     },
     "metadata": {
      "needs_background": "light"
     },
     "output_type": "display_data"
    }
   ],
   "source": [
    "plt.plot(x+1980,y, label = 'Datos reales') #Gráfica de los datos documentados\n",
    "for n in range(N):\n",
    "    if n%2 == 0: # Condición para obtener sólo los polinomios de grado impar\n",
    "        plt.plot(x+1980,f(x,soluciones[n].x), label = 'Polinomio de grado ' + str(n+1))\n",
    "plt.grid()\n",
    "plt.legend()"
   ]
  },
  {
   "cell_type": "code",
   "execution_count": 27,
   "id": "d89871c1",
   "metadata": {},
   "outputs": [
    {
     "data": {
      "image/png": "[encoded data removed]",
      "text/plain": [
       "<Figure size 432x288 with 1 Axes>"
      ]
     },
     "metadata": {
      "needs_background": "light"
     },
     "output_type": "display_data"
    }
   ],
   "source": [
    "for n in range(N):\n",
    "    if n%2 == 0: # Condición para obtener sólo los polinomios de grado impar\n",
    "        plt.scatter(n+1,soluciones[n].fun)\n",
    "plt.xlabel('Orden del polinomio')\n",
    "plt.ylabel('Error cuadrático acumulado')\n",
    "plt.grid()"
   ]
  },
  {
   "cell_type": "markdown",
   "id": "75b293b0",
   "metadata": {},
   "source": [
    "De acuerdo a la gráfica de los ajustes de los polinomios y a la de los errores, se obtiene que el **polinomio que mejor se ajusta es el de grado 5**, debido a que tiene un error menor y la gráfica es más similar de manera visual a la obtenida con los datos reales."
   ]
  },
  {
   "cell_type": "markdown",
   "id": "0a2902c2",
   "metadata": {},
   "source": [
    "### 2."
   ]
  },
  {
   "cell_type": "code",
   "execution_count": 28,
   "id": "72f0349a",
   "metadata": {},
   "outputs": [
    {
     "data": {
      "text/plain": [
       "<matplotlib.legend.Legend at 0x1a8a76f3040>"
      ]
     },
     "execution_count": 28,
     "metadata": {},
     "output_type": "execute_result"
    },
    {
     "data": {
      "image/png": "[encoded data removed]",
      "text/plain": [
       "<Figure size 432x288 with 1 Axes>"
      ]
     },
     "metadata": {
      "needs_background": "light"
     },
     "output_type": "display_data"
    }
   ],
   "source": [
    "# Gráfica de los datos documentados y el polinomio que mejor se ajusta\n",
    "plt.plot(x+1980,y, label = 'Datos reales')\n",
    "plt.plot(x+1980,f(x,soluciones[4].x), label = 'Polinomio de grado ' + str(5))\n",
    "plt.grid()\n",
    "plt.legend()"
   ]
  },
  {
   "cell_type": "markdown",
   "id": "055c7a85",
   "metadata": {},
   "source": [
    "### 3."
   ]
  },
  {
   "cell_type": "code",
   "execution_count": 29,
   "id": "08b7f7c0",
   "metadata": {},
   "outputs": [
    {
     "data": {
      "text/plain": [
       "1373.7454773702339"
      ]
     },
     "execution_count": 29,
     "metadata": {},
     "output_type": "execute_result"
    }
   ],
   "source": [
    "#Interpolación para aproximar el número de bancarrotas a mediados del año 1998\n",
    "f(1998.5-1980,soluciones[4].x)"
   ]
  },
  {
   "cell_type": "code",
   "execution_count": 30,
   "id": "b40168aa",
   "metadata": {},
   "outputs": [
    {
     "data": {
      "text/plain": [
       "-47318.168748625205"
      ]
     },
     "execution_count": 30,
     "metadata": {},
     "output_type": "execute_result"
    }
   ],
   "source": [
    "#Extrapolación para aproximar el número de bancarrotas en el año 2011\n",
    "f(2011-1980,soluciones[4].x)"
   ]
  },
  {
   "cell_type": "code",
   "execution_count": 31,
   "id": "fba5e33a",
   "metadata": {},
   "outputs": [
    {
     "data": {
      "text/plain": [
       "      fun: 107150.37075884393\n",
       " hess_inv: array([[ 3.00665873e+02, -1.10631685e+02,  1.46669326e+01,\n",
       "        -8.70217246e-01,  2.25220972e-02, -1.86885013e-04],\n",
       "       [-1.10631685e+02,  5.25288984e+01, -8.82972283e+00,\n",
       "         6.80564355e-01, -2.45647431e-02,  3.36786334e-04],\n",
       "       [ 1.46669326e+01, -8.82972283e+00,  1.71364845e+00,\n",
       "        -1.47348266e-01,  5.84158816e-03, -8.72794273e-05],\n",
       "       [-8.70217246e-01,  6.80564355e-01, -1.47348266e-01,\n",
       "         1.35559632e-02, -5.64855946e-04,  8.78529628e-06],\n",
       "       [ 2.25220972e-02, -2.45647431e-02,  5.84158816e-03,\n",
       "        -5.64855946e-04,  2.43385102e-05, -3.88259369e-07],\n",
       "       [-1.86885013e-04,  3.36786334e-04, -8.72794273e-05,\n",
       "         8.78529628e-06, -3.88259369e-07,  6.30899974e-09]])\n",
       "      jac: array([-5.68457031e+00, -2.51289062e+01, -4.84316406e+01,  1.14020703e+03,\n",
       "        2.76426660e+04,  6.40223521e+05])\n",
       "  message: 'Desired error not necessarily achieved due to precision loss.'\n",
       "     nfev: 453\n",
       "      nit: 13\n",
       "     njev: 63\n",
       "   status: 2\n",
       "  success: False\n",
       "        x: array([-2.03990164e+02, -7.43786554e+02,  2.65886857e+02, -3.00885235e+01,\n",
       "        1.44311280e+00, -2.50077915e-02])"
      ]
     },
     "execution_count": 31,
     "metadata": {},
     "output_type": "execute_result"
    }
   ],
   "source": [
    "soluciones[4]"
   ]
  },
  {
   "cell_type": "markdown",
   "id": "b9d962e6",
   "metadata": {},
   "source": [
    "Se puede observar como la **interpolación** para aproximar el *número de bancarrotas a mediados del año 1998* es **aceptable** ya que se encuentra dentro del rango de valores de número de bancarrotas que fueron registradas entre 1998 y 1999, por lo tanto se pude decir que **la interpolación fue éxitosa**.\n",
    "\n",
    "Sin embargo, a la hora de realizar la **extrapolación** para aproximar el número de bancarrotas que ocurrirán en el año 2011, **la función nos arroja un resultado negativo**. Probablemente, esto ocurre debido al hecho que el polinomio que mejor se ajusta, al final tiene una tendencia a bajar. Por lo tanto se puede decir que **la extrapolación no fue exitosa**."
   ]
  }
 ],
 "metadata": {
  "kernelspec": {
   "display_name": "Python 3 (ipykernel)",
   "language": "python",
   "name": "python3"
  },
  "language_info": {
   "codemirror_mode": {
    "name": "ipython",
    "version": 3
   },
   "file_extension": ".py",
   "mimetype": "text/x-python",
   "name": "python",
   "nbconvert_exporter": "python",
   "pygments_lexer": "ipython3",
   "version": "3.9.12"
  }
 },
 "nbformat": 4,
 "nbformat_minor": 5
}
