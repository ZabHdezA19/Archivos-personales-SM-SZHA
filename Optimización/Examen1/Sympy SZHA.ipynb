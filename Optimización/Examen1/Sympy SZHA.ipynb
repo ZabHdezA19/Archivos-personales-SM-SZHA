{
 "cells": [
  {
   "cell_type": "markdown",
   "id": "5db73c8f",
   "metadata": {},
   "source": [
    "# Primer punto. Optimización de funciones con `SymPy`\n",
    "**Volumen máximo** (3.34 puntos). Considere un cono circular recto inscrito en una esfera de radio $r$:"
   ]
  },
  {
   "cell_type": "code",
   "execution_count": 5,
   "id": "982ee51c",
   "metadata": {},
   "outputs": [
    {
     "data": {
      "image/png": "[encoded data removed]",
      "text/plain": [
       "<Figure size 432x288 with 1 Axes>"
      ]
     },
     "metadata": {
      "needs_background": "light"
     },
     "output_type": "display_data"
    }
   ],
   "source": [
    "import numpy as np\n",
    "import matplotlib.pyplot as plt\n",
    "import matplotlib.patches as patches\n",
    "%matplotlib inline\n",
    "\n",
    "B1 = patches.Arc((0, -0.4), 1.8,0.3,theta2=180,fc='None',ls='--',color='k')\n",
    "B2 = patches.Arc((0, -0.4), 1.8,0.3,theta1=180,fc='None',color='k')\n",
    "C = patches.Circle((0, 0), 1,fc='None',lw=2,color='k');\n",
    "ax = plt.gca()\n",
    "ax.add_artist(B1)\n",
    "ax.add_artist(B2)\n",
    "ax.add_artist(C)\n",
    "\n",
    "plt.plot([0.9,0,-0.9],[-0.4,1,-0.4],'k')\n",
    "plt.plot([0,0],[-0.4,1],'--r')\n",
    "plt.plot([0,0],[-0.4,0],'ok')\n",
    "plt.plot([0,0.9],[0,-0.4],'--r')\n",
    "plt.plot([-0.2,0],[-0.4,-0.4],'--k')\n",
    "plt.plot([-0.2,0],[1,1],'--k')\n",
    "plt.plot([-0.14,-0.14],[-0.4,0.2],'--k')\n",
    "plt.plot([-0.14,-0.14],[0.4,1],'--k')\n",
    "\n",
    "plt.text(-0.18,0.26,'h')\n",
    "plt.text(0.4,-0.1,'$r$')\n",
    "plt.text(0.05,0.4,'$r$')\n",
    "\n",
    "plt.axis([-1.7,1.7,-1.1,1.1])\n",
    "plt.axis('off')\n",
    "plt.show()"
   ]
  },
  {
   "cell_type": "markdown",
   "id": "bab02ab1",
   "metadata": {},
   "source": [
    "1. Escriba el volumen $V$ del cono como una función de la altura $h$ de éste. Realice este punto usando fórmulas de $\\LaTeX$, en celdas *Markdown*. (1.4 puntos)\n",
    "2. Determinar el valor de $h$ que maximiza el volumen para un radio $r=2$. (1 punto)\n",
    "3. ¿Cuál es el volumen máximo del cono? (1 punto)"
   ]
  },
  {
   "cell_type": "code",
   "execution_count": 2,
   "id": "bf300e0d",
   "metadata": {},
   "outputs": [],
   "source": [
    "import numpy as np\n",
    "import sympy as sym\n",
    "import matplotlib.pyplot as plt"
   ]
  },
  {
   "cell_type": "code",
   "execution_count": 3,
   "id": "d8e70647",
   "metadata": {},
   "outputs": [
    {
     "data": {
      "text/latex": [
       "$\\displaystyle 1.0471975511966 h \\left(4 - \\left(h - 2\\right)^{2}\\right)$"
      ],
      "text/plain": [
       "1.0471975511966*h*(4 - (h - 2)**2)"
      ]
     },
     "execution_count": 3,
     "metadata": {},
     "output_type": "execute_result"
    }
   ],
   "source": [
    "sym.var('h')\n",
    "r = 2\n",
    "def V(h):\n",
    "    return (np.pi*h*(r**2-(h-r)**2))/3\n",
    "V(h)"
   ]
  },
  {
   "cell_type": "code",
   "execution_count": 4,
   "id": "b7a925d6",
   "metadata": {},
   "outputs": [
    {
     "data": {
      "text/latex": [
       "$\\displaystyle 1.0471975511966 h \\left(4 - 2 h\\right) - 1.0471975511966 \\left(h - 2\\right)^{2} + 4.18879020478639$"
      ],
      "text/plain": [
       "1.0471975511966*h*(4 - 2*h) - 1.0471975511966*(h - 2)**2 + 4.18879020478639"
      ]
     },
     "execution_count": 4,
     "metadata": {},
     "output_type": "execute_result"
    }
   ],
   "source": [
    "dV = sym.diff(V(h),h)\n",
    "dV"
   ]
  },
  {
   "cell_type": "code",
   "execution_count": 5,
   "id": "e9255572",
   "metadata": {},
   "outputs": [
    {
     "data": {
      "text/plain": [
       "[1.19366207318921e-15, 2.66666666666667]"
      ]
     },
     "execution_count": 5,
     "metadata": {},
     "output_type": "execute_result"
    }
   ],
   "source": [
    "soluciones = sym.solve(dV,h)\n",
    "soluciones"
   ]
  },
  {
   "cell_type": "code",
   "execution_count": 9,
   "id": "7ee768b5",
   "metadata": {},
   "outputs": [
    {
     "data": {
      "text/plain": [
       "<matplotlib.legend.Legend at 0x1c876b0fdf0>"
      ]
     },
     "execution_count": 9,
     "metadata": {},
     "output_type": "execute_result"
    },
    {
     "data": {
      "image/png": "[encoded data removed]",
      "text/plain": [
       "<Figure size 432x288 with 1 Axes>"
      ]
     },
     "metadata": {
      "needs_background": "light"
     },
     "output_type": "display_data"
    }
   ],
   "source": [
    "xnum = np.linspace(0,6,100)\n",
    "ynum = V(xnum)\n",
    "plt.plot(xnum,ynum)\n",
    "plt.plot(soluciones[0],V(soluciones[0]), 'r*', ms=10, label = 'Primer punto crítico')\n",
    "plt.plot(soluciones[1],V(soluciones[1]), 'g*', ms =10, label = 'Segundo punto crítico')\n",
    "plt.grid()\n",
    "plt.legend()"
   ]
  },
  {
   "cell_type": "code",
   "execution_count": 10,
   "id": "9384d12b",
   "metadata": {},
   "outputs": [
    {
     "data": {
      "text/latex": [
       "$\\displaystyle 9.9289841891233$"
      ],
      "text/plain": [
       "9.92898418912330"
      ]
     },
     "execution_count": 10,
     "metadata": {},
     "output_type": "execute_result"
    }
   ],
   "source": [
    "V(sol[1])"
   ]
  }
 ],
 "metadata": {
  "kernelspec": {
   "display_name": "Python 3 (ipykernel)",
   "language": "python",
   "name": "python3"
  },
  "language_info": {
   "codemirror_mode": {
    "name": "ipython",
    "version": 3
   },
   "file_extension": ".py",
   "mimetype": "text/x-python",
   "name": "python",
   "nbconvert_exporter": "python",
   "pygments_lexer": "ipython3",
   "version": "3.9.12"
  }
 },
 "nbformat": 4,
 "nbformat_minor": 5
}
