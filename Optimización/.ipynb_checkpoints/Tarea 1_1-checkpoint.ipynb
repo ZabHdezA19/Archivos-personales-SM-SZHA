{
 "cells": [
  {
   "cell_type": "markdown",
   "metadata": {
    "colab_type": "text",
    "id": "PedPDtG9ESjJ"
   },
   "source": [
    "# Tarea. Optimización de funciones escalares"
   ]
  },
  {
   "cell_type": "code",
   "execution_count": 3,
   "metadata": {},
   "outputs": [],
   "source": [
    "import numpy as np\n",
    "import sympy as sym\n",
    "import matplotlib.pyplot as plt"
   ]
  },
  {
   "cell_type": "markdown",
   "metadata": {
    "colab_type": "text",
    "id": "I1rmrSnYElMl"
   },
   "source": [
    "1. Encuntre el punto crítico de cada $f(x)$, grafique y diga si éste es máximo o mínimo:"
   ]
  },
  {
   "cell_type": "markdown",
   "metadata": {
    "colab_type": "text",
    "id": "rZsQPEsnE-b9"
   },
   "source": [
    "1.1 $f(x)=x+\\frac{1}{x^2}$"
   ]
  },
  {
   "cell_type": "code",
   "execution_count": 4,
   "metadata": {
    "colab": {},
    "colab_type": "code",
    "id": "BnSeOKFZEIpZ"
   },
   "outputs": [
    {
     "data": {
      "text/latex": [
       "$\\displaystyle x + \\frac{1}{x^{2}}$"
      ],
      "text/plain": [
       "x + x**(-2)"
      ]
     },
     "execution_count": 4,
     "metadata": {},
     "output_type": "execute_result"
    }
   ],
   "source": [
    "sym.var('x')\n",
    "def f(x):\n",
    "    return x + 1/x**2\n",
    "f(x)"
   ]
  },
  {
   "cell_type": "code",
   "execution_count": 5,
   "metadata": {},
   "outputs": [
    {
     "data": {
      "text/latex": [
       "$\\displaystyle 1 - \\frac{2}{x^{3}}$"
      ],
      "text/plain": [
       "1 - 2/x**3"
      ]
     },
     "execution_count": 5,
     "metadata": {},
     "output_type": "execute_result"
    }
   ],
   "source": [
    "df = sym.diff(f(x),x)\n",
    "cf = sym.solve(df,x)\n",
    "df"
   ]
  },
  {
   "cell_type": "code",
   "execution_count": 7,
   "metadata": {},
   "outputs": [
    {
     "data": {
      "text/plain": [
       "[2**(1/3),\n",
       " -2**(1/3)/2 - 2**(1/3)*sqrt(3)*I/2,\n",
       " -2**(1/3)/2 + 2**(1/3)*sqrt(3)*I/2]"
      ]
     },
     "execution_count": 7,
     "metadata": {},
     "output_type": "execute_result"
    }
   ],
   "source": [
    "cf"
   ]
  },
  {
   "cell_type": "code",
   "execution_count": 9,
   "metadata": {},
   "outputs": [
    {
     "data": {
      "image/png": "[encoded data removed]",
      "text/plain": [
       "<Figure size 432x288 with 1 Axes>"
      ]
     },
     "metadata": {
      "needs_background": "light"
     },
     "output_type": "display_data"
    }
   ],
   "source": [
    "xfnum = np.linspace(0.1,4,150)\n",
    "yfnum = f(xfnum)\n",
    "plt.plot(xfnum,yfnum)\n",
    "plt.plot(cf[0],f(cf[0]),'r*')\n",
    "plt.grid()"
   ]
  },
  {
   "cell_type": "code",
   "execution_count": null,
   "metadata": {},
   "outputs": [],
   "source": []
  },
  {
   "cell_type": "markdown",
   "metadata": {
    "colab_type": "text",
    "id": "WSf2O-FsGYtu"
   },
   "source": [
    "1.2 $g(x)=\\frac{15x}{2}\\sqrt{\\frac{x}{x-30}}$"
   ]
  },
  {
   "cell_type": "code",
   "execution_count": 10,
   "metadata": {},
   "outputs": [
    {
     "data": {
      "text/latex": [
       "$\\displaystyle \\frac{15 x \\left(\\frac{x}{x - 30}\\right)^{0.5}}{2}$"
      ],
      "text/plain": [
       "15*x*(x/(x - 30))**0.5/2"
      ]
     },
     "execution_count": 10,
     "metadata": {},
     "output_type": "execute_result"
    }
   ],
   "source": [
    "def g(x):\n",
    "    return ((15*x)/2)*(x/(x-30))**0.5\n",
    "g(x)"
   ]
  },
  {
   "cell_type": "code",
   "execution_count": 11,
   "metadata": {},
   "outputs": [
    {
     "data": {
      "text/latex": [
       "$\\displaystyle \\frac{15 \\left(\\frac{x}{x - 30}\\right)^{0.5} \\left(x - 30\\right) \\left(- \\frac{0.5 x}{\\left(x - 30\\right)^{2}} + \\frac{0.5}{x - 30}\\right)}{2} + \\frac{15 \\left(\\frac{x}{x - 30}\\right)^{0.5}}{2}$"
      ],
      "text/plain": [
       "15*(x/(x - 30))**0.5*(x - 30)*(-0.5*x/(x - 30)**2 + 0.5/(x - 30))/2 + 15*(x/(x - 30))**0.5/2"
      ]
     },
     "execution_count": 11,
     "metadata": {},
     "output_type": "execute_result"
    }
   ],
   "source": [
    "dg = sym.diff(g(x),x)\n",
    "cg = sym.solve(dg,x)\n",
    "dg"
   ]
  },
  {
   "cell_type": "code",
   "execution_count": 12,
   "metadata": {},
   "outputs": [
    {
     "data": {
      "text/plain": [
       "[0.0, 45.0000000000000]"
      ]
     },
     "execution_count": 12,
     "metadata": {},
     "output_type": "execute_result"
    }
   ],
   "source": [
    "cg"
   ]
  },
  {
   "cell_type": "code",
   "execution_count": 18,
   "metadata": {},
   "outputs": [
    {
     "data": {
      "image/png": "[encoded data removed]",
      "text/plain": [
       "<Figure size 432x288 with 1 Axes>"
      ]
     },
     "metadata": {
      "needs_background": "light"
     },
     "output_type": "display_data"
    }
   ],
   "source": [
    "xgnum = np.linspace(40,50,250)\n",
    "ygnum = g(xgnum)\n",
    "plt.plot(xgnum,ygnum)\n",
    "plt.plot(cg[1],g(cg[1]),'r*')\n",
    "plt.grid()"
   ]
  },
  {
   "cell_type": "code",
   "execution_count": null,
   "metadata": {},
   "outputs": [],
   "source": []
  },
  {
   "cell_type": "markdown",
   "metadata": {
    "colab_type": "text",
    "id": "7A2O6L5gGx-q"
   },
   "source": [
    "1.3 $h(x)=100(1+\\cos(x)\\sin(x))$, para $x\\in[0.\\frac{\\pi}{2}]$"
   ]
  },
  {
   "cell_type": "code",
   "execution_count": null,
   "metadata": {},
   "outputs": [],
   "source": [
    "def h(x):\n",
    "    return 100\n",
    "g(x)"
   ]
  },
  {
   "cell_type": "code",
   "execution_count": null,
   "metadata": {},
   "outputs": [],
   "source": []
  },
  {
   "cell_type": "markdown",
   "metadata": {
    "colab_type": "text",
    "id": "mibUuJQGHSUO"
   },
   "source": [
    "2. Resuelva los siguientes problemas:"
   ]
  },
  {
   "cell_type": "markdown",
   "metadata": {
    "colab_type": "text",
    "id": "uxDIyBC6HYFx"
   },
   "source": [
    "2.1  Se desea hacer una caja con tapa cuyo volumen sea de 72 $cm^3$. Además, lo largo de la base debe ser el doble de lo ancho. ¿Cuáles deben ser las dimensiones de modo que la superficie de la caja sea mínima? y, ¿cuál la superficie mínima?\n"
   ]
  },
  {
   "cell_type": "code",
   "execution_count": null,
   "metadata": {
    "colab": {},
    "colab_type": "code",
    "id": "7Lvny-LWHXcx"
   },
   "outputs": [],
   "source": []
  },
  {
   "cell_type": "markdown",
   "metadata": {
    "colab_type": "text",
    "id": "AhKGcooYopud"
   },
   "source": [
    "2.2 Una bodega de 5 $m$ de largo, 4 $m$ de ancho y 3 $m$ de alto, tiene un contacto en una esquina a 80 $cm$ de alto. Si se requiere colocar un foco en el techo justo en la esquina opuesta, ¿cuál es la distancia sobre las paredes de la bodega que se debe seguir para ahorrar cable eléctrico?\n",
    "\n",
    "Pista: Encuentre el punto P en la imágen.\n",
    "\n",
    "![](./Tarea_OptEsc_2.2.PNG)\n"
   ]
  },
  {
   "cell_type": "code",
   "execution_count": null,
   "metadata": {},
   "outputs": [],
   "source": []
  },
  {
   "cell_type": "markdown",
   "metadata": {
    "colab_type": "text",
    "id": "OIowvQqGpG7a"
   },
   "source": [
    "2.3 Un barco encalló a $9 km$ del punto **P** más próximo de una costa en línea recta. Se necesita enviar a un mensajero a un pueblo situado en la orilla de la costa a 15 km de **P**. Teniendo en cuenta que el mensajero recorre a pie $5 km/h$, y en una barca a $4 km/h$, decir en qué punto de la orilla debe desembarcar para llegar al pueblo lo más pronto posible?\n",
    "\n",
    "![](./Tarea_OptEsc_2.3.PNG)"
   ]
  },
  {
   "cell_type": "code",
   "execution_count": null,
   "metadata": {},
   "outputs": [],
   "source": []
  }
 ],
 "metadata": {
  "colab": {
   "collapsed_sections": [],
   "name": "Tarea - OptEsc.ipynb",
   "provenance": []
  },
  "kernelspec": {
   "display_name": "Python 3 (ipykernel)",
   "language": "python",
   "name": "python3"
  },
  "language_info": {
   "codemirror_mode": {
    "name": "ipython",
    "version": 3
   },
   "file_extension": ".py",
   "mimetype": "text/x-python",
   "name": "python",
   "nbconvert_exporter": "python",
   "pygments_lexer": "ipython3",
   "version": "3.9.12"
  }
 },
 "nbformat": 4,
 "nbformat_minor": 1
}
