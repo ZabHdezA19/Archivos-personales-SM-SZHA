{
 "cells": [
  {
   "cell_type": "markdown",
   "id": "fd948dd9",
   "metadata": {},
   "source": [
    "# Optimización de la superficie total de un contenedor de café de $\\frac{1}{2}$ litro de capacidad"
   ]
  },
  {
   "cell_type": "markdown",
   "id": "241f2b2e",
   "metadata": {},
   "source": [
    "Una empresa que vende café en grano desea diseñar un contenedor cilíndrico con tapa cuyo volumen sea de $\\frac{1}{2}$ litro. El material seleccionado para fabricar dicho envase cuesta $\\$0.01$ por $cm^2$. ¿Cuáles deben ser las dimensiones de modo que la superficie del contenedor sea mínima?, ¿cuál es la superficie mínima? y ¿cuánto será el costo por contenedor fabricado?"
   ]
  },
  {
   "cell_type": "markdown",
   "id": "f8d36a57",
   "metadata": {},
   "source": [
    "## Objetivos\n",
    "\n",
    "**1.1 Objetivo general**\n",
    "   - *Encontrar la superficie mínima necesaria de un contenedor cilíndrico de 0.5 L de volúmen total para minimizar los gastos de producción de dicho envase.*\n",
    "    \n",
    "**1.2 Objetivos específicos**\n",
    "   - *Encontrar los parámetros de los cuales depende la superficie del contenedor.*\n",
    "   - *Deducir la función que modele con claridad la superficie del cilindro.*\n",
    "   - *Optimizar de manera precisa la función de la superficie del contenedor.*\n",
    "   - *Obtener los valores de los parámetros necesarios para obtener la      superficie mínima del envase.*\n",
    "   - *Calcular el precio total del contenedor cilíndrico.*"
   ]
  },
  {
   "cell_type": "markdown",
   "id": "a48762b7",
   "metadata": {},
   "source": [
    "## **Obtención del modelo**\n",
    "\n",
    "<img style=\"float: left; margin: 30px 30px 15px 15px;\" src=\"https://upload.wikimedia.org/wikipedia/commons/thumb/e/e1/Cylinder_geometry.svg/389px-Cylinder_geometry.svg.png\" width=\"80px\" height=\"10px\" />\n",
    "\n",
    "Se comienza asignándole variables a los parámetros correspondientes a la altura del cilindro $(h)$ y al radio de su base/tapa circular $(r)$ como se muestra en la figura de la izquierda. \n",
    "\n",
    "Tomando en cuenta la restricción de volumen $(V)$ dada, se transforman sus unidades de litros a unidades de $cm^3$, empleando la conversión $1L=1000$ $cm^3$:\n",
    "\n",
    "$$\n",
    "V=(0.5L) (\\frac{1000cm^3}{1L}) \\rightarrow V=500cm^3\n",
    "$$"
   ]
  },
  {
   "cell_type": "markdown",
   "id": "db7c8a6b",
   "metadata": {},
   "source": [
    "<img  src=\"Cylindertemplate.png\" width = \"200px\"/> \n",
    "\n",
    "Dada la imagen del contenedor cilíndrico extendido de la izquierda, cabe mencionar que el largo del rectángulo, de valor ' $2\\pi r$ ', está dado por el perímetro de la base/tapa circular.\n",
    "\n",
    "Para formular la función que describa al volumen, es necesario expresar primeramente la superficie de la base  \n",
    "($S_{base}$), correspondiente al área de un círculo:\n",
    "\n",
    "$$\n",
    "V=hS_{base}\n",
    "$$\n",
    "\n",
    "$$\n",
    "S_{base}=\\pi r^2.\n",
    "$$\n",
    "\n",
    "Una vez obtenido este dato, basta con multiplicarlo por la altura para calcular el volumen del cilindro:\n",
    "\n",
    "$$\n",
    "V=hS_{base} \\rightarrow 500cm^3=h\\pi r^2.\n",
    "$$\n",
    "\n",
    "Se despeja '$h$', para dejarla en términos de la variable '$r$':\n",
    "\n",
    "$$\n",
    "500cm^3=h\\pi r^2 \\rightarrow h=\\frac{500cm^3}{\\pi r^2}.\n",
    "$$\n",
    "\n",
    "Continuando con el planteamiento de la función a optimizar, se busca una expresión que represente la superficie total del contenedor cilíndrico ($S_{total}$), la cual está compuesta por la suma de la superficie de la pared ($S_{pared}$) y de las bases ($S_{bases}$), es decir, de la base y la tapa:\n",
    "\n",
    "$$\n",
    "S_{total}=S_{bases}+S_{pared}.\n",
    "$$\n",
    "\n",
    "La superficie de las bases es el doble de la supercicie de la base utilizada anteriomente:\n",
    "\n",
    "$$\n",
    "S_{bases}=2S_{base} \\rightarrow S_{bases}=2\\pi r^2,\n",
    "$$\n",
    "\n",
    "mientras que la de la pared se calcula como el área de un rectángulo de lados $2\\pi r$ y $h$:\n",
    "\n",
    "$$\n",
    "S_{pared}=2\\pi rh.\n",
    "$$\n",
    "\n",
    "En esta última expresión se sustituye la '$h$' despejada y se simplifica:\n",
    "\n",
    "$$\n",
    "S_{pared}=2\\pi rh=2\\pi r(\\frac{500cm^3}{\\pi r^2}) \\rightarrow S_{pared}=\\frac{1000cm^3}{r}.\n",
    "$$\n",
    "\n",
    "Finalmente, se suman la superficie de las bases y de la pared para obtener la función de superficie total del contenedor cilíndrico a optimizar:\n",
    "\n",
    "$$\n",
    "S_{total}=S_{bases}+S_{pared} \\rightarrow S_{total}=2\\pi r^2+\\frac{1000cm^3}{r}.\n",
    "$$\n",
    "\n",
    "En este caso, se busca minimizar '$r$' para consecuentemente obtener una superficie mínima.\n",
    "\n",
    "Dentro de la función de superficie $S(r)$ sólo existe un valor no permitido de $r$, el número $0$, ya que éste la indeterminaría. \n",
    "\n",
    "Además, existe un rango de valores del radio fuera del cual la solución no tiene sentido. Por ejemplo, evaluando $r = 15$ $cm$ en la función de volumen, se tiene:\n",
    "\n",
    "$$\n",
    "V = 500cm^3=h\\pi r^2 \\rightarrow 500cm^3 \\neq h\\pi(15cm)^2\n",
    "$$\n",
    "\n",
    "Esto se debe a que $\\pi(15^2) \\thickapprox 706.858 $ y, siendo un valor mayor a la capacidad especificada de $500$ $cm^3$, se requeriría de una altura de menos de $1$ $cm$, algo que tiene poco sentido.\n",
    "\n",
    "Por otro lado, si $ r = 12$ $cm$, se obtiene:\n",
    "\n",
    "$$\n",
    "V = 500cm^3=h\\pi r^2 \\rightarrow 500cm^3 = h\\pi(12cm)^2 \\rightarrow h = \\dfrac{500cm^3}{\\pi(12cm)^2} \\thickapprox 1.105 cm\n",
    "$$\n",
    "\n",
    "Por esta razón, se utiliza un rango de valores válidos para el radio, mostrado a continuación: \n",
    "\n",
    "$$\n",
    "0 < r \\leq 12\n",
    "$$"
   ]
  },
  {
   "cell_type": "code",
   "execution_count": null,
   "id": "4261f2b5",
   "metadata": {},
   "outputs": [],
   "source": []
  },
  {
   "cell_type": "markdown",
   "id": "4beb0907",
   "metadata": {},
   "source": [
    "## **Solución del problema de optimización**"
   ]
  },
  {
   "cell_type": "code",
   "execution_count": 2,
   "id": "6c12c8a7",
   "metadata": {},
   "outputs": [
    {
     "data": {
      "text/latex": [
       "$\\displaystyle 6.28318530717959 r^{2} + \\frac{1000}{r}$"
      ],
      "text/plain": [
       "6.28318530717959*r**2 + 1000/r"
      ]
     },
     "execution_count": 2,
     "metadata": {},
     "output_type": "execute_result"
    }
   ],
   "source": [
    "# Importación de librerías\n",
    "import sympy as sym\n",
    "import numpy as np\n",
    "import matplotlib.pyplot as plt \n",
    "\n",
    "# Definición de función\n",
    "sym.var('r',real=True)\n",
    "def S(r):\n",
    "    return (2*np.pi*r**2)+(1000/r)\n",
    "S(r)"
   ]
  },
  {
   "cell_type": "code",
   "execution_count": 3,
   "id": "41cda538",
   "metadata": {},
   "outputs": [
    {
     "data": {
      "text/latex": [
       "$\\displaystyle 12.5663706143592 r - \\frac{1000}{r^{2}}$"
      ],
      "text/plain": [
       "12.5663706143592*r - 1000/r**2"
      ]
     },
     "execution_count": 3,
     "metadata": {},
     "output_type": "execute_result"
    }
   ],
   "source": [
    "# Derivada\n",
    "dS=sym.diff(S(r),r)\n",
    "dS"
   ]
  },
  {
   "cell_type": "code",
   "execution_count": 4,
   "id": "1d8b6c6e",
   "metadata": {},
   "outputs": [
    {
     "data": {
      "text/plain": [
       "[4.30127006914049]"
      ]
     },
     "execution_count": 4,
     "metadata": {},
     "output_type": "execute_result"
    }
   ],
   "source": [
    "# Puntos críticos\n",
    "c=sym.solve(dS,r) # Radio de la base\n",
    "c "
   ]
  },
  {
   "cell_type": "code",
   "execution_count": 5,
   "id": "a9a31b30",
   "metadata": {},
   "outputs": [
    {
     "data": {
      "text/latex": [
       "$\\displaystyle 348.734205452888$"
      ],
      "text/plain": [
       "348.734205452888"
      ]
     },
     "execution_count": 5,
     "metadata": {},
     "output_type": "execute_result"
    }
   ],
   "source": [
    "S(c[0]) # Superficie mínima"
   ]
  },
  {
   "cell_type": "markdown",
   "id": "412e49bd",
   "metadata": {},
   "source": [
    "Debido a que es el único punto crítico real encontrado en la función de superficie, se analiza gráficamente para determinar si representa un mínimo o máximo en dicha función:"
   ]
  },
  {
   "cell_type": "code",
   "execution_count": 6,
   "id": "8e6429c4",
   "metadata": {},
   "outputs": [
    {
     "data": {
      "image/png": "[encoded data removed]",
      "text/plain": [
       "<Figure size 432x288 with 1 Axes>"
      ]
     },
     "metadata": {
      "needs_background": "light"
     },
     "output_type": "display_data"
    }
   ],
   "source": [
    "# Graficar\n",
    "xnum=np.linspace(0.1,20,100)\n",
    "ynum=S(xnum)\n",
    "plt.plot(xnum,ynum)\n",
    "plt.plot(c[0],S(c[0]),'*r',ms=15)\n",
    "plt.xlabel('Longitud del radio (cm)')\n",
    "plt.ylabel('Costo ($)')\n",
    "plt.xlim([0,12])\n",
    "plt.grid()"
   ]
  },
  {
   "cell_type": "markdown",
   "id": "d335ccd8",
   "metadata": {},
   "source": [
    "Dada la gráfica, se concluye que el punto crítico ($4.30,348.73$) corresponde en el mínimo global de la función a optimizar, por lo que se toma el valor encontrado del radio de la base como referencia para calcular la altura del envase, así como su costo."
   ]
  },
  {
   "cell_type": "code",
   "execution_count": 11,
   "id": "f24182b1",
   "metadata": {},
   "outputs": [
    {
     "data": {
      "text/latex": [
       "$\\displaystyle 8.60254013828101$"
      ],
      "text/plain": [
       "8.60254013828101"
      ]
     },
     "execution_count": 11,
     "metadata": {},
     "output_type": "execute_result"
    }
   ],
   "source": [
    "h=500/(np.pi*c[0]**2) # Altura del envase cilíndrico\n",
    "h"
   ]
  },
  {
   "cell_type": "code",
   "execution_count": 12,
   "id": "42b51cbf",
   "metadata": {},
   "outputs": [
    {
     "data": {
      "text/latex": [
       "$\\displaystyle 3.48734205452888$"
      ],
      "text/plain": [
       "3.48734205452888"
      ]
     },
     "execution_count": 12,
     "metadata": {},
     "output_type": "execute_result"
    }
   ],
   "source": [
    "S(c[0])*0.01 # Costo del contenedor"
   ]
  },
  {
   "cell_type": "markdown",
   "id": "99a5e3c1",
   "metadata": {},
   "source": [
    "De igual manera, utilizando las dimensiones anteriores, se verifica que se haya cumplido el requisito de volumen planteado en el problema:"
   ]
  },
  {
   "cell_type": "code",
   "execution_count": 13,
   "id": "00e9ab7d",
   "metadata": {},
   "outputs": [
    {
     "data": {
      "text/latex": [
       "$\\displaystyle 500.0$"
      ],
      "text/plain": [
       "500.000000000000"
      ]
     },
     "execution_count": 13,
     "metadata": {},
     "output_type": "execute_result"
    }
   ],
   "source": [
    "V=h*np.pi*c[0]**2 # Volumen\n",
    "V"
   ]
  },
  {
   "cell_type": "markdown",
   "id": "4090fcb9",
   "metadata": {},
   "source": [
    "Se concluye que la función de superficie del contenedor de café cilíndrico con capacidad de $\\frac{1}{2}L$ fue optimizada con éxito, obteniendo un costo mínimo de $\\$3.49$ a partir de la fabricación de un contenedor cilíndrico de $348.73$ $cm^2$ de superficie total con dimensiones de $4.30$ $cm$ de radio de la base y $8.60$ $cm$ de altura."
   ]
  }
 ],
 "metadata": {
  "kernelspec": {
   "display_name": "Python 3 (ipykernel)",
   "language": "python",
   "name": "python3"
  },
  "language_info": {
   "codemirror_mode": {
    "name": "ipython",
    "version": 3
   },
   "file_extension": ".py",
   "mimetype": "text/x-python",
   "name": "python",
   "nbconvert_exporter": "python",
   "pygments_lexer": "ipython3",
   "version": "3.9.12"
  }
 },
 "nbformat": 4,
 "nbformat_minor": 5
}
