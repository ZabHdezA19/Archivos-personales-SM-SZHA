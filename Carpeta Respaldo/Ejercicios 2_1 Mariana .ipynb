{
 "cells": [
  {
   "cell_type": "code",
   "execution_count": 236,
   "metadata": {},
   "outputs": [],
   "source": [
    "import matplotlib.pyplot as plt\n",
    "from mpl_toolkits.mplot3d import Axes3D\n",
    "import numpy as np\n",
    "import pandas as pd"
   ]
  },
  {
   "cell_type": "markdown",
   "metadata": {},
   "source": [
    "**1.** Resuelva la siguiente integral definida con el primer método de integración por Montecarlo usando 100, 1000, 10000, 100000, 1000000 y 10000000 puntos. Compárelo con su valor real=1.\n",
    "$$\n",
    "\\int_1^e\\frac{1}{x}dx\n",
    "$$"
   ]
  },
  {
   "cell_type": "markdown",
   "metadata": {},
   "source": [
    "**Solución**"
   ]
  },
  {
   "cell_type": "code",
   "execution_count": 237,
   "metadata": {},
   "outputs": [],
   "source": [
    "def f(x):\n",
    "    return 1/x"
   ]
  },
  {
   "cell_type": "code",
   "execution_count": 238,
   "metadata": {},
   "outputs": [],
   "source": [
    "def montecarlo1(f,a,b,N):\n",
    "    u=np.random.uniform(a,b,N) \n",
    "    y=f(u) \n",
    "    return np.mean(y)*(b-a) "
   ]
  },
  {
   "cell_type": "code",
   "execution_count": 239,
   "metadata": {},
   "outputs": [
    {
     "data": {
      "text/plain": [
       "array([     100,     1000,    10000,   100000,  1000000, 10000000])"
      ]
     },
     "execution_count": 239,
     "metadata": {},
     "output_type": "execute_result"
    }
   ],
   "source": [
    "N=np.logspace(2,7,6).astype('int')\n",
    "N"
   ]
  },
  {
   "cell_type": "code",
   "execution_count": 240,
   "metadata": {},
   "outputs": [],
   "source": [
    "b=np.exp(1)"
   ]
  },
  {
   "cell_type": "code",
   "execution_count": 241,
   "metadata": {},
   "outputs": [
    {
     "data": {
      "text/html": [
       "<div>\n",
       "<style scoped>\n",
       "    .dataframe tbody tr th:only-of-type {\n",
       "        vertical-align: middle;\n",
       "    }\n",
       "\n",
       "    .dataframe tbody tr th {\n",
       "        vertical-align: top;\n",
       "    }\n",
       "\n",
       "    .dataframe thead th {\n",
       "        text-align: right;\n",
       "    }\n",
       "</style>\n",
       "<table border=\"1\" class=\"dataframe\">\n",
       "  <thead>\n",
       "    <tr style=\"text-align: right;\">\n",
       "      <th></th>\n",
       "      <th>Integral</th>\n",
       "      <th>Error abs</th>\n",
       "      <th>Error rel</th>\n",
       "    </tr>\n",
       "  </thead>\n",
       "  <tbody>\n",
       "    <tr>\n",
       "      <th>100</th>\n",
       "      <td>1.010777</td>\n",
       "      <td>0.009818</td>\n",
       "      <td>0.100000</td>\n",
       "    </tr>\n",
       "    <tr>\n",
       "      <th>1000</th>\n",
       "      <td>1.000166</td>\n",
       "      <td>0.005924</td>\n",
       "      <td>0.031623</td>\n",
       "    </tr>\n",
       "    <tr>\n",
       "      <th>10000</th>\n",
       "      <td>0.999739</td>\n",
       "      <td>0.000542</td>\n",
       "      <td>0.010000</td>\n",
       "    </tr>\n",
       "    <tr>\n",
       "      <th>100000</th>\n",
       "      <td>0.999947</td>\n",
       "      <td>0.000908</td>\n",
       "      <td>0.003162</td>\n",
       "    </tr>\n",
       "    <tr>\n",
       "      <th>1000000</th>\n",
       "      <td>1.000102</td>\n",
       "      <td>0.0004</td>\n",
       "      <td>0.001000</td>\n",
       "    </tr>\n",
       "    <tr>\n",
       "      <th>10000000</th>\n",
       "      <td>1.000104</td>\n",
       "      <td>0.000066</td>\n",
       "      <td>0.000316</td>\n",
       "    </tr>\n",
       "  </tbody>\n",
       "</table>\n",
       "</div>"
      ],
      "text/plain": [
       "          Integral Error abs  Error rel\n",
       "100       1.010777  0.009818   0.100000\n",
       "1000      1.000166  0.005924   0.031623\n",
       "10000     0.999739  0.000542   0.010000\n",
       "100000    0.999947  0.000908   0.003162\n",
       "1000000   1.000102    0.0004   0.001000\n",
       "10000000  1.000104  0.000066   0.000316"
      ]
     },
     "execution_count": 241,
     "metadata": {},
     "output_type": "execute_result"
    }
   ],
   "source": [
    "tabla1=pd.DataFrame(index=N,columns=['Integral'])\n",
    "for n in N:\n",
    "    tabla1.loc[n]=montecarlo1(f,1,b,n)\n",
    "tabla1['Error abs']=np.abs(tabla['Integral']-1)\n",
    "tabla1['Error rel']=1/np.sqrt(N)\n",
    "tabla1"
   ]
  },
  {
   "cell_type": "markdown",
   "metadata": {},
   "source": [
    "**2.** Encuentre el volumen de una copa descrita como sigue:"
   ]
  },
  {
   "cell_type": "code",
   "execution_count": 242,
   "metadata": {},
   "outputs": [],
   "source": [
    "def copa(th,r,z):\n",
    "    C1 = (z>0)*(r>=0.9*z)*(r<=1.1*z)*(z<=1)\n",
    "    C2 = (z<=-1.5)*(r<0.5)*(z>=-1.6)\n",
    "    C3 = (r<0.1)*(z<=0)*(z>-1.5)\n",
    "    return C1 | C2 | C3"
   ]
  },
  {
   "cell_type": "markdown",
   "metadata": {},
   "source": [
    "Use límites para $-1.6\\leq z\\leq 1$, $0\\leq r \\leq 2$ y $-\\pi\\leq\\theta\\leq\\pi$. Con puntos desde $10^2$ hasta $10^7$, mostrando en una tabla la acotación del error relativo a priori."
   ]
  },
  {
   "cell_type": "code",
   "execution_count": 243,
   "metadata": {},
   "outputs": [],
   "source": [
    "def copaE(th,z):\n",
    "    C1 = (z>0)*(1.1*z)*(z<=1)\n",
    "    C2 = (z<=-1.5)*(0.5)*(z>=-1.6)\n",
    "    C3 = 0.1*(z<=0)*(z>-1.5)\n",
    "    return C1+C2+C3"
   ]
  },
  {
   "cell_type": "code",
   "execution_count": 244,
   "metadata": {},
   "outputs": [
    {
     "name": "stderr",
     "output_type": "stream",
     "text": [
      "C:\\Users\\maria\\AppData\\Local\\Temp\\ipykernel_39752\\2482010057.py:10: MatplotlibDeprecationWarning: Calling gca() with keyword arguments was deprecated in Matplotlib 3.4. Starting two minor releases later, gca() will take no keyword arguments. The gca() function should only be used to get the current axes, or if no axes exist, create new axes with default keyword arguments. To create a new axes with non-default arguments, use plt.axes() or plt.subplot().\n",
      "  ax=fig.gca(projection='3d')\n"
     ]
    },
    {
     "data": {
      "text/plain": [
       "[<mpl_toolkits.mplot3d.art3d.Line3D at 0x1a6eb103f70>]"
      ]
     },
     "execution_count": 244,
     "metadata": {},
     "output_type": "execute_result"
    },
    {
     "data": {
      "image/png": "[encoded data removed]",
      "text/plain": [
       "<Figure size 432x288 with 1 Axes>"
      ]
     },
     "metadata": {
      "needs_background": "light"
     },
     "output_type": "display_data"
    }
   ],
   "source": [
    "th=np.linspace(-np.pi*1000000,1000000*np.pi,10000)\n",
    "z=np.linspace(-1.6,1,10000)\n",
    "\n",
    "r1=copaE(th,z)\n",
    "\n",
    "x1=r1*np.cos(th)\n",
    "y1=r1*np.sin(th)\n",
    "\n",
    "fig = plt.figure()\n",
    "ax=fig.gca(projection='3d')\n",
    "plt.title('Contorno de la copa')\n",
    "ax.plot(x1,y1,z)"
   ]
  },
  {
   "cell_type": "markdown",
   "metadata": {},
   "source": [
    "**Solución**"
   ]
  },
  {
   "cell_type": "code",
   "execution_count": 245,
   "metadata": {},
   "outputs": [],
   "source": [
    "def bernoulli(th,r,z):\n",
    "    return copa(th,r,z)"
   ]
  },
  {
   "cell_type": "code",
   "execution_count": 246,
   "metadata": {},
   "outputs": [],
   "source": [
    "def montecarlo2(bernoulli,minth,maxth,minr,maxr,minz,maxz,N):\n",
    "    uth=np.random.uniform(minth,maxth,N)\n",
    "    ur=np.random.uniform(minr,maxr,N)\n",
    "    uz=np.random.uniform(minz,maxz,N)\n",
    "    B=bernoulli(uth,ur,uz)\n",
    "    Vcil=np.pi*(maxz-minz)*(maxr-minr)**2 # Volumen del cilindro\n",
    "    return Vcil*np.mean(B) # Volumen de la copa"
   ]
  },
  {
   "cell_type": "code",
   "execution_count": 247,
   "metadata": {},
   "outputs": [
    {
     "data": {
      "text/plain": [
       "array([     100,     1000,    10000,   100000,  1000000, 10000000])"
      ]
     },
     "execution_count": 247,
     "metadata": {},
     "output_type": "execute_result"
    }
   ],
   "source": [
    "N=np.logspace(2,7,6).astype('int')\n",
    "N"
   ]
  },
  {
   "cell_type": "code",
   "execution_count": 248,
   "metadata": {},
   "outputs": [],
   "source": [
    "th=np.random.uniform(-np.pi,np.pi,N[-1])\n",
    "r=np.random.uniform(0,2,N[-1])\n",
    "z=np.random.uniform(-1.6,1,N[-1])\n",
    "B=bernoulli(th,r,z)\n",
    "p=np.mean(B)\n",
    "Erel=(1/np.sqrt(N))*(np.sqrt((1-p)/p))"
   ]
  },
  {
   "cell_type": "code",
   "execution_count": 249,
   "metadata": {},
   "outputs": [
    {
     "data": {
      "text/html": [
       "<div>\n",
       "<style scoped>\n",
       "    .dataframe tbody tr th:only-of-type {\n",
       "        vertical-align: middle;\n",
       "    }\n",
       "\n",
       "    .dataframe tbody tr th {\n",
       "        vertical-align: top;\n",
       "    }\n",
       "\n",
       "    .dataframe thead th {\n",
       "        text-align: right;\n",
       "    }\n",
       "</style>\n",
       "<table border=\"1\" class=\"dataframe\">\n",
       "  <thead>\n",
       "    <tr style=\"text-align: right;\">\n",
       "      <th></th>\n",
       "      <th>Volumen de copa</th>\n",
       "      <th>Volumen del cilindro</th>\n",
       "      <th>Error rel</th>\n",
       "    </tr>\n",
       "  </thead>\n",
       "  <tbody>\n",
       "    <tr>\n",
       "      <th>100</th>\n",
       "      <td>1.960354</td>\n",
       "      <td>32.672564</td>\n",
       "      <td>0.404214</td>\n",
       "    </tr>\n",
       "    <tr>\n",
       "      <th>1000</th>\n",
       "      <td>1.993026</td>\n",
       "      <td>32.672564</td>\n",
       "      <td>0.127824</td>\n",
       "    </tr>\n",
       "    <tr>\n",
       "      <th>10000</th>\n",
       "      <td>1.901543</td>\n",
       "      <td>32.672564</td>\n",
       "      <td>0.040421</td>\n",
       "    </tr>\n",
       "    <tr>\n",
       "      <th>100000</th>\n",
       "      <td>1.864623</td>\n",
       "      <td>32.672564</td>\n",
       "      <td>0.012782</td>\n",
       "    </tr>\n",
       "    <tr>\n",
       "      <th>1000000</th>\n",
       "      <td>1.873118</td>\n",
       "      <td>32.672564</td>\n",
       "      <td>0.004042</td>\n",
       "    </tr>\n",
       "    <tr>\n",
       "      <th>10000000</th>\n",
       "      <td>1.883407</td>\n",
       "      <td>32.672564</td>\n",
       "      <td>0.001278</td>\n",
       "    </tr>\n",
       "  </tbody>\n",
       "</table>\n",
       "</div>"
      ],
      "text/plain": [
       "         Volumen de copa Volumen del cilindro  Error rel\n",
       "100             1.960354            32.672564   0.404214\n",
       "1000            1.993026            32.672564   0.127824\n",
       "10000           1.901543            32.672564   0.040421\n",
       "100000          1.864623            32.672564   0.012782\n",
       "1000000         1.873118            32.672564   0.004042\n",
       "10000000        1.883407            32.672564   0.001278"
      ]
     },
     "execution_count": 249,
     "metadata": {},
     "output_type": "execute_result"
    }
   ],
   "source": [
    "tabla2=pd.DataFrame(index=N,columns=['Volumen de copa','Volumen del cilindro'])\n",
    "for n in N:\n",
    "    tabla2.loc[n,'Volumen de copa']=montecarlo2(bernoulli,-np.pi,np.pi,0,2,-1.6,1,n)\n",
    "    tabla2.loc[n,'Volumen del cilindro']=np.pi*2.6*2**2\n",
    "tabla2['Error rel']=Erel\n",
    "tabla2"
   ]
  },
  {
   "cell_type": "markdown",
   "metadata": {},
   "source": [
    "**3.** Dada la función\n",
    "$$\n",
    "\\frac{dy}{dx}=e^{-x^2+1}\\cos(13x)+3\n",
    "$$"
   ]
  },
  {
   "cell_type": "code",
   "execution_count": 250,
   "metadata": {},
   "outputs": [
    {
     "data": {
      "image/png": "[encoded data removed]",
      "text/plain": [
       "<Figure size 432x288 with 1 Axes>"
      ]
     },
     "metadata": {
      "needs_background": "light"
     },
     "output_type": "display_data"
    }
   ],
   "source": [
    "x=np.linspace(0,0.3,100)\n",
    "dy=np.exp(-x**2+1)*np.cos(13*x)+3\n",
    "plt.plot(x,dy)\n",
    "plt.ylim([-0.1,6])\n",
    "plt.grid()"
   ]
  },
  {
   "cell_type": "markdown",
   "metadata": {},
   "source": [
    "**3.1** Encuentre $y(0.1)$ con el primer método de integración por Montecarlo conociendo $y(0)=1$. Use $10^7$ puntos."
   ]
  },
  {
   "cell_type": "markdown",
   "metadata": {},
   "source": [
    "**Solución**"
   ]
  },
  {
   "cell_type": "code",
   "execution_count": 251,
   "metadata": {},
   "outputs": [],
   "source": [
    "def f(x):\n",
    "    return np.exp(-x**2+1)*np.cos(13*x)+3"
   ]
  },
  {
   "cell_type": "code",
   "execution_count": 252,
   "metadata": {},
   "outputs": [],
   "source": [
    "def Montecarlo1(f,a,b,N):\n",
    "    u=np.random.uniform(a,b,N) \n",
    "    y=f(u)\n",
    "    return np.mean(y)*(b-a)"
   ]
  },
  {
   "cell_type": "code",
   "execution_count": 253,
   "metadata": {},
   "outputs": [
    {
     "data": {
      "text/plain": [
       "0.5009718715601535"
      ]
     },
     "execution_count": 253,
     "metadata": {},
     "output_type": "execute_result"
    }
   ],
   "source": [
    "Montecarlo1(f,0,0.1,10**7)"
   ]
  },
  {
   "cell_type": "code",
   "execution_count": 254,
   "metadata": {},
   "outputs": [],
   "source": [
    "y0=1"
   ]
  },
  {
   "cell_type": "code",
   "execution_count": 255,
   "metadata": {},
   "outputs": [
    {
     "data": {
      "text/plain": [
       "1.500979754534248"
      ]
     },
     "execution_count": 255,
     "metadata": {},
     "output_type": "execute_result"
    }
   ],
   "source": [
    "y1=Montecarlo1(f,0,0.1,10**7)+y0\n",
    "y1 # y(0.1)"
   ]
  },
  {
   "cell_type": "markdown",
   "metadata": {},
   "source": [
    "**3.2** Encuentre de igual forma $y(0.2)$ de dos formas, una conociendo $y(0)$ y otra conociendo $y(0.1)$, finalmente compare las integrales en una tabla usando desde $10^2$ hasta $10^7$ puntos."
   ]
  },
  {
   "cell_type": "markdown",
   "metadata": {},
   "source": [
    "**Solución**"
   ]
  },
  {
   "cell_type": "code",
   "execution_count": 256,
   "metadata": {},
   "outputs": [
    {
     "data": {
      "text/plain": [
       "0.7772416277925286"
      ]
     },
     "execution_count": 256,
     "metadata": {},
     "output_type": "execute_result"
    }
   ],
   "source": [
    "Montecarlo1(f,0,0.2,10**2) # Conociendo y(0)"
   ]
  },
  {
   "cell_type": "code",
   "execution_count": 257,
   "metadata": {},
   "outputs": [
    {
     "data": {
      "text/plain": [
       "1.6885828963719716"
      ]
     },
     "execution_count": 257,
     "metadata": {},
     "output_type": "execute_result"
    }
   ],
   "source": [
    "y2=Montecarlo1(f,0,0.2,10**2)+y0\n",
    "y2 # y(0.2) conociendo y(0)"
   ]
  },
  {
   "cell_type": "code",
   "execution_count": 258,
   "metadata": {},
   "outputs": [
    {
     "data": {
      "text/plain": [
       "0.22015074800931633"
      ]
     },
     "execution_count": 258,
     "metadata": {},
     "output_type": "execute_result"
    }
   ],
   "source": [
    "Montecarlo1(f,0.1,0.2,10**2) # Conociendo y(0.1)"
   ]
  },
  {
   "cell_type": "code",
   "execution_count": 259,
   "metadata": {},
   "outputs": [
    {
     "data": {
      "text/plain": [
       "1.708210067508503"
      ]
     },
     "execution_count": 259,
     "metadata": {},
     "output_type": "execute_result"
    }
   ],
   "source": [
    "y3=Montecarlo1(f,0.1,0.2,10**2)+y1\n",
    "y3 # y(0.2) conociendo y(0.1)"
   ]
  },
  {
   "cell_type": "code",
   "execution_count": 260,
   "metadata": {},
   "outputs": [
    {
     "data": {
      "text/plain": [
       "array([     100,     1000,    10000,   100000,  1000000, 10000000])"
      ]
     },
     "execution_count": 260,
     "metadata": {},
     "output_type": "execute_result"
    }
   ],
   "source": [
    "N=np.logspace(2,7,6).astype('int')\n",
    "N"
   ]
  },
  {
   "cell_type": "code",
   "execution_count": 261,
   "metadata": {},
   "outputs": [
    {
     "data": {
      "text/html": [
       "<div>\n",
       "<style scoped>\n",
       "    .dataframe tbody tr th:only-of-type {\n",
       "        vertical-align: middle;\n",
       "    }\n",
       "\n",
       "    .dataframe tbody tr th {\n",
       "        vertical-align: top;\n",
       "    }\n",
       "\n",
       "    .dataframe thead th {\n",
       "        text-align: right;\n",
       "    }\n",
       "</style>\n",
       "<table border=\"1\" class=\"dataframe\">\n",
       "  <thead>\n",
       "    <tr style=\"text-align: right;\">\n",
       "      <th></th>\n",
       "      <th>y(0.2) conociendo y(0)</th>\n",
       "      <th>y(0.2) conociendo y(0.1)</th>\n",
       "    </tr>\n",
       "  </thead>\n",
       "  <tbody>\n",
       "    <tr>\n",
       "      <th>100</th>\n",
       "      <td>1.703975</td>\n",
       "      <td>1.699717</td>\n",
       "    </tr>\n",
       "    <tr>\n",
       "      <th>1000</th>\n",
       "      <td>1.712991</td>\n",
       "      <td>1.714611</td>\n",
       "    </tr>\n",
       "    <tr>\n",
       "      <th>10000</th>\n",
       "      <td>1.708348</td>\n",
       "      <td>1.71118</td>\n",
       "    </tr>\n",
       "    <tr>\n",
       "      <th>100000</th>\n",
       "      <td>1.709991</td>\n",
       "      <td>1.710316</td>\n",
       "    </tr>\n",
       "    <tr>\n",
       "      <th>1000000</th>\n",
       "      <td>1.710068</td>\n",
       "      <td>1.710197</td>\n",
       "    </tr>\n",
       "    <tr>\n",
       "      <th>10000000</th>\n",
       "      <td>1.710227</td>\n",
       "      <td>1.710272</td>\n",
       "    </tr>\n",
       "  </tbody>\n",
       "</table>\n",
       "</div>"
      ],
      "text/plain": [
       "         y(0.2) conociendo y(0) y(0.2) conociendo y(0.1)\n",
       "100                    1.703975                 1.699717\n",
       "1000                   1.712991                 1.714611\n",
       "10000                  1.708348                  1.71118\n",
       "100000                 1.709991                 1.710316\n",
       "1000000                1.710068                 1.710197\n",
       "10000000               1.710227                 1.710272"
      ]
     },
     "execution_count": 261,
     "metadata": {},
     "output_type": "execute_result"
    }
   ],
   "source": [
    "tabla3=pd.DataFrame(index=N,columns=['y(0.2) conociendo y(0)','y(0.2) conociendo y(0.1)'])\n",
    "for n in N:\n",
    "    tabla3.loc[n,'y(0.2) conociendo y(0)']=Montecarlo1(f,0,0.2,n)+y0\n",
    "    tabla3.loc[n,'y(0.2) conociendo y(0.1)']=Montecarlo1(f,0.1,0.2,n)+y1\n",
    "tabla3"
   ]
  }
 ],
 "metadata": {
  "kernelspec": {
   "display_name": "Python 3 (ipykernel)",
   "language": "python",
   "name": "python3"
  },
  "language_info": {
   "codemirror_mode": {
    "name": "ipython",
    "version": 3
   },
   "file_extension": ".py",
   "mimetype": "text/x-python",
   "name": "python",
   "nbconvert_exporter": "python",
   "pygments_lexer": "ipython3",
   "version": "3.9.12"
  }
 },
 "nbformat": 4,
 "nbformat_minor": 2
}
