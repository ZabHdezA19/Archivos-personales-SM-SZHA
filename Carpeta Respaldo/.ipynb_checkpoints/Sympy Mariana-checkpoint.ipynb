{
 "cells": [
  {
   "cell_type": "markdown",
   "id": "5db73c8f",
   "metadata": {},
   "source": [
    "# Primer punto. Optimización de funciones con `SymPy`\n",
    "**Volumen máximo** (3.34 puntos). Considere un cono circular recto inscrito en una esfera de radio $r$:"
   ]
  },
  {
   "cell_type": "code",
   "execution_count": 1,
   "id": "982ee51c",
   "metadata": {},
   "outputs": [
    {
     "data": {
      "image/png": "[encoded data removed]",
      "text/plain": [
       "<Figure size 432x288 with 1 Axes>"
      ]
     },
     "metadata": {
      "needs_background": "light"
     },
     "output_type": "display_data"
    }
   ],
   "source": [
    "import numpy as np\n",
    "import matplotlib.pyplot as plt\n",
    "import matplotlib.patches as patches\n",
    "%matplotlib inline\n",
    "\n",
    "B1 = patches.Arc((0, -0.4), 1.8,0.3,theta2=180,fc='None',ls='--',color='k')\n",
    "B2 = patches.Arc((0, -0.4), 1.8,0.3,theta1=180,fc='None',color='k')\n",
    "C = patches.Circle((0, 0), 1,fc='None',lw=2,color='k');\n",
    "ax = plt.gca()\n",
    "ax.add_artist(B1)\n",
    "ax.add_artist(B2)\n",
    "ax.add_artist(C)\n",
    "\n",
    "plt.plot([0.9,0,-0.9],[-0.4,1,-0.4],'k')\n",
    "plt.plot([0,0],[-0.4,1],'--r')\n",
    "plt.plot([0,0],[-0.4,0],'ok')\n",
    "plt.plot([0,0.9],[0,-0.4],'--r')\n",
    "plt.plot([-0.2,0],[-0.4,-0.4],'--k')\n",
    "plt.plot([-0.2,0],[1,1],'--k')\n",
    "plt.plot([-0.14,-0.14],[-0.4,0.2],'--k')\n",
    "plt.plot([-0.14,-0.14],[0.4,1],'--k')\n",
    "\n",
    "plt.text(-0.18,0.26,'h')\n",
    "plt.text(0.4,-0.1,'$r$')\n",
    "plt.text(0.05,0.4,'$r$')\n",
    "\n",
    "plt.axis([-1.7,1.7,-1.1,1.1])\n",
    "plt.axis('off')\n",
    "plt.show()"
   ]
  },
  {
   "cell_type": "markdown",
   "id": "bab02ab1",
   "metadata": {},
   "source": [
    "1. Escriba el volumen $V$ del cono como una función de la altura $h$ de éste. Realice este punto usando fórmulas de $\\LaTeX$, en celdas *Markdown*. (1.4 puntos)\n",
    "2. Determinar el valor de $h$ que maximiza el volumen para un radio $r=2$. (1 punto)\n",
    "3. ¿Cuál es el volumen máximo del cono? (1 punto)"
   ]
  },
  {
   "cell_type": "markdown",
   "id": "0ff5fb37",
   "metadata": {},
   "source": [
    "**Solución**\n",
    "\n",
    "**1.**  \n",
    "<img src=\"sympytriangle.png\">"
   ]
  },
  {
   "cell_type": "markdown",
   "id": "e50dc48d",
   "metadata": {},
   "source": [
    "**2.**"
   ]
  },
  {
   "cell_type": "code",
   "execution_count": 14,
   "id": "fe935ba5",
   "metadata": {},
   "outputs": [
    {
     "data": {
      "text/latex": [
       "$\\displaystyle 1.0471975511966 h \\left(4 - \\left(h - 2\\right)^{2}\\right)$"
      ],
      "text/plain": [
       "1.0471975511966*h*(4 - (h - 2)**2)"
      ]
     },
     "execution_count": 14,
     "metadata": {},
     "output_type": "execute_result"
    }
   ],
   "source": [
    "# Importación de librerías\n",
    "import sympy as sym\n",
    "import numpy as np\n",
    "import matplotlib.pyplot as plt \n",
    "\n",
    "# Definición de función\n",
    "sym.var('h',real=True)\n",
    "def V(h):\n",
    "    return (np.pi*h*(4-(h-2)**2))/3\n",
    "V(h)"
   ]
  },
  {
   "cell_type": "code",
   "execution_count": 15,
   "id": "b6962b3e",
   "metadata": {},
   "outputs": [
    {
     "data": {
      "text/latex": [
       "$\\displaystyle 1.0471975511966 h \\left(4 - 2 h\\right) - 1.0471975511966 \\left(h - 2\\right)^{2} + 4.18879020478639$"
      ],
      "text/plain": [
       "1.0471975511966*h*(4 - 2*h) - 1.0471975511966*(h - 2)**2 + 4.18879020478639"
      ]
     },
     "execution_count": 15,
     "metadata": {},
     "output_type": "execute_result"
    }
   ],
   "source": [
    "# Derivada\n",
    "dV=sym.diff(V(h),h)\n",
    "dV"
   ]
  },
  {
   "cell_type": "code",
   "execution_count": 16,
   "id": "9d9f3cfc",
   "metadata": {},
   "outputs": [
    {
     "data": {
      "text/plain": [
       "[1.19366207318921e-15, 2.66666666666667]"
      ]
     },
     "execution_count": 16,
     "metadata": {},
     "output_type": "execute_result"
    }
   ],
   "source": [
    "# Puntos críticos\n",
    "c=sym.solve(dV,h) # Valor de la altura 'h'\n",
    "c"
   ]
  },
  {
   "cell_type": "code",
   "execution_count": 17,
   "id": "8d10ecf5",
   "metadata": {},
   "outputs": [
    {
     "data": {
      "image/png": "[encoded data removed]",
      "text/plain": [
       "<Figure size 432x288 with 1 Axes>"
      ]
     },
     "metadata": {
      "needs_background": "light"
     },
     "output_type": "display_data"
    }
   ],
   "source": [
    "# Graficar\n",
    "xnum=np.linspace(0,8,100)\n",
    "ynum=V(xnum)\n",
    "plt.plot(xnum,ynum)\n",
    "plt.plot(c[1],V(c[1]),'*r',ms=15)\n",
    "plt.grid()"
   ]
  },
  {
   "cell_type": "markdown",
   "id": "c9c15b12",
   "metadata": {},
   "source": [
    "El valor de la altura '$h$' que amximiza el volumen del cono inscrito en una esfera de radio $r=2$ es de $2.667$ aproximadamente."
   ]
  },
  {
   "cell_type": "markdown",
   "id": "b34a9ccb",
   "metadata": {},
   "source": [
    "**3.**"
   ]
  },
  {
   "cell_type": "code",
   "execution_count": 18,
   "id": "a2702896",
   "metadata": {},
   "outputs": [
    {
     "data": {
      "text/latex": [
       "$\\displaystyle 9.9289841891233$"
      ],
      "text/plain": [
       "9.92898418912330"
      ]
     },
     "execution_count": 18,
     "metadata": {},
     "output_type": "execute_result"
    }
   ],
   "source": [
    "V(c[1]) # Volumen máximo del cono"
   ]
  },
  {
   "cell_type": "code",
   "execution_count": null,
   "id": "bd842a82",
   "metadata": {},
   "outputs": [],
   "source": []
  }
 ],
 "metadata": {
  "kernelspec": {
   "display_name": "Python 3 (ipykernel)",
   "language": "python",
   "name": "python3"
  },
  "language_info": {
   "codemirror_mode": {
    "name": "ipython",
    "version": 3
   },
   "file_extension": ".py",
   "mimetype": "text/x-python",
   "name": "python",
   "nbconvert_exporter": "python",
   "pygments_lexer": "ipython3",
   "version": "3.9.12"
  }
 },
 "nbformat": 4,
 "nbformat_minor": 5
}
