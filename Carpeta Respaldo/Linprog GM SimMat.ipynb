{
 "cells": [
  {
   "cell_type": "markdown",
   "id": "15c2a3c1",
   "metadata": {},
   "source": [
    "# Segundo punto. Programación lineal\n",
    "\n",
    "**Tubos** (3.33 puntos). Una compañia de aceros produce dos tamaños de tubos: A, B que son vendidos, respectivamente en 10u.m. y 9u.m. por metro. Para fabricar cada metro del tubo A se requieren 0.5 minutos de tiempo de procesamiento sobre un tipo particular de maquina de modelado y cada metro del tubo B requiere 0.6 minutos. Después de la producción, cada metro de tubo, sin importar el tipo requiere 1 onza de material de soldar. El costo total se estima en 3u.m. y 4u.m. por metro de los tubos respectivamente. Para la siguiente semana, la compañía ha recibido pedidos excepcionalmente grandes que totalizan 2000 metros del tubo A y 5000 metros del tubo B. como solo se dispone de 30 horas de tiempo de maquina esta semana y solo se tienen en inventario 3500 onzas de material de soldar, el departamento de producción no podrá satisfacer esta demanda. Como no se espera que continúe esta demanda tan alta, la gerencia esta considerando la compra de algunos de estos tubos a proveedores de Japón a un costo de entrega de 6u.m. por metro del tubo A y 7u.m. por metro del tubo B.\n",
    "\n",
    "Se desea conocer la cantidad de producción de cada tipo de tubo y la cantidad de compra a Japón para satisfacer la demanda y **maximizar** las ganancias de la compañía (esto es, precio de venta menos costos). La siguiente tabla presenta la información correspondiente.\n",
    "\n",
    "<table>\n",
    "  <tr>\n",
    "      <th>Tubo</th>\n",
    "      <th>Precio de venta</th>\n",
    "      <th>Demanda</th>\n",
    "      <th>Tiempo de máquina</th>\n",
    "      <th>Material para soldar</th>\n",
    "      <th>Costo de producción</th>\n",
    "      <th>Costo de compra</th>\n",
    "  </tr>\n",
    "  <tr>\n",
    "      <th>Tipo A</th>\n",
    "      <td>10</td>\n",
    "      <td>2000</td>\n",
    "      <td>0.5 min</td>\n",
    "      <td>1 oz/m</td>\n",
    "      <td>3</td>\n",
    "      <td>6</td>\n",
    "  </tr>\n",
    "  <tr style=\"border-bottom: 1px solid #000;\">\n",
    "      <th>Tipo B</th>\n",
    "      <td>9</td>\n",
    "      <td>5000</td>\n",
    "      <td>0.6 min</td>\n",
    "      <td>1 oz/m</td>\n",
    "      <td>4</td>\n",
    "      <td>7</td>\n",
    "  </tr>\n",
    "  <tr>\n",
    "      <td>Disponibilidad</td>\n",
    "      <td></td>\n",
    "      <td></td>\n",
    "      <td>30 horas</td>\n",
    "      <td>3500 oz</td>\n",
    "      <td></td>\n",
    "      <td></td>\n",
    "  </tr>\n",
    "</table>\n",
    "\n",
    "1. Escriba la función a **minimizar** junto con las restricciones, explicando detalladamente cada paso (usando fórmulas en $\\LaTeX$, en celdas Markdown). Además escriba el problema en la forma \\begin{equation}\n",
    "\\begin{array}{ll}\n",
    "\\min_{\\boldsymbol{x}} & \\boldsymbol{c}^T\\boldsymbol{x} \\\\\n",
    "\\text{s. a. }        & \\boldsymbol{A}_{eq}\\boldsymbol{x}=\\boldsymbol{b}_{eq} \\\\\n",
    "                     & \\boldsymbol{A}\\boldsymbol{x}\\leq\\boldsymbol{b},\n",
    "\\end{array}\\qquad\\text{(2.3 puntos)}\n",
    "\\end{equation}\n",
    "2. Resuelva el problema utilizando la función `linprog`. ¿Cuántos tubos de cada tipo se deben producir?, ¿Cuántos se deben comprar?, ¿Cuál es la ganancia? (1 punto)"
   ]
  },
  {
   "cell_type": "markdown",
   "id": "0aa99949",
   "metadata": {},
   "source": [
    "Estas son las variables que usamos para representar los datos:\n",
    "\n",
    "\n",
    "$x_1$: Metros de tubo A (Fabricados)\n",
    "\n",
    "$x_2$: Metros de tubo B (Fabricados)\n",
    "\n",
    "$x_3: $ Metros de tubo A (Comprados)\n",
    "\n",
    "$x_4$: Metros de tubo B (Comprados)\n",
    "\n",
    "Y nuestra ecuación a minimizar seria la siguiente:\n",
    "\n",
    "$$\n",
    "- 7x_1 - 5x_2 - 4x_3 - 2x_4\n",
    "$$\n",
    "\n",
    "Y estas son las restrcciones que encontramos en nuestro problema:\n",
    "\n",
    "Material para soldar $x_1 + x_2 \\leq 3500$\n",
    "\n",
    "Tiempo en máquina $0.5x_1 + 0.6x_2 \\leq 1800$\n",
    "\n",
    "Total de tubo A $x_1 + x_3 = 2000$\n",
    "\n",
    "Total de tubo B $x_2 + x_4 = 5000$\n"
   ]
  },
  {
   "cell_type": "code",
   "execution_count": 2,
   "id": "23b9e71f",
   "metadata": {},
   "outputs": [],
   "source": [
    "import numpy as np\n",
    "import scipy.optimize as opt"
   ]
  },
  {
   "cell_type": "code",
   "execution_count": 3,
   "id": "3390c501",
   "metadata": {},
   "outputs": [],
   "source": [
    "c = np.array([-7, -5, -4, -2])\n",
    "A = np.array([[0.5,0.6,0,0],\n",
    "             [1,1,0,0]])   \n",
    "b = np.array([1800,3500])\n",
    "Aeq = np.array([[1,0,1,0],\n",
    "               [0,1,0,1]])\n",
    "beq = ([2000,5000])"
   ]
  },
  {
   "cell_type": "code",
   "execution_count": 6,
   "id": "c63235d6",
   "metadata": {},
   "outputs": [
    {
     "data": {
      "text/plain": [
       "     con: array([0., 0.])\n",
       "     fun: -28000.0\n",
       " message: 'Optimization terminated successfully.'\n",
       "     nit: 5\n",
       "   slack: array([  0.        , 166.66666667])\n",
       "  status: 0\n",
       " success: True\n",
       "       x: array([2000.        , 1333.33333333,    0.        , 3666.66666667])"
      ]
     },
     "execution_count": 6,
     "metadata": {},
     "output_type": "execute_result"
    }
   ],
   "source": [
    "opt.linprog(c,A,b,Aeq,beq, method= 'simplex')"
   ]
  },
  {
   "cell_type": "markdown",
   "id": "4678c55a",
   "metadata": {},
   "source": [
    "Gracias a los resultados que obtuvimos sabemos que:\n",
    "\n",
    "Se deberian producir $2000m$ de tubo A\n",
    "\n",
    "\n",
    "Junto con $1333.33333m$ de tubo B\n",
    "\n",
    "\n",
    "Y de igual manera se deberia comprar $3666.66667m$ de tubo B\n",
    "\n",
    "Para contar con una ganancia máxima de $28000u.m$ \n"
   ]
  },
  {
   "cell_type": "code",
   "execution_count": null,
   "id": "3a3bb09b",
   "metadata": {},
   "outputs": [],
   "source": []
  }
 ],
 "metadata": {
  "kernelspec": {
   "display_name": "Python 3 (ipykernel)",
   "language": "python",
   "name": "python3"
  },
  "language_info": {
   "codemirror_mode": {
    "name": "ipython",
    "version": 3
   },
   "file_extension": ".py",
   "mimetype": "text/x-python",
   "name": "python",
   "nbconvert_exporter": "python",
   "pygments_lexer": "ipython3",
   "version": "3.9.12"
  }
 },
 "nbformat": 4,
 "nbformat_minor": 5
}
