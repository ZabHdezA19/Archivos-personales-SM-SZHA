{
 "cells": [
  {
   "cell_type": "code",
   "execution_count": 1,
   "metadata": {},
   "outputs": [],
   "source": [
    "import matplotlib.pyplot as plt\n",
    "from mpl_toolkits.mplot3d import Axes3D\n",
    "import numpy as np\n",
    "import pandas as pd"
   ]
  },
  {
   "cell_type": "markdown",
   "metadata": {},
   "source": [
    "**1.** Resuelva la siguiente integral definida con el primer método de integración por Montecarlo usando 100, 1000, 10000, 100000, 1000000 y 10000000 puntos. Compárelo con su valor real=1.\n",
    "$$\n",
    "\\int_1^e\\frac{1}{x}dx\n",
    "$$"
   ]
  },
  {
   "cell_type": "markdown",
   "metadata": {},
   "source": [
    "**Solución**"
   ]
  },
  {
   "cell_type": "code",
   "execution_count": 7,
   "metadata": {},
   "outputs": [],
   "source": [
    "def f(x):\n",
    "    return 1/x"
   ]
  },
  {
   "cell_type": "code",
   "execution_count": 8,
   "metadata": {},
   "outputs": [],
   "source": [
    "def montecarlo1(f,a,b,N):\n",
    "    u=np.random.uniform(a,b,N) \n",
    "    y=f(u) \n",
    "    return np.mean(y)*(b-a) "
   ]
  },
  {
   "cell_type": "code",
   "execution_count": 9,
   "metadata": {},
   "outputs": [
    {
     "data": {
      "text/plain": [
       "array([     100,     1000,    10000,   100000,  1000000, 10000000])"
      ]
     },
     "execution_count": 9,
     "metadata": {},
     "output_type": "execute_result"
    }
   ],
   "source": [
    "N=np.logspace(2,7,6).astype('int')\n",
    "N"
   ]
  },
  {
   "cell_type": "code",
   "execution_count": 10,
   "metadata": {},
   "outputs": [],
   "source": [
    "b=np.exp(1)"
   ]
  },
  {
   "cell_type": "code",
   "execution_count": 53,
   "metadata": {},
   "outputs": [
    {
     "data": {
      "text/html": [
       "<div>\n",
       "<style scoped>\n",
       "    .dataframe tbody tr th:only-of-type {\n",
       "        vertical-align: middle;\n",
       "    }\n",
       "\n",
       "    .dataframe tbody tr th {\n",
       "        vertical-align: top;\n",
       "    }\n",
       "\n",
       "    .dataframe thead th {\n",
       "        text-align: right;\n",
       "    }\n",
       "</style>\n",
       "<table border=\"1\" class=\"dataframe\">\n",
       "  <thead>\n",
       "    <tr style=\"text-align: right;\">\n",
       "      <th></th>\n",
       "      <th>Integral</th>\n",
       "      <th>Error abs</th>\n",
       "      <th>Error rel</th>\n",
       "    </tr>\n",
       "  </thead>\n",
       "  <tbody>\n",
       "    <tr>\n",
       "      <th>100</th>\n",
       "      <td>0.977109</td>\n",
       "      <td>0.022891</td>\n",
       "      <td>0.100000</td>\n",
       "    </tr>\n",
       "    <tr>\n",
       "      <th>1000</th>\n",
       "      <td>0.997021</td>\n",
       "      <td>0.002979</td>\n",
       "      <td>0.031623</td>\n",
       "    </tr>\n",
       "    <tr>\n",
       "      <th>10000</th>\n",
       "      <td>1.002214</td>\n",
       "      <td>0.002214</td>\n",
       "      <td>0.010000</td>\n",
       "    </tr>\n",
       "    <tr>\n",
       "      <th>100000</th>\n",
       "      <td>1.000332</td>\n",
       "      <td>0.000332</td>\n",
       "      <td>0.003162</td>\n",
       "    </tr>\n",
       "    <tr>\n",
       "      <th>1000000</th>\n",
       "      <td>0.999857</td>\n",
       "      <td>0.000143</td>\n",
       "      <td>0.001000</td>\n",
       "    </tr>\n",
       "    <tr>\n",
       "      <th>10000000</th>\n",
       "      <td>1.000003</td>\n",
       "      <td>0.000003</td>\n",
       "      <td>0.000316</td>\n",
       "    </tr>\n",
       "  </tbody>\n",
       "</table>\n",
       "</div>"
      ],
      "text/plain": [
       "          Integral Error abs  Error rel\n",
       "100       0.977109  0.022891   0.100000\n",
       "1000      0.997021  0.002979   0.031623\n",
       "10000     1.002214  0.002214   0.010000\n",
       "100000    1.000332  0.000332   0.003162\n",
       "1000000   0.999857  0.000143   0.001000\n",
       "10000000  1.000003  0.000003   0.000316"
      ]
     },
     "execution_count": 53,
     "metadata": {},
     "output_type": "execute_result"
    }
   ],
   "source": [
    "tabla1=pd.DataFrame(index=N,columns=['Integral'])\n",
    "for n in N:\n",
    "    tabla1.loc[n]=montecarlo1(f,1,b,n)\n",
    "tabla1['Error abs']=np.abs(tabla1['Integral']-1)\n",
    "tabla1['Error rel']=1/np.sqrt(N)\n",
    "tabla1"
   ]
  },
  {
   "cell_type": "markdown",
   "metadata": {},
   "source": [
    "**2.** Encuentre el volumen de una copa descrita como sigue:"
   ]
  },
  {
   "cell_type": "code",
   "execution_count": 12,
   "metadata": {},
   "outputs": [],
   "source": [
    "def copa(th,r,z):\n",
    "    C1 = (z>0)*(r>=0.9*z)*(r<=1.1*z)*(z<=1)\n",
    "    C2 = (z<=-1.5)*(r<0.5)*(z>=-1.6)\n",
    "    C3 = (r<0.1)*(z<=0)*(z>-1.5)\n",
    "    return C1 | C2 | C3"
   ]
  },
  {
   "cell_type": "markdown",
   "metadata": {},
   "source": [
    "Use límites para $-1.6\\leq z\\leq 1$, $0\\leq r \\leq 2$ y $-\\pi\\leq\\theta\\leq\\pi$. Con puntos desde $10^2$ hasta $10^7$, mostrando en una tabla la acotación del error relativo a priori."
   ]
  },
  {
   "cell_type": "code",
   "execution_count": 13,
   "metadata": {},
   "outputs": [],
   "source": [
    "def copaE(th,z):\n",
    "    C1 = (z>0)*(1.1*z)*(z<=1)\n",
    "    C2 = (z<=-1.5)*(0.5)*(z>=-1.6)\n",
    "    C3 = 0.1*(z<=0)*(z>-1.5)\n",
    "    return C1+C2+C3"
   ]
  },
  {
   "cell_type": "code",
   "execution_count": 14,
   "metadata": {},
   "outputs": [
    {
     "name": "stderr",
     "output_type": "stream",
     "text": [
      "C:\\Users\\Zabdiel\\AppData\\Local\\Temp\\ipykernel_24728\\2482010057.py:10: MatplotlibDeprecationWarning: Calling gca() with keyword arguments was deprecated in Matplotlib 3.4. Starting two minor releases later, gca() will take no keyword arguments. The gca() function should only be used to get the current axes, or if no axes exist, create new axes with default keyword arguments. To create a new axes with non-default arguments, use plt.axes() or plt.subplot().\n",
      "  ax=fig.gca(projection='3d')\n"
     ]
    },
    {
     "data": {
      "text/plain": [
       "[<mpl_toolkits.mplot3d.art3d.Line3D at 0x212aec58370>]"
      ]
     },
     "execution_count": 14,
     "metadata": {},
     "output_type": "execute_result"
    },
    {
     "data": {
      "image/png": "[encoded data removed]",
      "text/plain": [
       "<Figure size 432x288 with 1 Axes>"
      ]
     },
     "metadata": {
      "needs_background": "light"
     },
     "output_type": "display_data"
    }
   ],
   "source": [
    "th=np.linspace(-np.pi*1000000,1000000*np.pi,10000)\n",
    "z=np.linspace(-1.6,1,10000)\n",
    "\n",
    "r1=copaE(th,z)\n",
    "\n",
    "x1=r1*np.cos(th)\n",
    "y1=r1*np.sin(th)\n",
    "\n",
    "fig = plt.figure()\n",
    "ax=fig.gca(projection='3d')\n",
    "plt.title('Contorno de la copa')\n",
    "ax.plot(x1,y1,z)"
   ]
  },
  {
   "cell_type": "markdown",
   "metadata": {},
   "source": [
    "**Solución**"
   ]
  },
  {
   "cell_type": "code",
   "execution_count": 15,
   "metadata": {},
   "outputs": [],
   "source": [
    "def bernoulli(th,r,z):\n",
    "    return copa(th,r,z)"
   ]
  },
  {
   "cell_type": "code",
   "execution_count": 16,
   "metadata": {},
   "outputs": [],
   "source": [
    "def montecarlo2(bernoulli,minth,maxth,minr,maxr,minz,maxz,N):\n",
    "    uth=np.random.uniform(minth,maxth,N)\n",
    "    ur=np.random.uniform(minr,maxr,N)\n",
    "    uz=np.random.uniform(minz,maxz,N)\n",
    "    B=bernoulli(uth,ur,uz)\n",
    "    Vcil=np.pi*(maxz-minz)*(maxr-minr)**2 # Volumen del cilindro\n",
    "    return Vcil*np.mean(B) # Volumen de la copa"
   ]
  },
  {
   "cell_type": "code",
   "execution_count": 17,
   "metadata": {},
   "outputs": [
    {
     "data": {
      "text/plain": [
       "array([     100,     1000,    10000,   100000,  1000000, 10000000])"
      ]
     },
     "execution_count": 17,
     "metadata": {},
     "output_type": "execute_result"
    }
   ],
   "source": [
    "N=np.logspace(2,7,6).astype('int')\n",
    "N"
   ]
  },
  {
   "cell_type": "code",
   "execution_count": 51,
   "metadata": {},
   "outputs": [
    {
     "ename": "NameError",
     "evalue": "name 'r' is not defined",
     "output_type": "error",
     "traceback": [
      "\u001b[1;31m---------------------------------------------------------------------------\u001b[0m",
      "\u001b[1;31mNameError\u001b[0m                                 Traceback (most recent call last)",
      "Input \u001b[1;32mIn [51]\u001b[0m, in \u001b[0;36m<cell line: 1>\u001b[1;34m()\u001b[0m\n\u001b[1;32m----> 1\u001b[0m B\u001b[38;5;241m=\u001b[39mbernoulli(th,\u001b[43mr\u001b[49m,z)\n\u001b[0;32m      2\u001b[0m p\u001b[38;5;241m=\u001b[39mnp\u001b[38;5;241m.\u001b[39mmean(B)\n\u001b[0;32m      3\u001b[0m Erel\u001b[38;5;241m=\u001b[39m(\u001b[38;5;241m1\u001b[39m\u001b[38;5;241m/\u001b[39mnp\u001b[38;5;241m.\u001b[39msqrt(N))\u001b[38;5;241m*\u001b[39m(np\u001b[38;5;241m.\u001b[39msqrt((\u001b[38;5;241m1\u001b[39m\u001b[38;5;241m-\u001b[39mp)\u001b[38;5;241m/\u001b[39mp))\n",
      "\u001b[1;31mNameError\u001b[0m: name 'r' is not defined"
     ]
    }
   ],
   "source": [
    "B=bernoulli(th,r,z)\n",
    "p=np.mean(B)\n",
    "Erel=(1/np.sqrt(N))*(np.sqrt((1-p)/p))"
   ]
  },
  {
   "cell_type": "code",
   "execution_count": 50,
   "metadata": {},
   "outputs": [
    {
     "data": {
      "text/html": [
       "<div>\n",
       "<style scoped>\n",
       "    .dataframe tbody tr th:only-of-type {\n",
       "        vertical-align: middle;\n",
       "    }\n",
       "\n",
       "    .dataframe tbody tr th {\n",
       "        vertical-align: top;\n",
       "    }\n",
       "\n",
       "    .dataframe thead th {\n",
       "        text-align: right;\n",
       "    }\n",
       "</style>\n",
       "<table border=\"1\" class=\"dataframe\">\n",
       "  <thead>\n",
       "    <tr style=\"text-align: right;\">\n",
       "      <th></th>\n",
       "      <th>Volumen de copa</th>\n",
       "      <th>Volumen del cilindro</th>\n",
       "      <th>Error rel</th>\n",
       "    </tr>\n",
       "  </thead>\n",
       "  <tbody>\n",
       "    <tr>\n",
       "      <th>100</th>\n",
       "      <td>0.980177</td>\n",
       "      <td>32.672564</td>\n",
       "      <td>0.126495</td>\n",
       "    </tr>\n",
       "    <tr>\n",
       "      <th>1000</th>\n",
       "      <td>1.731646</td>\n",
       "      <td>32.672564</td>\n",
       "      <td>0.040001</td>\n",
       "    </tr>\n",
       "    <tr>\n",
       "      <th>10000</th>\n",
       "      <td>1.849267</td>\n",
       "      <td>32.672564</td>\n",
       "      <td>0.012650</td>\n",
       "    </tr>\n",
       "    <tr>\n",
       "      <th>100000</th>\n",
       "      <td>1.902523</td>\n",
       "      <td>32.672564</td>\n",
       "      <td>0.004000</td>\n",
       "    </tr>\n",
       "    <tr>\n",
       "      <th>1000000</th>\n",
       "      <td>1.880992</td>\n",
       "      <td>32.672564</td>\n",
       "      <td>0.001265</td>\n",
       "    </tr>\n",
       "    <tr>\n",
       "      <th>10000000</th>\n",
       "      <td>1.883756</td>\n",
       "      <td>32.672564</td>\n",
       "      <td>0.000400</td>\n",
       "    </tr>\n",
       "  </tbody>\n",
       "</table>\n",
       "</div>"
      ],
      "text/plain": [
       "         Volumen de copa Volumen del cilindro  Error rel\n",
       "100             0.980177            32.672564   0.126495\n",
       "1000            1.731646            32.672564   0.040001\n",
       "10000           1.849267            32.672564   0.012650\n",
       "100000          1.902523            32.672564   0.004000\n",
       "1000000         1.880992            32.672564   0.001265\n",
       "10000000        1.883756            32.672564   0.000400"
      ]
     },
     "execution_count": 50,
     "metadata": {},
     "output_type": "execute_result"
    }
   ],
   "source": [
    "tabla2=pd.DataFrame(index=N,columns=['Volumen de copa','Volumen del cilindro'])\n",
    "for n in N:\n",
    "    tabla2.loc[n,'Volumen de copa']=montecarlo2(bernoulli,-np.pi,np.pi,0,2,-1.6,1,n)\n",
    "    tabla2.loc[n,'Volumen del cilindro']=np.pi*2.6*2**2\n",
    "tabla2['Error rel']=Erel\n",
    "tabla2"
   ]
  },
  {
   "cell_type": "markdown",
   "metadata": {},
   "source": [
    "3. Dada la función\n",
    "$$\n",
    "\\frac{dy}{dx}=e^{-x^2+1}\\cos(13x)+3\n",
    "$$"
   ]
  },
  {
   "cell_type": "code",
   "execution_count": 5,
   "metadata": {},
   "outputs": [
    {
     "data": {
      "image/png": "[encoded data removed]",
      "text/plain": [
       "<Figure size 432x288 with 1 Axes>"
      ]
     },
     "metadata": {
      "needs_background": "light"
     },
     "output_type": "display_data"
    }
   ],
   "source": [
    "x=np.linspace(0,0.3,100)\n",
    "dy=np.exp(-x**2+1)*np.cos(13*x)+3\n",
    "plt.plot(x,dy)\n",
    "plt.ylim([-0.1,6])\n",
    "plt.grid()"
   ]
  },
  {
   "cell_type": "markdown",
   "metadata": {},
   "source": [
    "3.1 Encuentre $y(0.1)$ con el primer método de integración por Montecarlo conociendo $y(0)=1$. Use $10^7$ puntos."
   ]
  },
  {
   "cell_type": "code",
   "execution_count": null,
   "metadata": {},
   "outputs": [],
   "source": []
  },
  {
   "cell_type": "markdown",
   "metadata": {},
   "source": [
    "3.2 Encuentre de igual forma $y(0.2)$ de dos formas, una conociendo $y(0)$ y otra conociendo $y(0.1)$, finalmente compare las integrales en una tabla usando desde $10^2$ hasta $10^7$ puntos."
   ]
  },
  {
   "cell_type": "code",
   "execution_count": null,
   "metadata": {},
   "outputs": [],
   "source": []
  }
 ],
 "metadata": {
  "kernelspec": {
   "display_name": "Python 3 (ipykernel)",
   "language": "python",
   "name": "python3"
  },
  "language_info": {
   "codemirror_mode": {
    "name": "ipython",
    "version": 3
   },
   "file_extension": ".py",
   "mimetype": "text/x-python",
   "name": "python",
   "nbconvert_exporter": "python",
   "pygments_lexer": "ipython3",
   "version": "3.9.12"
  }
 },
 "nbformat": 4,
 "nbformat_minor": 2
}
