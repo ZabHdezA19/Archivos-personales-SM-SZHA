{
 "cells": [
  {
   "cell_type": "code",
   "execution_count": 2,
   "id": "c9e1f677",
   "metadata": {},
   "outputs": [],
   "source": [
    "import numpy as np\n",
    "import sympy as sym\n",
    "import matplotlib.pyplot as plt"
   ]
  },
  {
   "cell_type": "code",
   "execution_count": 3,
   "id": "0a9f9942",
   "metadata": {},
   "outputs": [],
   "source": [
    "lista_numeros=[]\n",
    "lista_numeros=np.arange(37)\n",
    "numeros_verdes=[0]\n",
    "numeros_rojos=[1,3,5,7,9,12,14,16,18,19,21,23,25,27,30,32,34,36]\n",
    "numeros_negros=[2,4,6,8,10,11,13,15,17,20,22,24,26,28,29,31,33,35]"
   ]
  },
  {
   "cell_type": "code",
   "execution_count": 4,
   "id": "424e1e10",
   "metadata": {},
   "outputs": [],
   "source": [
    "# Datos iniciales\n",
    "C0=1500   # Capital inicial\n",
    "AN=8      # Cantidad a apostar para los números\n",
    "AC=15     # Cantidad a apostar al color"
   ]
  },
  {
   "cell_type": "code",
   "execution_count": 5,
   "id": "5158d3fd",
   "metadata": {},
   "outputs": [],
   "source": [
    "# Elije el color que deseas apostar ('rojo'/'negro'):\n",
    "color_apostar = 'negro'\n",
    "\n",
    "# Elije los números que deseas apostar:\n",
    "numeros_apostar = [7,11,14,8,6,2,3,1,33,30,32,31,18,21,19]"
   ]
  },
  {
   "cell_type": "code",
   "execution_count": 6,
   "id": "caf01e04",
   "metadata": {},
   "outputs": [
    {
     "data": {
      "text/plain": [
       "15"
      ]
     },
     "execution_count": 6,
     "metadata": {},
     "output_type": "execute_result"
    }
   ],
   "source": [
    "len(numeros_apostar)"
   ]
  },
  {
   "cell_type": "code",
   "execution_count": 7,
   "id": "8e518207",
   "metadata": {},
   "outputs": [
    {
     "data": {
      "text/plain": [
       "[2, 4, 6, 8, 10, 11, 13, 15, 17, 20, 22, 24, 26, 28, 29, 31, 33, 35]"
      ]
     },
     "execution_count": 7,
     "metadata": {},
     "output_type": "execute_result"
    }
   ],
   "source": [
    "def juego_color(color_apostar):\n",
    "    c = color_apostar\n",
    "    if c == 'rojo':\n",
    "        C = numeros_rojos\n",
    "    elif c == 'negro':\n",
    "        C = numeros_negros\n",
    "    else:\n",
    "        C='Valor no válido'\n",
    "    return C\n",
    "\n",
    "juego_color(color_apostar)"
   ]
  },
  {
   "cell_type": "code",
   "execution_count": 8,
   "id": "e3e7089b",
   "metadata": {},
   "outputs": [
    {
     "data": {
      "text/plain": [
       "22"
      ]
     },
     "execution_count": 8,
     "metadata": {},
     "output_type": "execute_result"
    }
   ],
   "source": [
    "juego_color(color_apostar)[10]"
   ]
  },
  {
   "cell_type": "code",
   "execution_count": 9,
   "id": "a482f76b",
   "metadata": {},
   "outputs": [
    {
     "data": {
      "text/plain": [
       "33"
      ]
     },
     "execution_count": 9,
     "metadata": {},
     "output_type": "execute_result"
    }
   ],
   "source": [
    "def ganar():\n",
    "    N = []\n",
    "    CA = []\n",
    "    resultado=np.random.randint(0,36)\n",
    "    \n",
    "    for i in range (len(numeros_apostar)):\n",
    "        if resultado == numeros_apostar[i]:\n",
    "            N.append(1)\n",
    "        else:\n",
    "            N.append(0)\n",
    "    if 1 in N:\n",
    "        GN = \"Ganaste con el número \" + str(resultado)\n",
    "    else:\n",
    "        GN = \"Perdiste en la apuesta individual\"\n",
    "\n",
    "\n",
    "    for i in range (len(juego_color(color_apostar))):\n",
    "        if resultado == juego_color(color_apostar)[i]:\n",
    "            CA.append(1)\n",
    "        else:\n",
    "            CA.append(0)\n",
    "    if 1 in CA:\n",
    "        GC = \"Ganaste con el número \" + str(resultado) + \" de color \" +  color_apostar\n",
    "    else:\n",
    "        GC = \"Perdiste en la apuesta por color\"\n",
    "    resultado_ruleta = 'El número de la ruleta es ' + str(resultado)\n",
    "    return resultado_ruleta,GN,GC,resultado\n",
    "\n",
    "ganar()[3]"
   ]
  },
  {
   "cell_type": "code",
   "execution_count": 14,
   "id": "c18f341c",
   "metadata": {},
   "outputs": [
    {
     "data": {
      "text/plain": [
       "True"
      ]
     },
     "execution_count": 14,
     "metadata": {},
     "output_type": "execute_result"
    }
   ],
   "source": [
    "c1 = [0,0,0,0,1,0,0,0,0,0]\n",
    "1 in c1"
   ]
  },
  {
   "cell_type": "code",
   "execution_count": 82,
   "id": "1ed1f47e",
   "metadata": {},
   "outputs": [
    {
     "data": {
      "text/plain": [
       "[1500, 1365, 1230, 1095, 960, 825, 690, 555, 708, 573, 438, 303, 168, 33]"
      ]
     },
     "execution_count": 82,
     "metadata": {},
     "output_type": "execute_result"
    }
   ],
   "source": [
    "def apostador(C0,AN,AC):\n",
    "    C=[C0] \n",
    "    while C[-1] > 100:\n",
    "        if ganar()[1] == \"Ganaste con el número \" + str(ganar()[3]) and ganar()[2] == \"Ganaste con el número \" + str(ganar()[3]) + \" de color \" +  color_apostar:\n",
    "            C.append(C[-1] + (35*AN) - ((len(numeros_apostar)-1)*AN) + (AC))\n",
    "        elif ganar()[1] == \"Ganaste con el número \" + str(ganar()[3]) and ganar()[2] != \"Ganaste con el número \" + str(ganar()[3]) + \" de color \" +  color_apostar:\n",
    "            C.append(C[-1] + (35*AN) - ((len(numeros_apostar)-1)*AN) - (AC))\n",
    "        elif ganar()[1] != \"Ganaste con el número \" + str(ganar()[3]) and ganar()[2] == \"Ganaste con el número \" + str(ganar()[3]) + \" de color \" +  color_apostar:\n",
    "            C.append(C[-1] - (len(numeros_apostar)*AN) + (AC))\n",
    "        elif ganar()[1] != \"Ganaste con el número \" + str(ganar()[3]) and ganar()[2] != \"Ganaste con el número \" + str(ganar()[3]) + \" de color \" +  color_apostar:\n",
    "            C.append(C[-1] - (len(numeros_apostar)*AN) - (AC))\n",
    "    return C\n",
    "\n",
    "apostador(C0,AN,AC)"
   ]
  },
  {
   "cell_type": "markdown",
   "id": "ab70a91c",
   "metadata": {},
   "source": [
    "''' python '''\n",
    "def apostador_2(C0,AN,AC):\n",
    "    C=[C0] \n",
    "    while C[-1] > C0/2:\n",
    "        \n",
    "        if 1 in ganar()[3] and 1 in ganar()[4]:\n",
    "            C.append(C[-1] + (35*AN) - ((len(numeros_apostar)-1)*AN) + (AC))\n",
    "            \n",
    "        elif 1 in ganar()[3] and 1 not in ganar()[4]:\n",
    "            C.append(C[-1] + (35*AN) - ((len(numeros_apostar)-1)*AN) - (AC))\n",
    "            \n",
    "        elif 1 not in ganar()[3] and 1 in ganar()[4]:\n",
    "            C.append(C[-1] - (len(numeros_apostar)*AN) + (AC))\n",
    "            \n",
    "        elif 1 not in ganar()[3] and 1 not in ganar()[4]:\n",
    "            C.append(C[-1] - (len(numeros_apostar)*AN) - (AC))\n",
    "            \n",
    "    return C\n",
    "\n",
    "apostador_2(C0,AN,AC)\n",
    "'''"
   ]
  },
  {
   "cell_type": "code",
   "execution_count": 261,
   "id": "3882a046",
   "metadata": {},
   "outputs": [
    {
     "data": {
      "image/png": "[encoded data removed]",
      "text/plain": [
       "<Figure size 432x288 with 1 Axes>"
      ]
     },
     "metadata": {
      "needs_background": "light"
     },
     "output_type": "display_data"
    }
   ],
   "source": [
    "n = 10**2\n",
    "for j in range (n):\n",
    "    C = apostador(C0,AN,AC)\n",
    "    plt.plot(C)\n",
    "plt.grid()"
   ]
  },
  {
   "cell_type": "code",
   "execution_count": 211,
   "id": "e39753a2",
   "metadata": {},
   "outputs": [
    {
     "data": {
      "text/plain": [
       "12"
      ]
     },
     "execution_count": 211,
     "metadata": {},
     "output_type": "execute_result"
    }
   ],
   "source": [
    "def apostadorM(C0,AN,AC):\n",
    "    C=C0 \n",
    "    contador = 0\n",
    "    while C > 100:\n",
    "        contador = contador + 1\n",
    "        if ganar()[1] == \"Ganaste con el número \" + str(ganar()[3]) and ganar()[2] == \"Ganaste con el número \" + str(ganar()[3]) + \" de color \" +  color_apostar:\n",
    "            C = (C + (35*AN) - ((len(numeros_apostar)-1)*AN) + (AC))\n",
    "        elif ganar()[1] == \"Ganaste con el número \" + str(ganar()[3]) and ganar()[2] != \"Ganaste con el número \" + str(ganar()[3]) + \" de color \" +  color_apostar:\n",
    "            C = (C + (35*AN) - ((len(numeros_apostar)-1)*AN) - (AC))\n",
    "        elif ganar()[1] != \"Ganaste con el número \" + str(ganar()[3]) and ganar()[2] == \"Ganaste con el número \" + str(ganar()[3]) + \" de color \" +  color_apostar:\n",
    "            C = (C - (len(numeros_apostar)*AN) + (AC))\n",
    "        elif ganar()[1] != \"Ganaste con el número \" + str(ganar()[3]) and ganar()[2] != \"Ganaste con el número \" + str(ganar()[3]) + \" de color \" +  color_apostar:\n",
    "            C = (C - (len(numeros_apostar)*AN) - (AC))\n",
    "    return contador\n",
    "\n",
    "apostadorM(C0,AN,AC)"
   ]
  },
  {
   "cell_type": "code",
   "execution_count": 223,
   "id": "1c44e242",
   "metadata": {},
   "outputs": [
    {
     "data": {
      "image/png": "[encoded data removed]",
      "text/plain": [
       "<Figure size 432x288 with 1 Axes>"
      ]
     },
     "metadata": {
      "needs_background": "light"
     },
     "output_type": "display_data"
    }
   ],
   "source": [
    "Apostadores = []\n",
    "n = 10**3\n",
    "for j in range(n):\n",
    "    Apostadores.append(apostadorM(C0,AN,AC))\n",
    "plt.hist(Apostadores)\n",
    "plt.grid()"
   ]
  },
  {
   "cell_type": "code",
   "execution_count": 224,
   "id": "db248661",
   "metadata": {},
   "outputs": [
    {
     "data": {
      "text/plain": [
       "11.52"
      ]
     },
     "execution_count": 224,
     "metadata": {},
     "output_type": "execute_result"
    }
   ],
   "source": [
    "np.mean(Apostadores)"
   ]
  },
  {
   "cell_type": "code",
   "execution_count": null,
   "id": "652ce5c8",
   "metadata": {},
   "outputs": [],
   "source": []
  }
 ],
 "metadata": {
  "kernelspec": {
   "display_name": "Python 3 (ipykernel)",
   "language": "python",
   "name": "python3"
  },
  "language_info": {
   "codemirror_mode": {
    "name": "ipython",
    "version": 3
   },
   "file_extension": ".py",
   "mimetype": "text/x-python",
   "name": "python",
   "nbconvert_exporter": "python",
   "pygments_lexer": "ipython3",
   "version": "3.9.12"
  }
 },
 "nbformat": 4,
 "nbformat_minor": 5
}
