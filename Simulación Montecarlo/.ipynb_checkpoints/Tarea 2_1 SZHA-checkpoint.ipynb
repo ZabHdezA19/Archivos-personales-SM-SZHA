{
 "cells": [
  {
   "cell_type": "markdown",
   "metadata": {},
   "source": [
    "# Tarea - Caminata aleatoria y simulación montecarlo"
   ]
  },
  {
   "cell_type": "markdown",
   "metadata": {},
   "source": [
    "#### 1. Simulación del movimiento browniano\n",
    "\n",
    "El movimiento browniano es el movimiento aleatorio que se observa en las partículas que se hallan en un medio fluido, como resultado de choques contra las moléculas de dicho fluido [(referencia)].\n",
    "\n",
    "[(referencia)]: https://es.wikipedia.org/wiki/Movimiento_browniano\n",
    "\n",
    "Para simular el movimiento, en lugar de usar las ecuaciones integro-diferenciales que describe Einstein, use una caminta aleatoria para los tres ejes $x$, $y$, $z$ de la siguiente forma\n",
    "$$\n",
    "W_i=W_{i-1}+X_i\\sqrt{\\Delta t}\n",
    "$$\n",
    "donde, $\\Delta t$ es un intervalo de tiempo y \n",
    "$$\n",
    "X_i=\\left\\{\\begin{array}{l}\n",
    "1\\\\\n",
    "-1\n",
    "\\end{array}\\right.,\n",
    "$$\n",
    "se escoge de forma aleatoria con la misma probabilidad.\n",
    "\n",
    "Simule $10$ segundos con un $\\Delta t=0.001$ y represéntelo en un gráfico 3D (Puede ver el archivo de Ejemplo 3D)."
   ]
  },
  {
   "cell_type": "code",
   "execution_count": null,
   "metadata": {},
   "outputs": [],
   "source": [
    "import random\n",
    "import numpy as np\n",
    "import matplotlib.pyplot as plt\n",
    "from mpl_toolkits.mplot3d import Axes3D\n",
    "%matplotlib inline"
   ]
  },
  {
   "cell_type": "code",
   "execution_count": null,
   "metadata": {},
   "outputs": [],
   "source": [
    "t = 10\n",
    "dt = 0.001"
   ]
  },
  {
   "cell_type": "code",
   "execution_count": null,
   "metadata": {},
   "outputs": [],
   "source": [
    "t/dt"
   ]
  },
  {
   "cell_type": "code",
   "execution_count": null,
   "metadata": {},
   "outputs": [],
   "source": [
    "Xi = [-1,1]\n",
    "Yi = [-1,1]\n",
    "Zi = [-1,1]"
   ]
  },
  {
   "cell_type": "code",
   "execution_count": null,
   "metadata": {},
   "outputs": [],
   "source": [
    "Wx = [0]\n",
    "Wy = [0]\n",
    "Wz = [0]"
   ]
  },
  {
   "cell_type": "code",
   "execution_count": null,
   "metadata": {},
   "outputs": [],
   "source": [
    "for i in range(10000):\n",
    "    Wx.append(Wx[-1] + (np.random.choice(Xi)* np.sqrt(dt)))\n",
    "    Wy.append(Wy[-1] + (np.random.choice(Yi)* np.sqrt(dt)))\n",
    "    Wz.append(Wz[-1] + (np.random.choice(Zi)* np.sqrt(dt)))\n",
    "plt.plot(Wx)\n",
    "plt.plot(Wy)\n",
    "plt.plot(Wz)\n",
    "plt.grid()"
   ]
  },
  {
   "cell_type": "code",
   "execution_count": null,
   "metadata": {},
   "outputs": [],
   "source": [
    "# Inizializando la figura\n",
    "fig = plt.figure()\n",
    "ax = fig.add_subplot(111, projection='3d')\n",
    "\n",
    "ax.plot(Wx,Wy,Wz)"
   ]
  },
  {
   "cell_type": "markdown",
   "metadata": {},
   "source": [
    "---"
   ]
  },
  {
   "cell_type": "markdown",
   "metadata": {},
   "source": [
    "#### 2. Apuesta arriesgada\n",
    "\n",
    "Un jugador, con 20 pesos de capital inicial, decide apostar a un volado (con una moneda perfectamente nivelada) la mitad de su capital si éste es mayor o igual a 6 pesos, de lo contrario, solo 2. Esto es, el capital $C_i$ en cada volado $V_i$ se describe como\n",
    "$$\n",
    "C_{i+1}=C_i+V_iA_i\n",
    "$$\n",
    "donde la apuesta es \n",
    "$$\n",
    "A_i=\\left\\{\\begin{array}{l}\n",
    "C_i/2,\\quad \\mbox{si }C_i\\geq 6\\\\\n",
    "2,\\quad \\mbox{de lo contrario.}\n",
    "\\end{array}\\right.\n",
    "$$\n",
    "\n",
    "1. Grafique la evolución del capital hasta quedar en cero.\n",
    "2. Determine el número de volados promedio para quedar en quiebra usando la simulación montecarlo para 10,000 apostadores.\n",
    "3. Muestre un histograma del número de volados."
   ]
  },
  {
   "cell_type": "code",
   "execution_count": null,
   "metadata": {},
   "outputs": [],
   "source": [
    "L = [-1,1]\n",
    "def volado():\n",
    "    e = np.random.choice(L)\n",
    "    r = np.random.choice(L)\n",
    "    if e == r:\n",
    "        return 1\n",
    "    else:\n",
    "        return -1\n",
    "volado()"
   ]
  },
  {
   "cell_type": "code",
   "execution_count": 50,
   "metadata": {},
   "outputs": [],
   "source": [
    "def apuesta():\n",
    "    C = [20]\n",
    "    while C[-1] > 0:\n",
    "        if C[-1] >= 6:\n",
    "            if volado() == 1:\n",
    "                C.append(C[-1] + (C[-1]/2))\n",
    "            else:\n",
    "                C.append(C[-1] - (C[-1]/2))\n",
    "        else:\n",
    "            if volado() == 1:\n",
    "                C.append(C[-1] + 2)\n",
    "            else:\n",
    "                C.append(C[-1] - 2)\n",
    "    return C"
   ]
  },
  {
   "cell_type": "code",
   "execution_count": null,
   "metadata": {},
   "outputs": [],
   "source": [
    "n = 10\n",
    "for j in range(n):\n",
    "    C = apuesta()\n",
    "    plt.plot(C)\n",
    "plt.grid()"
   ]
  },
  {
   "cell_type": "code",
   "execution_count": 54,
   "metadata": {},
   "outputs": [],
   "source": [
    "def apuestaM():\n",
    "    C = 20\n",
    "    Contador = 0\n",
    "    while C > 0:\n",
    "        Contador = Contador + 1\n",
    "        if C >= 6:\n",
    "            if volado() == 1:\n",
    "                C = C + C/2\n",
    "            else:\n",
    "                C = C-1 - C/2\n",
    "        else:\n",
    "            if volado() == 1:\n",
    "                C = C + 2\n",
    "            else:\n",
    "                C = C - 2\n",
    "    return Contador"
   ]
  },
  {
   "cell_type": "code",
   "execution_count": 109,
   "metadata": {},
   "outputs": [
    {
     "data": {
      "text/plain": [
       "34"
      ]
     },
     "execution_count": 109,
     "metadata": {},
     "output_type": "execute_result"
    }
   ],
   "source": [
    "apuestaM()"
   ]
  },
  {
   "cell_type": "code",
   "execution_count": 173,
   "metadata": {},
   "outputs": [
    {
     "data": {
      "image/png": "[encoded data removed]",
      "text/plain": [
       "<Figure size 432x288 with 1 Axes>"
      ]
     },
     "metadata": {
      "needs_background": "light"
     },
     "output_type": "display_data"
    }
   ],
   "source": [
    "Apostadores = []\n",
    "n = 10**4\n",
    "for j in range(n):\n",
    "    Apostadores.append(apuestaM())\n",
    "plt.hist(Apostadores)\n",
    "plt.grid()"
   ]
  },
  {
   "cell_type": "code",
   "execution_count": 117,
   "metadata": {},
   "outputs": [
    {
     "data": {
      "text/plain": [
       "21.0673"
      ]
     },
     "execution_count": 117,
     "metadata": {},
     "output_type": "execute_result"
    }
   ],
   "source": [
    "np.mean(Apostadores)"
   ]
  }
 ],
 "metadata": {
  "kernelspec": {
   "display_name": "Python 3 (ipykernel)",
   "language": "python",
   "name": "python3"
  },
  "language_info": {
   "codemirror_mode": {
    "name": "ipython",
    "version": 3
   },
   "file_extension": ".py",
   "mimetype": "text/x-python",
   "name": "python",
   "nbconvert_exporter": "python",
   "pygments_lexer": "ipython3",
   "version": "3.9.12"
  }
 },
 "nbformat": 4,
 "nbformat_minor": 2
}
