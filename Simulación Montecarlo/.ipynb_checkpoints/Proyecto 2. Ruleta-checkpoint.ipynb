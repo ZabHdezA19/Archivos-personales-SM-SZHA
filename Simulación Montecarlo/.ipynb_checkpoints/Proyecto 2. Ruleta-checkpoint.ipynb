{
 "cells": [
  {
   "cell_type": "code",
   "execution_count": 1,
   "id": "c9e1f677",
   "metadata": {},
   "outputs": [],
   "source": [
    "import numpy as np\n",
    "import sympy as sym\n",
    "import matplotlib.pyplot as plt\n",
    "import pandas as pd\n",
    "import time"
   ]
  },
  {
   "cell_type": "code",
   "execution_count": 2,
   "id": "0a9f9942",
   "metadata": {},
   "outputs": [],
   "source": [
    "lista_numeros=[]\n",
    "lista_numeros=np.arange(37)\n",
    "numeros_verdes=[0]\n",
    "numeros_rojos=[1,3,5,7,9,12,14,16,18,19,21,23,25,27,30,32,34,36]\n",
    "numeros_negros=[2,4,6,8,10,11,13,15,17,20,22,24,26,28,29,31,33,35]"
   ]
  },
  {
   "cell_type": "code",
   "execution_count": 3,
   "id": "424e1e10",
   "metadata": {},
   "outputs": [],
   "source": [
    "# Datos iniciales\n",
    "C0=1000\n",
    "A=10"
   ]
  },
  {
   "cell_type": "code",
   "execution_count": 52,
   "id": "5158d3fd",
   "metadata": {},
   "outputs": [],
   "source": [
    "# Elije el color que deseas apostar ('rojo'/'negro'):\n",
    "color_apostar = 'rojo'\n",
    "\n",
    "# Elije los números que deseas apostar:\n",
    "numeros_apostar = [1,2,3,4,5,6,7,8,9,10,17,33]"
   ]
  },
  {
   "cell_type": "code",
   "execution_count": 82,
   "id": "8e518207",
   "metadata": {},
   "outputs": [
    {
     "data": {
      "text/plain": [
       "[1, 3, 5, 7, 9, 12, 14, 16, 18, 19, 21, 23, 25, 27, 30, 32, 34, 36]"
      ]
     },
     "execution_count": 82,
     "metadata": {},
     "output_type": "execute_result"
    }
   ],
   "source": [
    "def juego_color(color_apostar):\n",
    "    c = color_apostar\n",
    "    if c == 'rojo':\n",
    "        C = numeros_rojos\n",
    "    elif c == 'negro':\n",
    "        C = numeros_negros\n",
    "    else:\n",
    "        C='Valor no válido'\n",
    "    return C\n",
    "\n",
    "juego_color(color_apostar)"
   ]
  },
  {
   "cell_type": "code",
   "execution_count": 85,
   "id": "e3e7089b",
   "metadata": {},
   "outputs": [
    {
     "data": {
      "text/plain": [
       "21"
      ]
     },
     "execution_count": 85,
     "metadata": {},
     "output_type": "execute_result"
    }
   ],
   "source": [
    "juego_color(color_apostar)[10]"
   ]
  },
  {
   "cell_type": "code",
   "execution_count": 111,
   "id": "a482f76b",
   "metadata": {},
   "outputs": [
    {
     "data": {
      "text/plain": [
       "(1, ('Ganaste con el número 1', 'Ganaste con el número 1 de color rojo'))"
      ]
     },
     "execution_count": 111,
     "metadata": {},
     "output_type": "execute_result"
    }
   ],
   "source": [
    "resultado=np.random.randint(0,36)\n",
    "\n",
    "resultado\n",
    "\n",
    "def apuesta(resultado):\n",
    "    # Ganancia por números individuales\n",
    "    contador = 0\n",
    "    N = []\n",
    "    CA = []\n",
    "    \n",
    "    for i in range (len(numeros_apostar)):\n",
    "        if resultado == numeros_apostar[i]:\n",
    "            N.append(1)\n",
    "        else:\n",
    "            N.append(0)\n",
    "    if 1 in N:\n",
    "        GN = \"Ganaste con el número \" + str(resultado)\n",
    "    else:\n",
    "        GN = \"Perdiste en la apuesta individual\"\n",
    "        \n",
    "            \n",
    "    for i in range (len(juego_color(color_apostar))):\n",
    "        if resultado == juego_color(color_apostar)[i]:\n",
    "            CA.append(1)\n",
    "        else:\n",
    "            CA.append(0)\n",
    "    if 1 in CA:\n",
    "        GC = \"Ganaste con el número \" + str(resultado) + \" de color \" +  color_apostar\n",
    "    else:\n",
    "        GC = \"Perdiste en la apuseta por color\"\n",
    "        \n",
    "    return GN, GC\n",
    "\n",
    "resultado,apuesta(resultado)"
   ]
  },
  {
   "cell_type": "markdown",
   "id": "bf80c906",
   "metadata": {},
   "source": [
    "``` python\n",
    "def juego_numero(numeros_apostar):\n",
    "    n = numeros_apostar\n",
    "    for i in range (len(n)):\n",
    "        for j in range (len(lista_numeros)):\n",
    "            \n",
    "    return\n",
    "```"
   ]
  },
  {
   "cell_type": "code",
   "execution_count": 23,
   "id": "1ed1f47e",
   "metadata": {},
   "outputs": [
    {
     "ename": "TypeError",
     "evalue": "argument of type 'function' is not iterable",
     "output_type": "error",
     "traceback": [
      "\u001b[1;31m---------------------------------------------------------------------------\u001b[0m",
      "\u001b[1;31mTypeError\u001b[0m                                 Traceback (most recent call last)",
      "Input \u001b[1;32mIn [23]\u001b[0m, in \u001b[0;36m<cell line: 14>\u001b[1;34m()\u001b[0m\n\u001b[0;32m     11\u001b[0m         C\u001b[38;5;241m.\u001b[39mappend(C[\u001b[38;5;241m-\u001b[39m\u001b[38;5;241m1\u001b[39m]\u001b[38;5;241m-\u001b[39mA)\n\u001b[0;32m     12\u001b[0m         \u001b[38;5;28;01mreturn\u001b[39;00m C\n\u001b[1;32m---> 14\u001b[0m \u001b[43mapostador\u001b[49m\u001b[43m(\u001b[49m\u001b[43m)\u001b[49m\n",
      "Input \u001b[1;32mIn [23]\u001b[0m, in \u001b[0;36mapostador\u001b[1;34m()\u001b[0m\n\u001b[0;32m      5\u001b[0m \u001b[38;5;28;01melse\u001b[39;00m:\n\u001b[0;32m      6\u001b[0m     C\u001b[38;5;241m.\u001b[39mappend(C[\u001b[38;5;241m-\u001b[39m\u001b[38;5;241m1\u001b[39m]\u001b[38;5;241m-\u001b[39mA)\n\u001b[1;32m----> 8\u001b[0m \u001b[38;5;28;01mif\u001b[39;00m \u001b[43mnumeros\u001b[49m\u001b[43m \u001b[49m\u001b[38;5;129;43;01min\u001b[39;49;00m\u001b[43m \u001b[49m\u001b[43mnp\u001b[49m\u001b[38;5;241;43m.\u001b[39;49m\u001b[43many\u001b[49m\u001b[43m(\u001b[49m\u001b[43mcolor_apostado\u001b[49m\u001b[43m)\u001b[49m:\n\u001b[0;32m      9\u001b[0m     C\u001b[38;5;241m.\u001b[39mappend(C[\u001b[38;5;241m-\u001b[39m\u001b[38;5;241m1\u001b[39m]\u001b[38;5;241m+\u001b[39mA)       \n\u001b[0;32m     10\u001b[0m \u001b[38;5;28;01melse\u001b[39;00m:\n",
      "\u001b[1;31mTypeError\u001b[0m: argument of type 'function' is not iterable"
     ]
    }
   ],
   "source": [
    "def apostador():\n",
    "    C=[C0]   \n",
    "    if numeros == np.any(individual):\n",
    "        C.append(C[-1]+35*A)       \n",
    "    else:\n",
    "        C.append(C[-1]-A)\n",
    "        \n",
    "    if numeros in np.any(color_apostado):\n",
    "        C.append(C[-1]+A)       \n",
    "    else:\n",
    "        C.append(C[-1]-A)\n",
    "        return C\n",
    "\n",
    "apostador()"
   ]
  }
 ],
 "metadata": {
  "kernelspec": {
   "display_name": "Python 3 (ipykernel)",
   "language": "python",
   "name": "python3"
  },
  "language_info": {
   "codemirror_mode": {
    "name": "ipython",
    "version": 3
   },
   "file_extension": ".py",
   "mimetype": "text/x-python",
   "name": "python",
   "nbconvert_exporter": "python",
   "pygments_lexer": "ipython3",
   "version": "3.9.12"
  }
 },
 "nbformat": 4,
 "nbformat_minor": 5
}
