{
 "cells": [
  {
   "cell_type": "code",
   "execution_count": 1,
   "id": "c9e1f677",
   "metadata": {},
   "outputs": [],
   "source": [
    "import numpy as np\n",
    "import sympy as sym\n",
    "import matplotlib.pyplot as plt\n",
    "import pandas as pd\n",
    "import time"
   ]
  },
  {
   "cell_type": "code",
   "execution_count": 2,
   "id": "0a9f9942",
   "metadata": {},
   "outputs": [],
   "source": [
    "lista_numeros=[]\n",
    "lista_numeros=np.arange(37)\n",
    "numeros_verdes=[0]\n",
    "numeros_rojos=[1,3,5,7,9,12,14,16,18,19,21,23,25,27,30,32,34,36]\n",
    "numeros_negros=[2,4,6,8,10,11,13,15,17,20,22,24,26,28,29,31,33,35]"
   ]
  },
  {
   "cell_type": "code",
   "execution_count": 3,
   "id": "424e1e10",
   "metadata": {},
   "outputs": [],
   "source": [
    "# Datos iniciales\n",
    "C0=1000\n",
    "A=10"
   ]
  },
  {
   "cell_type": "code",
   "execution_count": 19,
   "id": "5158d3fd",
   "metadata": {},
   "outputs": [],
   "source": [
    "# Elije el color que deseas apostar ('rojo'/'negro'):\n",
    "color_apostar = 'rojo'\n",
    "\n",
    "# Elije los números que deseas apostar:\n",
    "numeros_apostar = [1,2,3,4,5,6,7,8,9,10,17,33]"
   ]
  },
  {
   "cell_type": "code",
   "execution_count": 20,
   "id": "caf01e04",
   "metadata": {},
   "outputs": [
    {
     "data": {
      "text/plain": [
       "12"
      ]
     },
     "execution_count": 20,
     "metadata": {},
     "output_type": "execute_result"
    }
   ],
   "source": [
    "len(numeros_apostar)"
   ]
  },
  {
   "cell_type": "code",
   "execution_count": 5,
   "id": "8e518207",
   "metadata": {},
   "outputs": [
    {
     "data": {
      "text/plain": [
       "[1, 3, 5, 7, 9, 12, 14, 16, 18, 19, 21, 23, 25, 27, 30, 32, 34, 36]"
      ]
     },
     "execution_count": 5,
     "metadata": {},
     "output_type": "execute_result"
    }
   ],
   "source": [
    "def juego_color(color_apostar):\n",
    "    c = color_apostar\n",
    "    if c == 'rojo':\n",
    "        C = numeros_rojos\n",
    "    elif c == 'negro':\n",
    "        C = numeros_negros\n",
    "    else:\n",
    "        C='Valor no válido'\n",
    "    return C\n",
    "\n",
    "juego_color(color_apostar)"
   ]
  },
  {
   "cell_type": "code",
   "execution_count": 6,
   "id": "e3e7089b",
   "metadata": {},
   "outputs": [
    {
     "data": {
      "text/plain": [
       "21"
      ]
     },
     "execution_count": 6,
     "metadata": {},
     "output_type": "execute_result"
    }
   ],
   "source": [
    "juego_color(color_apostar)[10]"
   ]
  },
  {
   "cell_type": "code",
   "execution_count": 28,
   "id": "a482f76b",
   "metadata": {},
   "outputs": [
    {
     "data": {
      "text/plain": [
       "('Perdiste en la apuesta individual', 'Ganaste con el número 14 de color rojo')"
      ]
     },
     "execution_count": 28,
     "metadata": {},
     "output_type": "execute_result"
    }
   ],
   "source": [
    "resultado=np.random.randint(0,36)\n",
    "\n",
    "resultado\n",
    "\n",
    "N = []\n",
    "CA = []\n",
    "\n",
    "for i in range (len(numeros_apostar)):\n",
    "    if resultado == numeros_apostar[i]:\n",
    "        N.append(1)\n",
    "    else:\n",
    "        N.append(0)\n",
    "if 1 in N:\n",
    "    GN = \"Ganaste con el número \" + str(resultado)\n",
    "else:\n",
    "    GN = \"Perdiste en la apuesta individual\"\n",
    "\n",
    "\n",
    "for i in range (len(juego_color(color_apostar))):\n",
    "    if resultado == juego_color(color_apostar)[i]:\n",
    "        CA.append(1)\n",
    "    else:\n",
    "        CA.append(0)\n",
    "if 1 in CA:\n",
    "    GC = \"Ganaste con el número \" + str(resultado) + \" de color \" +  color_apostar\n",
    "else:\n",
    "    GC = \"Perdiste en la apuseta por color\"\n",
    "\n",
    "\n",
    "\n",
    "GN, GC"
   ]
  },
  {
   "cell_type": "markdown",
   "id": "bf80c906",
   "metadata": {},
   "source": [
    "``` python\n",
    "def juego_numero(numeros_apostar):\n",
    "    n = numeros_apostar\n",
    "    for i in range (len(n)):\n",
    "        for j in range (len(lista_numeros)):\n",
    "            \n",
    "    return\n",
    "```"
   ]
  },
  {
   "cell_type": "code",
   "execution_count": 29,
   "id": "c791727d",
   "metadata": {},
   "outputs": [
    {
     "data": {
      "text/plain": [
       "890"
      ]
     },
     "execution_count": 29,
     "metadata": {},
     "output_type": "execute_result"
    }
   ],
   "source": [
    "(1000 - (len(numeros_apostar)*A) + A)"
   ]
  },
  {
   "cell_type": "code",
   "execution_count": 30,
   "id": "1ed1f47e",
   "metadata": {},
   "outputs": [
    {
     "data": {
      "text/plain": [
       "[1000, 890]"
      ]
     },
     "execution_count": 30,
     "metadata": {},
     "output_type": "execute_result"
    }
   ],
   "source": [
    "def apostador(GN,GC,C0,A, resultado):\n",
    "    C=[C0] \n",
    "    if GN == \"Ganaste con el número \" + str(resultado) and GC == \"Ganaste con el número \" + str(resultado) + \" de color \" +  color_apostar:\n",
    "        C.append(C[-1] + (35*A) - ((len(numeros_apostar)-1)*A) + (A))\n",
    "    elif GN == \"Ganaste con el número \" + str(resultado) and GC != \"Ganaste con el número \" + str(resultado) + \" de color \" +  color_apostar:\n",
    "        C.append(C[-1] + (35*A) - ((len(numeros_apostar)-1)*A) - (A))\n",
    "    elif GN != \"Ganaste con el número \" + str(resultado) and GC == \"Ganaste con el número \" + str(resultado) + \" de color \" +  color_apostar:\n",
    "        C.append(C[-1] - (len(numeros_apostar)*A) + (A))\n",
    "    elif GN != \"Ganaste con el número \" + str(resultado) and GC != \"Ganaste con el número \" + str(resultado) + \" de color \" +  color_apostar:\n",
    "        C.append(C[-1] - (len(numeros_apostar)*A) - (A))\n",
    "    return C\n",
    "\n",
    "apostador(GN,GC,C0,A, resultado)"
   ]
  }
 ],
 "metadata": {
  "kernelspec": {
   "display_name": "Python 3 (ipykernel)",
   "language": "python",
   "name": "python3"
  },
  "language_info": {
   "codemirror_mode": {
    "name": "ipython",
    "version": 3
   },
   "file_extension": ".py",
   "mimetype": "text/x-python",
   "name": "python",
   "nbconvert_exporter": "python",
   "pygments_lexer": "ipython3",
   "version": "3.9.12"
  }
 },
 "nbformat": 4,
 "nbformat_minor": 5
}
