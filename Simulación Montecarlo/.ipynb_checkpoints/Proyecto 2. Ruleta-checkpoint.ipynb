{
 "cells": [
  {
   "cell_type": "code",
   "execution_count": 331,
   "id": "c9e1f677",
   "metadata": {},
   "outputs": [],
   "source": [
    "import numpy as np\n",
    "import sympy as sym\n",
    "import matplotlib.pyplot as plt"
   ]
  },
  {
   "cell_type": "code",
   "execution_count": 332,
   "id": "0a9f9942",
   "metadata": {},
   "outputs": [],
   "source": [
    "lista_numeros=[]\n",
    "lista_numeros=np.arange(37)\n",
    "numeros_verdes=[0]\n",
    "numeros_rojos=[1,3,5,7,9,12,14,16,18,19,21,23,25,27,30,32,34,36]\n",
    "numeros_negros=[2,4,6,8,10,11,13,15,17,20,22,24,26,28,29,31,33,35]"
   ]
  },
  {
   "cell_type": "code",
   "execution_count": 367,
   "id": "424e1e10",
   "metadata": {},
   "outputs": [],
   "source": [
    "# Datos iniciales\n",
    "C0=1000\n",
    "A=8"
   ]
  },
  {
   "cell_type": "code",
   "execution_count": 368,
   "id": "5158d3fd",
   "metadata": {},
   "outputs": [],
   "source": [
    "# Elije el color que deseas apostar ('rojo'/'negro'):\n",
    "color_apostar = 'negro'\n",
    "\n",
    "# Elije los números que deseas apostar:\n",
    "numeros_apostar = [7,11,14,8,6,2,3,1,33,30,32,31,18,21,19]"
   ]
  },
  {
   "cell_type": "code",
   "execution_count": 369,
   "id": "caf01e04",
   "metadata": {},
   "outputs": [
    {
     "data": {
      "text/plain": [
       "15"
      ]
     },
     "execution_count": 369,
     "metadata": {},
     "output_type": "execute_result"
    }
   ],
   "source": [
    "len(numeros_apostar)"
   ]
  },
  {
   "cell_type": "code",
   "execution_count": 370,
   "id": "8e518207",
   "metadata": {},
   "outputs": [
    {
     "data": {
      "text/plain": [
       "[2, 4, 6, 8, 10, 11, 13, 15, 17, 20, 22, 24, 26, 28, 29, 31, 33, 35]"
      ]
     },
     "execution_count": 370,
     "metadata": {},
     "output_type": "execute_result"
    }
   ],
   "source": [
    "def juego_color(color_apostar):\n",
    "    c = color_apostar\n",
    "    if c == 'rojo':\n",
    "        C = numeros_rojos\n",
    "    elif c == 'negro':\n",
    "        C = numeros_negros\n",
    "    else:\n",
    "        C='Valor no válido'\n",
    "    return C\n",
    "\n",
    "juego_color(color_apostar)"
   ]
  },
  {
   "cell_type": "code",
   "execution_count": 371,
   "id": "e3e7089b",
   "metadata": {},
   "outputs": [
    {
     "data": {
      "text/plain": [
       "22"
      ]
     },
     "execution_count": 371,
     "metadata": {},
     "output_type": "execute_result"
    }
   ],
   "source": [
    "juego_color(color_apostar)[10]"
   ]
  },
  {
   "cell_type": "code",
   "execution_count": 372,
   "id": "a482f76b",
   "metadata": {},
   "outputs": [
    {
     "data": {
      "text/plain": [
       "('Ganaste con el número 33', 'Ganaste con el número 33 de color negro')"
      ]
     },
     "execution_count": 372,
     "metadata": {},
     "output_type": "execute_result"
    }
   ],
   "source": [
    "\n",
    "\n",
    "resultado\n",
    "def ganar():\n",
    "    N = []\n",
    "    CA = []\n",
    "    resultado=np.random.randint(0,36)\n",
    "    \n",
    "    for i in range (len(numeros_apostar)):\n",
    "        if resultado == numeros_apostar[i]:\n",
    "            N.append(1)\n",
    "        else:\n",
    "            N.append(0)\n",
    "    if 1 in N:\n",
    "        GN = \"Ganaste con el número \" + str(resultado)\n",
    "    else:\n",
    "        GN = \"Perdiste en la apuesta individual\"\n",
    "\n",
    "\n",
    "    for i in range (len(juego_color(color_apostar))):\n",
    "        if resultado == juego_color(color_apostar)[i]:\n",
    "            CA.append(1)\n",
    "        else:\n",
    "            CA.append(0)\n",
    "    if 1 in CA:\n",
    "        GC = \"Ganaste con el número \" + str(resultado) + \" de color \" +  color_apostar\n",
    "    else:\n",
    "        GC = \"Perdiste en la apuesta por color\"\n",
    "    return GN,GC\n",
    "\n",
    "ganar()\n"
   ]
  },
  {
   "cell_type": "markdown",
   "id": "bf80c906",
   "metadata": {},
   "source": [
    "``` python\n",
    "def juego_numero(numeros_apostar):\n",
    "    n = numeros_apostar\n",
    "    for i in range (len(n)):\n",
    "        for j in range (len(lista_numeros)):\n",
    "            \n",
    "    return\n",
    "```"
   ]
  },
  {
   "cell_type": "code",
   "execution_count": 373,
   "id": "1ed1f47e",
   "metadata": {},
   "outputs": [
    {
     "data": {
      "text/plain": [
       "[1000, 872, 744, 616, 488, 360, 232, 104, -24]"
      ]
     },
     "execution_count": 373,
     "metadata": {},
     "output_type": "execute_result"
    }
   ],
   "source": [
    "def apostador(C0,A):\n",
    "    C=[C0] \n",
    "    while C[-1] > 0:\n",
    "        if ganar()[0] == \"Ganaste con el número \" + str(resultado) and ganar()[1] == \"Ganaste con el número \" + str(resultado) + \" de color \" +  color_apostar:\n",
    "            C.append(C[-1] + (35*A) - ((len(numeros_apostar)-1)*A) + (A))\n",
    "        elif ganar()[0] == \"Ganaste con el número \" + str(resultado) and ganar()[1] != \"Ganaste con el número \" + str(resultado) + \" de color \" +  color_apostar:\n",
    "            C.append(C[-1] + (35*A) - ((len(numeros_apostar)-1)*A) - (A))\n",
    "        elif ganar()[0] != \"Ganaste con el número \" + str(resultado) and ganar()[1] == \"Ganaste con el número \" + str(resultado) + \" de color \" +  color_apostar:\n",
    "            C.append(C[-1] - (len(numeros_apostar)*A) + (A))\n",
    "        elif ganar()[0] != \"Ganaste con el número \" + str(resultado) and ganar()[1] != \"Ganaste con el número \" + str(resultado) + \" de color \" +  color_apostar:\n",
    "            C.append(C[-1] - (len(numeros_apostar)*A) - (A))\n",
    "    return C\n",
    "\n",
    "apostador(C0,A)"
   ]
  },
  {
   "cell_type": "code",
   "execution_count": 419,
   "id": "6bca0559",
   "metadata": {},
   "outputs": [
    {
     "data": {
      "image/png": "[encoded data removed]",
      "text/plain": [
       "<Figure size 432x288 with 1 Axes>"
      ]
     },
     "metadata": {
      "needs_background": "light"
     },
     "output_type": "display_data"
    }
   ],
   "source": [
    "n = 5\n",
    "for j in range (n):\n",
    "    C = apostador(C0,A)\n",
    "    plt.plot(C)\n",
    "plt.grid()"
   ]
  },
  {
   "cell_type": "code",
   "execution_count": 375,
   "id": "4c40fbf3",
   "metadata": {},
   "outputs": [
    {
     "data": {
      "text/plain": [
       "9"
      ]
     },
     "execution_count": 375,
     "metadata": {},
     "output_type": "execute_result"
    }
   ],
   "source": [
    "def apostadorM(C0,A):\n",
    "    C=C0 \n",
    "    contador = 0\n",
    "    while C > 0:\n",
    "        contador = contador + 1\n",
    "        if ganar()[0] == \"Ganaste con el número \" + str(resultado) and ganar()[1] == \"Ganaste con el número \" + str(resultado) + \" de color \" +  color_apostar:\n",
    "            C = (C + (35*A) - ((len(numeros_apostar)-1)*A) + (A))\n",
    "        elif ganar()[0] == \"Ganaste con el número \" + str(resultado) and ganar()[1] != \"Ganaste con el número \" + str(resultado) + \" de color \" +  color_apostar:\n",
    "            C = (C + (35*A) - ((len(numeros_apostar)-1)*A) - (A))\n",
    "        elif ganar()[0] != \"Ganaste con el número \" + str(resultado) and ganar()[1] == \"Ganaste con el número \" + str(resultado) + \" de color \" +  color_apostar:\n",
    "            C = (C - (len(numeros_apostar)*A) + (A))\n",
    "        elif ganar()[0] != \"Ganaste con el número \" + str(resultado) and ganar()[1] != \"Ganaste con el número \" + str(resultado) + \" de color \" +  color_apostar:\n",
    "            C = (C - (len(numeros_apostar)*A) - (A))\n",
    "    return contador\n",
    "\n",
    "apostadorM(C0,A)"
   ]
  },
  {
   "cell_type": "code",
   "execution_count": 376,
   "id": "264d9573",
   "metadata": {},
   "outputs": [
    {
     "data": {
      "image/png": "[encoded data removed]",
      "text/plain": [
       "<Figure size 432x288 with 1 Axes>"
      ]
     },
     "metadata": {
      "needs_background": "light"
     },
     "output_type": "display_data"
    }
   ],
   "source": [
    "Apostadores = []\n",
    "n = 10**2\n",
    "for j in range(n):\n",
    "    Apostadores.append(apostadorM(C0,A))\n",
    "plt.hist(Apostadores)\n",
    "plt.grid()"
   ]
  },
  {
   "cell_type": "code",
   "execution_count": 377,
   "id": "fb13ef5e",
   "metadata": {},
   "outputs": [
    {
     "data": {
      "text/plain": [
       "9.37"
      ]
     },
     "execution_count": 377,
     "metadata": {},
     "output_type": "execute_result"
    }
   ],
   "source": [
    "np.mean(Apostadores)"
   ]
  },
  {
   "cell_type": "code",
   "execution_count": null,
   "id": "48b0473e",
   "metadata": {},
   "outputs": [],
   "source": []
  }
 ],
 "metadata": {
  "kernelspec": {
   "display_name": "Python 3 (ipykernel)",
   "language": "python",
   "name": "python3"
  },
  "language_info": {
   "codemirror_mode": {
    "name": "ipython",
    "version": 3
   },
   "file_extension": ".py",
   "mimetype": "text/x-python",
   "name": "python",
   "nbconvert_exporter": "python",
   "pygments_lexer": "ipython3",
   "version": "3.9.12"
  }
 },
 "nbformat": 4,
 "nbformat_minor": 5
}
