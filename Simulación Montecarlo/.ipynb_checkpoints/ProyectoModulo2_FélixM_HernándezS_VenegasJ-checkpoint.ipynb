{
 "cells": [
  {
   "cell_type": "markdown",
   "id": "59e51308",
   "metadata": {},
   "source": [
    "# Simulación de una ruleta de casino básica"
   ]
  },
  {
   "cell_type": "markdown",
   "id": "898b4f4f",
   "metadata": {},
   "source": [
    "Un apostador, con un **capital fijo** $C_0$, decide apostar en una ruleta básica de casino (perfectamente nivelada) a los mismos números y el color en cada ronda hasta no tener el capital necesario para apostar en la siguiente ronda o alcanzar tu capital más un 20% del mismo.  "
   ]
  },
  {
   "cell_type": "markdown",
   "id": "a4b5d1f9",
   "metadata": {},
   "source": [
    "## Objetivos\n",
    "**Objetivo general**\n",
    " - *Analizar por medio de simulaciones el comportamiento del juego de una ruleta de casino básica que depende de la apuesta y la aleatoriedad de la ruleta.*\n",
    " \n",
    "**Objetivos específicos**\n",
    "   - *Simular el comportamiento aleatorio de la ruleta.*\n",
    "   - *Comparar el resultado de la ruleta con la apuesta dada.*\n",
    "   - *Actualizar el capital del apostador después de cada juego.*\n",
    "   - *Simular una gran cantidad de escenarios para la apuesta definida.*\n",
    "   - *Representar el número de rondas que un apostador juega antes de ya no poder continuar con la siguiente ronda.*\n",
    "   - *Calcular el promedio de rondas jugadas bajo las condiciones anteriores.*"
   ]
  },
  {
   "cell_type": "markdown",
   "id": "d414a44c",
   "metadata": {},
   "source": [
    "## Obtención del modelo"
   ]
  },
  {
   "cell_type": "code",
   "execution_count": 4,
   "id": "c9e1f677",
   "metadata": {},
   "outputs": [],
   "source": [
    "import numpy as np\n",
    "import sympy as sym\n",
    "import matplotlib.pyplot as plt"
   ]
  },
  {
   "cell_type": "markdown",
   "id": "55104da0",
   "metadata": {},
   "source": [
    "Se representan todos los números de la ruleta con sus respectivos colores:"
   ]
  },
  {
   "cell_type": "code",
   "execution_count": 17,
   "id": "0a9f9942",
   "metadata": {},
   "outputs": [],
   "source": [
    "numeros_verdes = [0]\n",
    "numeros_rojos = [1,3,5,7,9,12,14,16,18,19,21,23,25,27,30,32,34,36]\n",
    "numeros_negros = [2,4,6,8,10,11,13,15,17,20,22,24,26,28,29,31,33,35]"
   ]
  },
  {
   "cell_type": "markdown",
   "id": "74bd31ef",
   "metadata": {},
   "source": [
    "Se define el capital inicial y la cantidad a apostar en todas las rondas:"
   ]
  },
  {
   "cell_type": "code",
   "execution_count": 6,
   "id": "424e1e10",
   "metadata": {},
   "outputs": [],
   "source": [
    "# Datos iniciales\n",
    "C0 = 1500   # Capital inicial\n",
    "AN = 0      # Cantidad a apostar para los números\n",
    "AC = 200    # Cantidad a apostar al color"
   ]
  },
  {
   "cell_type": "markdown",
   "id": "a48ce37e",
   "metadata": {},
   "source": [
    "El apostador decide los números y el color a apostar"
   ]
  },
  {
   "cell_type": "code",
   "execution_count": 7,
   "id": "5158d3fd",
   "metadata": {},
   "outputs": [],
   "source": [
    "# Elije el color que deseas apostar ('rojo'/'negro'):\n",
    "color_apostar = 'negro'\n",
    "\n",
    "# Elije los números que deseas apostar:\n",
    "numeros_apostar = []"
   ]
  },
  {
   "cell_type": "markdown",
   "id": "35a33c86",
   "metadata": {},
   "source": [
    "Por medio de la función se asignan los números correspondientes al color elegido:\n"
   ]
  },
  {
   "cell_type": "code",
   "execution_count": 8,
   "id": "8e518207",
   "metadata": {},
   "outputs": [
    {
     "data": {
      "text/plain": [
       "[2, 4, 6, 8, 10, 11, 13, 15, 17, 20, 22, 24, 26, 28, 29, 31, 33, 35]"
      ]
     },
     "execution_count": 8,
     "metadata": {},
     "output_type": "execute_result"
    }
   ],
   "source": [
    "def juego_color(color_apostar):\n",
    "    c = color_apostar\n",
    "    if c == 'rojo':\n",
    "        C = numeros_rojos\n",
    "    elif c == 'negro':\n",
    "        C = numeros_negros\n",
    "    elif c == '':\n",
    "        C = 'No hubo apusta para los colores'\n",
    "    else:\n",
    "        C='Valor no válido'\n",
    "    return C\n",
    "\n",
    "juego_color(color_apostar)"
   ]
  },
  {
   "cell_type": "markdown",
   "id": "9e5ff0d8",
   "metadata": {},
   "source": [
    "La siguiente función compara el resultado de la ruleta con los números y el color apostado:"
   ]
  },
  {
   "cell_type": "code",
   "execution_count": 9,
   "id": "a482f76b",
   "metadata": {},
   "outputs": [
    {
     "data": {
      "text/plain": [
       "('El número de la ruleta es 15',\n",
       " 'No hubo apuesta para los números',\n",
       " 'Ganaste con el número 15 de color negro',\n",
       " 15)"
      ]
     },
     "execution_count": 9,
     "metadata": {},
     "output_type": "execute_result"
    }
   ],
   "source": [
    "def ganar():\n",
    "    N = []\n",
    "    CA = []\n",
    "    resultado=np.random.randint(0,36)\n",
    "        \n",
    "    if numeros_apostar != [] and color_apostar != '':\n",
    "        for i in range (len(numeros_apostar)):\n",
    "            if resultado == numeros_apostar[i]:\n",
    "                N.append(1)\n",
    "            else:\n",
    "                N.append(0)\n",
    "        if 1 in N:\n",
    "            GN = \"Ganaste con el número \" + str(resultado)\n",
    "        else:\n",
    "            GN = \"Perdiste en la apuesta individual\"\n",
    "\n",
    "        for i in range (len(juego_color(color_apostar))):\n",
    "            if resultado == juego_color(color_apostar)[i]:\n",
    "                CA.append(1)\n",
    "            else:\n",
    "                CA.append(0)\n",
    "        if 1 in CA:\n",
    "            GC = \"Ganaste con el número \" + str(resultado) + \" de color \" +  color_apostar\n",
    "        else:\n",
    "            GC = \"Perdiste en la apuesta por color\"\n",
    "        resultado_ruleta = 'El número de la ruleta es ' + str(resultado)\n",
    "        \n",
    "    \n",
    "    elif numeros_apostar != [] and color_apostar == '':\n",
    "        for i in range (len(numeros_apostar)):\n",
    "            if resultado == numeros_apostar[i]:\n",
    "                N.append(1)\n",
    "            else:\n",
    "                N.append(0)\n",
    "        if 1 in N:\n",
    "            GN = \"Ganaste con el número \" + str(resultado)\n",
    "        else:\n",
    "            GN = \"Perdiste en la apuesta individual\"\n",
    "            \n",
    "        GC = 'No hubo apuesta para los colores'\n",
    "        resultado_ruleta = 'El número de la ruleta es ' + str(resultado)\n",
    "        \n",
    "    \n",
    "    elif numeros_apostar == [] and color_apostar != '':\n",
    "        for i in range (len(juego_color(color_apostar))):\n",
    "            if resultado == juego_color(color_apostar)[i]:\n",
    "                CA.append(1)\n",
    "            else:\n",
    "                CA.append(0)\n",
    "        if 1 in CA:\n",
    "            GC = \"Ganaste con el número \" + str(resultado) + \" de color \" +  color_apostar\n",
    "        else:\n",
    "            GC = \"Perdiste en la apuesta por color\"\n",
    "        GN = 'No hubo apuesta para los números'\n",
    "        resultado_ruleta = 'El número de la ruleta es ' + str(resultado)\n",
    "         \n",
    "    return resultado_ruleta,GN,GC,resultado\n",
    "\n",
    "ganar()"
   ]
  },
  {
   "cell_type": "markdown",
   "id": "07c43f51",
   "metadata": {},
   "source": [
    "La función actualiza el capital del apostador durante cada ronda, dependiendo del resultado de la ruleta, además de otorgar el número total de rondas jugadas:"
   ]
  },
  {
   "cell_type": "code",
   "execution_count": 10,
   "id": "1ed1f47e",
   "metadata": {},
   "outputs": [
    {
     "data": {
      "text/plain": [
       "([1500, 1300, 1100, 900, 700, 500, 300, 100], 8)"
      ]
     },
     "execution_count": 10,
     "metadata": {},
     "output_type": "execute_result"
    }
   ],
   "source": [
    "def apostador(C0,AN,AC):\n",
    "    C=[C0] \n",
    "    contador = 0\n",
    "    \n",
    "    while (C[-1] > 0  and C[-1] >= ((len(numeros_apostar)*AN) + AC)) and not (C[-1] >= C0 + C0/5):\n",
    "        contador = contador + 1\n",
    "        \n",
    "        if ganar()[1] == \"Ganaste con el número \" + str(ganar()[3]) and ganar()[2] == \"Ganaste con el número \" + str(ganar()[3]) + \" de color \" +  color_apostar:\n",
    "            C.append(C[-1] + (35*AN) - ((len(numeros_apostar)-1)*AN) + (AC))\n",
    "            \n",
    "        elif ganar()[1] == \"Ganaste con el número \" + str(ganar()[3]) and ganar()[2] == \"Perdiste en la apuesta por color\":\n",
    "            C.append(C[-1] + (35*AN) - ((len(numeros_apostar)-1)*AN) - (AC))\n",
    "            \n",
    "        elif ganar()[1] == \"Perdiste en la apuesta individual\" and ganar()[2] == \"Ganaste con el número \" + str(ganar()[3]) + \" de color \" +  color_apostar:\n",
    "            C.append(C[-1] - (len(numeros_apostar)*AN) + (AC))\n",
    "            \n",
    "        elif ganar()[1] == \"Perdiste en la apuesta individual\" and ganar()[2] == \"Perdiste en la apuesta por color\":\n",
    "            C.append(C[-1] - (len(numeros_apostar)*AN) - (AC))\n",
    "            \n",
    "        elif ganar()[1] == 'No hubo apuesta para los números' and ganar()[2] == \"Ganaste con el número \" + str(ganar()[3]) + \" de color \" +  color_apostar:\n",
    "            C.append(C[-1] + AC)\n",
    "            \n",
    "        elif ganar()[1] == 'No hubo apuesta para los números' and ganar()[2] == \"Perdiste en la apuesta por color\":\n",
    "            C.append(C[-1] - AC)\n",
    "            \n",
    "        elif ganar()[1] == \"Ganaste con el número \" + str(ganar()[3]) and ganar()[2] == 'No hubo apuesta para los colores':\n",
    "            C.append(C[-1] + (35*AN) - ((len(numeros_apostar)-1)*AN))\n",
    "            \n",
    "        elif ganar()[1] == \"Perdiste en la apuesta individual\" and ganar()[2] == 'No hubo apuesta para los colores':\n",
    "            C.append(C[-1] - (len(numeros_apostar)*AN))\n",
    "            \n",
    "    return C,len(C)\n",
    "\n",
    "apostador(C0,AN,AC)"
   ]
  },
  {
   "cell_type": "markdown",
   "id": "d5f34a2b",
   "metadata": {},
   "source": [
    "## Solución del problema\n"
   ]
  },
  {
   "cell_type": "markdown",
   "id": "bbc230be",
   "metadata": {},
   "source": [
    "Se muestra la gráfica donde se simulan $10^4$ escenarios:"
   ]
  },
  {
   "cell_type": "code",
   "execution_count": 11,
   "id": "226024f9",
   "metadata": {},
   "outputs": [],
   "source": [
    "n = 10**3"
   ]
  },
  {
   "cell_type": "code",
   "execution_count": 12,
   "id": "3882a046",
   "metadata": {},
   "outputs": [
    {
     "data": {
      "image/png": "[encoded data removed]",
      "text/plain": [
       "<Figure size 432x288 with 1 Axes>"
      ]
     },
     "metadata": {
      "needs_background": "light"
     },
     "output_type": "display_data"
    }
   ],
   "source": [
    "for j in range (n):\n",
    "    C = apostador(C0,AN,AC)[0]\n",
    "    plt.plot(C)\n",
    "\n",
    "plt.xlabel('Número de rondas')\n",
    "plt.ylabel('Capital acumulado ($ \\$ $)')\n",
    "plt.grid()"
   ]
  },
  {
   "cell_type": "markdown",
   "id": "c87be5b0",
   "metadata": {},
   "source": [
    "El histograma representa el número de rondas que un jugador puede apostar antes de que su capital no sea suficiente para seguir apostando:"
   ]
  },
  {
   "cell_type": "code",
   "execution_count": 15,
   "id": "1c44e242",
   "metadata": {},
   "outputs": [
    {
     "data": {
      "image/png": "[encoded data removed]",
      "text/plain": [
       "<Figure size 432x288 with 1 Axes>"
      ]
     },
     "metadata": {
      "needs_background": "light"
     },
     "output_type": "display_data"
    }
   ],
   "source": [
    "Apostadores = []\n",
    "for j in range (n):\n",
    "    Apostadores.append(apostador(C0,AN,AC)[1])\n",
    "    \n",
    "plt.hist(Apostadores)\n",
    "plt.xlabel('Número de rondas')\n",
    "plt.ylabel('Cantidad de escenarios')\n",
    "plt.grid()"
   ]
  },
  {
   "cell_type": "markdown",
   "id": "f0609585",
   "metadata": {},
   "source": [
    "Se muestra el promedio de rondas jugadas para la simulación de $n$ apostadores:"
   ]
  },
  {
   "cell_type": "code",
   "execution_count": 14,
   "id": "db248661",
   "metadata": {},
   "outputs": [
    {
     "data": {
      "text/plain": [
       "8.398"
      ]
     },
     "execution_count": 14,
     "metadata": {},
     "output_type": "execute_result"
    }
   ],
   "source": [
    "np.mean(Apostadores)"
   ]
  },
  {
   "cell_type": "markdown",
   "id": "4d1ecfcf",
   "metadata": {},
   "source": [
    "## Conclusión"
   ]
  },
  {
   "cell_type": "markdown",
   "id": "57b48b2a",
   "metadata": {},
   "source": [
    "Se observa que la cantidad de rondas jugadas por un apostador en el juego de la ruleta tiende a ser de 8 rondas, siendo el escenario más probable que ya no pueda apostar nada para la ronda 9.\n",
    "\n",
    "En la gráfica se muestran muy pocos casos de apostadores que superaron la cantidad de juegos mencionada con anterioridad, lo cual demuestra que existe una probabilidad mínima de que se pueda ganar una cantidad 20% mayor a la del capital inicial."
   ]
  }
 ],
 "metadata": {
  "kernelspec": {
   "display_name": "Python 3 (ipykernel)",
   "language": "python",
   "name": "python3"
  },
  "language_info": {
   "codemirror_mode": {
    "name": "ipython",
    "version": 3
   },
   "file_extension": ".py",
   "mimetype": "text/x-python",
   "name": "python",
   "nbconvert_exporter": "python",
   "pygments_lexer": "ipython3",
   "version": "3.9.12"
  }
 },
 "nbformat": 4,
 "nbformat_minor": 5
}
