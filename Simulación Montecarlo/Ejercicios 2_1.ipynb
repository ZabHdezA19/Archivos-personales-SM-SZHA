{
 "cells": [
  {
   "cell_type": "code",
   "execution_count": 19,
   "metadata": {},
   "outputs": [],
   "source": [
    "import matplotlib.pyplot as plt\n",
    "from mpl_toolkits.mplot3d import Axes3D\n",
    "import numpy as np\n",
    "import pandas as pd"
   ]
  },
  {
   "cell_type": "markdown",
   "metadata": {},
   "source": [
    "1. Resuelva la siguiente integral definida con el primer método de integración por Montecarlo usando 100, 1000, 10000, 100000, 1000000 y 10000000 puntos. Compárelo con su valor real=1.\n",
    "$$\n",
    "\\int_1^e\\frac{1}{x}dx\n",
    "$$"
   ]
  },
  {
   "cell_type": "code",
   "execution_count": 3,
   "metadata": {},
   "outputs": [],
   "source": [
    "def f(x):\n",
    "    return 1/x"
   ]
  },
  {
   "cell_type": "code",
   "execution_count": 23,
   "metadata": {},
   "outputs": [],
   "source": [
    "# Definimos el primer método de integración Montecarlo\n",
    "def Montecarlo1(f,a,b,N):\n",
    "    u = np.random.uniform(a,b,N) # 'N' Números aleatrorios uniformemente distribuidos entre 0 y 1\n",
    "    y = f(u) #Evaluar los puntos 'u' en la función a integrar \n",
    "    return np.mean(y)*(b-a) #Aproximación de la integral"
   ]
  },
  {
   "cell_type": "code",
   "execution_count": 24,
   "metadata": {},
   "outputs": [
    {
     "data": {
      "text/plain": [
       "array([     100,     1000,    10000,   100000,  1000000, 10000000])"
      ]
     },
     "execution_count": 24,
     "metadata": {},
     "output_type": "execute_result"
    }
   ],
   "source": [
    "N = np.logspace(2,7,6).astype('int') #[10**1, 10**2, ..., 10**5]\n",
    "N"
   ]
  },
  {
   "cell_type": "code",
   "execution_count": 26,
   "metadata": {},
   "outputs": [
    {
     "name": "stdout",
     "output_type": "stream",
     "text": [
      "100\n",
      "1000\n",
      "10000\n",
      "100000\n",
      "1000000\n",
      "10000000\n"
     ]
    }
   ],
   "source": [
    "for n in N:\n",
    "    print(n)"
   ]
  },
  {
   "cell_type": "code",
   "execution_count": 28,
   "metadata": {},
   "outputs": [
    {
     "data": {
      "text/plain": [
       "2.718281828459045"
      ]
     },
     "execution_count": 28,
     "metadata": {},
     "output_type": "execute_result"
    }
   ],
   "source": [
    "b = np.exp(1)\n",
    "b"
   ]
  },
  {
   "cell_type": "code",
   "execution_count": 31,
   "metadata": {},
   "outputs": [
    {
     "data": {
      "text/html": [
       "<div>\n",
       "<style scoped>\n",
       "    .dataframe tbody tr th:only-of-type {\n",
       "        vertical-align: middle;\n",
       "    }\n",
       "\n",
       "    .dataframe tbody tr th {\n",
       "        vertical-align: top;\n",
       "    }\n",
       "\n",
       "    .dataframe thead th {\n",
       "        text-align: right;\n",
       "    }\n",
       "</style>\n",
       "<table border=\"1\" class=\"dataframe\">\n",
       "  <thead>\n",
       "    <tr style=\"text-align: right;\">\n",
       "      <th></th>\n",
       "      <th>Integral</th>\n",
       "      <th>Error absoluto</th>\n",
       "      <th>Error relativo</th>\n",
       "    </tr>\n",
       "  </thead>\n",
       "  <tbody>\n",
       "    <tr>\n",
       "      <th>100</th>\n",
       "      <td>1.000652</td>\n",
       "      <td>0.000652</td>\n",
       "      <td>0.100000</td>\n",
       "    </tr>\n",
       "    <tr>\n",
       "      <th>1000</th>\n",
       "      <td>1.005533</td>\n",
       "      <td>0.005533</td>\n",
       "      <td>0.031623</td>\n",
       "    </tr>\n",
       "    <tr>\n",
       "      <th>10000</th>\n",
       "      <td>1.00439</td>\n",
       "      <td>0.00439</td>\n",
       "      <td>0.010000</td>\n",
       "    </tr>\n",
       "    <tr>\n",
       "      <th>100000</th>\n",
       "      <td>1.000992</td>\n",
       "      <td>0.000992</td>\n",
       "      <td>0.003162</td>\n",
       "    </tr>\n",
       "    <tr>\n",
       "      <th>1000000</th>\n",
       "      <td>1.00009</td>\n",
       "      <td>0.00009</td>\n",
       "      <td>0.001000</td>\n",
       "    </tr>\n",
       "    <tr>\n",
       "      <th>10000000</th>\n",
       "      <td>1.00007</td>\n",
       "      <td>0.00007</td>\n",
       "      <td>0.000316</td>\n",
       "    </tr>\n",
       "  </tbody>\n",
       "</table>\n",
       "</div>"
      ],
      "text/plain": [
       "          Integral Error absoluto  Error relativo\n",
       "100       1.000652       0.000652        0.100000\n",
       "1000      1.005533       0.005533        0.031623\n",
       "10000      1.00439        0.00439        0.010000\n",
       "100000    1.000992       0.000992        0.003162\n",
       "1000000    1.00009        0.00009        0.001000\n",
       "10000000   1.00007        0.00007        0.000316"
      ]
     },
     "execution_count": 31,
     "metadata": {},
     "output_type": "execute_result"
    }
   ],
   "source": [
    "tabla = pd.DataFrame(index = N, columns = ['Integral'])\n",
    "for n in N:\n",
    "    tabla.loc[n] = Montecarlo1(f,1,b,n)\n",
    "tabla['Error absoluto'] = np.abs(tabla['Integral']- 1)\n",
    "tabla['Error relativo'] = 1/np.sqrt(N)\n",
    "tabla"
   ]
  },
  {
   "cell_type": "code",
   "execution_count": 22,
   "metadata": {},
   "outputs": [
    {
     "data": {
      "text/plain": [
       "2.718281828459045"
      ]
     },
     "execution_count": 22,
     "metadata": {},
     "output_type": "execute_result"
    }
   ],
   "source": [
    "np.exp(1)"
   ]
  },
  {
   "cell_type": "markdown",
   "metadata": {},
   "source": [
    "2. Encuentre el volumen de una copa descrita como sigue:"
   ]
  },
  {
   "cell_type": "code",
   "execution_count": 3,
   "metadata": {},
   "outputs": [],
   "source": [
    "def copa(th,r,z):\n",
    "    C1 = (z>0)*(r>=0.9*z)*(r<=1.1*z)*(z<=1)\n",
    "    C2 = (z<=-1.5)*(r<0.5)*(z>=-1.6)\n",
    "    C3 = (r<0.1)*(z<=0)*(z>-1.5)\n",
    "    return C1 | C2 | C3"
   ]
  },
  {
   "cell_type": "markdown",
   "metadata": {},
   "source": [
    "Use límites para $-1.6\\leq z\\leq 1$, $0\\leq r \\leq 2$ y $-\\pi\\leq\\theta\\leq\\pi$. Con puntos desde $10^2$ hasta $10^7$, mostrando en una tabla la acotación del error relativo a priori."
   ]
  },
  {
   "cell_type": "code",
   "execution_count": 3,
   "metadata": {},
   "outputs": [],
   "source": [
    "def copaE(th,z):\n",
    "    C1 = (z>0)*(1.1*z)*(z<=1)\n",
    "    C2 = (z<=-1.5)*(0.5)*(z>=-1.6)\n",
    "    C3 = 0.1*(z<=0)*(z>-1.5)\n",
    "    return C1+C2+C3"
   ]
  },
  {
   "cell_type": "code",
   "execution_count": 4,
   "metadata": {},
   "outputs": [
    {
     "data": {
      "text/plain": [
       "[<mpl_toolkits.mplot3d.art3d.Line3D at 0xcc196a6588>]"
      ]
     },
     "execution_count": 4,
     "metadata": {},
     "output_type": "execute_result"
    },
    {
     "data": {
      "image/png": "[encoded data removed]",
      "text/plain": [
       "<Figure size 432x288 with 1 Axes>"
      ]
     },
     "metadata": {
      "needs_background": "light"
     },
     "output_type": "display_data"
    }
   ],
   "source": [
    "th=np.linspace(-np.pi*1000000,1000000*np.pi,10000)\n",
    "z=np.linspace(-1.6,1,10000)\n",
    "\n",
    "r1=copaE(th,z)\n",
    "\n",
    "x1=r1*np.cos(th)\n",
    "y1=r1*np.sin(th)\n",
    "\n",
    "fig = plt.figure()\n",
    "ax=fig.gca(projection='3d')\n",
    "plt.title('Contorno de la copa')\n",
    "ax.plot(x1,y1,z)"
   ]
  },
  {
   "cell_type": "code",
   "execution_count": 4,
   "metadata": {},
   "outputs": [],
   "source": [
    "np.random.uniform?"
   ]
  },
  {
   "cell_type": "code",
   "execution_count": 5,
   "metadata": {},
   "outputs": [
    {
     "data": {
      "text/plain": [
       "1.4702653618800232"
      ]
     },
     "execution_count": 5,
     "metadata": {},
     "output_type": "execute_result"
    }
   ],
   "source": [
    "th=np.random.uniform(-np.pi,np.pi,1000)\n",
    "r=np.random.uniform(0,2,1000)\n",
    "z=np.random.uniform(-1.6,1,1000)\n",
    "b=copa(th,r,z)\n",
    "altura=1-(-1.6)\n",
    "Ab=np.pi*2**2\n",
    "AR=altura*Ab\n",
    "AR*np.mean(b)"
   ]
  },
  {
   "cell_type": "markdown",
   "metadata": {},
   "source": [
    "3. Dada la función\n",
    "$$\n",
    "\\frac{dy}{dx}=e^{-x^2+1}\\cos(13x)+3\n",
    "$$"
   ]
  },
  {
   "cell_type": "code",
   "execution_count": 5,
   "metadata": {},
   "outputs": [
    {
     "data": {
      "image/png": "[encoded data removed]",
      "text/plain": [
       "<Figure size 432x288 with 1 Axes>"
      ]
     },
     "metadata": {
      "needs_background": "light"
     },
     "output_type": "display_data"
    }
   ],
   "source": [
    "x=np.linspace(0,0.3,100)\n",
    "dy=np.exp(-x**2+1)*np.cos(13*x)+3\n",
    "plt.plot(x,dy)\n",
    "plt.ylim([-0.1,6])\n",
    "plt.grid()"
   ]
  },
  {
   "cell_type": "markdown",
   "metadata": {},
   "source": [
    "3.1 Encuentre $y(0.1)$ con el primer método de integración por Montecarlo conociendo $y(0)=1$. Use $10^7$ puntos."
   ]
  },
  {
   "cell_type": "code",
   "execution_count": 32,
   "metadata": {},
   "outputs": [],
   "source": [
    "def f3(x):\n",
    "    return np.exp(-x**2+1)*np.cos(13*x)+3"
   ]
  },
  {
   "cell_type": "code",
   "execution_count": 33,
   "metadata": {},
   "outputs": [],
   "source": [
    "def Montecarlo1(f,a,b,N):\n",
    "    u = np.random.uniform(a,b,N) # 'N' Números aleatrorios uniformemente distribuidos entre 0 y 1\n",
    "    y = f(u) #Evaluar los puntos 'u' en la función a integrar \n",
    "    return np.mean(y)*(b-a) #Aproximación de la integral"
   ]
  },
  {
   "cell_type": "code",
   "execution_count": 34,
   "metadata": {},
   "outputs": [
    {
     "data": {
      "text/plain": [
       "0.5009950844939289"
      ]
     },
     "execution_count": 34,
     "metadata": {},
     "output_type": "execute_result"
    }
   ],
   "source": [
    "Montecarlo1(f3,0,0.1,10**7)"
   ]
  },
  {
   "cell_type": "code",
   "execution_count": 36,
   "metadata": {},
   "outputs": [
    {
     "data": {
      "text/plain": [
       "1.5010145672541695"
      ]
     },
     "execution_count": 36,
     "metadata": {},
     "output_type": "execute_result"
    }
   ],
   "source": [
    "y_01 = Montecarlo1(f3,0,0.1,10**7) + 1\n",
    "y_01"
   ]
  },
  {
   "cell_type": "markdown",
   "metadata": {},
   "source": [
    "3.2 Encuentre de igual forma $y(0.2)$ de dos formas, una conociendo $y(0)$ y otra conociendo $y(0.1)$, finalmente compare las integrales en una tabla usando desde $10^2$ hasta $10^7$ puntos."
   ]
  },
  {
   "cell_type": "markdown",
   "metadata": {},
   "source": [
    "#### Forma 1"
   ]
  },
  {
   "cell_type": "code",
   "execution_count": 39,
   "metadata": {},
   "outputs": [
    {
     "data": {
      "text/plain": [
       "1.710441328123101"
      ]
     },
     "execution_count": 39,
     "metadata": {},
     "output_type": "execute_result"
    }
   ],
   "source": [
    "y_02 = Montecarlo1(f3,0,0.2,10**7) + 1\n",
    "y_02"
   ]
  },
  {
   "cell_type": "markdown",
   "metadata": {},
   "source": [
    "#### Forma 2"
   ]
  },
  {
   "cell_type": "code",
   "execution_count": 38,
   "metadata": {},
   "outputs": [
    {
     "data": {
      "text/plain": [
       "1.7102886943708726"
      ]
     },
     "execution_count": 38,
     "metadata": {},
     "output_type": "execute_result"
    }
   ],
   "source": [
    "y_02_2 = Montecarlo1(f3,0.1,0.2,10**7) + y_01\n",
    "y_02_2"
   ]
  },
  {
   "cell_type": "markdown",
   "metadata": {},
   "source": [
    "### Comparación de integrales"
   ]
  },
  {
   "cell_type": "code",
   "execution_count": null,
   "metadata": {},
   "outputs": [],
   "source": [
    "tabla = pd.DataFrame(index = N, columns = ['Función 1', 'Función 2'])\n",
    "for n in N:\n",
    "    tabla.loc[n, 'Función 1'] = Montecarlo(f3,0,0.2.1,n)\n",
    "    tabla.loc[n, 'Función 2'] = Montecarlo(f3,2,2.1,n)\n",
    "tabla['Error relativo'] = 1/np.sqrt(N)\n",
    "tabla"
   ]
  }
 ],
 "metadata": {
  "kernelspec": {
   "display_name": "Python 3 (ipykernel)",
   "language": "python",
   "name": "python3"
  },
  "language_info": {
   "codemirror_mode": {
    "name": "ipython",
    "version": 3
   },
   "file_extension": ".py",
   "mimetype": "text/x-python",
   "name": "python",
   "nbconvert_exporter": "python",
   "pygments_lexer": "ipython3",
   "version": "3.9.12"
  }
 },
 "nbformat": 4,
 "nbformat_minor": 2
}
