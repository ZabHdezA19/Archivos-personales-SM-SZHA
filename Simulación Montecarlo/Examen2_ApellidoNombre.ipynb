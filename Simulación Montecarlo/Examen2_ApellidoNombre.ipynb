{
 "cells": [
  {
   "cell_type": "markdown",
   "metadata": {
    "colab_type": "text",
    "id": "GJV4HZf_7eDM"
   },
   "source": [
    "# Examen Módulo 2 - Montecarlo.\n",
    "\n",
    "**Mantenga la calma y lea cuidadosamente las siguientes indicaciones antes de comenzar el examen:**\n",
    "- Para resolver el examen edite este mismo archivo y renómbrelo de la siguiente manera: *Examen2_ApellidoNombre*, donde *ApellidoNombre* corresponde a su apellido paterno con la inicial en mayúscula, seguido de su primer nombre con la inicial en mayúscula **sin acentos**. Por ejemplo, en mi caso el nombre del archivo sería *Examen2_ArellanoCarlos*.\n",
    "- Resuelva los puntos en el espacio provisto. Si requiere agregar más celdas para código o escritura, hágalo (`Esc`+`B`) o (`Esc`+`A`).\n",
    "- Recuerde que también se está evaluando su capacidad de interpretar los resultados. Escriba sus interpretaciones/conclusiones en celdas utilizando *Markdown*.\n",
    "- El formato de presentación de todo el examen en general debe ser adecuado. Use tamaños de letra, colores, etiquetas, etcétera.\n",
    "- No se resuelven dudas de ningún tipo por los profesores de la asignatura. Por favor, absténgase de preguntar."
   ]
  },
  {
   "cell_type": "markdown",
   "metadata": {},
   "source": [
    "---\n",
    "### Simulación Montecarlo usando Caminata aleatoria<font size='1'>(3.3 puntos)</font>\n",
    "\n",
    "Se desea conocer el estado final de un proceso hipotético definido como una Máquina de estados. Este proceso cuenta con los estados: **A**, **B** y **C**. El proceso se define de la siguiente manera:\n",
    "* Estando en el estado **A**, 2 de cada 3 operaciones cambia al estado **B**, el resto de casos cambia al estado **C**.\n",
    "* Estando en el estado **B**, 3 de cada 5 operaciones cambia al estado **A**, el resto de casos se mantiene en el estado **B**.\n",
    "* Estando en el estado **C**, 4 de cada 5 operaciones cambia al estado **A**, el resto de casos se mantiene en el estado **C**.\n",
    "Respresentado por el siguiente diagrama"
   ]
  },
  {
   "cell_type": "code",
   "execution_count": 3,
   "metadata": {
    "colab": {},
    "colab_type": "code",
    "id": "mjdK2KfyF9Lz"
   },
   "outputs": [
    {
     "data": {
      "image/png": "[encoded data removed]",
      "text/plain": [
       "<Figure size 432x288 with 1 Axes>"
      ]
     },
     "metadata": {
      "needs_background": "light"
     },
     "output_type": "display_data"
    }
   ],
   "source": [
    "import numpy as np\n",
    "import matplotlib.pyplot as plt\n",
    "import matplotlib.patches as patches\n",
    "\n",
    "A = patches.Circle((0, 0), 0.1,fc='None',color='k')\n",
    "B = patches.Circle((1, 0), 0.1,fc='None',color='k')\n",
    "C = patches.Circle((-1,0), 0.1,fc='None',color='k')\n",
    "AB = patches.Arc((0.5,   0.1 ), 0.95, 0.5,theta2=180,fc='None',color='k')\n",
    "BA = patches.Arc((0.5,   -0.1), 0.95, 0.5,theta1=180,fc='None',color='k')\n",
    "AC = patches.Arc((-0.52, 0.1 ), 0.95, 0.5,theta2=180,fc='None',color='k')\n",
    "CA = patches.Arc((-0.52, -0.1), 0.95, 0.5,theta1=180,fc='None',color='k')\n",
    "CC = patches.Arc((-1.15, 0.08), 0.2,  0.2,theta2=290,fc='None',color='k')\n",
    "BB = patches.Arc((1.15,  0   ), 0.2,  0.2,theta1=-145,theta2=145,fc='None',color='k')\n",
    "ax = plt.gca()\n",
    "ax.add_artist(A)\n",
    "ax.add_artist(B)\n",
    "ax.add_artist(C)\n",
    "ax.add_artist(AB)\n",
    "ax.add_artist(BA)\n",
    "ax.add_artist(AC)\n",
    "ax.add_artist(CA)\n",
    "ax.add_artist(BB)\n",
    "ax.add_artist(CC)\n",
    "\n",
    "plt.plot([0.925,0.975,1.015],[0.14,0.1,0.14],'k')    # AB\n",
    "plt.plot([0.06,0.03,0],[-0.14,-0.1,-0.14],'k')       # BA\n",
    "plt.plot([-0.945,-0.995,-1.035],[0.14,0.1,0.14],'k') # AC\n",
    "plt.plot([-0.02,-0.05,-0.08],[-0.14,-0.1,-0.14],'k') # CA\n",
    "plt.plot([1.13,1.07,1.11],[0.05,0.08,0.13],'k')      # BB\n",
    "plt.plot([-1.13,-1.1,-1.13],[0.03,-0.01,-0.05],'k')  # CC\n",
    "\n",
    "plt.text(-0.04,-0.02,'A')\n",
    "plt.text(0.97,-0.02,'B')\n",
    "plt.text(-1.04,-0.02,'C')\n",
    "plt.text(0.4,0.4,'2/3')  # AB\n",
    "plt.text(0.4,-0.5,'3/5') # BA\n",
    "plt.text(-0.6,-0.5,'4/5') # CA\n",
    "\n",
    "plt.axis([-1.7,1.7,-1.1,1.1])\n",
    "plt.axis('off')\n",
    "plt.show()"
   ]
  },
  {
   "cell_type": "markdown",
   "metadata": {},
   "source": [
    "1. Defina una función que permita simular el proceso antes descrito."
   ]
  },
  {
   "cell_type": "markdown",
   "metadata": {},
   "source": [
    "Si suponemos que el proceso inicia en el estado A"
   ]
  },
  {
   "cell_type": "code",
   "execution_count": 16,
   "metadata": {},
   "outputs": [
    {
     "data": {
      "text/plain": [
       "('La posición final es A', 101)"
      ]
     },
     "execution_count": 16,
     "metadata": {},
     "output_type": "execute_result"
    }
   ],
   "source": [
    "def cambiar_posicion():\n",
    "    Posicion = ['A']\n",
    "    OperacionesA = ['B','B','C']\n",
    "    OperacionesB = ['B','B','A','A','A']\n",
    "    OperacionesC = ['A','A','A','A','C']\n",
    "    N_Operaciones = 100\n",
    "    for i in range (N_Operaciones):\n",
    "        if Posicion[-1] == 'A':\n",
    "            Posicion.append(np.random.choice(OperacionesA))\n",
    "        elif Posicion[-1] == 'B': \n",
    "            Posicion.append(np.random.choice(OperacionesB))\n",
    "        elif Posicion[-1] == 'C': \n",
    "            Posicion.append(np.random.choice(OperacionesC))\n",
    "    Posicion_final = 'La posición final es ' + Posicion[-1]\n",
    "    return Posicion_final,len(Posicion)\n",
    "\n",
    "cambiar_posicion()   "
   ]
  },
  {
   "cell_type": "markdown",
   "metadata": {},
   "source": [
    "2. Si el proceso parte del estado **A**, y se ejecutan 100 operaciones. Usando el método Montecarlo con 1000 escenarios, ¿Cuál es la probabilidad de que el proceso finalice en el estado **B**?."
   ]
  },
  {
   "cell_type": "code",
   "execution_count": 140,
   "metadata": {},
   "outputs": [
    {
     "data": {
      "text/plain": [
       "'C'"
      ]
     },
     "execution_count": 140,
     "metadata": {},
     "output_type": "execute_result"
    }
   ],
   "source": [
    "def cambiar_posicionM():\n",
    "    Posicion = 'A'\n",
    "    OperacionesA = ['B','B','C']\n",
    "    OperacionesB = ['B','B','A','A','A']\n",
    "    OperacionesC = ['A','A','A','A','C']\n",
    "    N_Operaciones = 100\n",
    "    for i in range (N_Operaciones):\n",
    "        if Posicion == 'A':\n",
    "            Posicion = (np.random.choice(OperacionesA))\n",
    "        elif Posicion == 'B': \n",
    "            Posicion = (np.random.choice(OperacionesB))\n",
    "        elif Posicion == 'C': \n",
    "            Posicion = (np.random.choice(OperacionesC))\n",
    "    Posicion_final = 'La posición final es ' + Posicion\n",
    "    return Posicion\n",
    "\n",
    "cambiar_posicionM()   "
   ]
  },
  {
   "cell_type": "code",
   "execution_count": 141,
   "metadata": {},
   "outputs": [
    {
     "data": {
      "text/plain": [
       "(394, 430, 176)"
      ]
     },
     "execution_count": 141,
     "metadata": {},
     "output_type": "execute_result"
    }
   ],
   "source": [
    "Procesos = []\n",
    "for i in range (10**3):\n",
    "    Procesos.append(cambiar_posicionM())\n",
    "Procesos.count('A'),Procesos.count('B'),Procesos.count('C')"
   ]
  },
  {
   "cell_type": "code",
   "execution_count": 142,
   "metadata": {},
   "outputs": [],
   "source": [
    "Probabilidad_A = ((Procesos.count('A')) / 10**3)*100\n",
    "Probabilidad_B = ((Procesos.count('B')) / 10**3)*100\n",
    "Probabilidad_C = ((Procesos.count('C')) / 10**3)*100"
   ]
  },
  {
   "cell_type": "code",
   "execution_count": 149,
   "metadata": {},
   "outputs": [
    {
     "data": {
      "text/plain": [
       "'La probabilidad de que el proceso termine en B es del 43.0 %'"
      ]
     },
     "execution_count": 149,
     "metadata": {},
     "output_type": "execute_result"
    }
   ],
   "source": [
    "P_B = 'La probabilidad de que el proceso termine en B es del ' + str(Probabilidad_B) + ' %'\n",
    "P_B"
   ]
  },
  {
   "cell_type": "markdown",
   "metadata": {},
   "source": [
    "**Extra: Probabilidades de A y C**"
   ]
  },
  {
   "cell_type": "code",
   "execution_count": 148,
   "metadata": {},
   "outputs": [
    {
     "data": {
      "text/plain": [
       "('La probabilidad de que el proceso termine en A es del 39.4 %',\n",
       " 'La probabilidad de que el proceso termine en C es del 17.599999999999998 %')"
      ]
     },
     "execution_count": 148,
     "metadata": {},
     "output_type": "execute_result"
    }
   ],
   "source": [
    "P_A = 'La probabilidad de que el proceso termine en A es del ' + str(Probabilidad_A) + ' %'\n",
    "P_C = 'La probabilidad de que el proceso termine en C es del ' + str(Probabilidad_C) + ' %'\n",
    "P_A,P_C"
   ]
  },
  {
   "cell_type": "markdown",
   "metadata": {
    "colab_type": "text",
    "id": "IUn6WvoMGV7Z"
   },
   "source": [
    "---\n",
    "### Integración Montecarlo tipo 2 <font size='1'>(3.3 puntos)</font>\n",
    "Encuentre el área de la región que cumpla\n",
    "$$\n",
    "e^{-0.05(x^2+y^2)}\\sin(x^2+y^2)>0.5\\;\\,.\n",
    "$$"
   ]
  },
  {
   "cell_type": "markdown",
   "metadata": {
    "colab_type": "text",
    "id": "aKvXQflPIweM"
   },
   "source": [
    "1. Escriba la función que discrimine los puntos que satisfacen la restricción de la región a evaluar, con argumentos de entrada $x$ y $y$ y que regrese Verdadero o Falso."
   ]
  },
  {
   "cell_type": "code",
   "execution_count": null,
   "metadata": {
    "colab": {},
    "colab_type": "code",
    "id": "lnOHGKL3JLlm"
   },
   "outputs": [],
   "source": []
  },
  {
   "cell_type": "markdown",
   "metadata": {
    "colab_type": "text",
    "id": "vYHLYKC5JMor"
   },
   "source": [
    "2. Encuentre los límites de integración para $x$ y para $y$ que encierren el área deseada y grafique."
   ]
  },
  {
   "cell_type": "code",
   "execution_count": null,
   "metadata": {
    "colab": {},
    "colab_type": "code",
    "id": "bZlKKTFrJplS"
   },
   "outputs": [],
   "source": []
  },
  {
   "cell_type": "markdown",
   "metadata": {
    "colab_type": "text",
    "id": "SNMVh09zJrhu"
   },
   "source": [
    "3. Escriba la función para integrar con el método de Montecaralo de tipo 2 con argumentos de entrada $f$, $xmin$, $xmax$, $ymin$, $ymax$, y $N$. Donde $f$ es una función que define la región de integración; $xmin$, $xmax$, $ymin$ y $ymax$ definen los límites de integración y $N$ el número de puntos en $x$ y $y$ para usar en el método. Esta función debe regresar el valor de la integral."
   ]
  },
  {
   "cell_type": "code",
   "execution_count": null,
   "metadata": {
    "colab": {},
    "colab_type": "code",
    "id": "9lx_xP1nKwuH"
   },
   "outputs": [],
   "source": []
  },
  {
   "cell_type": "markdown",
   "metadata": {
    "colab_type": "text",
    "id": "recZkMzsMWbc"
   },
   "source": [
    "4. En un _DataFrame_ de _pandas_ escriba el valor de **las integrales** y la **estimación del error relativo** para $N=10^4,\\, 10^5,\\, 10^6$."
   ]
  },
  {
   "cell_type": "code",
   "execution_count": null,
   "metadata": {
    "colab": {},
    "colab_type": "code",
    "id": "Yxiw2ilFNPn9"
   },
   "outputs": [],
   "source": []
  },
  {
   "cell_type": "markdown",
   "metadata": {
    "colab_type": "text",
    "id": "RfYMRwkTVNue"
   },
   "source": [
    "---\n",
    "### Probabilidad Precio-Umbral <font size='1'>(3.4 puntos)</font>\n",
    "\n",
    "Suponga que desea invertir en **Spotify** o **Mercado Libre**. Evalúe la probabilidad de obtener un retorno del 10% en seis meses a partr del 23 de junio del presente año."
   ]
  },
  {
   "cell_type": "markdown",
   "metadata": {},
   "source": [
    "1. Describa una función para obtener los precios de cierre ajustados para dividendos y divisiones desde *YAHOO finance*, usando el paquete de *pandas-datareader*. Donde los argumentos de entrada sean los nombres de las empresas y las fechas de inicio y fin a los cuales se obtendrán los datos."
   ]
  },
  {
   "cell_type": "code",
   "execution_count": 154,
   "metadata": {},
   "outputs": [],
   "source": [
    "import pandas_datareader.data as web\n",
    "from datetime import date"
   ]
  },
  {
   "cell_type": "code",
   "execution_count": 152,
   "metadata": {},
   "outputs": [],
   "source": [
    "def getClose(names, start, end):\n",
    "    return web.DataReader(names,'yahoo',start,end)"
   ]
  },
  {
   "cell_type": "markdown",
   "metadata": {},
   "source": [
    "2. Obtenga los precios de cierre ajustados para Spotify y Mercado Libre desde el 22 de junio de 2020 al 22 de junio de 2022."
   ]
  },
  {
   "cell_type": "code",
   "execution_count": 153,
   "metadata": {},
   "outputs": [
    {
     "data": {
      "text/html": [
       "<div>\n",
       "<style scoped>\n",
       "    .dataframe tbody tr th:only-of-type {\n",
       "        vertical-align: middle;\n",
       "    }\n",
       "\n",
       "    .dataframe tbody tr th {\n",
       "        vertical-align: top;\n",
       "    }\n",
       "\n",
       "    .dataframe thead th {\n",
       "        text-align: right;\n",
       "    }\n",
       "</style>\n",
       "<table border=\"1\" class=\"dataframe\">\n",
       "  <thead>\n",
       "    <tr style=\"text-align: right;\">\n",
       "      <th>Symbols</th>\n",
       "      <th>SPOT</th>\n",
       "      <th>MELI</th>\n",
       "    </tr>\n",
       "    <tr>\n",
       "      <th>Date</th>\n",
       "      <th></th>\n",
       "      <th></th>\n",
       "    </tr>\n",
       "  </thead>\n",
       "  <tbody>\n",
       "    <tr>\n",
       "      <th>2020-06-22</th>\n",
       "      <td>236.059998</td>\n",
       "      <td>984.539978</td>\n",
       "    </tr>\n",
       "    <tr>\n",
       "      <th>2020-06-23</th>\n",
       "      <td>241.759995</td>\n",
       "      <td>977.489990</td>\n",
       "    </tr>\n",
       "    <tr>\n",
       "      <th>2020-06-24</th>\n",
       "      <td>242.860001</td>\n",
       "      <td>953.770020</td>\n",
       "    </tr>\n",
       "    <tr>\n",
       "      <th>2020-06-25</th>\n",
       "      <td>267.470001</td>\n",
       "      <td>971.440002</td>\n",
       "    </tr>\n",
       "    <tr>\n",
       "      <th>2020-06-26</th>\n",
       "      <td>264.950012</td>\n",
       "      <td>973.169983</td>\n",
       "    </tr>\n",
       "  </tbody>\n",
       "</table>\n",
       "</div>"
      ],
      "text/plain": [
       "Symbols           SPOT        MELI\n",
       "Date                              \n",
       "2020-06-22  236.059998  984.539978\n",
       "2020-06-23  241.759995  977.489990\n",
       "2020-06-24  242.860001  953.770020\n",
       "2020-06-25  267.470001  971.440002\n",
       "2020-06-26  264.950012  973.169983"
      ]
     },
     "execution_count": 153,
     "metadata": {},
     "output_type": "execute_result"
    }
   ],
   "source": [
    "names = ['SPOT','MELI'] # Spotify, Mercado libre\n",
    "start = '2020-06-22'\n",
    "end = '2022-06-22'\n",
    "data = getClose(names,start,end)['Adj Close']\n",
    "data.head() # Mostrar los primeros datos"
   ]
  },
  {
   "cell_type": "markdown",
   "metadata": {},
   "source": [
    "3. Calcule el rendimiento simple para ambas empresas."
   ]
  },
  {
   "cell_type": "code",
   "execution_count": null,
   "metadata": {},
   "outputs": [],
   "source": []
  },
  {
   "cell_type": "markdown",
   "metadata": {},
   "source": [
    "4. Escriba una función que, dando como argumentos:\n",
    "* la media,\n",
    "* la desviación estandar,\n",
    "* la fecha de inicio,\n",
    "* la fecha del fin de simulación y\n",
    "* número de escenarios a simular;\n",
    "\n",
    "regrese en un _DataFrame_ de _pandas_ cuyo índice sea el rango de fechas dadas como argumentos."
   ]
  },
  {
   "cell_type": "code",
   "execution_count": 155,
   "metadata": {},
   "outputs": [],
   "source": [
    "def sim(me,std,inicio,fin,N):\n",
    "    fechas = pd.date_range(inicio,fin)\n",
    "    R = np.random.normal(me,std,(fechas,N))\n",
    "    return pd.DataFrame(data = R,index = fechas)"
   ]
  },
  {
   "cell_type": "code",
   "execution_count": null,
   "metadata": {},
   "outputs": [],
   "source": [
    "SPOT_R = sim(R['SPOT'].mean(),\n",
    "            R['SPOT'].std(),\n",
    "             start, # Fecha de inicio\n",
    "            end,  # Días a simular\n",
    "            100000) # Escenarios\n",
    "MELI_R = sim(R['MELI'].mean(),\n",
    "            R['MELI'].std(),\n",
    "             start,\n",
    "            end,\n",
    "            100000)"
   ]
  },
  {
   "cell_type": "markdown",
   "metadata": {},
   "source": [
    "5. Calcule la media y desviación estandar de los rendimientos y simule 100000 escenarios de rendimientos desde el 23 de junio de 2022 al 23 de diciembre de 2022."
   ]
  },
  {
   "cell_type": "code",
   "execution_count": null,
   "metadata": {},
   "outputs": [],
   "source": []
  },
  {
   "cell_type": "markdown",
   "metadata": {},
   "source": [
    "6. Use los datos de simulación para obtener los precios proyectados al cierre para ambas empresas en estos meses."
   ]
  },
  {
   "cell_type": "code",
   "execution_count": null,
   "metadata": {},
   "outputs": [],
   "source": []
  },
  {
   "cell_type": "markdown",
   "metadata": {},
   "source": [
    "7. En un gráfico muestre la evolución de ambas probabilidades de obtener un retorno del 10% en seis meses a partir del 23 de junio de 2022. ¿Cuál genera mayores espectativas?"
   ]
  },
  {
   "cell_type": "code",
   "execution_count": null,
   "metadata": {},
   "outputs": [],
   "source": []
  }
 ],
 "metadata": {
  "colab": {
   "name": "ExamenMontecarlo1.ipynb",
   "provenance": []
  },
  "kernelspec": {
   "display_name": "Python 3 (ipykernel)",
   "language": "python",
   "name": "python3"
  },
  "language_info": {
   "codemirror_mode": {
    "name": "ipython",
    "version": 3
   },
   "file_extension": ".py",
   "mimetype": "text/x-python",
   "name": "python",
   "nbconvert_exporter": "python",
   "pygments_lexer": "ipython3",
   "version": "3.9.12"
  }
 },
 "nbformat": 4,
 "nbformat_minor": 1
}
