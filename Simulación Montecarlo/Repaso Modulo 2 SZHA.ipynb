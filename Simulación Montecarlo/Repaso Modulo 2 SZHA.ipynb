{
 "cells": [
  {
   "cell_type": "markdown",
   "metadata": {},
   "source": [
    "# Repaso - Módulo 2"
   ]
  },
  {
   "cell_type": "markdown",
   "metadata": {},
   "source": [
    "## Problema 1. Simulación Montecarlo usando Caminata aleatoria\n",
    "\n",
    "Se desea conocer el estado final de un proceso hipotético definido como una Máquina de estados. Este proceso cuenta con los estados: **A** y **B**. El proceso se define de la siguiente manera:\n",
    "* Estando en el estado **A**, 4 de cada 7 operaciones cambia al estado **B**, el resto de casos se mantiene en el estado **A**.\n",
    "* Estando en el estado **B**, 1 de cada 3 operaciones cambia al estado **A**, el resto de casos se mantiene en el estado **B**.\n",
    "Respresentado por el siguiente diagrama"
   ]
  },
  {
   "cell_type": "code",
   "execution_count": 20,
   "metadata": {},
   "outputs": [
    {
     "data": {
      "image/png": "[encoded data removed]",
      "text/plain": [
       "<Figure size 432x288 with 1 Axes>"
      ]
     },
     "metadata": {
      "needs_background": "light"
     },
     "output_type": "display_data"
    }
   ],
   "source": [
    "import numpy as np\n",
    "import matplotlib.pyplot as plt\n",
    "import matplotlib.patches as patches\n",
    "\n",
    "C1 = patches.Circle((-0.5, 0), 0.1,fc='None',color='k')\n",
    "C2 = patches.Circle((0.5, 0), 0.1,fc='None',color='k')\n",
    "B1 = patches.Arc((0, 0.1), 1,0.5,theta2=180,fc='None',color='k')\n",
    "B2 = patches.Arc((0, -0.1), 1,0.5,theta1=180,fc='None',color='k')\n",
    "A1 = patches.Arc((-0.65, 0.08), 0.2,0.2,theta2=290,fc='None',color='k')\n",
    "A2 = patches.Arc((0.65, 0), 0.2,0.2,theta1=-145,theta2=145,fc='None',color='k')\n",
    "ax = plt.gca()\n",
    "ax.add_artist(B1)\n",
    "ax.add_artist(B2)\n",
    "ax.add_artist(C1)\n",
    "ax.add_artist(C2)\n",
    "ax.add_artist(A1)\n",
    "ax.add_artist(A2)\n",
    "\n",
    "plt.plot([0.45,0.5,0.55],[0.14,0.1,0.14],'k')\n",
    "plt.plot([-0.45,-0.5,-0.55],[-0.14,-0.1,-0.14],'k')\n",
    "plt.plot([-0.63,-0.6,-0.63],[0.03,-0.01,-0.05],'k')\n",
    "plt.plot([0.63,0.57,0.6],[0.05,0.08,0.12],'k')\n",
    "\n",
    "plt.text(-0.54,-0.02,'A')\n",
    "plt.text(0.47,-0.02,'B')\n",
    "plt.text(-0.1,0.4,'4/7')\n",
    "plt.text(-0.1,-0.5,'1/3')\n",
    "plt.text(-0.80,-0.12,'3/7')\n",
    "plt.text(0.57,-0.2,'2/3')\n",
    "\n",
    "plt.axis([-1.7,1.7,-1.1,1.1])\n",
    "plt.axis('off')\n",
    "plt.show()"
   ]
  },
  {
   "cell_type": "markdown",
   "metadata": {},
   "source": [
    "* Si el proceso parte del estado **A**, y se ejecutan 50 operaciones, ¿Cuál es la probabilidad de que el proceso finalice en el estado **B**? Usando el método Montecarlo con 100000 escenarios."
   ]
  },
  {
   "cell_type": "code",
   "execution_count": 21,
   "metadata": {},
   "outputs": [],
   "source": [
    "np.random.rand?"
   ]
  },
  {
   "cell_type": "code",
   "execution_count": 22,
   "metadata": {},
   "outputs": [
    {
     "data": {
      "text/plain": [
       "'B'"
      ]
     },
     "execution_count": 22,
     "metadata": {},
     "output_type": "execute_result"
    }
   ],
   "source": [
    "c = ['A','B','C','D']\n",
    "np.random.choice(c)"
   ]
  },
  {
   "cell_type": "code",
   "execution_count": 23,
   "metadata": {},
   "outputs": [
    {
     "data": {
      "text/plain": [
       "(['A',\n",
       "  'A',\n",
       "  'A',\n",
       "  'A',\n",
       "  'B',\n",
       "  'A',\n",
       "  'A',\n",
       "  'A',\n",
       "  'B',\n",
       "  'A',\n",
       "  'A',\n",
       "  'B',\n",
       "  'A',\n",
       "  'A',\n",
       "  'A',\n",
       "  'A',\n",
       "  'A',\n",
       "  'B',\n",
       "  'B',\n",
       "  'B',\n",
       "  'B',\n",
       "  'A',\n",
       "  'B',\n",
       "  'B',\n",
       "  'B',\n",
       "  'B',\n",
       "  'B',\n",
       "  'B',\n",
       "  'B',\n",
       "  'A',\n",
       "  'B',\n",
       "  'B',\n",
       "  'B',\n",
       "  'B',\n",
       "  'B',\n",
       "  'A',\n",
       "  'B',\n",
       "  'A',\n",
       "  'B',\n",
       "  'B',\n",
       "  'B',\n",
       "  'A',\n",
       "  'B',\n",
       "  'B',\n",
       "  'A',\n",
       "  'A',\n",
       "  'A',\n",
       "  'B',\n",
       "  'B',\n",
       "  'B',\n",
       "  'B'],\n",
       " 'La posición final es B',\n",
       " 51)"
      ]
     },
     "execution_count": 23,
     "metadata": {},
     "output_type": "execute_result"
    }
   ],
   "source": [
    "def cambiar_posicion():\n",
    "    Posicion = ['A']\n",
    "    OperacionesA = ['A','A','A','A','B','B','B']\n",
    "    OperacionesB = ['B','B','A']\n",
    "    N_Operaciones = 50\n",
    "    for i in range (N_Operaciones):\n",
    "        if Posicion[-1] == 'A':\n",
    "            Posicion.append(np.random.choice(OperacionesA))\n",
    "        elif Posicion[-1] == 'B': \n",
    "            Posicion.append(np.random.choice(OperacionesB))\n",
    "    Posicion_final = 'La posición final es ' + Posicion[-1]\n",
    "    return Posicion,Posicion_final,len(Posicion)\n",
    "\n",
    "cambiar_posicion()   "
   ]
  },
  {
   "cell_type": "code",
   "execution_count": 24,
   "metadata": {},
   "outputs": [
    {
     "data": {
      "text/plain": [
       "'A'"
      ]
     },
     "execution_count": 24,
     "metadata": {},
     "output_type": "execute_result"
    }
   ],
   "source": [
    "def cambiar_posicionM():\n",
    "    Posicion = 'A'\n",
    "    OperacionesA = ['A','A','A','A','B','B','B']\n",
    "    OperacionesB = ['B','B','A']\n",
    "    N_Operaciones = 50\n",
    "    for i in range (N_Operaciones):\n",
    "        if Posicion == 'A':\n",
    "            Posicion = (np.random.choice(OperacionesA))\n",
    "        elif Posicion == 'B': \n",
    "            Posicion = (np.random.choice(OperacionesB))\n",
    "    return Posicion\n",
    "cambiar_posicionM()"
   ]
  },
  {
   "cell_type": "code",
   "execution_count": 41,
   "metadata": {},
   "outputs": [],
   "source": [
    "Procesos = []\n",
    "for i in range (10**2):\n",
    "    Procesos.append(cambiar_posicionM())"
   ]
  },
  {
   "cell_type": "code",
   "execution_count": 42,
   "metadata": {},
   "outputs": [
    {
     "data": {
      "text/plain": [
       "(38, 62)"
      ]
     },
     "execution_count": 42,
     "metadata": {},
     "output_type": "execute_result"
    }
   ],
   "source": [
    "Procesos.count('A'),Procesos.count('B')"
   ]
  },
  {
   "cell_type": "code",
   "execution_count": 43,
   "metadata": {},
   "outputs": [],
   "source": [
    "Probabilidad_A = ((Procesos.count('A')) / 10**5)*100\n",
    "Probabilidad_B = ((Procesos.count('B')) / 10**5)*100"
   ]
  },
  {
   "cell_type": "code",
   "execution_count": 44,
   "metadata": {},
   "outputs": [
    {
     "data": {
      "text/plain": [
       "('La probabilidad de que el proceso termine en A es del 0.038 %',\n",
       " 'La probabilidad de que el proceso termine en B es del 0.062 %')"
      ]
     },
     "execution_count": 44,
     "metadata": {},
     "output_type": "execute_result"
    }
   ],
   "source": [
    "P_A = 'La probabilidad de que el proceso termine en A es del ' + str(Probabilidad_A) + ' %'\n",
    "P_B = 'La probabilidad de que el proceso termine en B es del ' + str(Probabilidad_B) + ' %'\n",
    "P_A,P_B"
   ]
  },
  {
   "cell_type": "markdown",
   "metadata": {},
   "source": [
    "---\n",
    "## Problema 2. Evaluación numérica de integrales utilizando Montecarlo\n",
    "Aproximar el área de la región descrita por\n",
    "\n",
    "$$x^2+2y^2\\leq-2x+8y-7$$\n",
    "\n",
    "Poner los resultados en una tabla cuyas filas correspondan a la cantidad de términos utilizados en la aproximación (usar 10, 100, 1000, 10000 y 100000 términos) y en las columnas el valor de aproximación y el error de integración.\n",
    "\n",
    "Definir unos límites adecuados $a_1$, $b_1$, $a_2$ y $b_2$, para la región $R=\\left[a_1,b_1\\right]\\times\\left[a_2,b_2\\right]$ y grafíque esta región."
   ]
  },
  {
   "cell_type": "markdown",
   "metadata": {},
   "source": [
    "* Defina la función para resolver el área con el método 2 visto en clase"
   ]
  },
  {
   "cell_type": "code",
   "execution_count": 45,
   "metadata": {},
   "outputs": [],
   "source": [
    "import pandas as pd"
   ]
  },
  {
   "cell_type": "code",
   "execution_count": 46,
   "metadata": {},
   "outputs": [],
   "source": [
    "def region (x,y):\n",
    "    return (x**2) + 2*(y**2) <= (-2*x) + (8*y) - 7"
   ]
  },
  {
   "cell_type": "code",
   "execution_count": 47,
   "metadata": {},
   "outputs": [
    {
     "data": {
      "text/plain": [
       "True"
      ]
     },
     "execution_count": 47,
     "metadata": {},
     "output_type": "execute_result"
    }
   ],
   "source": [
    "region(-1,2)"
   ]
  },
  {
   "cell_type": "code",
   "execution_count": 48,
   "metadata": {},
   "outputs": [],
   "source": [
    "def montecarlo2(bernoulli,minx,maxx,miny,maxy,N):\n",
    "    ux = np.random.uniform(minx,maxx,N)\n",
    "    uy = np.random.uniform(miny,maxy,N)\n",
    "    B = bernoulli(ux,uy)\n",
    "    AR = (maxx-minx)*(maxy-miny)\n",
    "    return AR*np.mean(B)"
   ]
  },
  {
   "cell_type": "code",
   "execution_count": 49,
   "metadata": {},
   "outputs": [
    {
     "data": {
      "image/png": "[encoded data removed]",
      "text/plain": [
       "<Figure size 432x288 with 1 Axes>"
      ]
     },
     "metadata": {
      "needs_background": "light"
     },
     "output_type": "display_data"
    }
   ],
   "source": [
    "minx, maxx = -2.5,0.5\n",
    "miny, maxy = 0.9,3#-0.5,1\n",
    "x = np.linspace(minx,maxx,300)\n",
    "y = np.linspace(miny,maxy,300)\n",
    "X, Y = np.meshgrid(x,y)\n",
    "plt.scatter(X,Y,c =~ region(X,Y), cmap = 'gray') # ~ es negación booleana\n",
    "plt.grid()"
   ]
  },
  {
   "cell_type": "markdown",
   "metadata": {},
   "source": [
    "* Encontrar el área con el número de términos deseados"
   ]
  },
  {
   "cell_type": "code",
   "execution_count": 50,
   "metadata": {},
   "outputs": [
    {
     "data": {
      "text/plain": [
       "array([    10,    100,   1000,  10000, 100000])"
      ]
     },
     "execution_count": 50,
     "metadata": {},
     "output_type": "execute_result"
    }
   ],
   "source": [
    "N = np.logspace(1,5,5).astype('int')\n",
    "N"
   ]
  },
  {
   "cell_type": "code",
   "execution_count": 51,
   "metadata": {},
   "outputs": [
    {
     "data": {
      "text/html": [
       "<div>\n",
       "<style scoped>\n",
       "    .dataframe tbody tr th:only-of-type {\n",
       "        vertical-align: middle;\n",
       "    }\n",
       "\n",
       "    .dataframe tbody tr th {\n",
       "        vertical-align: top;\n",
       "    }\n",
       "\n",
       "    .dataframe thead th {\n",
       "        text-align: right;\n",
       "    }\n",
       "</style>\n",
       "<table border=\"1\" class=\"dataframe\">\n",
       "  <thead>\n",
       "    <tr style=\"text-align: right;\">\n",
       "      <th></th>\n",
       "      <th>Aprox</th>\n",
       "      <th>E rel</th>\n",
       "    </tr>\n",
       "  </thead>\n",
       "  <tbody>\n",
       "    <tr>\n",
       "      <th>10</th>\n",
       "      <td>4.41</td>\n",
       "      <td>0.20702</td>\n",
       "    </tr>\n",
       "    <tr>\n",
       "      <th>100</th>\n",
       "      <td>4.599</td>\n",
       "      <td>0.060816</td>\n",
       "    </tr>\n",
       "    <tr>\n",
       "      <th>1000</th>\n",
       "      <td>4.4037</td>\n",
       "      <td>0.020751</td>\n",
       "    </tr>\n",
       "    <tr>\n",
       "      <th>10000</th>\n",
       "      <td>4.48686</td>\n",
       "      <td>0.006357</td>\n",
       "    </tr>\n",
       "    <tr>\n",
       "      <th>100000</th>\n",
       "      <td>4.435137</td>\n",
       "      <td>0.002051</td>\n",
       "    </tr>\n",
       "  </tbody>\n",
       "</table>\n",
       "</div>"
      ],
      "text/plain": [
       "           Aprox     E rel\n",
       "10          4.41   0.20702\n",
       "100        4.599  0.060816\n",
       "1000      4.4037  0.020751\n",
       "10000    4.48686  0.006357\n",
       "100000  4.435137  0.002051"
      ]
     },
     "execution_count": 51,
     "metadata": {},
     "output_type": "execute_result"
    }
   ],
   "source": [
    "tabla = pd.DataFrame(index = N, columns = ['Aprox', 'E rel'])\n",
    "for n in N:\n",
    "    tabla.loc[n, 'Aprox'] = montecarlo2(region,minx,maxx,miny,maxy,n)\n",
    "AR = (maxx-minx)*(maxy-miny)\n",
    "th = tabla['Aprox']/AR\n",
    "tabla['E rel'] = (1/np.sqrt(N))*(((1-th)/th)**0.5)\n",
    "tabla"
   ]
  },
  {
   "cell_type": "markdown",
   "metadata": {},
   "source": [
    "---\n",
    "## Problema 3. Probabilidad Precio-Umbral\n",
    "\n",
    "En las últimas clases vimos una aplicación de simulación montecarlo. Consistía en descargar datos históricos de precio de cierre de acciones de alguna compañía, proyectar esos precios y sacar la probabilidad de que los precios en el siguiente año sobrepasaran cierto precio umbral.\n",
    "\n",
    "En este ejemplo evaluaremos dos compañías con tendencias más o menos similares (Apple y Microsoft) veremos cuál tiene más probabilidades de darnos un interés deseado.\n",
    "\n",
    "Además, descargaremos los datos del año 2021 para ver si el análisis concuerda."
   ]
  },
  {
   "cell_type": "markdown",
   "metadata": {},
   "source": [
    "Descargue datos para Apple y Microsoft desde enero de 2015 a diciembre de 2020 y muestre sus gráficas."
   ]
  },
  {
   "cell_type": "code",
   "execution_count": 52,
   "metadata": {},
   "outputs": [],
   "source": [
    "import pandas_datareader.data as web"
   ]
  },
  {
   "cell_type": "code",
   "execution_count": 53,
   "metadata": {},
   "outputs": [],
   "source": [
    "def getClose(names, start, end):\n",
    "    return web.DataReader(names,'yahoo',start,end)['Adj Close']"
   ]
  },
  {
   "cell_type": "code",
   "execution_count": 54,
   "metadata": {},
   "outputs": [
    {
     "data": {
      "text/html": [
       "<div>\n",
       "<style scoped>\n",
       "    .dataframe tbody tr th:only-of-type {\n",
       "        vertical-align: middle;\n",
       "    }\n",
       "\n",
       "    .dataframe tbody tr th {\n",
       "        vertical-align: top;\n",
       "    }\n",
       "\n",
       "    .dataframe thead th {\n",
       "        text-align: right;\n",
       "    }\n",
       "</style>\n",
       "<table border=\"1\" class=\"dataframe\">\n",
       "  <thead>\n",
       "    <tr style=\"text-align: right;\">\n",
       "      <th>Symbols</th>\n",
       "      <th>AAPL</th>\n",
       "      <th>MSFT</th>\n",
       "    </tr>\n",
       "    <tr>\n",
       "      <th>Date</th>\n",
       "      <th></th>\n",
       "      <th></th>\n",
       "    </tr>\n",
       "  </thead>\n",
       "  <tbody>\n",
       "    <tr>\n",
       "      <th>2015-01-02</th>\n",
       "      <td>24.678249</td>\n",
       "      <td>41.013317</td>\n",
       "    </tr>\n",
       "    <tr>\n",
       "      <th>2015-01-05</th>\n",
       "      <td>23.983021</td>\n",
       "      <td>40.636173</td>\n",
       "    </tr>\n",
       "    <tr>\n",
       "      <th>2015-01-06</th>\n",
       "      <td>23.985283</td>\n",
       "      <td>40.039730</td>\n",
       "    </tr>\n",
       "    <tr>\n",
       "      <th>2015-01-07</th>\n",
       "      <td>24.321609</td>\n",
       "      <td>40.548450</td>\n",
       "    </tr>\n",
       "    <tr>\n",
       "      <th>2015-01-08</th>\n",
       "      <td>25.256100</td>\n",
       "      <td>41.741310</td>\n",
       "    </tr>\n",
       "  </tbody>\n",
       "</table>\n",
       "</div>"
      ],
      "text/plain": [
       "Symbols          AAPL       MSFT\n",
       "Date                            \n",
       "2015-01-02  24.678249  41.013317\n",
       "2015-01-05  23.983021  40.636173\n",
       "2015-01-06  23.985283  40.039730\n",
       "2015-01-07  24.321609  40.548450\n",
       "2015-01-08  25.256100  41.741310"
      ]
     },
     "execution_count": 54,
     "metadata": {},
     "output_type": "execute_result"
    }
   ],
   "source": [
    "names = ['AAPL','MSFT'] # Apple, Google\n",
    "start = '2015-01-01'\n",
    "end = '2020-12-31'\n",
    "data = getClose(names,start,end)\n",
    "data.head() # Mostrar los primeros datos"
   ]
  },
  {
   "cell_type": "code",
   "execution_count": 55,
   "metadata": {},
   "outputs": [
    {
     "data": {
      "text/html": [
       "<div>\n",
       "<style scoped>\n",
       "    .dataframe tbody tr th:only-of-type {\n",
       "        vertical-align: middle;\n",
       "    }\n",
       "\n",
       "    .dataframe tbody tr th {\n",
       "        vertical-align: top;\n",
       "    }\n",
       "\n",
       "    .dataframe thead th {\n",
       "        text-align: right;\n",
       "    }\n",
       "</style>\n",
       "<table border=\"1\" class=\"dataframe\">\n",
       "  <thead>\n",
       "    <tr style=\"text-align: right;\">\n",
       "      <th>Symbols</th>\n",
       "      <th>AAPL</th>\n",
       "      <th>MSFT</th>\n",
       "    </tr>\n",
       "    <tr>\n",
       "      <th>Date</th>\n",
       "      <th></th>\n",
       "      <th></th>\n",
       "    </tr>\n",
       "  </thead>\n",
       "  <tbody>\n",
       "    <tr>\n",
       "      <th>2020-12-24</th>\n",
       "      <td>130.802338</td>\n",
       "      <td>219.930313</td>\n",
       "    </tr>\n",
       "    <tr>\n",
       "      <th>2020-12-28</th>\n",
       "      <td>135.480591</td>\n",
       "      <td>222.112335</td>\n",
       "    </tr>\n",
       "    <tr>\n",
       "      <th>2020-12-29</th>\n",
       "      <td>133.676666</td>\n",
       "      <td>221.312592</td>\n",
       "    </tr>\n",
       "    <tr>\n",
       "      <th>2020-12-30</th>\n",
       "      <td>132.536850</td>\n",
       "      <td>218.873840</td>\n",
       "    </tr>\n",
       "    <tr>\n",
       "      <th>2020-12-31</th>\n",
       "      <td>131.515976</td>\n",
       "      <td>219.604477</td>\n",
       "    </tr>\n",
       "  </tbody>\n",
       "</table>\n",
       "</div>"
      ],
      "text/plain": [
       "Symbols           AAPL        MSFT\n",
       "Date                              \n",
       "2020-12-24  130.802338  219.930313\n",
       "2020-12-28  135.480591  222.112335\n",
       "2020-12-29  133.676666  221.312592\n",
       "2020-12-30  132.536850  218.873840\n",
       "2020-12-31  131.515976  219.604477"
      ]
     },
     "execution_count": 55,
     "metadata": {},
     "output_type": "execute_result"
    }
   ],
   "source": [
    "data.tail() # Mostrar los úlitmos datos"
   ]
  },
  {
   "cell_type": "code",
   "execution_count": 56,
   "metadata": {},
   "outputs": [
    {
     "data": {
      "text/plain": [
       "<AxesSubplot:xlabel='Date'>"
      ]
     },
     "execution_count": 56,
     "metadata": {},
     "output_type": "execute_result"
    },
    {
     "data": {
      "image/png": "[encoded data removed]",
      "text/plain": [
       "<Figure size 432x288 with 1 Axes>"
      ]
     },
     "metadata": {
      "needs_background": "light"
     },
     "output_type": "display_data"
    }
   ],
   "source": [
    "data.plot(grid = True)"
   ]
  },
  {
   "cell_type": "code",
   "execution_count": null,
   "metadata": {},
   "outputs": [],
   "source": []
  },
  {
   "cell_type": "markdown",
   "metadata": {},
   "source": [
    "Calcule los rendimientos diarios junto con sus características estadísticas"
   ]
  },
  {
   "cell_type": "code",
   "execution_count": 57,
   "metadata": {},
   "outputs": [
    {
     "data": {
      "text/html": [
       "<div>\n",
       "<style scoped>\n",
       "    .dataframe tbody tr th:only-of-type {\n",
       "        vertical-align: middle;\n",
       "    }\n",
       "\n",
       "    .dataframe tbody tr th {\n",
       "        vertical-align: top;\n",
       "    }\n",
       "\n",
       "    .dataframe thead th {\n",
       "        text-align: right;\n",
       "    }\n",
       "</style>\n",
       "<table border=\"1\" class=\"dataframe\">\n",
       "  <thead>\n",
       "    <tr style=\"text-align: right;\">\n",
       "      <th>Symbols</th>\n",
       "      <th>AAPL</th>\n",
       "      <th>MSFT</th>\n",
       "    </tr>\n",
       "    <tr>\n",
       "      <th>Date</th>\n",
       "      <th></th>\n",
       "      <th></th>\n",
       "    </tr>\n",
       "  </thead>\n",
       "  <tbody>\n",
       "    <tr>\n",
       "      <th>2015-01-05</th>\n",
       "      <td>-0.028172</td>\n",
       "      <td>-0.009196</td>\n",
       "    </tr>\n",
       "    <tr>\n",
       "      <th>2015-01-06</th>\n",
       "      <td>0.000094</td>\n",
       "      <td>-0.014678</td>\n",
       "    </tr>\n",
       "    <tr>\n",
       "      <th>2015-01-07</th>\n",
       "      <td>0.014022</td>\n",
       "      <td>0.012705</td>\n",
       "    </tr>\n",
       "    <tr>\n",
       "      <th>2015-01-08</th>\n",
       "      <td>0.038422</td>\n",
       "      <td>0.029418</td>\n",
       "    </tr>\n",
       "    <tr>\n",
       "      <th>2015-01-09</th>\n",
       "      <td>0.001073</td>\n",
       "      <td>-0.008405</td>\n",
       "    </tr>\n",
       "  </tbody>\n",
       "</table>\n",
       "</div>"
      ],
      "text/plain": [
       "Symbols         AAPL      MSFT\n",
       "Date                          \n",
       "2015-01-05 -0.028172 -0.009196\n",
       "2015-01-06  0.000094 -0.014678\n",
       "2015-01-07  0.014022  0.012705\n",
       "2015-01-08  0.038422  0.029418\n",
       "2015-01-09  0.001073 -0.008405"
      ]
     },
     "execution_count": 57,
     "metadata": {},
     "output_type": "execute_result"
    }
   ],
   "source": [
    "R = data.pct_change().dropna() # pct --> calcula el cambio porcentual\n",
    "R.head()"
   ]
  },
  {
   "cell_type": "code",
   "execution_count": 58,
   "metadata": {},
   "outputs": [
    {
     "data": {
      "text/html": [
       "<div>\n",
       "<style scoped>\n",
       "    .dataframe tbody tr th:only-of-type {\n",
       "        vertical-align: middle;\n",
       "    }\n",
       "\n",
       "    .dataframe tbody tr th {\n",
       "        vertical-align: top;\n",
       "    }\n",
       "\n",
       "    .dataframe thead th {\n",
       "        text-align: right;\n",
       "    }\n",
       "</style>\n",
       "<table border=\"1\" class=\"dataframe\">\n",
       "  <thead>\n",
       "    <tr style=\"text-align: right;\">\n",
       "      <th>Symbols</th>\n",
       "      <th>AAPL</th>\n",
       "      <th>MSFT</th>\n",
       "    </tr>\n",
       "    <tr>\n",
       "      <th>Date</th>\n",
       "      <th></th>\n",
       "      <th></th>\n",
       "    </tr>\n",
       "  </thead>\n",
       "  <tbody>\n",
       "    <tr>\n",
       "      <th>2020-12-24</th>\n",
       "      <td>0.007712</td>\n",
       "      <td>0.007827</td>\n",
       "    </tr>\n",
       "    <tr>\n",
       "      <th>2020-12-28</th>\n",
       "      <td>0.035766</td>\n",
       "      <td>0.009921</td>\n",
       "    </tr>\n",
       "    <tr>\n",
       "      <th>2020-12-29</th>\n",
       "      <td>-0.013315</td>\n",
       "      <td>-0.003601</td>\n",
       "    </tr>\n",
       "    <tr>\n",
       "      <th>2020-12-30</th>\n",
       "      <td>-0.008527</td>\n",
       "      <td>-0.011019</td>\n",
       "    </tr>\n",
       "    <tr>\n",
       "      <th>2020-12-31</th>\n",
       "      <td>-0.007703</td>\n",
       "      <td>0.003338</td>\n",
       "    </tr>\n",
       "  </tbody>\n",
       "</table>\n",
       "</div>"
      ],
      "text/plain": [
       "Symbols         AAPL      MSFT\n",
       "Date                          \n",
       "2020-12-24  0.007712  0.007827\n",
       "2020-12-28  0.035766  0.009921\n",
       "2020-12-29 -0.013315 -0.003601\n",
       "2020-12-30 -0.008527 -0.011019\n",
       "2020-12-31 -0.007703  0.003338"
      ]
     },
     "execution_count": 58,
     "metadata": {},
     "output_type": "execute_result"
    }
   ],
   "source": [
    "R.tail()"
   ]
  },
  {
   "cell_type": "code",
   "execution_count": 59,
   "metadata": {},
   "outputs": [],
   "source": [
    "m = R.mean() # Media aritmética\n",
    "ds = R.std() # Desviación estándar"
   ]
  },
  {
   "cell_type": "code",
   "execution_count": 60,
   "metadata": {},
   "outputs": [
    {
     "data": {
      "text/plain": [
       "(Symbols\n",
       " AAPL    0.001283\n",
       " MSFT    0.001265\n",
       " dtype: float64,\n",
       " Symbols\n",
       " AAPL    0.018667\n",
       " MSFT    0.017527\n",
       " dtype: float64)"
      ]
     },
     "execution_count": 60,
     "metadata": {},
     "output_type": "execute_result"
    }
   ],
   "source": [
    "m,ds"
   ]
  },
  {
   "cell_type": "markdown",
   "metadata": {},
   "source": [
    "Simule 1000 escenarios de rendimientos diarios para el 2021 (para cada una de las empresas)"
   ]
  },
  {
   "cell_type": "code",
   "execution_count": 61,
   "metadata": {},
   "outputs": [],
   "source": [
    "def sim(m,ds,inicio,dias,N):\n",
    "    fechas = pd.date_range(inicio,periods = dias)\n",
    "    R = np.random.normal(m,ds,(dias,N))\n",
    "    return pd.DataFrame(data = R,index = fechas)"
   ]
  },
  {
   "cell_type": "code",
   "execution_count": 62,
   "metadata": {},
   "outputs": [],
   "source": [
    "AAPL_R = sim(R['AAPL'].mean(),\n",
    "            R['AAPL'].std(),\n",
    "             '2020-12-31', # Fecha de inicio\n",
    "            365,  # Días a simular\n",
    "            100000) # Escenarios\n",
    "MSFT_R = sim(R['MSFT'].mean(),\n",
    "            R['MSFT'].std(),\n",
    "             '2020-12-31',\n",
    "            365,\n",
    "            100000)"
   ]
  },
  {
   "cell_type": "markdown",
   "metadata": {},
   "source": [
    "Calcule los precios con base en los rendimientos simulados"
   ]
  },
  {
   "cell_type": "code",
   "execution_count": 63,
   "metadata": {},
   "outputs": [],
   "source": [
    "AAPL = data['AAPL'].iloc[-1] * (AAPL_R + 1).cumprod() # cumprod ---> producto acumulado\n",
    "MSFT = data['MSFT'].iloc[-1] * (MSFT_R + 1).cumprod()"
   ]
  },
  {
   "cell_type": "markdown",
   "metadata": {},
   "source": [
    "Calcule la probabilidad de obtener un retorno del 20% para ambas marcas."
   ]
  },
  {
   "cell_type": "code",
   "execution_count": 154,
   "metadata": {},
   "outputs": [
    {
     "data": {
      "text/plain": [
       "Symbols\n",
       "AAPL    157.819153\n",
       "MSFT    263.525372\n",
       "Name: 2020-12-31 00:00:00, dtype: float64"
      ]
     },
     "execution_count": 154,
     "metadata": {},
     "output_type": "execute_result"
    }
   ],
   "source": [
    "Umbral = data.iloc[-1] * 1.2\n",
    "Umbral"
   ]
  },
  {
   "cell_type": "code",
   "execution_count": 155,
   "metadata": {},
   "outputs": [],
   "source": [
    "B_AAPL= AAPL>Umbral['AAPL']\n",
    "B_MSFT = MSFT>Umbral['MSFT']"
   ]
  },
  {
   "cell_type": "code",
   "execution_count": 156,
   "metadata": {},
   "outputs": [],
   "source": [
    "P_AAPL = B_AAPL.mean(axis = 1)\n",
    "P_MSFT = B_MSFT.mean(axis = 1)"
   ]
  },
  {
   "cell_type": "code",
   "execution_count": 157,
   "metadata": {},
   "outputs": [
    {
     "data": {
      "text/plain": [
       "<AxesSubplot:>"
      ]
     },
     "execution_count": 157,
     "metadata": {},
     "output_type": "execute_result"
    },
    {
     "data": {
      "image/png": "[encoded data removed]",
      "text/plain": [
       "<Figure size 432x288 with 1 Axes>"
      ]
     },
     "metadata": {
      "needs_background": "light"
     },
     "output_type": "display_data"
    }
   ],
   "source": [
    "P_AAPL.plot(grid = True)"
   ]
  },
  {
   "cell_type": "code",
   "execution_count": 158,
   "metadata": {},
   "outputs": [
    {
     "data": {
      "text/plain": [
       "<AxesSubplot:>"
      ]
     },
     "execution_count": 158,
     "metadata": {},
     "output_type": "execute_result"
    },
    {
     "data": {
      "image/png": "[encoded data removed]",
      "text/plain": [
       "<Figure size 432x288 with 1 Axes>"
      ]
     },
     "metadata": {
      "needs_background": "light"
     },
     "output_type": "display_data"
    }
   ],
   "source": [
    "P_MSFT.plot(grid = True)"
   ]
  },
  {
   "cell_type": "markdown",
   "metadata": {},
   "source": [
    "Finalmente, grafique los datos reales del 2021 para ver que tan acertado fue nuestro análisis."
   ]
  },
  {
   "cell_type": "code",
   "execution_count": 161,
   "metadata": {},
   "outputs": [
    {
     "data": {
      "text/html": [
       "<div>\n",
       "<style scoped>\n",
       "    .dataframe tbody tr th:only-of-type {\n",
       "        vertical-align: middle;\n",
       "    }\n",
       "\n",
       "    .dataframe tbody tr th {\n",
       "        vertical-align: top;\n",
       "    }\n",
       "\n",
       "    .dataframe thead th {\n",
       "        text-align: right;\n",
       "    }\n",
       "</style>\n",
       "<table border=\"1\" class=\"dataframe\">\n",
       "  <thead>\n",
       "    <tr style=\"text-align: right;\">\n",
       "      <th>Symbols</th>\n",
       "      <th>AAPL</th>\n",
       "      <th>MSFT</th>\n",
       "    </tr>\n",
       "    <tr>\n",
       "      <th>Date</th>\n",
       "      <th></th>\n",
       "      <th></th>\n",
       "    </tr>\n",
       "  </thead>\n",
       "  <tbody>\n",
       "    <tr>\n",
       "      <th>2021-01-04</th>\n",
       "      <td>128.264999</td>\n",
       "      <td>214.934387</td>\n",
       "    </tr>\n",
       "    <tr>\n",
       "      <th>2021-01-05</th>\n",
       "      <td>129.850845</td>\n",
       "      <td>215.141693</td>\n",
       "    </tr>\n",
       "    <tr>\n",
       "      <th>2021-01-06</th>\n",
       "      <td>125.479858</td>\n",
       "      <td>209.563217</td>\n",
       "    </tr>\n",
       "    <tr>\n",
       "      <th>2021-01-07</th>\n",
       "      <td>129.761612</td>\n",
       "      <td>215.526779</td>\n",
       "    </tr>\n",
       "    <tr>\n",
       "      <th>2021-01-08</th>\n",
       "      <td>130.881622</td>\n",
       "      <td>216.839920</td>\n",
       "    </tr>\n",
       "  </tbody>\n",
       "</table>\n",
       "</div>"
      ],
      "text/plain": [
       "Symbols           AAPL        MSFT\n",
       "Date                              \n",
       "2021-01-04  128.264999  214.934387\n",
       "2021-01-05  129.850845  215.141693\n",
       "2021-01-06  125.479858  209.563217\n",
       "2021-01-07  129.761612  215.526779\n",
       "2021-01-08  130.881622  216.839920"
      ]
     },
     "execution_count": 161,
     "metadata": {},
     "output_type": "execute_result"
    }
   ],
   "source": [
    "data_real = getClose(names,'2021-01-01','2021-12-31')\n",
    "data_real.head()"
   ]
  },
  {
   "cell_type": "code",
   "execution_count": 164,
   "metadata": {},
   "outputs": [
    {
     "data": {
      "text/plain": [
       "<AxesSubplot:xlabel='Date'>"
      ]
     },
     "execution_count": 164,
     "metadata": {},
     "output_type": "execute_result"
    },
    {
     "data": {
      "image/png": "[encoded data removed]",
      "text/plain": [
       "<Figure size 432x288 with 1 Axes>"
      ]
     },
     "metadata": {
      "needs_background": "light"
     },
     "output_type": "display_data"
    }
   ],
   "source": [
    "data_real.plot(grid = True)"
   ]
  },
  {
   "cell_type": "code",
   "execution_count": 165,
   "metadata": {},
   "outputs": [],
   "source": [
    "Marcas = get"
   ]
  },
  {
   "cell_type": "code",
   "execution_count": 169,
   "metadata": {},
   "outputs": [
    {
     "data": {
      "text/plain": [
       "<AxesSubplot:>"
      ]
     },
     "execution_count": 169,
     "metadata": {},
     "output_type": "execute_result"
    },
    {
     "data": {
      "image/png": "[encoded data removed]",
      "text/plain": [
       "<Figure size 432x288 with 1 Axes>"
      ]
     },
     "metadata": {
      "needs_background": "light"
     },
     "output_type": "display_data"
    }
   ],
   "source": [
    "fechas = pd.date_range('2021-01-01','2021-12-31')\n",
    "dias = len(fechas)\n",
    "U_AAPL = Umbral['AAPL'] * np.ones(dias)\n",
    "U_MSFT = Umbral['MSFT'] * np.ones(dias)\n",
    "U = pd.DataFrame(index = fechas)\n",
    "U['AAPL'] = U_AAPL\n",
    "U['MSFT'] = U_MSFT\n",
    "Marcas_U = pd.concat([data_real,U], axis = 1)\n",
    "Marcas_U.plot(grid = True)"
   ]
  },
  {
   "cell_type": "markdown",
   "metadata": {},
   "source": [
    "Se puede observar que el umbral para Microsoft se supera en Julio, al realizar la simulación se tiene una probabilidad por enciama del $50\\%$, esto nos indica que la proyección fueacertada.\n",
    "\n",
    "Por otro lado, para Apple el umbral se supera hasta noviembre donde, en nuestra simulación tenemos una probabilidad del $70\\%$, lo qu enbos indica que la proyección es aún más acertada que la de Microsoft. "
   ]
  }
 ],
 "metadata": {
  "kernelspec": {
   "display_name": "Python 3 (ipykernel)",
   "language": "python",
   "name": "python3"
  },
  "language_info": {
   "codemirror_mode": {
    "name": "ipython",
    "version": 3
   },
   "file_extension": ".py",
   "mimetype": "text/x-python",
   "name": "python",
   "nbconvert_exporter": "python",
   "pygments_lexer": "ipython3",
   "version": "3.9.12"
  }
 },
 "nbformat": 4,
 "nbformat_minor": 2
}
